{
 "cells": [
  {
   "cell_type": "markdown",
   "id": "465cea19-d4ba-4309-981c-d138cccaad78",
   "metadata": {
    "editable": true,
    "slideshow": {
     "slide_type": ""
    },
    "tags": []
   },
   "source": [
    "# K近傍法 & 教師あり学習のお作法"
   ]
  },
  {
   "cell_type": "markdown",
   "id": "cacc4604-c52e-4131-8278-245930671c82",
   "metadata": {
    "editable": true,
    "slideshow": {
     "slide_type": ""
    },
    "tags": []
   },
   "source": [
    "このHands-onでは下記3種類のデータを用いて，K近傍法と教師あり学習のお作法について体験する．\n",
    "* 手書き数字画像\n",
    "* 人工的に作られたある2次元データ\n",
    "* ある時期のアメリカ合衆国の年収調査データ\n",
    "\n",
    "Hands-onに先立って，必要なライブラリを読み込んでおこう．\n"
   ]
  },
  {
   "cell_type": "code",
   "execution_count": 1,
   "id": "b9ae4547-2006-4d4c-b713-731d1ab08d42",
   "metadata": {
    "editable": true,
    "slideshow": {
     "slide_type": ""
    },
    "tags": []
   },
   "outputs": [],
   "source": [
    "# 表形式のデータを操作するためのライブラリ\n",
    "import pandas as pd\n",
    "\n",
    "# 行列計算をおこなうためのライブラリ\n",
    "import numpy as np\n",
    "\n",
    "# データセット\n",
    "from sklearn import datasets\n",
    "\n",
    "# K近傍法を実行するためのクラス\n",
    "from sklearn.neighbors import KNeighborsClassifier\n",
    "\n",
    "# 交差検証を行うためのクラス\n",
    "from sklearn.model_selection import KFold, StratifiedKFold\n",
    "from sklearn.model_selection import cross_validate\n",
    "\n",
    "# 精度，マクロ精度，適合率，AUCを評価するための関数\n",
    "from sklearn.metrics import accuracy_score, balanced_accuracy_score\n",
    "from sklearn.metrics import precision_score, roc_auc_score\n",
    "\n",
    "# データ変換のためのクラス\n",
    "import sklearn.preprocessing as preprocessing\n",
    "\n",
    "# データ分割のための関数\n",
    "from sklearn.model_selection import train_test_split\n",
    "\n",
    "# グラフ描画ライブラリ\n",
    "import matplotlib.pyplot as plt\n",
    "import seaborn as sns\n",
    "%matplotlib inline"
   ]
  },
  {
   "cell_type": "markdown",
   "id": "8491d1fa-d53d-4f4a-97cd-d9ad26279b06",
   "metadata": {
    "editable": true,
    "slideshow": {
     "slide_type": ""
    },
    "tags": [],
    "user_expressions": []
   },
   "source": [
    "\n",
    "---\n",
    "## 例題1: MNIST手書き数字データ"
   ]
  },
  {
   "cell_type": "markdown",
   "id": "50a7b513-3b62-4af4-b03c-48184052f33a",
   "metadata": {
    "editable": true,
    "slideshow": {
     "slide_type": ""
    },
    "tags": []
   },
   "source": [
    "例題1では，K近傍法を用いて手書き数字の識別の体験をする．\n",
    "用いるデータは，かの有名な[MNISTデータセット](http://yann.lecun.com/exdb/mnist/)である．\n",
    "今回は，`scikit-learn`ライブラリに梱包された8x8ピクセルの領域に描かれた手書き数字のグレースケール画像のデータセットを用いる．\n",
    "データセット中の手書き数字は**0から9の数**に対応している．\n",
    "また，手書き画像データは**各ピクセルに0から255の数値**が割り当てられており，その数字によって白黒の濃淡がつけられている（0が黒，255が白に対応）．\n",
    "\n",
    "以下のコードを実行してMNISTデータセットを読み込もう．"
   ]
  },
  {
   "cell_type": "code",
   "execution_count": 2,
   "id": "e5cc5bf7-7d05-4e71-90e9-816f9b5261d4",
   "metadata": {
    "editable": true,
    "slideshow": {
     "slide_type": ""
    },
    "tags": []
   },
   "outputs": [],
   "source": [
    "mnist_dataset = datasets.load_digits()\n",
    "X = mnist_dataset.data\n",
    "y = mnist_dataset.target"
   ]
  },
  {
   "cell_type": "markdown",
   "id": "1c7b5499-4d99-4d1f-a9cf-61df5935556e",
   "metadata": {
    "editable": true,
    "slideshow": {
     "slide_type": ""
    },
    "tags": []
   },
   "source": [
    "変数`X`は行列（numpy.ndarray）で，各行が手書き数字画像，各行がピクセルに対応している．\n",
    "変数`y`には，各行の手書き数字画像に対応する数字（ラベル）のリストが格納されている．\n",
    "\n",
    "今回対象とする手書き数字画像は8x8ピクセルの画像である．\n",
    "画像を計算可能なデータとして表現する場合，行列を用いて画像中の各ピクセルの色を表現する方法が直感に合う．\n",
    "しかし，MNISTデータセットでは，データを扱いやすくするために8x8ピクセルの画像を1x64の横ベクトルで表現している．\n",
    "\n",
    "描きコードを実行して，`X`には何件の手書き数字画像が格納されているのか確認してみよう．"
   ]
  },
  {
   "cell_type": "code",
   "execution_count": 3,
   "id": "6c34a40c-98a1-4728-aa44-708d487f1a1f",
   "metadata": {
    "editable": true,
    "slideshow": {
     "slide_type": ""
    },
    "tags": []
   },
   "outputs": [
    {
     "data": {
      "text/plain": [
       "(1797, 64)"
      ]
     },
     "execution_count": 3,
     "metadata": {},
     "output_type": "execute_result"
    }
   ],
   "source": [
    "X.shape"
   ]
  },
  {
   "cell_type": "markdown",
   "id": "60e77bfd-9120-4401-82f6-3948a0b20ec5",
   "metadata": {
    "editable": true,
    "slideshow": {
     "slide_type": ""
    },
    "tags": []
   },
   "source": [
    "`X`の行列のサイズが表示された．\n",
    "行が1797，列が64なので，手書き画像のデータ数は1797のようである．"
   ]
  },
  {
   "cell_type": "markdown",
   "id": "829eeeea-2ce9-4317-8afc-91c6ecdf971c",
   "metadata": {
    "editable": true,
    "slideshow": {
     "slide_type": ""
    },
    "tags": []
   },
   "source": [
    "行列`X`に格納されたデータを眺めてみよう．\n",
    "描きコードを実行して，51番目に格納された手書き数字画像データを確認してみよう．"
   ]
  },
  {
   "cell_type": "code",
   "execution_count": 4,
   "id": "8d677529-a3b4-417b-a59f-081fbc472756",
   "metadata": {
    "editable": true,
    "slideshow": {
     "slide_type": ""
    },
    "tags": []
   },
   "outputs": [
    {
     "name": "stdout",
     "output_type": "stream",
     "text": [
      "51番目の手書き数字 =  2\n"
     ]
    },
    {
     "data": {
      "text/plain": [
       "array([ 0.,  0.,  0.,  5., 14., 12.,  2.,  0.,  0.,  0.,  7., 15.,  8.,\n",
       "       14.,  4.,  0.,  0.,  0.,  6.,  2.,  3., 13.,  1.,  0.,  0.,  0.,\n",
       "        0.,  1., 13.,  4.,  0.,  0.,  0.,  0.,  1., 11.,  9.,  0.,  0.,\n",
       "        0.,  0.,  8., 16., 13.,  0.,  0.,  0.,  0.,  0.,  5., 14., 16.,\n",
       "       11.,  2.,  0.,  0.,  0.,  0.,  0.,  6., 12., 13.,  3.,  0.])"
      ]
     },
     "execution_count": 4,
     "metadata": {},
     "output_type": "execute_result"
    }
   ],
   "source": [
    "# 51番目のデータに対応するインデックス（行列は0行目から始まるので50ではなく51）\n",
    "k = 50\n",
    "\n",
    "# ターゲットとなる画像データとラベルを変数に格納\n",
    "target_data = X[k, :]\n",
    "target_label = y[k]\n",
    "\n",
    "print(\"{}番目の手書き数字 = \".format(k+1), target_label)\n",
    "\n",
    "# 51番目の画像データ（各ピクセルの値）\n",
    "target_data"
   ]
  },
  {
   "cell_type": "markdown",
   "id": "fac4c3c0-a6f6-45c9-bdc1-4caa4e7112de",
   "metadata": {
    "editable": true,
    "slideshow": {
     "slide_type": ""
    },
    "tags": []
   },
   "source": [
    "51番目の画像データの中身とそれに対応する数字が表示された．\n",
    "画像データの横ベクトルが意味が分からないので，8x8の行列に直してみよう．\n",
    "以下のコードを実行すると，行列の形を1x64から8x8に変更できる．"
   ]
  },
  {
   "cell_type": "code",
   "execution_count": 5,
   "id": "8eb17c3f-ff68-4c75-8df4-ceabf45db63b",
   "metadata": {
    "editable": true,
    "slideshow": {
     "slide_type": ""
    },
    "tags": []
   },
   "outputs": [
    {
     "data": {
      "text/plain": [
       "array([[ 0.,  0.,  0.,  5., 14., 12.,  2.,  0.],\n",
       "       [ 0.,  0.,  7., 15.,  8., 14.,  4.,  0.],\n",
       "       [ 0.,  0.,  6.,  2.,  3., 13.,  1.,  0.],\n",
       "       [ 0.,  0.,  0.,  1., 13.,  4.,  0.,  0.],\n",
       "       [ 0.,  0.,  1., 11.,  9.,  0.,  0.,  0.],\n",
       "       [ 0.,  8., 16., 13.,  0.,  0.,  0.,  0.],\n",
       "       [ 0.,  5., 14., 16., 11.,  2.,  0.,  0.],\n",
       "       [ 0.,  0.,  0.,  6., 12., 13.,  3.,  0.]])"
      ]
     },
     "execution_count": 5,
     "metadata": {},
     "output_type": "execute_result"
    }
   ],
   "source": [
    "# numpy行列のshapeメソッドは行列の形を変換する\n",
    "target_matrix = target_data.reshape(8, 8)\n",
    "target_matrix"
   ]
  },
  {
   "cell_type": "markdown",
   "id": "5d1f9430-0400-4aa6-a2f2-a0e2ad12a4c8",
   "metadata": {
    "editable": true,
    "slideshow": {
     "slide_type": ""
    },
    "tags": []
   },
   "source": [
    "どのピクセルにどのような値がセットされているのか分かりやすくなったが，視覚的にどうなっているのか全然分からない．\n",
    "下記コードを実行して行列データを可視化してみよう．"
   ]
  },
  {
   "cell_type": "code",
   "execution_count": 6,
   "id": "9a4382a8-225d-4c34-8fd0-d12bc68978ff",
   "metadata": {
    "editable": true,
    "slideshow": {
     "slide_type": ""
    },
    "tags": []
   },
   "outputs": [
    {
     "data": {
      "image/png": "[encoded data removed]",
      "text/plain": [
       "<Figure size 200x100 with 1 Axes>"
      ]
     },
     "metadata": {},
     "output_type": "display_data"
    }
   ],
   "source": [
    "fig = plt.figure(figsize=(2, 1))\n",
    "plt.imshow(target_matrix, cmap=plt.cm.gray, interpolation='none')\n",
    "plt.show()"
   ]
  },
  {
   "cell_type": "markdown",
   "id": "973bc901-4904-4258-a6ae-62e1be8e9732",
   "metadata": {
    "editable": true,
    "slideshow": {
     "slide_type": ""
    },
    "tags": []
   },
   "source": [
    "8x8ピクセルなので荒くて分かりづらいが，遠目で見ると「2」という数字に見える．"
   ]
  },
  {
   "cell_type": "markdown",
   "id": "24ef0ac5-f527-40de-9dbe-4b01fcce60d0",
   "metadata": {
    "editable": true,
    "slideshow": {
     "slide_type": ""
    },
    "tags": []
   },
   "source": [
    "### 学習"
   ]
  },
  {
   "cell_type": "markdown",
   "id": "43100393-0525-4b77-a706-17c87e11a631",
   "metadata": {
    "editable": true,
    "slideshow": {
     "slide_type": ""
    },
    "tags": []
   },
   "source": [
    "データの中身の理解が進んだので，K近傍法を用いて手書き数字画像の分類器を構築してみよう．\n",
    "授業でも説明したように，教師あり学習を行いモデル構築とモデル評価を行うには訓練データとテストデータが必要になる．\n",
    "\n",
    "`sklearn`ライブラリには，データセットを訓練データとテストデータに分割する便利な関数`train_test_split`がある．\n",
    "下記コードを実行して，手元にあるデータセットを「訓練データ」と「テストデータ」に分割してみよう．\n"
   ]
  },
  {
   "cell_type": "code",
   "execution_count": 7,
   "id": "59eeceeb-41c4-4576-b598-50b2b786a1ee",
   "metadata": {
    "editable": true,
    "slideshow": {
     "slide_type": ""
    },
    "tags": []
   },
   "outputs": [],
   "source": [
    "X_train, X_test, y_train, y_test = train_test_split(\n",
    "    X, y,\n",
    "    test_size=0.2, # データセットを訓練データ80%，テストデータ20%に分割\n",
    "    shuffle=True,  # 分割時にはデータセットをシャッフル\n",
    "    stratify=y)    # ラベルの分布が訓練データとテストデータで同じになるようにする"
   ]
  },
  {
   "cell_type": "markdown",
   "id": "ed2e0914-f294-4c6a-a76f-931fb928c708",
   "metadata": {
    "editable": true,
    "slideshow": {
     "slide_type": ""
    },
    "tags": []
   },
   "source": [
    "`train_test_split`関数の第1引数，第2引数にセットされた`X`と`y`について，\n",
    "* 80%が訓練データ: `X_train`（画像データ）と`y_train`（対応するラベル）\n",
    "* 20%がテストデータ: `X_test`（画像データ）と`y_test`（対応するラベル）\n",
    "\n",
    "に分割された．\n",
    "本当にデータセットは80:20に分割されているか確認してみよう．"
   ]
  },
  {
   "cell_type": "code",
   "execution_count": 8,
   "id": "387880dd-7581-4a85-817e-8c9f06ad00d7",
   "metadata": {
    "editable": true,
    "slideshow": {
     "slide_type": ""
    },
    "tags": []
   },
   "outputs": [
    {
     "name": "stdout",
     "output_type": "stream",
     "text": [
      "訓練データのサイズ 1437\n",
      "テストデータのサイズ 360\n"
     ]
    }
   ],
   "source": [
    "print(\"訓練データのサイズ\", len(y_train))\n",
    "print(\"テストデータのサイズ\", len(y_test))"
   ]
  },
  {
   "cell_type": "markdown",
   "id": "acb7d7eb-9bc5-4713-a53c-0301e2a7e862",
   "metadata": {
    "editable": true,
    "slideshow": {
     "slide_type": ""
    },
    "tags": []
   },
   "source": [
    "大体80:20に分割されていることが分かる．\n",
    "\n",
    "先の`train_test_split`関数の実行時には，stratify（層別化）オブションを有効にしていた．\n",
    "下記のコードを実行して，ラベルの分布が訓練データとテストデータで同じになっているか，確認しておこう．"
   ]
  },
  {
   "cell_type": "code",
   "execution_count": 9,
   "id": "7f7815c7-b1ee-420c-9f13-6b94571c6a19",
   "metadata": {
    "editable": true,
    "slideshow": {
     "slide_type": ""
    },
    "tags": []
   },
   "outputs": [
    {
     "name": "stdout",
     "output_type": "stream",
     "text": [
      "0 : 142\n",
      "1 : 145\n",
      "2 : 142\n",
      "3 : 146\n",
      "4 : 145\n",
      "5 : 146\n",
      "6 : 145\n",
      "7 : 143\n",
      "8 : 139\n",
      "9 : 144\n"
     ]
    }
   ],
   "source": [
    "# 訓練データの分布\n",
    "keys, counts = np.unique(y_train, return_counts=True)\n",
    "for key, count in zip(keys, counts):\n",
    "    print(key, \":\", count)"
   ]
  },
  {
   "cell_type": "code",
   "execution_count": 10,
   "id": "076972bb-df3b-4d44-9b5e-4ae19b169f1d",
   "metadata": {
    "editable": true,
    "slideshow": {
     "slide_type": ""
    },
    "tags": []
   },
   "outputs": [
    {
     "name": "stdout",
     "output_type": "stream",
     "text": [
      "0 : 36\n",
      "1 : 37\n",
      "2 : 35\n",
      "3 : 37\n",
      "4 : 36\n",
      "5 : 36\n",
      "6 : 36\n",
      "7 : 36\n",
      "8 : 35\n",
      "9 : 36\n"
     ]
    }
   ],
   "source": [
    "# テストデータの分布\n",
    "keys, counts = np.unique(y_test, return_counts=True)\n",
    "for key, count in zip(keys, counts):\n",
    "    print(key, \":\", count)"
   ]
  },
  {
   "cell_type": "markdown",
   "id": "bacbcabb-07f0-42c9-b3b4-b15d1f6f009b",
   "metadata": {
    "editable": true,
    "slideshow": {
     "slide_type": ""
    },
    "tags": []
   },
   "source": [
    "訓練データもテストデータも，0から9までの手書き数字データがほぼ均等に分布していることが確認できる．\n",
    "\n",
    "それでは，K近傍法で手書き数字画像の分類器を構築しよう．\n",
    "MNISTデータセットはデータがキレイなため，特に前処理を行わなくても`sklearn`ライブラリを使えば分類器の構築は数行で終わってしまう．\n",
    "\n",
    "今回はK近傍法のパラメータは\n",
    "* 近傍数`K`: 5\n",
    "* 距離関数`metric`: euclidean（ユークリッド距離）\n",
    "\n",
    "とし，以下のコードを実行して分類器を構築してみよう．"
   ]
  },
  {
   "cell_type": "code",
   "execution_count": 11,
   "id": "7d835507-bd90-4490-bf38-31829a306d07",
   "metadata": {
    "editable": true,
    "slideshow": {
     "slide_type": ""
    },
    "tags": []
   },
   "outputs": [
    {
     "data": {
      "text/html": [
       "<style>#sk-container-id-1 {\n",
       "  /* Definition of color scheme common for light and dark mode */\n",
       "  --sklearn-color-text: #000;\n",
       "  --sklearn-color-text-muted: #666;\n",
       "  --sklearn-color-line: gray;\n",
       "  /* Definition of color scheme for unfitted estimators */\n",
       "  --sklearn-color-unfitted-level-0: #fff5e6;\n",
       "  --sklearn-color-unfitted-level-1: #f6e4d2;\n",
       "  --sklearn-color-unfitted-level-2: #ffe0b3;\n",
       "  --sklearn-color-unfitted-level-3: chocolate;\n",
       "  /* Definition of color scheme for fitted estimators */\n",
       "  --sklearn-color-fitted-level-0: #f0f8ff;\n",
       "  --sklearn-color-fitted-level-1: #d4ebff;\n",
       "  --sklearn-color-fitted-level-2: #b3dbfd;\n",
       "  --sklearn-color-fitted-level-3: cornflowerblue;\n",
       "\n",
       "  /* Specific color for light theme */\n",
       "  --sklearn-color-text-on-default-background: var(--sg-text-color, var(--theme-code-foreground, var(--jp-content-font-color1, black)));\n",
       "  --sklearn-color-background: var(--sg-background-color, var(--theme-background, var(--jp-layout-color0, white)));\n",
       "  --sklearn-color-border-box: var(--sg-text-color, var(--theme-code-foreground, var(--jp-content-font-color1, black)));\n",
       "  --sklearn-color-icon: #696969;\n",
       "\n",
       "  @media (prefers-color-scheme: dark) {\n",
       "    /* Redefinition of color scheme for dark theme */\n",
       "    --sklearn-color-text-on-default-background: var(--sg-text-color, var(--theme-code-foreground, var(--jp-content-font-color1, white)));\n",
       "    --sklearn-color-background: var(--sg-background-color, var(--theme-background, var(--jp-layout-color0, #111)));\n",
       "    --sklearn-color-border-box: var(--sg-text-color, var(--theme-code-foreground, var(--jp-content-font-color1, white)));\n",
       "    --sklearn-color-icon: #878787;\n",
       "  }\n",
       "}\n",
       "\n",
       "#sk-container-id-1 {\n",
       "  color: var(--sklearn-color-text);\n",
       "}\n",
       "\n",
       "#sk-container-id-1 pre {\n",
       "  padding: 0;\n",
       "}\n",
       "\n",
       "#sk-container-id-1 input.sk-hidden--visually {\n",
       "  border: 0;\n",
       "  clip: rect(1px 1px 1px 1px);\n",
       "  clip: rect(1px, 1px, 1px, 1px);\n",
       "  height: 1px;\n",
       "  margin: -1px;\n",
       "  overflow: hidden;\n",
       "  padding: 0;\n",
       "  position: absolute;\n",
       "  width: 1px;\n",
       "}\n",
       "\n",
       "#sk-container-id-1 div.sk-dashed-wrapped {\n",
       "  border: 1px dashed var(--sklearn-color-line);\n",
       "  margin: 0 0.4em 0.5em 0.4em;\n",
       "  box-sizing: border-box;\n",
       "  padding-bottom: 0.4em;\n",
       "  background-color: var(--sklearn-color-background);\n",
       "}\n",
       "\n",
       "#sk-container-id-1 div.sk-container {\n",
       "  /* jupyter's `normalize.less` sets `[hidden] { display: none; }`\n",
       "     but bootstrap.min.css set `[hidden] { display: none !important; }`\n",
       "     so we also need the `!important` here to be able to override the\n",
       "     default hidden behavior on the sphinx rendered scikit-learn.org.\n",
       "     See: https://github.com/scikit-learn/scikit-learn/issues/21755 */\n",
       "  display: inline-block !important;\n",
       "  position: relative;\n",
       "}\n",
       "\n",
       "#sk-container-id-1 div.sk-text-repr-fallback {\n",
       "  display: none;\n",
       "}\n",
       "\n",
       "div.sk-parallel-item,\n",
       "div.sk-serial,\n",
       "div.sk-item {\n",
       "  /* draw centered vertical line to link estimators */\n",
       "  background-image: linear-gradient(var(--sklearn-color-text-on-default-background), var(--sklearn-color-text-on-default-background));\n",
       "  background-size: 2px 100%;\n",
       "  background-repeat: no-repeat;\n",
       "  background-position: center center;\n",
       "}\n",
       "\n",
       "/* Parallel-specific style estimator block */\n",
       "\n",
       "#sk-container-id-1 div.sk-parallel-item::after {\n",
       "  content: \"\";\n",
       "  width: 100%;\n",
       "  border-bottom: 2px solid var(--sklearn-color-text-on-default-background);\n",
       "  flex-grow: 1;\n",
       "}\n",
       "\n",
       "#sk-container-id-1 div.sk-parallel {\n",
       "  display: flex;\n",
       "  align-items: stretch;\n",
       "  justify-content: center;\n",
       "  background-color: var(--sklearn-color-background);\n",
       "  position: relative;\n",
       "}\n",
       "\n",
       "#sk-container-id-1 div.sk-parallel-item {\n",
       "  display: flex;\n",
       "  flex-direction: column;\n",
       "}\n",
       "\n",
       "#sk-container-id-1 div.sk-parallel-item:first-child::after {\n",
       "  align-self: flex-end;\n",
       "  width: 50%;\n",
       "}\n",
       "\n",
       "#sk-container-id-1 div.sk-parallel-item:last-child::after {\n",
       "  align-self: flex-start;\n",
       "  width: 50%;\n",
       "}\n",
       "\n",
       "#sk-container-id-1 div.sk-parallel-item:only-child::after {\n",
       "  width: 0;\n",
       "}\n",
       "\n",
       "/* Serial-specific style estimator block */\n",
       "\n",
       "#sk-container-id-1 div.sk-serial {\n",
       "  display: flex;\n",
       "  flex-direction: column;\n",
       "  align-items: center;\n",
       "  background-color: var(--sklearn-color-background);\n",
       "  padding-right: 1em;\n",
       "  padding-left: 1em;\n",
       "}\n",
       "\n",
       "\n",
       "/* Toggleable style: style used for estimator/Pipeline/ColumnTransformer box that is\n",
       "clickable and can be expanded/collapsed.\n",
       "- Pipeline and ColumnTransformer use this feature and define the default style\n",
       "- Estimators will overwrite some part of the style using the `sk-estimator` class\n",
       "*/\n",
       "\n",
       "/* Pipeline and ColumnTransformer style (default) */\n",
       "\n",
       "#sk-container-id-1 div.sk-toggleable {\n",
       "  /* Default theme specific background. It is overwritten whether we have a\n",
       "  specific estimator or a Pipeline/ColumnTransformer */\n",
       "  background-color: var(--sklearn-color-background);\n",
       "}\n",
       "\n",
       "/* Toggleable label */\n",
       "#sk-container-id-1 label.sk-toggleable__label {\n",
       "  cursor: pointer;\n",
       "  display: flex;\n",
       "  width: 100%;\n",
       "  margin-bottom: 0;\n",
       "  padding: 0.5em;\n",
       "  box-sizing: border-box;\n",
       "  text-align: center;\n",
       "  align-items: start;\n",
       "  justify-content: space-between;\n",
       "  gap: 0.5em;\n",
       "}\n",
       "\n",
       "#sk-container-id-1 label.sk-toggleable__label .caption {\n",
       "  font-size: 0.6rem;\n",
       "  font-weight: lighter;\n",
       "  color: var(--sklearn-color-text-muted);\n",
       "}\n",
       "\n",
       "#sk-container-id-1 label.sk-toggleable__label-arrow:before {\n",
       "  /* Arrow on the left of the label */\n",
       "  content: \"▸\";\n",
       "  float: left;\n",
       "  margin-right: 0.25em;\n",
       "  color: var(--sklearn-color-icon);\n",
       "}\n",
       "\n",
       "#sk-container-id-1 label.sk-toggleable__label-arrow:hover:before {\n",
       "  color: var(--sklearn-color-text);\n",
       "}\n",
       "\n",
       "/* Toggleable content - dropdown */\n",
       "\n",
       "#sk-container-id-1 div.sk-toggleable__content {\n",
       "  max-height: 0;\n",
       "  max-width: 0;\n",
       "  overflow: hidden;\n",
       "  text-align: left;\n",
       "  /* unfitted */\n",
       "  background-color: var(--sklearn-color-unfitted-level-0);\n",
       "}\n",
       "\n",
       "#sk-container-id-1 div.sk-toggleable__content.fitted {\n",
       "  /* fitted */\n",
       "  background-color: var(--sklearn-color-fitted-level-0);\n",
       "}\n",
       "\n",
       "#sk-container-id-1 div.sk-toggleable__content pre {\n",
       "  margin: 0.2em;\n",
       "  border-radius: 0.25em;\n",
       "  color: var(--sklearn-color-text);\n",
       "  /* unfitted */\n",
       "  background-color: var(--sklearn-color-unfitted-level-0);\n",
       "}\n",
       "\n",
       "#sk-container-id-1 div.sk-toggleable__content.fitted pre {\n",
       "  /* unfitted */\n",
       "  background-color: var(--sklearn-color-fitted-level-0);\n",
       "}\n",
       "\n",
       "#sk-container-id-1 input.sk-toggleable__control:checked~div.sk-toggleable__content {\n",
       "  /* Expand drop-down */\n",
       "  max-height: 200px;\n",
       "  max-width: 100%;\n",
       "  overflow: auto;\n",
       "}\n",
       "\n",
       "#sk-container-id-1 input.sk-toggleable__control:checked~label.sk-toggleable__label-arrow:before {\n",
       "  content: \"▾\";\n",
       "}\n",
       "\n",
       "/* Pipeline/ColumnTransformer-specific style */\n",
       "\n",
       "#sk-container-id-1 div.sk-label input.sk-toggleable__control:checked~label.sk-toggleable__label {\n",
       "  color: var(--sklearn-color-text);\n",
       "  background-color: var(--sklearn-color-unfitted-level-2);\n",
       "}\n",
       "\n",
       "#sk-container-id-1 div.sk-label.fitted input.sk-toggleable__control:checked~label.sk-toggleable__label {\n",
       "  background-color: var(--sklearn-color-fitted-level-2);\n",
       "}\n",
       "\n",
       "/* Estimator-specific style */\n",
       "\n",
       "/* Colorize estimator box */\n",
       "#sk-container-id-1 div.sk-estimator input.sk-toggleable__control:checked~label.sk-toggleable__label {\n",
       "  /* unfitted */\n",
       "  background-color: var(--sklearn-color-unfitted-level-2);\n",
       "}\n",
       "\n",
       "#sk-container-id-1 div.sk-estimator.fitted input.sk-toggleable__control:checked~label.sk-toggleable__label {\n",
       "  /* fitted */\n",
       "  background-color: var(--sklearn-color-fitted-level-2);\n",
       "}\n",
       "\n",
       "#sk-container-id-1 div.sk-label label.sk-toggleable__label,\n",
       "#sk-container-id-1 div.sk-label label {\n",
       "  /* The background is the default theme color */\n",
       "  color: var(--sklearn-color-text-on-default-background);\n",
       "}\n",
       "\n",
       "/* On hover, darken the color of the background */\n",
       "#sk-container-id-1 div.sk-label:hover label.sk-toggleable__label {\n",
       "  color: var(--sklearn-color-text);\n",
       "  background-color: var(--sklearn-color-unfitted-level-2);\n",
       "}\n",
       "\n",
       "/* Label box, darken color on hover, fitted */\n",
       "#sk-container-id-1 div.sk-label.fitted:hover label.sk-toggleable__label.fitted {\n",
       "  color: var(--sklearn-color-text);\n",
       "  background-color: var(--sklearn-color-fitted-level-2);\n",
       "}\n",
       "\n",
       "/* Estimator label */\n",
       "\n",
       "#sk-container-id-1 div.sk-label label {\n",
       "  font-family: monospace;\n",
       "  font-weight: bold;\n",
       "  display: inline-block;\n",
       "  line-height: 1.2em;\n",
       "}\n",
       "\n",
       "#sk-container-id-1 div.sk-label-container {\n",
       "  text-align: center;\n",
       "}\n",
       "\n",
       "/* Estimator-specific */\n",
       "#sk-container-id-1 div.sk-estimator {\n",
       "  font-family: monospace;\n",
       "  border: 1px dotted var(--sklearn-color-border-box);\n",
       "  border-radius: 0.25em;\n",
       "  box-sizing: border-box;\n",
       "  margin-bottom: 0.5em;\n",
       "  /* unfitted */\n",
       "  background-color: var(--sklearn-color-unfitted-level-0);\n",
       "}\n",
       "\n",
       "#sk-container-id-1 div.sk-estimator.fitted {\n",
       "  /* fitted */\n",
       "  background-color: var(--sklearn-color-fitted-level-0);\n",
       "}\n",
       "\n",
       "/* on hover */\n",
       "#sk-container-id-1 div.sk-estimator:hover {\n",
       "  /* unfitted */\n",
       "  background-color: var(--sklearn-color-unfitted-level-2);\n",
       "}\n",
       "\n",
       "#sk-container-id-1 div.sk-estimator.fitted:hover {\n",
       "  /* fitted */\n",
       "  background-color: var(--sklearn-color-fitted-level-2);\n",
       "}\n",
       "\n",
       "/* Specification for estimator info (e.g. \"i\" and \"?\") */\n",
       "\n",
       "/* Common style for \"i\" and \"?\" */\n",
       "\n",
       ".sk-estimator-doc-link,\n",
       "a:link.sk-estimator-doc-link,\n",
       "a:visited.sk-estimator-doc-link {\n",
       "  float: right;\n",
       "  font-size: smaller;\n",
       "  line-height: 1em;\n",
       "  font-family: monospace;\n",
       "  background-color: var(--sklearn-color-background);\n",
       "  border-radius: 1em;\n",
       "  height: 1em;\n",
       "  width: 1em;\n",
       "  text-decoration: none !important;\n",
       "  margin-left: 0.5em;\n",
       "  text-align: center;\n",
       "  /* unfitted */\n",
       "  border: var(--sklearn-color-unfitted-level-1) 1pt solid;\n",
       "  color: var(--sklearn-color-unfitted-level-1);\n",
       "}\n",
       "\n",
       ".sk-estimator-doc-link.fitted,\n",
       "a:link.sk-estimator-doc-link.fitted,\n",
       "a:visited.sk-estimator-doc-link.fitted {\n",
       "  /* fitted */\n",
       "  border: var(--sklearn-color-fitted-level-1) 1pt solid;\n",
       "  color: var(--sklearn-color-fitted-level-1);\n",
       "}\n",
       "\n",
       "/* On hover */\n",
       "div.sk-estimator:hover .sk-estimator-doc-link:hover,\n",
       ".sk-estimator-doc-link:hover,\n",
       "div.sk-label-container:hover .sk-estimator-doc-link:hover,\n",
       ".sk-estimator-doc-link:hover {\n",
       "  /* unfitted */\n",
       "  background-color: var(--sklearn-color-unfitted-level-3);\n",
       "  color: var(--sklearn-color-background);\n",
       "  text-decoration: none;\n",
       "}\n",
       "\n",
       "div.sk-estimator.fitted:hover .sk-estimator-doc-link.fitted:hover,\n",
       ".sk-estimator-doc-link.fitted:hover,\n",
       "div.sk-label-container:hover .sk-estimator-doc-link.fitted:hover,\n",
       ".sk-estimator-doc-link.fitted:hover {\n",
       "  /* fitted */\n",
       "  background-color: var(--sklearn-color-fitted-level-3);\n",
       "  color: var(--sklearn-color-background);\n",
       "  text-decoration: none;\n",
       "}\n",
       "\n",
       "/* Span, style for the box shown on hovering the info icon */\n",
       ".sk-estimator-doc-link span {\n",
       "  display: none;\n",
       "  z-index: 9999;\n",
       "  position: relative;\n",
       "  font-weight: normal;\n",
       "  right: .2ex;\n",
       "  padding: .5ex;\n",
       "  margin: .5ex;\n",
       "  width: min-content;\n",
       "  min-width: 20ex;\n",
       "  max-width: 50ex;\n",
       "  color: var(--sklearn-color-text);\n",
       "  box-shadow: 2pt 2pt 4pt #999;\n",
       "  /* unfitted */\n",
       "  background: var(--sklearn-color-unfitted-level-0);\n",
       "  border: .5pt solid var(--sklearn-color-unfitted-level-3);\n",
       "}\n",
       "\n",
       ".sk-estimator-doc-link.fitted span {\n",
       "  /* fitted */\n",
       "  background: var(--sklearn-color-fitted-level-0);\n",
       "  border: var(--sklearn-color-fitted-level-3);\n",
       "}\n",
       "\n",
       ".sk-estimator-doc-link:hover span {\n",
       "  display: block;\n",
       "}\n",
       "\n",
       "/* \"?\"-specific style due to the `<a>` HTML tag */\n",
       "\n",
       "#sk-container-id-1 a.estimator_doc_link {\n",
       "  float: right;\n",
       "  font-size: 1rem;\n",
       "  line-height: 1em;\n",
       "  font-family: monospace;\n",
       "  background-color: var(--sklearn-color-background);\n",
       "  border-radius: 1rem;\n",
       "  height: 1rem;\n",
       "  width: 1rem;\n",
       "  text-decoration: none;\n",
       "  /* unfitted */\n",
       "  color: var(--sklearn-color-unfitted-level-1);\n",
       "  border: var(--sklearn-color-unfitted-level-1) 1pt solid;\n",
       "}\n",
       "\n",
       "#sk-container-id-1 a.estimator_doc_link.fitted {\n",
       "  /* fitted */\n",
       "  border: var(--sklearn-color-fitted-level-1) 1pt solid;\n",
       "  color: var(--sklearn-color-fitted-level-1);\n",
       "}\n",
       "\n",
       "/* On hover */\n",
       "#sk-container-id-1 a.estimator_doc_link:hover {\n",
       "  /* unfitted */\n",
       "  background-color: var(--sklearn-color-unfitted-level-3);\n",
       "  color: var(--sklearn-color-background);\n",
       "  text-decoration: none;\n",
       "}\n",
       "\n",
       "#sk-container-id-1 a.estimator_doc_link.fitted:hover {\n",
       "  /* fitted */\n",
       "  background-color: var(--sklearn-color-fitted-level-3);\n",
       "}\n",
       "</style><div id=\"sk-container-id-1\" class=\"sk-top-container\"><div class=\"sk-text-repr-fallback\"><pre>KNeighborsClassifier(metric=&#x27;euclidean&#x27;)</pre><b>In a Jupyter environment, please rerun this cell to show the HTML representation or trust the notebook. <br />On GitHub, the HTML representation is unable to render, please try loading this page with nbviewer.org.</b></div><div class=\"sk-container\" hidden><div class=\"sk-item\"><div class=\"sk-estimator fitted sk-toggleable\"><input class=\"sk-toggleable__control sk-hidden--visually\" id=\"sk-estimator-id-1\" type=\"checkbox\" checked><label for=\"sk-estimator-id-1\" class=\"sk-toggleable__label fitted sk-toggleable__label-arrow\"><div><div>KNeighborsClassifier</div></div><div><a class=\"sk-estimator-doc-link fitted\" rel=\"noreferrer\" target=\"_blank\" href=\"https://scikit-learn.org/1.6/modules/generated/sklearn.neighbors.KNeighborsClassifier.html\">?<span>Documentation for KNeighborsClassifier</span></a><span class=\"sk-estimator-doc-link fitted\">i<span>Fitted</span></span></div></label><div class=\"sk-toggleable__content fitted\"><pre>KNeighborsClassifier(metric=&#x27;euclidean&#x27;)</pre></div> </div></div></div></div>"
      ],
      "text/plain": [
       "KNeighborsClassifier(metric='euclidean')"
      ]
     },
     "execution_count": 11,
     "metadata": {},
     "output_type": "execute_result"
    }
   ],
   "source": [
    "K = 5\n",
    "knn_model = KNeighborsClassifier(n_neighbors=K, metric=\"euclidean\")\n",
    "knn_model.fit(X_train, y_train)"
   ]
  },
  {
   "cell_type": "markdown",
   "id": "ba869369-4008-4a3a-a946-80e3c595b98a",
   "metadata": {
    "editable": true,
    "slideshow": {
     "slide_type": ""
    },
    "tags": []
   },
   "source": [
    "K近傍法による分類器が構築できた．\n",
    "\n",
    "それではテストデータから適当にピックアップし，分類器で正しく数値分類できるか確認してみよう．\n",
    "下記コードを実行すると，テストデータからランダムに3個データを取得し，構築した分類器による予測を行える．"
   ]
  },
  {
   "cell_type": "code",
   "execution_count": 12,
   "id": "19ba9f3f-ff0f-4254-ae8b-8de4693c8953",
   "metadata": {
    "editable": true,
    "slideshow": {
     "slide_type": ""
    },
    "tags": []
   },
   "outputs": [
    {
     "data": {
      "image/png": "[encoded data removed]",
      "text/plain": [
       "<Figure size 200x100 with 1 Axes>"
      ]
     },
     "metadata": {},
     "output_type": "display_data"
    },
    {
     "name": "stdout",
     "output_type": "stream",
     "text": [
      "予測ラベル:  [6]\n",
      "正解ラベル:  6\n"
     ]
    },
    {
     "data": {
      "image/png": "[encoded data removed]",
      "text/plain": [
       "<Figure size 200x100 with 1 Axes>"
      ]
     },
     "metadata": {},
     "output_type": "display_data"
    },
    {
     "name": "stdout",
     "output_type": "stream",
     "text": [
      "予測ラベル:  [5]\n",
      "正解ラベル:  5\n"
     ]
    },
    {
     "data": {
      "image/png": "[encoded data removed]",
      "text/plain": [
       "<Figure size 200x100 with 1 Axes>"
      ]
     },
     "metadata": {},
     "output_type": "display_data"
    },
    {
     "name": "stdout",
     "output_type": "stream",
     "text": [
      "予測ラベル:  [9]\n",
      "正解ラベル:  9\n"
     ]
    }
   ],
   "source": [
    "import random\n",
    "\n",
    "test_size = len(y_test)\n",
    "for _ in range(3):\n",
    "    idx = random.randint(0, test_size-1) # 何番目のテストデータか\n",
    "    target_data = X_test[idx, :].reshape(1, 64)\n",
    "    target_label = y_test[idx]\n",
    "\n",
    "    # K近傍法による推論\n",
    "    y_predicted = knn_model.predict(target_data)\n",
    "\n",
    "    # 手書き数字画像を表示\n",
    "    fig = plt.figure(figsize=(2, 1))\n",
    "    plt.imshow(target_data.reshape(8, 8), cmap=plt.cm.gray, interpolation='none')\n",
    "    plt.show()\n",
    "    \n",
    "    # 推論結果と正解ラベルの表示\n",
    "    print(\"予測ラベル: \", y_predicted)\n",
    "    print(\"正解ラベル: \", target_label)"
   ]
  },
  {
   "cell_type": "markdown",
   "id": "07a69c97-b315-44f9-a8cb-24a5e802f85e",
   "metadata": {
    "editable": true,
    "slideshow": {
     "slide_type": ""
    },
    "tags": []
   },
   "source": [
    "どんな分類結果が得られただろうか．\n",
    "（位置が調整された）手書き数字画像であれば，単純なK近傍法であっても正確にラベルを予測することができそうだ．"
   ]
  },
  {
   "cell_type": "markdown",
   "id": "2a9ebbb8-c2b8-43ca-92c7-98af78abb7e5",
   "metadata": {
    "editable": true,
    "slideshow": {
     "slide_type": ""
    },
    "tags": [],
    "user_expressions": []
   },
   "source": [
    "\n",
    "---\n",
    "## 例題2: 人工的に作られたある2次元データ"
   ]
  },
  {
   "cell_type": "markdown",
   "id": "e194d5c3-b2d4-4868-93e4-c153d478b54f",
   "metadata": {
    "editable": true,
    "slideshow": {
     "slide_type": ""
    },
    "tags": []
   },
   "source": [
    "次の例題では，機械学習の手順や評価指標の重要性を体験してみよう．\n",
    "この例題で用いるのは，この例題のために作成した二次元データである．\n",
    "データの値に特に意味はない．\n",
    "以下のコードを実行して，データを読み込もう．"
   ]
  },
  {
   "cell_type": "code",
   "execution_count": 13,
   "id": "9baa1632-6053-4c6f-9f8c-e061fc8177b9",
   "metadata": {
    "editable": true,
    "slideshow": {
     "slide_type": ""
    },
    "tags": []
   },
   "outputs": [
    {
     "data": {
      "text/html": [
       "<div>\n",
       "<style scoped>\n",
       "    .dataframe tbody tr th:only-of-type {\n",
       "        vertical-align: middle;\n",
       "    }\n",
       "\n",
       "    .dataframe tbody tr th {\n",
       "        vertical-align: top;\n",
       "    }\n",
       "\n",
       "    .dataframe thead th {\n",
       "        text-align: right;\n",
       "    }\n",
       "</style>\n",
       "<table border=\"1\" class=\"dataframe\">\n",
       "  <thead>\n",
       "    <tr style=\"text-align: right;\">\n",
       "      <th></th>\n",
       "      <th>label</th>\n",
       "      <th>x1</th>\n",
       "      <th>x2</th>\n",
       "    </tr>\n",
       "  </thead>\n",
       "  <tbody>\n",
       "    <tr>\n",
       "      <th>0</th>\n",
       "      <td>0</td>\n",
       "      <td>10.922188</td>\n",
       "      <td>11.037222</td>\n",
       "    </tr>\n",
       "    <tr>\n",
       "      <th>1</th>\n",
       "      <td>0</td>\n",
       "      <td>5.560963</td>\n",
       "      <td>-1.993854</td>\n",
       "    </tr>\n",
       "    <tr>\n",
       "      <th>2</th>\n",
       "      <td>1</td>\n",
       "      <td>-0.172181</td>\n",
       "      <td>2.659002</td>\n",
       "    </tr>\n",
       "    <tr>\n",
       "      <th>3</th>\n",
       "      <td>0</td>\n",
       "      <td>9.094238</td>\n",
       "      <td>-0.180836</td>\n",
       "    </tr>\n",
       "    <tr>\n",
       "      <th>4</th>\n",
       "      <td>0</td>\n",
       "      <td>-1.802328</td>\n",
       "      <td>5.721992</td>\n",
       "    </tr>\n",
       "    <tr>\n",
       "      <th>...</th>\n",
       "      <td>...</td>\n",
       "      <td>...</td>\n",
       "      <td>...</td>\n",
       "    </tr>\n",
       "    <tr>\n",
       "      <th>103</th>\n",
       "      <td>1</td>\n",
       "      <td>-2.940544</td>\n",
       "      <td>5.098511</td>\n",
       "    </tr>\n",
       "    <tr>\n",
       "      <th>104</th>\n",
       "      <td>0</td>\n",
       "      <td>8.265318</td>\n",
       "      <td>11.367254</td>\n",
       "    </tr>\n",
       "    <tr>\n",
       "      <th>105</th>\n",
       "      <td>1</td>\n",
       "      <td>4.993353</td>\n",
       "      <td>8.362569</td>\n",
       "    </tr>\n",
       "    <tr>\n",
       "      <th>106</th>\n",
       "      <td>0</td>\n",
       "      <td>8.472310</td>\n",
       "      <td>11.346936</td>\n",
       "    </tr>\n",
       "    <tr>\n",
       "      <th>107</th>\n",
       "      <td>0</td>\n",
       "      <td>10.755054</td>\n",
       "      <td>6.829503</td>\n",
       "    </tr>\n",
       "  </tbody>\n",
       "</table>\n",
       "<p>108 rows × 3 columns</p>\n",
       "</div>"
      ],
      "text/plain": [
       "     label         x1         x2\n",
       "0        0  10.922188  11.037222\n",
       "1        0   5.560963  -1.993854\n",
       "2        1  -0.172181   2.659002\n",
       "3        0   9.094238  -0.180836\n",
       "4        0  -1.802328   5.721992\n",
       "..     ...        ...        ...\n",
       "103      1  -2.940544   5.098511\n",
       "104      0   8.265318  11.367254\n",
       "105      1   4.993353   8.362569\n",
       "106      0   8.472310  11.346936\n",
       "107      0  10.755054   6.829503\n",
       "\n",
       "[108 rows x 3 columns]"
      ]
     },
     "execution_count": 13,
     "metadata": {},
     "output_type": "execute_result"
    }
   ],
   "source": [
    "url = \"https://raw.githubusercontent.com/hontolab-courses/ml-lecturenote/refs/heads/main/content/data/imbalanced-data.tsv\"\n",
    "scatter_df = pd.read_table(url, header=0, sep='\\t')\n",
    "scatter_df"
   ]
  },
  {
   "cell_type": "code",
   "execution_count": 14,
   "id": "d8bc8831-d98f-42a1-86b7-1923b607f296",
   "metadata": {
    "editable": true,
    "slideshow": {
     "slide_type": ""
    },
    "tags": []
   },
   "outputs": [
    {
     "data": {
      "image/png": "[encoded data removed]",
      "text/plain": [
       "<Figure size 640x480 with 1 Axes>"
      ]
     },
     "metadata": {},
     "output_type": "display_data"
    }
   ],
   "source": [
    "sns.scatterplot(x='x1', y='x2', hue='label', data=scatter_df)\n",
    "plt.show()"
   ]
  },
  {
   "cell_type": "markdown",
   "id": "511a9a2a-d33a-4da9-a191-5ca7a14162f5",
   "metadata": {
    "editable": true,
    "slideshow": {
     "slide_type": ""
    },
    "tags": []
   },
   "source": [
    "変数`scatter_df`には，ラベル0とラベル1のデータ点が合計108個格納されている．\n",
    "ラベルの分布を以下のコードを実行して確認してみよう．"
   ]
  },
  {
   "cell_type": "code",
   "execution_count": 15,
   "id": "39016963-ba57-484b-9070-f4d9f35e428f",
   "metadata": {
    "editable": true,
    "slideshow": {
     "slide_type": ""
    },
    "tags": []
   },
   "outputs": [
    {
     "name": "stdout",
     "output_type": "stream",
     "text": [
      "Label 0 = 80\n",
      "Label 1 = 28\n"
     ]
    }
   ],
   "source": [
    "keys, counts = np.unique(scatter_df.label, return_counts=True)\n",
    "for key, count in zip(keys, counts):\n",
    "    print(\"Label\", key, \"=\", count)"
   ]
  },
  {
   "cell_type": "markdown",
   "id": "a044d063-8a05-426e-b289-3be44bfd3ca0",
   "metadata": {
    "editable": true,
    "slideshow": {
     "slide_type": ""
    },
    "tags": []
   },
   "source": [
    "ラベル1のデータがラベル0の3分の1程度しかなく，データの分布が偏っていることが分かる（[★Quiz 1](#L5-Q1)，[★Quiz 2](#L5-Q2)，[★Quiz 3](#L5-Q3)）．\n",
    "\n",
    "ではK近傍法を用いて，ラベルの分類器を構築してみよう．\n",
    "この例題では`K=5`としてK近傍法を用いる．\n",
    "今回はまず**誤った手続き**で分類器を構築・評価してみよう．"
   ]
  },
  {
   "cell_type": "markdown",
   "id": "d80e433c-aafb-4f16-9978-54f265f56638",
   "metadata": {
    "editable": true,
    "slideshow": {
     "slide_type": ""
    },
    "tags": []
   },
   "source": [
    "### 誤った手続き1: 交差検証を行わない"
   ]
  },
  {
   "cell_type": "markdown",
   "id": "5e458434-6e32-491a-a1a3-f85589f1e31b",
   "metadata": {
    "editable": true,
    "slideshow": {
     "slide_type": ""
    },
    "tags": []
   },
   "source": [
    "誤った手続きその1は「交差検証を行わない」である．\n",
    "用意したデータセットのサイズが十分に大きい場合，あるいはデータセットの準備の時点で訓練データとテストデータが分けて得られている場合は交差検証にこだわる必要はそれほどないかもしれない．\n",
    "そうでない場合は，交差検証をしなければ，分類器の汎化性能および性能評価そのものに問題が生じる．\n",
    "\n",
    "以下は交差検証を行わない，誤った教師あり学習の手続きである．"
   ]
  },
  {
   "cell_type": "code",
   "execution_count": 16,
   "id": "6dafadd4-45b1-4b23-bbe5-9d4db85d6f0a",
   "metadata": {
    "editable": true,
    "slideshow": {
     "slide_type": ""
    },
    "tags": []
   },
   "outputs": [
    {
     "name": "stdout",
     "output_type": "stream",
     "text": [
      "kNN accuracy:  0.8787878787878788\n"
     ]
    }
   ],
   "source": [
    "# データ準備\n",
    "X = scatter_df[scatter_df.columns[1:]]\n",
    "y = scatter_df[scatter_df.columns[0]]\n",
    "\n",
    "# データセットを70:30で訓練データ，評価データに分割\n",
    "X_train, X_test, y_train, y_test = train_test_split(X, y, test_size=0.3)\n",
    "\n",
    "# K近傍法のモデルの定義\n",
    "K = 5\n",
    "knn_model = KNeighborsClassifier(n_neighbors=K, metric=\"euclidean\")\n",
    "\n",
    "# 学習\n",
    "knn_model.fit(X_train, y_train)\n",
    "\n",
    "# 推論\n",
    "y_predicted = knn_model.predict(X_test)\n",
    "\n",
    "# 評価\n",
    "accuracy = accuracy_score(y_test, y_predicted)\n",
    "print(\"kNN accuracy: \", accuracy)"
   ]
  },
  {
   "cell_type": "markdown",
   "id": "9d61e1f2-634c-48e5-9f38-4d111fdbbe79",
   "metadata": {
    "editable": true,
    "slideshow": {
     "slide_type": ""
    },
    "tags": []
   },
   "source": [
    "評価指標として精度（accuracy）を用いて，交差検証を行わずに分類器の構築と評価を行っている．\n",
    "みなさんの環境では適合率はいくつになっただろうか．\n",
    "他の人と比べたり，上記コードを再度実行してみよう．\n",
    "適合率が安定しない（変化する）ことに気付くはずだ．\n",
    "\n",
    "十分に大きくないデータセットに対して**交差検証を用いない場合，訓練データとテストデータの中身の分布に偏りが生じる**．\n",
    "その影響がモデルの構築および性能評価に出て，偶然結果が良くなったり悪くなったりする．\n",
    "分割した訓練データと評価データのラベルの分布を確認してみよう．\n"
   ]
  },
  {
   "cell_type": "code",
   "execution_count": 17,
   "id": "26b9f4c7-0c90-4264-b7d9-50e73d455d21",
   "metadata": {
    "editable": true,
    "slideshow": {
     "slide_type": ""
    },
    "tags": []
   },
   "outputs": [
    {
     "name": "stdout",
     "output_type": "stream",
     "text": [
      "Label 0 = 57\n",
      "Label 1 = 18\n"
     ]
    }
   ],
   "source": [
    "# 訓練データの分布\n",
    "keys, counts = np.unique(y_train, return_counts=True)\n",
    "for key, count in zip(keys, counts):\n",
    "    print(\"Label\", key, \"=\", count)"
   ]
  },
  {
   "cell_type": "code",
   "execution_count": 18,
   "id": "ae46ac39-51c2-4923-a46f-0398053929ae",
   "metadata": {
    "editable": true,
    "slideshow": {
     "slide_type": ""
    },
    "tags": []
   },
   "outputs": [
    {
     "name": "stdout",
     "output_type": "stream",
     "text": [
      "Label 0 = 23\n",
      "Label 1 = 10\n"
     ]
    }
   ],
   "source": [
    "# テストデータの分布\n",
    "keys, counts = np.unique(y_test, return_counts=True)\n",
    "for key, count in zip(keys, counts):\n",
    "    print(\"Label\", key, \"=\", count)"
   ]
  },
  {
   "cell_type": "markdown",
   "id": "0535e49e-4db9-4675-9a1b-3a782d665de5",
   "metadata": {
    "editable": true,
    "slideshow": {
     "slide_type": ""
    },
    "tags": []
   },
   "source": [
    "今回は`train_test_split`関数を用いるときにランダムにテストデータを分割している．\n",
    "そのため，人によっては訓練データとテストデータのラベルの分布が同じようになったケースもあるかもしれないが，データの分割の仕方で毎回性能評価値が大きく変わったように見えるのはよろしくない．\n",
    "信頼できる性能評価を行うためにも，交差検証を行う必要がある．"
   ]
  },
  {
   "cell_type": "markdown",
   "id": "b69a2337-1649-45f1-ba26-670790e45210",
   "metadata": {
    "editable": true,
    "slideshow": {
     "slide_type": ""
    },
    "tags": []
   },
   "source": [
    "さて，上記の「誤った手続き」のコードは，交差検証のやり方以外にも問題がある．\n",
    "次の「誤った手続き」で見てみよう．"
   ]
  },
  {
   "cell_type": "markdown",
   "id": "2ffaa981-f364-4c8b-9e4b-e863036c0555",
   "metadata": {
    "editable": true,
    "slideshow": {
     "slide_type": ""
    },
    "tags": []
   },
   "source": [
    "### 誤った手続き2: 層別化を行わない"
   ]
  },
  {
   "cell_type": "markdown",
   "id": "062ab0fc-a362-40ab-a08d-385815647211",
   "metadata": {
    "editable": true,
    "slideshow": {
     "slide_type": ""
    },
    "tags": []
   },
   "source": [
    "誤った手続きその2は「層別化を行わない」である．\n",
    "今回用意したデータセットのようにラベルの分布に偏りがある場合は，その分布を考慮して訓練データとテストデータを分割しなければ，たまたま都合の良い（あるいは悪い）分類器を構築し，たまたま都合の良い（あるいは悪い）性能評価を行ってしまう．\n",
    "そのため，モデルの汎化性能を高めるためにも，信頼できる性能評価を行うためにも，**層別化**を行いながら訓練データとテストデータの分割を行う必要がある．\n",
    "\n",
    "以下は層別化を行わない交差検証を行った，誤った教師あり学習の手続きである．"
   ]
  },
  {
   "cell_type": "code",
   "execution_count": 19,
   "id": "a26baa5c-a609-4801-bf9c-cd271c0cd98f",
   "metadata": {
    "editable": true,
    "slideshow": {
     "slide_type": ""
    },
    "tags": []
   },
   "outputs": [
    {
     "name": "stdout",
     "output_type": "stream",
     "text": [
      "Accuracy list:  [0.86363636 0.63636364 0.90909091 0.76190476 0.9047619 ]\n",
      "kNN accuracy:  0.8151515151515152\n"
     ]
    }
   ],
   "source": [
    "# データセットの準備\n",
    "X = scatter_df[scatter_df.columns[1:]]\n",
    "y = scatter_df[scatter_df.columns[0]]\n",
    "\n",
    "# 層別化をしない5分割交差検証の準備（乱数を固定）\n",
    "k_fold = KFold(n_splits=5, shuffle=True, random_state=12345)\n",
    "\n",
    "# 評価指標（精度）\n",
    "score_funcs = ['accuracy']\n",
    "\n",
    "# K近傍法のモデルの定義\n",
    "K = 5\n",
    "knn_model = KNeighborsClassifier(n_neighbors=K, metric=\"euclidean\")\n",
    "\n",
    "# 交差検証をしながら分類器を構築・評価\n",
    "scores = cross_validate(knn_model, X, y, cv=k_fold, scoring=score_funcs)\n",
    "print(\"Accuracy list: \", scores['test_accuracy'])\n",
    "\n",
    "# 交差検証の評価スコアを平均としてまとめる\n",
    "print(\"kNN accuracy: \", np.mean(scores['test_accuracy']))"
   ]
  },
  {
   "cell_type": "markdown",
   "id": "812db171-5d80-4316-930b-396a219ff584",
   "metadata": {
    "editable": true,
    "slideshow": {
     "slide_type": ""
    },
    "tags": []
   },
   "source": [
    "上記コードではデータ分割と交差検証，分類器構築，分類器評価を簡単にまとめて実行できる`cross_validate`関数を使っている．\n",
    "5分割交差検証の1回（ラウンド）ごとの精度スコアが`scores['test_accuracy']`に格納されている．\n",
    "また，その平均値の計算も行っている．\n",
    "一般に，交差検証を用いた性能評価では評価値の平均値を用いる．\n",
    "\n",
    "もうお気づきのとおり，適合率のスコアが交差検証のラウンドごとに大きく異なる．\n",
    "層別化を行っていないためである．\n",
    "交差検証の平均スコアだけを見ていても，スコアが変動することに気付かないだろう．\n",
    "\n",
    "このように，交差検証を行って学習と評価を複数回やったとしても，ラベル分布の偏りを考慮しなければ適切な学習，評価はできない．"
   ]
  },
  {
   "cell_type": "markdown",
   "id": "406f8489-84f9-4fa1-b046-41a219334567",
   "metadata": {
    "editable": true,
    "slideshow": {
     "slide_type": ""
    },
    "tags": []
   },
   "source": [
    "### 誤った手続き3: 評価指標が適切でない"
   ]
  },
  {
   "cell_type": "markdown",
   "id": "af6c1014-fce6-4572-80ab-e7372c4639b3",
   "metadata": {
    "editable": true,
    "slideshow": {
     "slide_type": ""
    },
    "tags": []
   },
   "source": [
    "誤った手続きその3は「評価指標が適切でない」である．\n",
    "以下は層別化交差検証を行ったが，単純な精度を評価指標に使ってしまった，誤った教師あり学習の手続きである．"
   ]
  },
  {
   "cell_type": "code",
   "execution_count": 20,
   "id": "06288721-b436-4993-8f28-9b922c445304",
   "metadata": {
    "editable": true,
    "slideshow": {
     "slide_type": ""
    },
    "tags": []
   },
   "outputs": [
    {
     "name": "stdout",
     "output_type": "stream",
     "text": [
      "Accuracy list:  [0.72727273 0.81818182 0.77272727 0.76190476 0.80952381]\n",
      "kNN accuracy:  0.7779220779220779\n"
     ]
    }
   ],
   "source": [
    "# データセットの準備\n",
    "X = scatter_df[scatter_df.columns[1:]]\n",
    "y = scatter_df[scatter_df.columns[0]]\n",
    "\n",
    "# 「層別化」5分割交差検証の準備（乱数を固定）\n",
    "k_fold = StratifiedKFold(n_splits=5, shuffle=True, random_state=12345)\n",
    "\n",
    "# 評価指標（精度）\n",
    "score_funcs = ['accuracy']\n",
    "\n",
    "# K近傍法のモデルの定義\n",
    "K = 5\n",
    "knn_model = KNeighborsClassifier(n_neighbors=K, metric=\"euclidean\")\n",
    "\n",
    "# 交差検証をしながら分類器を構築・評価\n",
    "scores = cross_validate(knn_model, X, y, cv=k_fold, scoring=score_funcs)\n",
    "print(\"Accuracy list: \", scores['test_accuracy'])\n",
    "\n",
    "# 交差検証の評価スコアを平均としてまとめる\n",
    "print(\"kNN accuracy: \", np.mean(scores['test_accuracy']))"
   ]
  },
  {
   "cell_type": "markdown",
   "id": "8f29c4e4-416d-40e7-a65b-4bc69ae20f27",
   "metadata": {
    "editable": true,
    "slideshow": {
     "slide_type": ""
    },
    "tags": []
   },
   "source": [
    "「誤った手続き2」よりも精度のばらつきが小さくなった．\n",
    "これで平均値を取れば一見正しい評価をしたような気がするが，この例題の冒頭で解説したラベル分布の話を思い出してほしい．\n",
    "このデータセットは，ラベル0のほうがラベル1よりも3倍程度多く含んでいる．．\n",
    "極端な話として，分類器の予測結果が常に「ラベル0」を返したとしても，単純な精度は不当に高い値をはじき出してしまう．\n",
    "\n",
    "今回用意したデータセットのようにラベルの分布に偏りがある場合は，単純な精度ではなくラベル分布の偏りを考慮した**マクロ精度**や**AUC**，**MCC（マシューズ相関係数）** を用いる必要がある．\n",
    "\n",
    "以上を踏まえて，以下に「より妥当な手続き」のコードを記す．"
   ]
  },
  {
   "cell_type": "markdown",
   "id": "7de8aaea-4290-4c65-ac37-e381f0a5671e",
   "metadata": {
    "editable": true,
    "slideshow": {
     "slide_type": ""
    },
    "tags": []
   },
   "source": [
    "### より妥当な手続き"
   ]
  },
  {
   "cell_type": "code",
   "execution_count": 21,
   "id": "3d602b91-f0ec-4dd8-a9c2-3da2b8e099f1",
   "metadata": {
    "editable": true,
    "slideshow": {
     "slide_type": ""
    },
    "tags": []
   },
   "outputs": [
    {
     "name": "stdout",
     "output_type": "stream",
     "text": [
      "Balanced accuracy list:  [0.65625    0.66666667 0.58333333 0.70625    0.66875   ]\n",
      "AUC list:  [0.84375    0.765625   0.82291667 0.84375    0.84375   ]\n",
      "\n",
      "Balanced accuracy:  0.65625\n",
      "AUC:  0.8239583333333333\n"
     ]
    }
   ],
   "source": [
    "# データセットの準備\n",
    "X = scatter_df[scatter_df.columns[1:]]\n",
    "y = scatter_df[scatter_df.columns[0]]\n",
    "\n",
    "# 5分割「層別化」交差検証の準備（乱数を固定）\n",
    "k_fold = StratifiedKFold(n_splits=5, shuffle=True, random_state=12345)\n",
    "\n",
    "# 評価指標（マクロ精度（balanced accuracy），AUC）\n",
    "score_funcs = ['balanced_accuracy', 'roc_auc']\n",
    "\n",
    "# K近傍法のモデルの定義\n",
    "K = 5\n",
    "knn_model = KNeighborsClassifier(n_neighbors=K, metric=\"euclidean\")\n",
    "\n",
    "# 交差検証をしながら分類器を構築・評価\n",
    "scores = cross_validate(knn_model, X, y, cv=k_fold, scoring=score_funcs)\n",
    "print(\"Balanced accuracy list: \", scores['test_balanced_accuracy'])\n",
    "print(\"AUC list: \", scores['test_roc_auc'])\n",
    "\n",
    "# 交差検証の評価スコアを平均としてまとめる\n",
    "print()\n",
    "print(\"Balanced accuracy: \", np.mean(scores['test_balanced_accuracy']))\n",
    "print(\"AUC: \", np.mean(scores['test_roc_auc']))"
   ]
  },
  {
   "cell_type": "markdown",
   "id": "8787643d-31ec-41c3-a971-d4d3b69d0d6f",
   "metadata": {
    "editable": true,
    "slideshow": {
     "slide_type": ""
    },
    "tags": []
   },
   "source": [
    "上記はラベルの分布を考慮した，より妥当な分類器の構築と性能評価の手続きである．\n",
    "\n",
    "どんな分類器を構築するにしても，一般的には上記のように「層別化によるデータ分割」を「交差検証」を組み合わせたモデル構築と評価を行う（[★Quiz 4](#L5-Q4)）．\n",
    "より高性能の分類器を構築するには，上記手続きに加え，\n",
    "* データの変換（スケーリング，one-hotベクトル化）\n",
    "* 欠損値への対応\n",
    "* 特徴量選択\n",
    "* パラメータチューニング（[★Quiz 5](#L5-Q5)）\n",
    "\n",
    "などが必要となる．"
   ]
  },
  {
   "cell_type": "markdown",
   "id": "09ee6f32-4437-4e09-b7fb-cf847f0a4628",
   "metadata": {
    "editable": true,
    "slideshow": {
     "slide_type": ""
    },
    "tags": [],
    "user_expressions": []
   },
   "source": [
    "\n",
    "---\n",
    "## 例題3: ある時期のアメリカ合衆国の年収調査データ\n",
    "最後の例題で扱うデータは，[1994年に作成されたアメリカ合衆国の国勢調査のデータセット（一部）](https://archive.ics.uci.edu/ml/datasets/Adult)である．\n",
    "機械学習の研究分野では著名なデータセットで通称\"Adult Dataset\"と呼ばれている．\n",
    "このデータセットには，\n",
    "* 年齢\n",
    "* 職業クラス\n",
    "* 最終学歴\n",
    "* 教育年数\n",
    "* 婚姻ステータス\n",
    "* 職業\n",
    "* 家族の構成\n",
    "* 人種\n",
    "* 性別\n",
    "* 資産売却益\n",
    "* 資産売却損\n",
    "* 週の労働時間\n",
    "* 母国\n",
    "* 年収（年5万ドル以上（>=50K） or それ以下（<50K））\n",
    "\n",
    "に関する情報が含まれている．\n",
    "このデータセットを使って，年収以外の情報から年収が年5万ドル以上か未満かを推定するさまざまな分類器を構築してみよう．"
   ]
  },
  {
   "cell_type": "markdown",
   "id": "f7549e5f-c82a-4a50-9d62-424f67c0264d",
   "metadata": {
    "editable": true,
    "slideshow": {
     "slide_type": ""
    },
    "tags": []
   },
   "source": [
    "以下のコードを実行すると，不必要なデータ列を削除し，ターゲットとなる年収情報を\n",
    "* 年5万ドル以上なら1\n",
    "* 年5万ドル未満なら0\n",
    "\n",
    "に置換したデータセットをデータフレーム変数`adult_df`に読み込む．"
   ]
  },
  {
   "cell_type": "code",
   "execution_count": 22,
   "id": "23f36366-8b77-4086-8422-9df6cb2ed134",
   "metadata": {
    "editable": true,
    "slideshow": {
     "slide_type": ""
    },
    "tags": []
   },
   "outputs": [],
   "source": [
    "adult_dataset_url = \"https://archive.ics.uci.edu/ml/machine-learning-databases/adult/adult.data\"\n",
    "\n",
    "features = [\n",
    "    \"age\",             # 年齢（数値）\n",
    "    \"workclass\",       # 職業クラス（カテゴリカル）\n",
    "    \"fnlwgt\",          # 不明\n",
    "    \"education\",       # 最終学歴（カテゴリカル）\n",
    "    \"education_num\",   # 教育年数（数値）\n",
    "    \"marital_status\",  # 婚姻ステータス（カテゴリカル）\n",
    "    \"occupation\",      # 職業（カテゴリカル）\n",
    "    \"relationship\",    # 家族の構成（カテゴリカル）\n",
    "    \"race\",            # 人種（カテゴリカル）\n",
    "    \"sex\",             # 性別（カテゴリカル）\n",
    "    \"capital_gain\",    # 資産売却益（数値）\n",
    "    \"capital_loss\",    # 資産売却損（数値）\n",
    "    \"hours_per_week\",  # 週の労働時間？（数値）\n",
    "    \"native_country\",  # 母国（カテゴリカル）\n",
    "    \"annual_income\"    # 年収（True of False）\n",
    "]\n",
    "\n",
    "adult_df = pd.read_table(\n",
    "    adult_dataset_url, sep=\", \", header=None,\n",
    "    names=features, engine='python', na_values=\"?\"\n",
    ").assign(\n",
    "    has_high_salary = lambda df: df[\"annual_income\"].map({\">50K\": True, \"<=50K\": False})\n",
    ").drop( # 不要 or 不明な特徴量を削除\n",
    "    columns=['fnlwgt', 'annual_income']\n",
    ")"
   ]
  },
  {
   "cell_type": "markdown",
   "id": "2de8cef3-958f-49cb-89c9-00c6bc24ab23",
   "metadata": {
    "editable": true,
    "slideshow": {
     "slide_type": ""
    },
    "tags": []
   },
   "source": [
    "読み込んだ`adult_df`を以下のコードで表示してみよう．\n",
    "データは全部で32561レコードあることが分かる．"
   ]
  },
  {
   "cell_type": "code",
   "execution_count": 23,
   "id": "f7926f80-e89c-4440-a32c-6b136f46abed",
   "metadata": {
    "editable": true,
    "slideshow": {
     "slide_type": ""
    },
    "tags": []
   },
   "outputs": [
    {
     "data": {
      "text/html": [
       "<div>\n",
       "<style scoped>\n",
       "    .dataframe tbody tr th:only-of-type {\n",
       "        vertical-align: middle;\n",
       "    }\n",
       "\n",
       "    .dataframe tbody tr th {\n",
       "        vertical-align: top;\n",
       "    }\n",
       "\n",
       "    .dataframe thead th {\n",
       "        text-align: right;\n",
       "    }\n",
       "</style>\n",
       "<table border=\"1\" class=\"dataframe\">\n",
       "  <thead>\n",
       "    <tr style=\"text-align: right;\">\n",
       "      <th></th>\n",
       "      <th>age</th>\n",
       "      <th>workclass</th>\n",
       "      <th>education</th>\n",
       "      <th>education_num</th>\n",
       "      <th>marital_status</th>\n",
       "      <th>occupation</th>\n",
       "      <th>relationship</th>\n",
       "      <th>race</th>\n",
       "      <th>sex</th>\n",
       "      <th>capital_gain</th>\n",
       "      <th>capital_loss</th>\n",
       "      <th>hours_per_week</th>\n",
       "      <th>native_country</th>\n",
       "      <th>has_high_salary</th>\n",
       "    </tr>\n",
       "  </thead>\n",
       "  <tbody>\n",
       "    <tr>\n",
       "      <th>0</th>\n",
       "      <td>39</td>\n",
       "      <td>State-gov</td>\n",
       "      <td>Bachelors</td>\n",
       "      <td>13</td>\n",
       "      <td>Never-married</td>\n",
       "      <td>Adm-clerical</td>\n",
       "      <td>Not-in-family</td>\n",
       "      <td>White</td>\n",
       "      <td>Male</td>\n",
       "      <td>2174</td>\n",
       "      <td>0</td>\n",
       "      <td>40</td>\n",
       "      <td>United-States</td>\n",
       "      <td>False</td>\n",
       "    </tr>\n",
       "    <tr>\n",
       "      <th>1</th>\n",
       "      <td>50</td>\n",
       "      <td>Self-emp-not-inc</td>\n",
       "      <td>Bachelors</td>\n",
       "      <td>13</td>\n",
       "      <td>Married-civ-spouse</td>\n",
       "      <td>Exec-managerial</td>\n",
       "      <td>Husband</td>\n",
       "      <td>White</td>\n",
       "      <td>Male</td>\n",
       "      <td>0</td>\n",
       "      <td>0</td>\n",
       "      <td>13</td>\n",
       "      <td>United-States</td>\n",
       "      <td>False</td>\n",
       "    </tr>\n",
       "    <tr>\n",
       "      <th>2</th>\n",
       "      <td>38</td>\n",
       "      <td>Private</td>\n",
       "      <td>HS-grad</td>\n",
       "      <td>9</td>\n",
       "      <td>Divorced</td>\n",
       "      <td>Handlers-cleaners</td>\n",
       "      <td>Not-in-family</td>\n",
       "      <td>White</td>\n",
       "      <td>Male</td>\n",
       "      <td>0</td>\n",
       "      <td>0</td>\n",
       "      <td>40</td>\n",
       "      <td>United-States</td>\n",
       "      <td>False</td>\n",
       "    </tr>\n",
       "    <tr>\n",
       "      <th>3</th>\n",
       "      <td>53</td>\n",
       "      <td>Private</td>\n",
       "      <td>11th</td>\n",
       "      <td>7</td>\n",
       "      <td>Married-civ-spouse</td>\n",
       "      <td>Handlers-cleaners</td>\n",
       "      <td>Husband</td>\n",
       "      <td>Black</td>\n",
       "      <td>Male</td>\n",
       "      <td>0</td>\n",
       "      <td>0</td>\n",
       "      <td>40</td>\n",
       "      <td>United-States</td>\n",
       "      <td>False</td>\n",
       "    </tr>\n",
       "    <tr>\n",
       "      <th>4</th>\n",
       "      <td>28</td>\n",
       "      <td>Private</td>\n",
       "      <td>Bachelors</td>\n",
       "      <td>13</td>\n",
       "      <td>Married-civ-spouse</td>\n",
       "      <td>Prof-specialty</td>\n",
       "      <td>Wife</td>\n",
       "      <td>Black</td>\n",
       "      <td>Female</td>\n",
       "      <td>0</td>\n",
       "      <td>0</td>\n",
       "      <td>40</td>\n",
       "      <td>Cuba</td>\n",
       "      <td>False</td>\n",
       "    </tr>\n",
       "    <tr>\n",
       "      <th>...</th>\n",
       "      <td>...</td>\n",
       "      <td>...</td>\n",
       "      <td>...</td>\n",
       "      <td>...</td>\n",
       "      <td>...</td>\n",
       "      <td>...</td>\n",
       "      <td>...</td>\n",
       "      <td>...</td>\n",
       "      <td>...</td>\n",
       "      <td>...</td>\n",
       "      <td>...</td>\n",
       "      <td>...</td>\n",
       "      <td>...</td>\n",
       "      <td>...</td>\n",
       "    </tr>\n",
       "    <tr>\n",
       "      <th>32556</th>\n",
       "      <td>27</td>\n",
       "      <td>Private</td>\n",
       "      <td>Assoc-acdm</td>\n",
       "      <td>12</td>\n",
       "      <td>Married-civ-spouse</td>\n",
       "      <td>Tech-support</td>\n",
       "      <td>Wife</td>\n",
       "      <td>White</td>\n",
       "      <td>Female</td>\n",
       "      <td>0</td>\n",
       "      <td>0</td>\n",
       "      <td>38</td>\n",
       "      <td>United-States</td>\n",
       "      <td>False</td>\n",
       "    </tr>\n",
       "    <tr>\n",
       "      <th>32557</th>\n",
       "      <td>40</td>\n",
       "      <td>Private</td>\n",
       "      <td>HS-grad</td>\n",
       "      <td>9</td>\n",
       "      <td>Married-civ-spouse</td>\n",
       "      <td>Machine-op-inspct</td>\n",
       "      <td>Husband</td>\n",
       "      <td>White</td>\n",
       "      <td>Male</td>\n",
       "      <td>0</td>\n",
       "      <td>0</td>\n",
       "      <td>40</td>\n",
       "      <td>United-States</td>\n",
       "      <td>True</td>\n",
       "    </tr>\n",
       "    <tr>\n",
       "      <th>32558</th>\n",
       "      <td>58</td>\n",
       "      <td>Private</td>\n",
       "      <td>HS-grad</td>\n",
       "      <td>9</td>\n",
       "      <td>Widowed</td>\n",
       "      <td>Adm-clerical</td>\n",
       "      <td>Unmarried</td>\n",
       "      <td>White</td>\n",
       "      <td>Female</td>\n",
       "      <td>0</td>\n",
       "      <td>0</td>\n",
       "      <td>40</td>\n",
       "      <td>United-States</td>\n",
       "      <td>False</td>\n",
       "    </tr>\n",
       "    <tr>\n",
       "      <th>32559</th>\n",
       "      <td>22</td>\n",
       "      <td>Private</td>\n",
       "      <td>HS-grad</td>\n",
       "      <td>9</td>\n",
       "      <td>Never-married</td>\n",
       "      <td>Adm-clerical</td>\n",
       "      <td>Own-child</td>\n",
       "      <td>White</td>\n",
       "      <td>Male</td>\n",
       "      <td>0</td>\n",
       "      <td>0</td>\n",
       "      <td>20</td>\n",
       "      <td>United-States</td>\n",
       "      <td>False</td>\n",
       "    </tr>\n",
       "    <tr>\n",
       "      <th>32560</th>\n",
       "      <td>52</td>\n",
       "      <td>Self-emp-inc</td>\n",
       "      <td>HS-grad</td>\n",
       "      <td>9</td>\n",
       "      <td>Married-civ-spouse</td>\n",
       "      <td>Exec-managerial</td>\n",
       "      <td>Wife</td>\n",
       "      <td>White</td>\n",
       "      <td>Female</td>\n",
       "      <td>15024</td>\n",
       "      <td>0</td>\n",
       "      <td>40</td>\n",
       "      <td>United-States</td>\n",
       "      <td>True</td>\n",
       "    </tr>\n",
       "  </tbody>\n",
       "</table>\n",
       "<p>32561 rows × 14 columns</p>\n",
       "</div>"
      ],
      "text/plain": [
       "       age         workclass   education  education_num      marital_status  \\\n",
       "0       39         State-gov   Bachelors             13       Never-married   \n",
       "1       50  Self-emp-not-inc   Bachelors             13  Married-civ-spouse   \n",
       "2       38           Private     HS-grad              9            Divorced   \n",
       "3       53           Private        11th              7  Married-civ-spouse   \n",
       "4       28           Private   Bachelors             13  Married-civ-spouse   \n",
       "...    ...               ...         ...            ...                 ...   \n",
       "32556   27           Private  Assoc-acdm             12  Married-civ-spouse   \n",
       "32557   40           Private     HS-grad              9  Married-civ-spouse   \n",
       "32558   58           Private     HS-grad              9             Widowed   \n",
       "32559   22           Private     HS-grad              9       Never-married   \n",
       "32560   52      Self-emp-inc     HS-grad              9  Married-civ-spouse   \n",
       "\n",
       "              occupation   relationship   race     sex  capital_gain  \\\n",
       "0           Adm-clerical  Not-in-family  White    Male          2174   \n",
       "1        Exec-managerial        Husband  White    Male             0   \n",
       "2      Handlers-cleaners  Not-in-family  White    Male             0   \n",
       "3      Handlers-cleaners        Husband  Black    Male             0   \n",
       "4         Prof-specialty           Wife  Black  Female             0   \n",
       "...                  ...            ...    ...     ...           ...   \n",
       "32556       Tech-support           Wife  White  Female             0   \n",
       "32557  Machine-op-inspct        Husband  White    Male             0   \n",
       "32558       Adm-clerical      Unmarried  White  Female             0   \n",
       "32559       Adm-clerical      Own-child  White    Male             0   \n",
       "32560    Exec-managerial           Wife  White  Female         15024   \n",
       "\n",
       "       capital_loss  hours_per_week native_country  has_high_salary  \n",
       "0                 0              40  United-States            False  \n",
       "1                 0              13  United-States            False  \n",
       "2                 0              40  United-States            False  \n",
       "3                 0              40  United-States            False  \n",
       "4                 0              40           Cuba            False  \n",
       "...             ...             ...            ...              ...  \n",
       "32556             0              38  United-States            False  \n",
       "32557             0              40  United-States             True  \n",
       "32558             0              40  United-States            False  \n",
       "32559             0              20  United-States            False  \n",
       "32560             0              40  United-States             True  \n",
       "\n",
       "[32561 rows x 14 columns]"
      ]
     },
     "execution_count": 23,
     "metadata": {},
     "output_type": "execute_result"
    }
   ],
   "source": [
    "adult_df"
   ]
  },
  {
   "cell_type": "markdown",
   "id": "ed8db716-b4b9-403c-90b6-f99c2f4cd714",
   "metadata": {
    "editable": true,
    "slideshow": {
     "slide_type": ""
    },
    "tags": []
   },
   "source": [
    "今回の分類対象となる年収の分布を確認しておこう．\n",
    "下記コードを実行し，`adult_df`中の`has_high_salary`の値の分布を調べてみよう．"
   ]
  },
  {
   "cell_type": "code",
   "execution_count": 24,
   "id": "c5726a36-e1f8-41da-be24-ddf6718ced26",
   "metadata": {
    "editable": true,
    "slideshow": {
     "slide_type": ""
    },
    "tags": []
   },
   "outputs": [
    {
     "name": "stdout",
     "output_type": "stream",
     "text": [
      "False : 24720 (75.9%)\n",
      "True : 7841 (24.1%)\n"
     ]
    }
   ],
   "source": [
    "keys, counts = np.unique(adult_df[\"has_high_salary\"], return_counts=True)\n",
    "for key, count in zip(keys, counts):\n",
    "    ratio = count / len(adult_df) * 100\n",
    "    print(key, \":\", count, \"({:.1f}%)\".format(ratio))"
   ]
  },
  {
   "cell_type": "markdown",
   "id": "22e7e5cf-18ee-4940-a9b9-2e0d4ae5ba8e",
   "metadata": {
    "editable": true,
    "slideshow": {
     "slide_type": ""
    },
    "tags": []
   },
   "source": [
    "年収が5万ドル以上のレコードと5万ドル未満のレコードの比は約1:3のようである．\n",
    "データに偏りがあるので，この点を意識して分類器の構築・評価を行う必要がある．"
   ]
  },
  {
   "cell_type": "markdown",
   "id": "2fc7f482-ad5f-4247-95f9-ad3bad281c1c",
   "metadata": {
    "editable": true,
    "slideshow": {
     "slide_type": ""
    },
    "tags": []
   },
   "source": [
    "では，先に進もう．\n",
    "分類器を構築するためには，データセットを特徴データとラベルデータに分ける必要があった．\n",
    "以下のコードを実行して，特徴量に関するデータを変数`X`に，ラベルデータを変数`y`に格納する．"
   ]
  },
  {
   "cell_type": "code",
   "execution_count": 25,
   "id": "e04555a1-ab6f-487c-93dd-083b0653ce1f",
   "metadata": {
    "editable": true,
    "slideshow": {
     "slide_type": ""
    },
    "tags": []
   },
   "outputs": [],
   "source": [
    "# 最後の列の\"has_high_salary\"以外が特徴データ列\n",
    "target_features = adult_df.columns[:-1]\n",
    "X = adult_df[target_features] \n",
    "\n",
    "# ターゲットラベルは\"has_high_salary\"\n",
    "y = adult_df[\"has_high_salary\"] "
   ]
  },
  {
   "cell_type": "markdown",
   "id": "25002e47-92bb-47df-8a28-894f45d9084c",
   "metadata": {
    "editable": true,
    "slideshow": {
     "slide_type": ""
    },
    "tags": []
   },
   "source": [
    "さて，`adult_df`を表示してお気づきのとおり，今回のデータセットには「年齢」「教育年数」「週の労働時間」のような**数値データ**もあれば，「職業クラス」「婚姻ステータス」「人種」のような**カテゴリカルデータ（質的データ）** も含まれてる．\n",
    "カテゴリカルデータは数値ではないので，そのままでは数値処理を行うのが難しい．\n",
    "そのため，機械学習を行うときにはカテゴリカルデータを**one-hotベクトル（one-hot表現，ダミー変数と呼ばれることもある）** に置き換える．\n",
    "\n",
    "例えば，\n",
    "\n",
    "| ID | 年齢| 最終学歴 |\n",
    "| --- | --- | --- |\n",
    "| 1 | 38 | 大学 |\n",
    "| 2 | 58 | 高校 |\n",
    "| 3 | 27 | 大学院 |\n",
    "\n",
    "のようなデータセットがあった場合，最終学歴がカテゴリカルデータに相当する．\n",
    "このデータセットをOne-hotベクトル化すると，以下のようになる．\n",
    "\n",
    "| ID | 年齢| 最終学歴_大学 | 最終学歴_高校 |\n",
    "| --- | --- | --- | --- |\n",
    "| 1 | 38 | 1 | 0 |\n",
    "| 2 | 58 | 0 | 1 |\n",
    "| 3 | 27 | 0 | 0 | "
   ]
  },
  {
   "cell_type": "markdown",
   "id": "1767097f-d98c-44ed-8e79-004f5681fee8",
   "metadata": {
    "editable": true,
    "slideshow": {
     "slide_type": ""
    },
    "tags": []
   },
   "source": [
    "今回のデータセットもone-hotベクトル化してみよう．\n",
    "`pandas`ライブラリには，データフレームの中で指定した列をone-hotベクトルに変換してくれる便利な関数`get_dummies`がある．\n",
    "以下のコードを実行して，特徴データ`X`をone-hotベクトル化してみよう．"
   ]
  },
  {
   "cell_type": "code",
   "execution_count": 26,
   "id": "066329f1-3026-4cb2-b51d-81c4223a614a",
   "metadata": {
    "editable": true,
    "slideshow": {
     "slide_type": ""
    },
    "tags": []
   },
   "outputs": [
    {
     "data": {
      "text/html": [
       "<div>\n",
       "<style scoped>\n",
       "    .dataframe tbody tr th:only-of-type {\n",
       "        vertical-align: middle;\n",
       "    }\n",
       "\n",
       "    .dataframe tbody tr th {\n",
       "        vertical-align: top;\n",
       "    }\n",
       "\n",
       "    .dataframe thead th {\n",
       "        text-align: right;\n",
       "    }\n",
       "</style>\n",
       "<table border=\"1\" class=\"dataframe\">\n",
       "  <thead>\n",
       "    <tr style=\"text-align: right;\">\n",
       "      <th></th>\n",
       "      <th>age</th>\n",
       "      <th>education_num</th>\n",
       "      <th>capital_gain</th>\n",
       "      <th>capital_loss</th>\n",
       "      <th>hours_per_week</th>\n",
       "      <th>workclass_Local-gov</th>\n",
       "      <th>workclass_Never-worked</th>\n",
       "      <th>workclass_Private</th>\n",
       "      <th>workclass_Self-emp-inc</th>\n",
       "      <th>workclass_Self-emp-not-inc</th>\n",
       "      <th>...</th>\n",
       "      <th>native_country_Portugal</th>\n",
       "      <th>native_country_Puerto-Rico</th>\n",
       "      <th>native_country_Scotland</th>\n",
       "      <th>native_country_South</th>\n",
       "      <th>native_country_Taiwan</th>\n",
       "      <th>native_country_Thailand</th>\n",
       "      <th>native_country_Trinadad&amp;Tobago</th>\n",
       "      <th>native_country_United-States</th>\n",
       "      <th>native_country_Vietnam</th>\n",
       "      <th>native_country_Yugoslavia</th>\n",
       "    </tr>\n",
       "  </thead>\n",
       "  <tbody>\n",
       "    <tr>\n",
       "      <th>0</th>\n",
       "      <td>39</td>\n",
       "      <td>13</td>\n",
       "      <td>2174</td>\n",
       "      <td>0</td>\n",
       "      <td>40</td>\n",
       "      <td>False</td>\n",
       "      <td>False</td>\n",
       "      <td>False</td>\n",
       "      <td>False</td>\n",
       "      <td>False</td>\n",
       "      <td>...</td>\n",
       "      <td>False</td>\n",
       "      <td>False</td>\n",
       "      <td>False</td>\n",
       "      <td>False</td>\n",
       "      <td>False</td>\n",
       "      <td>False</td>\n",
       "      <td>False</td>\n",
       "      <td>True</td>\n",
       "      <td>False</td>\n",
       "      <td>False</td>\n",
       "    </tr>\n",
       "    <tr>\n",
       "      <th>1</th>\n",
       "      <td>50</td>\n",
       "      <td>13</td>\n",
       "      <td>0</td>\n",
       "      <td>0</td>\n",
       "      <td>13</td>\n",
       "      <td>False</td>\n",
       "      <td>False</td>\n",
       "      <td>False</td>\n",
       "      <td>False</td>\n",
       "      <td>True</td>\n",
       "      <td>...</td>\n",
       "      <td>False</td>\n",
       "      <td>False</td>\n",
       "      <td>False</td>\n",
       "      <td>False</td>\n",
       "      <td>False</td>\n",
       "      <td>False</td>\n",
       "      <td>False</td>\n",
       "      <td>True</td>\n",
       "      <td>False</td>\n",
       "      <td>False</td>\n",
       "    </tr>\n",
       "    <tr>\n",
       "      <th>2</th>\n",
       "      <td>38</td>\n",
       "      <td>9</td>\n",
       "      <td>0</td>\n",
       "      <td>0</td>\n",
       "      <td>40</td>\n",
       "      <td>False</td>\n",
       "      <td>False</td>\n",
       "      <td>True</td>\n",
       "      <td>False</td>\n",
       "      <td>False</td>\n",
       "      <td>...</td>\n",
       "      <td>False</td>\n",
       "      <td>False</td>\n",
       "      <td>False</td>\n",
       "      <td>False</td>\n",
       "      <td>False</td>\n",
       "      <td>False</td>\n",
       "      <td>False</td>\n",
       "      <td>True</td>\n",
       "      <td>False</td>\n",
       "      <td>False</td>\n",
       "    </tr>\n",
       "    <tr>\n",
       "      <th>3</th>\n",
       "      <td>53</td>\n",
       "      <td>7</td>\n",
       "      <td>0</td>\n",
       "      <td>0</td>\n",
       "      <td>40</td>\n",
       "      <td>False</td>\n",
       "      <td>False</td>\n",
       "      <td>True</td>\n",
       "      <td>False</td>\n",
       "      <td>False</td>\n",
       "      <td>...</td>\n",
       "      <td>False</td>\n",
       "      <td>False</td>\n",
       "      <td>False</td>\n",
       "      <td>False</td>\n",
       "      <td>False</td>\n",
       "      <td>False</td>\n",
       "      <td>False</td>\n",
       "      <td>True</td>\n",
       "      <td>False</td>\n",
       "      <td>False</td>\n",
       "    </tr>\n",
       "    <tr>\n",
       "      <th>4</th>\n",
       "      <td>28</td>\n",
       "      <td>13</td>\n",
       "      <td>0</td>\n",
       "      <td>0</td>\n",
       "      <td>40</td>\n",
       "      <td>False</td>\n",
       "      <td>False</td>\n",
       "      <td>True</td>\n",
       "      <td>False</td>\n",
       "      <td>False</td>\n",
       "      <td>...</td>\n",
       "      <td>False</td>\n",
       "      <td>False</td>\n",
       "      <td>False</td>\n",
       "      <td>False</td>\n",
       "      <td>False</td>\n",
       "      <td>False</td>\n",
       "      <td>False</td>\n",
       "      <td>False</td>\n",
       "      <td>False</td>\n",
       "      <td>False</td>\n",
       "    </tr>\n",
       "  </tbody>\n",
       "</table>\n",
       "<p>5 rows × 96 columns</p>\n",
       "</div>"
      ],
      "text/plain": [
       "   age  education_num  capital_gain  capital_loss  hours_per_week  \\\n",
       "0   39             13          2174             0              40   \n",
       "1   50             13             0             0              13   \n",
       "2   38              9             0             0              40   \n",
       "3   53              7             0             0              40   \n",
       "4   28             13             0             0              40   \n",
       "\n",
       "   workclass_Local-gov  workclass_Never-worked  workclass_Private  \\\n",
       "0                False                   False              False   \n",
       "1                False                   False              False   \n",
       "2                False                   False               True   \n",
       "3                False                   False               True   \n",
       "4                False                   False               True   \n",
       "\n",
       "   workclass_Self-emp-inc  workclass_Self-emp-not-inc  ...  \\\n",
       "0                   False                       False  ...   \n",
       "1                   False                        True  ...   \n",
       "2                   False                       False  ...   \n",
       "3                   False                       False  ...   \n",
       "4                   False                       False  ...   \n",
       "\n",
       "   native_country_Portugal  native_country_Puerto-Rico  \\\n",
       "0                    False                       False   \n",
       "1                    False                       False   \n",
       "2                    False                       False   \n",
       "3                    False                       False   \n",
       "4                    False                       False   \n",
       "\n",
       "   native_country_Scotland  native_country_South  native_country_Taiwan  \\\n",
       "0                    False                 False                  False   \n",
       "1                    False                 False                  False   \n",
       "2                    False                 False                  False   \n",
       "3                    False                 False                  False   \n",
       "4                    False                 False                  False   \n",
       "\n",
       "   native_country_Thailand  native_country_Trinadad&Tobago  \\\n",
       "0                    False                           False   \n",
       "1                    False                           False   \n",
       "2                    False                           False   \n",
       "3                    False                           False   \n",
       "4                    False                           False   \n",
       "\n",
       "   native_country_United-States  native_country_Vietnam  \\\n",
       "0                          True                   False   \n",
       "1                          True                   False   \n",
       "2                          True                   False   \n",
       "3                          True                   False   \n",
       "4                         False                   False   \n",
       "\n",
       "   native_country_Yugoslavia  \n",
       "0                      False  \n",
       "1                      False  \n",
       "2                      False  \n",
       "3                      False  \n",
       "4                      False  \n",
       "\n",
       "[5 rows x 96 columns]"
      ]
     },
     "execution_count": 26,
     "metadata": {},
     "output_type": "execute_result"
    }
   ],
   "source": [
    "# ターゲットとなるカテゴリカルデータの特徴名（列名）\n",
    "categorical_features = [\n",
    "    \"workclass\",       # 職業クラス（カテゴリカル）\n",
    "    \"education\",       # 最終学歴（カテゴリカル）\n",
    "    \"marital_status\",  # 婚姻ステータス（カテゴリカル）\n",
    "    \"occupation\",      # 職業（カテゴリカル）\n",
    "    \"relationship\",    # 家族の構成（カテゴリカル）\n",
    "    \"race\",            # 人種（カテゴリカル）\n",
    "    \"sex\",             # 性別（カテゴリカル）\n",
    "    \"native_country\",  # 母国（カテゴリカル）    \n",
    "]\n",
    "\n",
    "# Xのカテゴリカルデータ列をone-hotベクトル化\n",
    "X_ = pd.get_dummies(X, columns=categorical_features, drop_first=True)\n",
    "\n",
    "# 最初の10件を表示\n",
    "X_.head()"
   ]
  },
  {
   "cell_type": "markdown",
   "id": "38318913-74f2-4d87-8f65-5b2f2ef0a13f",
   "metadata": {
    "editable": true,
    "slideshow": {
     "slide_type": ""
    },
    "tags": []
   },
   "source": [
    "新たに得られたデータフレーム`X_`の`workclass`に関連する列に着目しよう．\n",
    "元々は列`workclass`の値として\"Local-gov\"や\"Never_worked\"があったが，one-hotベクトル化されたデータフレーム`X_`では`workclass_Local-gov`などの列が新たに生成されていることが分かる．"
   ]
  },
  {
   "cell_type": "markdown",
   "id": "e99e66dd-3edb-4945-bef9-c044e549c553",
   "metadata": {
    "editable": true,
    "slideshow": {
     "slide_type": ""
    },
    "tags": []
   },
   "source": [
    "カテゴリカルデータに対する前処理が終ったが，まだ分類器を構築することはできない．\n",
    "データの正規化を行う必要がある．\n",
    "\n",
    "One-hotベクトルは1もしくは0の値を取る．\n",
    "一方で，データフレーム`X_`には「年齢」「週の勤務時間」「資産売却益」など，連続値を取る特徴量もある．\n",
    "これらの特徴量はとり得る値の範囲やデータの分布，単位が特徴量ごとに大きく異なるため，特徴量（列）間の比較が難しくなり，機械学習の性能に悪影響が出る可能性がある．\n",
    "このような問題に対処するために，データの**スケーリング**を行おう．\n",
    "\n",
    "一般に，スケーリングの方法には\n",
    "* 正規化: 最小値-最大値でスケーリングする方法\n",
    "* 標準化: データの分布が平均0，標準偏差1になるようスケーリングする方法\n",
    "\n",
    "の2種類がよく用いられる．\n",
    "ここでは簡単のため，連続値データ列もone-hotベクトルデータ列もすべて標準化することにしよう．\n",
    "以下のコードでデータを標準化する．\n"
   ]
  },
  {
   "cell_type": "code",
   "execution_count": 27,
   "id": "6d836549-aeb0-4a8b-9452-29b1742e00fb",
   "metadata": {
    "editable": true,
    "slideshow": {
     "slide_type": ""
    },
    "tags": []
   },
   "outputs": [],
   "source": [
    "# 標準化のための変換器を用意\n",
    "scaler = preprocessing.StandardScaler()\n",
    "\n",
    "# 標準化\n",
    "X_ = pd.DataFrame(scaler.fit_transform(X_), columns=X_.columns)"
   ]
  },
  {
   "cell_type": "markdown",
   "id": "6e30b324-daf0-4793-878a-ca74ba9dc96f",
   "metadata": {
    "editable": true,
    "slideshow": {
     "slide_type": ""
    },
    "tags": []
   },
   "source": [
    "データフレーム`X_`のデータが標準化された．\n",
    "\n",
    "前処理が終わったので，K近傍法（K=5）を用いて分類器を構築してみよう．\n",
    "分類器の性能評価は，5分割の層別化交差検証，評価指標は「マクロ精度（balanced accuracy）」「適合率（precision）」の2つを用いることにする．\n",
    "\n",
    "やや長いが，下記コードを実行し，交差検証を用いて分類器の構築，性能評価をしてみよう"
   ]
  },
  {
   "cell_type": "code",
   "execution_count": 28,
   "id": "3bc283c8-e0e1-4c6f-b321-c42d6032f1c2",
   "metadata": {
    "editable": true,
    "slideshow": {
     "slide_type": ""
    },
    "tags": []
   },
   "outputs": [
    {
     "name": "stdout",
     "output_type": "stream",
     "text": [
      "\n",
      "==== Precision =====\n",
      "0.6478086618557175\n",
      "\n",
      "==== Balanced accuracy =====\n",
      "0.7379965967294305\n"
     ]
    }
   ],
   "source": [
    "# 時間計測に使う\n",
    "import time\n",
    "\n",
    "# 評価スコアを入れる場所\n",
    "accuracy_scores = []\n",
    "precision_scores = []\n",
    "\n",
    "\n",
    "# 5分割層別化交差検証\n",
    "kfold = StratifiedKFold(n_splits=5, shuffle=True)\n",
    "for train_idx, test_idx in kfold.split(X_, y):\n",
    "    # train_idx, test_idxには，データフレーム中の何番目のデータを用いるかのリストが入っている．\n",
    "    # 3つの分類器に対して同じデータを用いて評価すること．\n",
    "    X_train = X_.iloc[train_idx]\n",
    "    X_test = X_.iloc[test_idx]\n",
    "    y_train = y.iloc[train_idx]\n",
    "    y_test = y.iloc[test_idx]\n",
    "    \n",
    "    # 学習\n",
    "    model = KNeighborsClassifier(n_neighbors=5, metric=\"euclidean\")\n",
    "    model.fit(X_train, y_train)\n",
    "    \n",
    "    # 推論\n",
    "    y_predicted = model.predict(X_test)\n",
    "    \n",
    "    # 評価スコアの計算\n",
    "    precision = precision_score(y_test, y_predicted)\n",
    "    precision_scores.append(precision)          \n",
    "    accuracy = balanced_accuracy_score(y_test, y_predicted)\n",
    "    accuracy_scores.append(accuracy)\n",
    "    \n",
    "    \n",
    "# 交差検証の結果を平均して，最終の性能評価を算出\n",
    "print(\"\\n==== Precision =====\")\n",
    "print(np.mean(precision_scores))\n",
    "    \n",
    "print(\"\\n==== Balanced accuracy =====\")\n",
    "print(np.mean(accuracy_scores))"
   ]
  },
  {
   "cell_type": "markdown",
   "id": "3eece034-aa6e-4f8f-bb83-75f55639c98c",
   "metadata": {
    "editable": true,
    "slideshow": {
     "slide_type": ""
    },
    "tags": []
   },
   "source": [
    "評価に用いたデータには年収の分布に偏りがあったため，どのカテゴリにも満遍なく予測ができるかを確認したいのであれば，適合率よりもマクロ精度をより重視した方がよい．\n",
    "今回のHands-onコードでは，単純な手法であるK近傍法もそこまで悪くない性能を示している．\n",
    "ハイパーパラメータの調整はしなかったので，どの分類器ももう少し性能改善の余地はあるだろう．"
   ]
  },
  {
   "cell_type": "markdown",
   "id": "7ac84d3d-a368-4d55-9981-73e99970ac6c",
   "metadata": {
    "editable": true,
    "slideshow": {
     "slide_type": ""
    },
    "tags": []
   },
   "source": [
    "---\n",
    "\n",
    "# クイズ\n",
    "\n",
    "※ 以下のクイズの回答にGoogle Colaboratoryを使いたい方は[コチラ](https://colab.research.google.com/github/hontolab-courses/ml-lecturenote/blob/main/content/quiz/knn-and-ml-flow.ipynb)をクリック．\n"
   ]
  },
  {
   "cell_type": "markdown",
   "id": "fdc80ee5-1e02-4978-b08f-2b53de5527ee",
   "metadata": {
    "editable": true,
    "slideshow": {
     "slide_type": ""
    },
    "tags": []
   },
   "source": [
    "(L5-Q1)=\n",
    "### Q1: 崩し字データのダウンロード\n",
    "\n",
    "[Kuzushiji-MNIST](https://github.com/rois-codh/kmnist)は，[ROIS-DS人文学オープンデータ共同利用センター](https://codh.rois.ac.jp/index.html.ja)が公開している日本語[くずし字](https://ja.wikipedia.org/wiki/%E3%81%8F%E3%81%9A%E3%81%97%E5%AD%97)の画像データセットである（画像出典:[GitHubのkmnistレポジトリより参照](https://github.com/rois-codh/kmnist)）．\n",
    "\n",
    "![Kuzushiji MNIST](https://github.com/rois-codh/kmnist/raw/master/images/kmnist_examples.png)\n",
    "\n",
    "クイズに取り組むに先だって以下のコードを実行し，下記4つのデータファイルをダウンロードしなさい．\n",
    "- `k49-test-imgs.npz`: （評価用）画像データ\n",
    "- `k49-test-labels.npz`: （評価用）ラベルデータ\n",
    "- `k49_classmap.csv`: ラベル数字と文字の対応関係に関するCSVファイル"
   ]
  },
  {
   "cell_type": "code",
   "execution_count": null,
   "id": "8a78666d-eb3b-4dde-b2ec-0c00408bb87d",
   "metadata": {
    "editable": true,
    "slideshow": {
     "slide_type": ""
    },
    "tags": [
     "remove-output"
    ]
   },
   "outputs": [],
   "source": [
    "!curl -o data/k49/k49-test-imgs.npz --create-dirs https://codh.rois.ac.jp/kmnist/dataset/k49/k49-test-imgs.npz\n",
    "!curl -o data/k49/k49-test-labels.npz --create-dirs https://codh.rois.ac.jp/kmnist/dataset/k49/k49-test-labels.npz\n",
    "!curl -o data/k49/k49_classmap.csv --create-dirs http://codh.rois.ac.jp/kmnist/dataset/k49/k49_classmap.csv"
   ]
  },
  {
   "cell_type": "code",
   "execution_count": null,
   "id": "0cc0e91d-3ccd-432c-bbde-d541bb019df3",
   "metadata": {
    "editable": true,
    "slideshow": {
     "slide_type": ""
    },
    "tags": [
     "remove-output"
    ]
   },
   "outputs": [],
   "source": [
    "!curl -o data/kmnist/kmnist-test-imgs.npz --create-dirs https://codh.rois.ac.jp/kmnist/dataset/kmnist/kmnist-test-imgs.npz\n",
    "!curl -o data/kmnist/kmnist-test-labels.npz --create-dirs https://codh.rois.ac.jp/kmnist/dataset/kmnist/kmnist-test-labels.npz\n",
    "!curl -o data/kmnist/kmnist_classmap.csv --create-dirs https://codh.rois.ac.jp/kmnist/dataset/kmnist/kmnist_classmap.csv"
   ]
  },
  {
   "cell_type": "markdown",
   "id": "2c594b99-3c77-45cf-8327-bb3749ca71cd",
   "metadata": {
    "editable": true,
    "slideshow": {
     "slide_type": ""
    },
    "tags": []
   },
   "source": [
    "ファイルのダウンロード後，下記コードを実行し，変数`X`に画像データ，変数`y`にラベルデータを格納しなさい．"
   ]
  },
  {
   "cell_type": "code",
   "execution_count": null,
   "id": "e997b5a2-eb1a-491f-8cb5-0b50a903c69d",
   "metadata": {
    "editable": true,
    "slideshow": {
     "slide_type": ""
    },
    "tags": []
   },
   "outputs": [],
   "source": [
    "import numpy as np\n",
    "\n",
    "X = np.load('data/k49/k49-test-imgs.npz')['arr_0'].reshape(-1, 28 * 28)\n",
    "y = np.load('data/k49/k49-test-labels.npz')['arr_0']"
   ]
  },
  {
   "cell_type": "markdown",
   "id": "a27e31ae-a3e1-451c-8d7c-2b284479625c",
   "metadata": {
    "editable": true,
    "slideshow": {
     "slide_type": ""
    },
    "tags": []
   },
   "source": [
    "(L5-Q2)=\n",
    "### Q2: データの確認\n",
    "\n",
    "変数`X`に格納された2025番目のくずし字を28行28列の行列形式，画像形式のそれぞれで表示せよ．"
   ]
  },
  {
   "cell_type": "markdown",
   "id": "23485c75-1124-467c-ba07-859bb3557a60",
   "metadata": {
    "editable": true,
    "slideshow": {
     "slide_type": ""
    },
    "tags": []
   },
   "source": [
    "(L5-Q3)=\n",
    "### Q3: ラベルデータの分布\n",
    "\n",
    "変数`y`に格納された各ラベルについて，その出現頻度を求めなさい．\n",
    "なお，`y`のラベルはラベル番号であるため，可能なら`k49_classmap.csv`を用いてラベル番号を文字に置き換えること．"
   ]
  },
  {
   "cell_type": "markdown",
   "id": "aa0a21a1-f607-4f46-9b49-b7f2904c5f9b",
   "metadata": {
    "editable": true,
    "slideshow": {
     "slide_type": ""
    },
    "tags": []
   },
   "source": [
    "(L5-Q4)=\n",
    "### Q4: くずし字画像分類に対するK近傍法の瀬能\n",
    "変数`X`，`y`とK近傍法を用いて，くずし字画像の分類器を構築し，交差検証によって分類性能を評価しなさい．\n",
    "なお，K近傍法のパラメータ`K`は5，交差検証時のデータ分割数は`5`としなさい．"
   ]
  },
  {
   "cell_type": "markdown",
   "id": "3e3901c5-e434-4614-bbff-133e823ed404",
   "metadata": {
    "editable": true,
    "slideshow": {
     "slide_type": ""
    },
    "tags": []
   },
   "source": [
    "(L5-Q5)=\n",
    "### Q5: 最適パラメータの探索\n",
    "Q4で構築したくずし字画像分類器について，K近傍法のパラメータ`K`を2から9までひとつずつ変化させながら分類性能を評価し，最適なパラメータ`K`を求めなさい．"
   ]
  }
 ],
 "metadata": {
  "kernelspec": {
   "display_name": "Python 3 (ipykernel)",
   "language": "python",
   "name": "python3"
  },
  "language_info": {
   "codemirror_mode": {
    "name": "ipython",
    "version": 3
   },
   "file_extension": ".py",
   "mimetype": "text/x-python",
   "name": "python",
   "nbconvert_exporter": "python",
   "pygments_lexer": "ipython3",
   "version": "3.10.9"
  }
 },
 "nbformat": 4,
 "nbformat_minor": 5
}
