{
 "cells": [
  {
   "cell_type": "markdown",
   "id": "ec84b77a-881c-4f4d-846f-51e33e1e5cea",
   "metadata": {
    "editable": true,
    "slideshow": {
     "slide_type": ""
    },
    "tags": []
   },
   "source": [
    "# サポートベクターマシン"
   ]
  },
  {
   "cell_type": "markdown",
   "id": "a91921de-ab3e-4bfd-b18a-7181f4c7b6d0",
   "metadata": {
    "editable": true,
    "slideshow": {
     "slide_type": ""
    },
    "tags": []
   },
   "source": [
    "このHands-onでは下記2種類のデータを用いて，サポートベクターマシンについて体験する．\n",
    "\n",
    "* 手書き数字画像（[第6章](/content/knn-and-ml-flow.ipynb)のHands-onでも用いたデータ）\n",
    "* 人工的に作られたある2次元データ\n",
    "\n",
    "Hands-onに先立って，必要なライブラリを読み込んでおこう．"
   ]
  },
  {
   "cell_type": "code",
   "execution_count": 1,
   "id": "c7deeab7-4ace-40dd-bdaa-5d5d2b3a4b14",
   "metadata": {
    "editable": true,
    "slideshow": {
     "slide_type": ""
    },
    "tags": []
   },
   "outputs": [],
   "source": [
    "# 表形式のデータを操作するためのライブラリ\n",
    "import pandas as pd\n",
    "\n",
    "# 行列計算をおこなうためのライブラリ\n",
    "import numpy as np\n",
    "\n",
    "# データセット\n",
    "from sklearn import datasets\n",
    "\n",
    "# K近傍法を実行するためのクラス\n",
    "from sklearn.neighbors import KNeighborsClassifier\n",
    "\n",
    "# 決定木を実行するためのクラス\n",
    "from sklearn.tree import DecisionTreeClassifier\n",
    "\n",
    "# サポートベクターマシンを実行するためのモジュール\n",
    "from sklearn import svm\n",
    "\n",
    "# データ変換のためのクラス\n",
    "import sklearn.preprocessing as preprocessing\n",
    "\n",
    "# 交差検証を行うためのクラス\n",
    "from sklearn.model_selection import StratifiedKFold\n",
    "from sklearn.model_selection import cross_validate\n",
    "\n",
    "# 評価指標（マクロ精度）\n",
    "from sklearn.metrics import balanced_accuracy_score\n",
    "from sklearn.metrics import accuracy_score, precision_score\n",
    "\n",
    "# グラフ描画ライブラリ\n",
    "import matplotlib.pyplot as plt\n",
    "import seaborn as sns\n",
    "%matplotlib inline"
   ]
  },
  {
   "cell_type": "markdown",
   "id": "ae5b8f34-9c85-412b-8d66-538af66a08f5",
   "metadata": {
    "editable": true,
    "slideshow": {
     "slide_type": ""
    },
    "tags": []
   },
   "source": [
    "---\n",
    "(L7-S1)=\n",
    "## 例題1: MNIST手書き数字データ\n",
    "\n",
    "例題1では，K近傍法のHands-onで用いた[MNISTデータセット](https://ja.wikipedia.org/wiki/MNIST%E3%83%87%E3%83%BC%E3%82%BF%E3%83%99%E3%83%BC%E3%82%B9)を用いて，手書き数字の識別するサポートベクターマシン分類器を構築しよう．\n",
    "データセットの詳細は[前回のHands-on](/content/knn-and-ml-flow.ipynb)を参照のこと．\n",
    "\n",
    "それでは，以下のコードを実行してMNISTデータセットを読み込もう．"
   ]
  },
  {
   "cell_type": "code",
   "execution_count": 2,
   "id": "278ca3da-ec8c-409c-ae5e-f5917d49f411",
   "metadata": {
    "editable": true,
    "slideshow": {
     "slide_type": ""
    },
    "tags": []
   },
   "outputs": [],
   "source": [
    "mnist_dataset = datasets.load_digits()\n",
    "X_mnist = mnist_dataset.data\n",
    "y_mnist = mnist_dataset.target"
   ]
  },
  {
   "cell_type": "markdown",
   "id": "5ed1e63c-f0ff-4053-9de9-1f63c7fa81a7",
   "metadata": {
    "editable": true,
    "slideshow": {
     "slide_type": ""
    },
    "tags": []
   },
   "source": [
    "前回の「K近傍法」の授業では，機械学習を実際に行う際には\n",
    "* 前処理\n",
    "* 学習･評価の流れ\n",
    "* 評価手法\n",
    "\n",
    "に関するお作法があることを学んだ．\n",
    "K近傍法や機械学習のお作法の復習のために，まずはK近傍法を使ってMNISTの分類器の構築・評価を行ってみよう．\n",
    "今回は5分割交差検証を行い，評価手法にはマクロ精度（Balanced Accuracy）を用いることにする．\n",
    "\n",
    "下記コードは，MNISTデータセットにK近傍法を適用する例である．"
   ]
  },
  {
   "cell_type": "code",
   "execution_count": 3,
   "id": "2ab00591-7572-4aba-a33f-3aeef52a1f35",
   "metadata": {
    "editable": true,
    "slideshow": {
     "slide_type": ""
    },
    "tags": []
   },
   "outputs": [
    {
     "name": "stdout",
     "output_type": "stream",
     "text": [
      "Balanced accuracy:  0.9870943800943801\n"
     ]
    }
   ],
   "source": [
    "# 5分割「層別化」交差検証の準備（乱数を固定）\n",
    "k_fold = StratifiedKFold(n_splits=5, shuffle=True, random_state=12345)\n",
    "\n",
    "# 評価指標（マクロ精度）\n",
    "score_funcs = ['balanced_accuracy']\n",
    "\n",
    "# K近傍法のモデルの定義（K=5で設定）\n",
    "K = 5\n",
    "knn_model = KNeighborsClassifier(n_neighbors=K, metric=\"euclidean\")\n",
    "\n",
    "# 交差検証をしながら分類器を構築・評価\n",
    "results = cross_validate(knn_model, X_mnist, y_mnist, cv=k_fold, scoring=score_funcs)\n",
    "\n",
    "# 交差検証の評価スコアを平均としてまとめる\n",
    "print(\"Balanced accuracy: \", np.mean(results['test_balanced_accuracy']))"
   ]
  },
  {
   "cell_type": "markdown",
   "id": "c2b396d7-89b2-4216-ba23-910a164ecf1a",
   "metadata": {
    "editable": true,
    "slideshow": {
     "slide_type": ""
    },
    "tags": []
   },
   "source": [
    "マクロ精度は98.7\\%程度になった．\n",
    "K近傍法でも十分な分類性能を発揮することが分かる．\n",
    "\n",
    "次はサポートベクターマシンで手書き数字画像の分類器を構築・評価してみよう．\n",
    "機械学習万能ライブラリである`sklearn`は，サポートベクターマシンに関するクラスも提供している．\n",
    "`sklearn`ではサポートベクターマシンに関連するクラスとして\n",
    "* 分類問題を扱うための`svm.SVC`クラス\n",
    "* 回帰問題を扱うための`svm.SVR`クラス\n",
    "\n",
    "の2種類を提供している．\n",
    "今回は分類問題を扱うので，`svm.SVC`クラスを用いる．\n",
    "今回はカーネルトリックは使わず，単純な線形サポートベクターマシンを使ってみよう．\n",
    "\n",
    "`sklearn`ライブラリを使えば，上のK近傍法コードをたった一行変えるだけで，サポートベクターマシンによる分類器の構築・評価ができてしまう．\n",
    "以下，修正したコードを実行してみよう．"
   ]
  },
  {
   "cell_type": "code",
   "execution_count": 4,
   "id": "8dc74c9a-fcce-485b-b863-e0d027ec878d",
   "metadata": {
    "editable": true,
    "slideshow": {
     "slide_type": ""
    },
    "tags": []
   },
   "outputs": [
    {
     "name": "stdout",
     "output_type": "stream",
     "text": [
      "Balanced accuracy:  0.9787107780048956\n"
     ]
    }
   ],
   "source": [
    "k_fold = StratifiedKFold(n_splits=5, shuffle=True, random_state=12345)\n",
    "score_funcs = ['balanced_accuracy']\n",
    "\n",
    "# 線形サポートベクターマシン（ここが修正点）\n",
    "svm_model = svm.SVC(kernel='linear')\n",
    "\n",
    "results = cross_validate(svm_model, X_mnist, y_mnist, cv=k_fold, scoring=score_funcs)\n",
    "print(\"Balanced accuracy: \", np.mean(results['test_balanced_accuracy']))"
   ]
  },
  {
   "cell_type": "markdown",
   "id": "54e2e6d3-a9c0-4e76-9e5e-5e4d73a57d14",
   "metadata": {
    "editable": true,
    "slideshow": {
     "slide_type": ""
    },
    "tags": []
   },
   "source": [
    "サポートベクターマシンを用いたときのマクロ精度は98%程度になった．\n",
    "MNISTデータセットの分類問題に関しては，サポートベクターマシンとK近傍法の性能は同程度のようだ．"
   ]
  },
  {
   "cell_type": "markdown",
   "id": "5717c584-6818-43a4-8e15-780c136bb7c1",
   "metadata": {
    "editable": true,
    "slideshow": {
     "slide_type": ""
    },
    "tags": []
   },
   "source": [
    "---\n",
    "(L7-Sec2)=\n",
    "## 例題2: 線形分離不可能なデータに対するサポートベクターマシン"
   ]
  },
  {
   "cell_type": "markdown",
   "id": "e95ab12b-dbc0-4efb-8231-6fea7812d731",
   "metadata": {
    "editable": true,
    "slideshow": {
     "slide_type": ""
    },
    "tags": []
   },
   "source": [
    "次の例題では，人工的な2次元データの分類問題を扱う．\n",
    "まずは以下のコードを実行して，今回の例題で用いるデータを読み込もう．"
   ]
  },
  {
   "cell_type": "code",
   "execution_count": 5,
   "id": "a4bb6ab1-0a49-419b-af7b-51a2b67ca24c",
   "metadata": {
    "editable": true,
    "slideshow": {
     "slide_type": ""
    },
    "tags": []
   },
   "outputs": [
    {
     "data": {
      "image/png": "[encoded data removed]",
      "text/plain": [
       "<Figure size 640x480 with 1 Axes>"
      ]
     },
     "metadata": {},
     "output_type": "display_data"
    }
   ],
   "source": [
    "from sklearn.datasets import make_circles, make_moons\n",
    "moons = make_circles(n_samples=300, noise=0.1, factor=0.6, random_state=777)\n",
    "\n",
    "X_moon = moons[0]\n",
    "y_moon = moons[1]\n",
    "\n",
    "ax = sns.scatterplot(x=X_moon[:, 0], y=X_moon[:, 1], hue=y_moon)\n",
    "ax.set_xlabel('x1')\n",
    "ax.set_ylabel('x2')\n",
    "plt.show()"
   ]
  },
  {
   "cell_type": "markdown",
   "id": "47440699-0eb7-4b28-aa33-ffc7056687cf",
   "metadata": {
    "editable": true,
    "slideshow": {
     "slide_type": ""
    },
    "tags": []
   },
   "source": [
    "今回用いるデータは，授業でも扱った「ドーナツ型」のデータ分布をしている．\n",
    "内側にオレンジ色の点（ラベル1）が，外側に青色の点（ラベル0）が分布している．\n",
    "これらデータを用いて，データがラベル1かラベル0かを分類する分類器を構築してみよう．\n",
    "\n",
    "まず，線形SVMを用いて分類器を構築・評価してみよう．\n",
    "以下のように例題1のコードをほぼそのまま流用することで，線形SVMの学習・評価ができる．"
   ]
  },
  {
   "cell_type": "code",
   "execution_count": 6,
   "id": "dce925d1-584b-419e-ba9c-b4ff11b88818",
   "metadata": {
    "editable": true,
    "slideshow": {
     "slide_type": ""
    },
    "tags": []
   },
   "outputs": [
    {
     "name": "stdout",
     "output_type": "stream",
     "text": [
      "Precision:  0.4916286178314683\n",
      "Recall:  0.49333333333333335\n"
     ]
    }
   ],
   "source": [
    "k_fold = StratifiedKFold(n_splits=5, shuffle=True, random_state=12345)\n",
    "\n",
    "# 今回は評価指標として適合率（precision）と再現率（recall）を使用\n",
    "score_funcs = ['precision_macro', 'recall_macro']\n",
    "\n",
    "# 線形サポートベクターマシン（ここが修正点）\n",
    "svm_model = svm.SVC(kernel='linear')\n",
    "\n",
    "results = cross_validate(svm_model, X_moon, y_moon, cv=k_fold, scoring=score_funcs)\n",
    "print(\"Precision: \", np.mean(results['test_precision_macro']))\n",
    "print(\"Recall: \", np.mean(results['test_recall_macro']))"
   ]
  },
  {
   "cell_type": "markdown",
   "id": "86e2b17c-1633-41b5-a9d8-545e8e623661",
   "metadata": {
    "editable": true,
    "slideshow": {
     "slide_type": ""
    },
    "tags": []
   },
   "source": [
    "適合率も再現率も49\\%なので，デタラメにラベルを答える場合とほぼ性能が分からないと言える．\n",
    "授業でも説明したが，素のサポートベクターマシン（線形SVM）は，今回用いるデータセットのような**線形分離不可能**な分類問題にはうまく対応できない．\n",
    "このような場合は，データを高次元に写像することでうまく対応できる可能性がある．\n",
    "\n",
    "普通の流れならここでカーネルトリックを用いた非線形SVMを用いるのだが，少し寄り道をしよう．\n",
    "手動でデータを高次元に写像し，そのデータに対して線形SVMを適用してみよう．\n",
    "\n",
    "今回用いたデータは2次元データであった．\n",
    "ここで，1次元目の要素を$x_1$，2次元目の要素を$x_2$としたとき，3次元目の要素として$\\sqrt{x_1^2+x_2^2}$をデータに追加しよう．\n",
    "以下はそのためのコードである．"
   ]
  },
  {
   "cell_type": "code",
   "execution_count": 7,
   "id": "04afea45-77cd-4696-a0ff-af94164444f5",
   "metadata": {
    "editable": true,
    "slideshow": {
     "slide_type": ""
    },
    "tags": []
   },
   "outputs": [
    {
     "data": {
      "text/plain": [
       "array([[ 0.22518032,  0.8642077 ,  0.89306278],\n",
       "       [ 0.96372889, -0.22060904,  0.98865653],\n",
       "       [ 0.38431474, -0.4575082 ,  0.59750445],\n",
       "       [ 0.23280386, -1.08479306,  1.10949251],\n",
       "       [ 0.54765035, -0.73467811,  0.91633664],\n",
       "       [ 0.48637921,  0.10255874,  0.49707447],\n",
       "       [-1.02809832,  0.07486352,  1.0308204 ],\n",
       "       [-0.84914995, -0.54263203,  1.00772276],\n",
       "       [-0.69927825,  0.70696368,  0.99437805],\n",
       "       [-0.4580985 , -1.02554963,  1.12321248]])"
      ]
     },
     "execution_count": 7,
     "metadata": {},
     "output_type": "execute_result"
    }
   ],
   "source": [
    "X_moon_new = np.insert(X_moon, 2, np.sqrt(X_moon[:, 0]**2+X_moon[:, 1]**2), axis=1)\n",
    "\n",
    "# データの末尾10件のみ表示\n",
    "X_moon_new[-10:, :]"
   ]
  },
  {
   "cell_type": "markdown",
   "id": "cfec45ff-a74b-4617-91a9-8a266132d1d4",
   "metadata": {
    "editable": true,
    "slideshow": {
     "slide_type": ""
    },
    "tags": []
   },
   "source": [
    "3次元目の要素がデータに追加された．\n",
    "新たに作った`X_new`を使って，再度サポートベクターマシンを適用してみよう．\n",
    "以下，そのコード例である．"
   ]
  },
  {
   "cell_type": "code",
   "execution_count": 8,
   "id": "bb6f8166-4fca-4948-b8da-c290c9de02c9",
   "metadata": {
    "editable": true,
    "slideshow": {
     "slide_type": ""
    },
    "tags": []
   },
   "outputs": [
    {
     "name": "stdout",
     "output_type": "stream",
     "text": [
      "Precision:  0.9636484983314795\n",
      "Recall:  0.9633333333333335\n"
     ]
    }
   ],
   "source": [
    "k_fold = StratifiedKFold(n_splits=5, shuffle=True, random_state=12345)\n",
    "score_funcs = ['precision_macro', 'recall_macro']\n",
    "svm_model = svm.SVC(kernel='linear')\n",
    "\n",
    "# XをX_newに修正\n",
    "results = cross_validate(svm_model, X_moon_new, y_moon, cv=k_fold, scoring=score_funcs)\n",
    "print(\"Precision: \", np.mean(results['test_precision_macro']))\n",
    "print(\"Recall: \", np.mean(results['test_recall_macro']))"
   ]
  },
  {
   "cell_type": "markdown",
   "id": "6a74a20b-f6ff-4098-8b68-15aff482cea2",
   "metadata": {
    "editable": true,
    "slideshow": {
     "slide_type": ""
    },
    "tags": []
   },
   "source": [
    "適合率も再現率も大幅に向上した．\n",
    "今回のデータは円の形に分布していたので，3時限目のデータとして円の半径に相当するような要素を追加した．\n",
    "それが功を奏して分類器の性能が向上した．\n",
    "\n",
    "しかし，このような都合の良いの高次元写像をデータに応じて地力で見つけるのは容易ではない．\n",
    "こんなときに有用なのが**カーネルトリックを用いた非線形SVM**である．\n",
    "例題の締めとして，**RBFカーネルを用いた非線形SVM**による分類器の構築・評価を行ってみよう．\n",
    "\n",
    "`sklearn`ライブラリを用いれば，非線形SVMも簡単に実行できてしまう．\n",
    "今回はパラメータチューニングはせず，デフォルトの状態でRBFカーネルを用いてみよう．\n",
    "以下のコードを実行して，（手動で高次元化していない）元のデータを用いた学習・評価を行ってみよう．"
   ]
  },
  {
   "cell_type": "code",
   "execution_count": 9,
   "id": "c2043209-9139-4026-b247-e74c861652d6",
   "metadata": {
    "editable": true,
    "slideshow": {
     "slide_type": ""
    },
    "tags": []
   },
   "outputs": [
    {
     "name": "stdout",
     "output_type": "stream",
     "text": [
      "Precision:  0.9638575268817204\n",
      "Recall:  0.9633333333333335\n"
     ]
    }
   ],
   "source": [
    "k_fold = StratifiedKFold(n_splits=5, shuffle=True, random_state=12345)\n",
    "score_funcs = ['precision_macro', 'recall_macro']\n",
    "\n",
    "# カーネルにRBFカーネルを指定\n",
    "svm_model = svm.SVC(kernel='rbf')\n",
    "\n",
    "# 交差検証\n",
    "results = cross_validate(svm_model, X_moon, y_moon, cv=k_fold, scoring=score_funcs)\n",
    "\n",
    "print(\"Precision: \", np.mean(results['test_precision_macro']))\n",
    "print(\"Recall: \", np.mean(results['test_recall_macro']))"
   ]
  },
  {
   "cell_type": "markdown",
   "id": "6c72f00c-5e7e-4a8c-bcfe-30af8431e141",
   "metadata": {
    "editable": true,
    "slideshow": {
     "slide_type": ""
    },
    "tags": []
   },
   "source": [
    "データを手動で高次元空間に写像しなくても，RBFカーネルが良い具合に振る舞ってくれた．"
   ]
  },
  {
   "cell_type": "markdown",
   "id": "ca302560-22ee-4cf1-ba89-410798082ffb",
   "metadata": {
    "editable": true,
    "slideshow": {
     "slide_type": ""
    },
    "tags": []
   },
   "source": [
    "---\n",
    "\n",
    "## クイズ\n",
    "\n",
    "※ 以下のクイズの回答にGoogle Colaboratoryを使いたい方は[コチラ](https://colab.research.google.com/github/hontolab-courses/ml-lecturenote/blob/main/content/quiz/svm.ipynb)をクリック．\n"
   ]
  },
  {
   "cell_type": "markdown",
   "id": "b418b808-9f3b-4abc-ae94-be45a1c87ec7",
   "metadata": {
    "editable": true,
    "slideshow": {
     "slide_type": ""
    },
    "tags": []
   },
   "source": [
    "(L7-Q1)=\n",
    "### Q1: 実行時間の計測\n",
    "\n",
    "機械学習モデルの交差検証を簡単に行ってくれる`sklearn`ライブラリの`cross_validate`関数は，その返値（辞書）には\n",
    "- 学習の所要時間（`fit_time`）\n",
    "- 評価（推論）の所要時間（`score_time`）\n",
    "\n",
    "に関する情報が格納されている（[参考](https://scikit-learn.org/stable/modules/generated/sklearn.model_selection.cross_validate.html)）．\n",
    "\n",
    "この情報を用いて，[例題1](#L7-S1)におけるMNIST分類器を\n",
    "1. 多項式カーネル（`kernel='poly'`）を用いたサポートベクターマシン\n",
    "2. K近傍法（`K=5`）\n",
    "3. 決定木\n",
    "\n",
    "の3つの機械学習手法で構築した際の\n",
    "\n",
    "- 分類器の性能\n",
    "- 分類器の構築（学習）にかかる時間\n",
    "- 分類器の評価（推論）にかかる時間\n",
    "    \n",
    "について比較を行いなさい．"
   ]
  },
  {
   "cell_type": "markdown",
   "id": "83b4efff-663d-4c7c-b313-b3955a836a07",
   "metadata": {
    "editable": true,
    "slideshow": {
     "slide_type": ""
    },
    "tags": []
   },
   "source": [
    "(L7-Q2)=\n",
    "### Q2: 年収カテゴリ分類の性能比較\n",
    "\n",
    "Q1で行った同様の比較を，[第6章](/content/knn-and-ml-flow.ipynb)のクイズで取り組んだ[年収カテゴリ分類問題](#L6-S3)に対して行いなさい．"
   ]
  }
 ],
 "metadata": {
  "kernelspec": {
   "display_name": "Python 3 (ipykernel)",
   "language": "python",
   "name": "python3"
  },
  "language_info": {
   "codemirror_mode": {
    "name": "ipython",
    "version": 3
   },
   "file_extension": ".py",
   "mimetype": "text/x-python",
   "name": "python",
   "nbconvert_exporter": "python",
   "pygments_lexer": "ipython3",
   "version": "3.10.13"
  }
 },
 "nbformat": 4,
 "nbformat_minor": 5
}
