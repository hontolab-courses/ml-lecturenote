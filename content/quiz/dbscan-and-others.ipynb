{
 "cells": [
  {
   "cell_type": "markdown",
   "metadata": {
    "editable": true,
    "slideshow": {
     "slide_type": ""
    },
    "tags": [],
    "user_expressions": []
   },
   "source": [
    "# DBSCAN & クラスタリングの実用上の問題"
   ]
  },
  {
   "cell_type": "code",
   "execution_count": 1,
   "metadata": {
    "editable": true,
    "slideshow": {
     "slide_type": ""
    },
    "tags": [
     "remove-output"
    ]
   },
   "outputs": [],
   "source": [
    "# 表形式のデータを操作するためのライブラリ\n",
    "import pandas as pd\n",
    "\n",
    "# 行列計算をおこなうためのライブラリ\n",
    "import numpy as np\n",
    "\n",
    "# 機械学習用ライブラリsklearnのKmeansクラス\n",
    "from sklearn.cluster import KMeans\n",
    "\n",
    "# 機械学習用ライブラリsklearnのDBSCANクラス\n",
    "from sklearn.cluster import DBSCAN\n",
    "\n",
    "# グラフ描画ライブラリ\n",
    "import matplotlib.pyplot as plt\n",
    "import matplotlib.colors as mcolors\n",
    "import seaborn as sns;\n",
    "sns.set(style='ticks')\n",
    "%matplotlib inline\n",
    "\n",
    "# ファイルの操作用\n",
    "import os\n",
    "\n",
    "\n",
    "# 警告文を表示させないおまじない\n",
    "import warnings\n",
    "warnings.filterwarnings('ignore')"
   ]
  },
  {
   "cell_type": "markdown",
   "metadata": {
    "editable": true,
    "slideshow": {
     "slide_type": ""
    },
    "tags": [],
    "user_expressions": []
   },
   "source": [
    "\n",
    "---\n",
    "## クイズ"
   ]
  },
  {
   "cell_type": "markdown",
   "metadata": {
    "editable": true,
    "slideshow": {
     "slide_type": ""
    },
    "tags": []
   },
   "source": [
    "(L4-Q1)=\n",
    "### Q1: クラスタ内誤差平方和\n",
    "\n",
    "[第3章で用いた人工データ](https://mlnote.hontolab.org/content/kmeans-and-hierarchical-clustering.html)（University of Eastern Finlandの計算学部が公開しているデータセット）に対して，K-meansクラスタリングを適用することを考える．\n",
    "データを可視化すれば最適なクラスタ数は推測できるが，ここでは最適なクラスタ数は未知であると仮定する．\n",
    "\n",
    "当該データをデータフレームに変換し，変数`s1_df`に格納しなさい．\n",
    "さらに，クラスタ数を3（`K=3`）として`s1_df`にK-meansクラスタリングを適用し，クラスタ内誤差平方和（SSE）を計算しなさい．\n",
    "\n",
    "※ ヒント: scikit-learnライブラリを用いた場合，SSEの値はクラスタリング実行後，モデルの`inertia_`プロパティにアクセスすれば取得できる（[参考](https://scikit-learn.org/stable/modules/generated/sklearn.cluster.KMeans.html)）．"
   ]
  },
  {
   "cell_type": "code",
   "execution_count": 2,
   "metadata": {
    "editable": true,
    "slideshow": {
     "slide_type": ""
    },
    "tags": []
   },
   "outputs": [],
   "source": [
    "# Write your code\n",
    "\n"
   ]
  },
  {
   "cell_type": "markdown",
   "metadata": {
    "editable": true,
    "slideshow": {
     "slide_type": ""
    },
    "tags": []
   },
   "source": [
    "(L4-Q2)=\n",
    "### Q2: エルボー法によるクラスタ数の決定\n",
    "\n",
    "Q1におけるクラスタ数`K`の値を1から20まで1ずつ変化させ，それぞれの`K`におけるクラスタ内誤差平方和を求めなさい．"
   ]
  },
  {
   "cell_type": "code",
   "execution_count": 3,
   "metadata": {
    "editable": true,
    "slideshow": {
     "slide_type": ""
    },
    "tags": []
   },
   "outputs": [],
   "source": [
    "# Write your code\n",
    "\n"
   ]
  },
  {
   "cell_type": "markdown",
   "metadata": {
    "editable": true,
    "slideshow": {
     "slide_type": ""
    },
    "tags": []
   },
   "source": [
    "(L4-Q3)=\n",
    "### Q3: エルボー法によるクラスタ数の決定\n",
    "\n",
    "Q2で計算したクラスタ内誤差平方和の値とエルボー法を用いて，Q1のデータにK-meansを適用する際の最適なクラスタ数を決めなさい．"
   ]
  },
  {
   "cell_type": "code",
   "execution_count": 4,
   "metadata": {
    "editable": true,
    "slideshow": {
     "slide_type": ""
    },
    "tags": []
   },
   "outputs": [],
   "source": [
    "# Write your code\n",
    "\n"
   ]
  },
  {
   "cell_type": "markdown",
   "metadata": {
    "editable": true,
    "slideshow": {
     "slide_type": ""
    },
    "tags": [],
    "user_expressions": []
   },
   "source": [
    "---\n",
    "## おまけクイズ\n",
    "\n",
    "### Q4: データ間の距離\n",
    "\n",
    "以下の関数`generate`は，各次元の定義域が$[-1, 1]$であるN次元空間に$K個のデータをランダムに生成する関数である．\n",
    "`generate`関数はK行N列の行列を返す．"
   ]
  },
  {
   "cell_type": "code",
   "execution_count": 5,
   "metadata": {
    "editable": true,
    "slideshow": {
     "slide_type": ""
    },
    "tags": []
   },
   "outputs": [],
   "source": [
    "def generate(N, K):\n",
    "    return np.random.uniform(-1, 1, (K, N))"
   ]
  },
  {
   "cell_type": "markdown",
   "metadata": {
    "editable": true,
    "slideshow": {
     "slide_type": ""
    },
    "tags": []
   },
   "source": [
    "例えば，$N=2$，$K=10$の場合，以下のように`generate`関数は2次元のデータを10個生成し，行列形式で返す．\n",
    "各行がデータ点に対応する．"
   ]
  },
  {
   "cell_type": "code",
   "execution_count": 6,
   "metadata": {
    "editable": true,
    "slideshow": {
     "slide_type": ""
    },
    "tags": []
   },
   "outputs": [
    {
     "data": {
      "text/plain": [
       "array([[-0.09323239, -0.30409721],\n",
       "       [-0.61199521,  0.14446446],\n",
       "       [ 0.33321069, -0.79592373],\n",
       "       [-0.79520706, -0.00570398],\n",
       "       [-0.47753729, -0.30975939],\n",
       "       [ 0.9670996 , -0.86327868],\n",
       "       [-0.32164156, -0.54902015],\n",
       "       [ 0.59240186,  0.58864603],\n",
       "       [ 0.19415688, -0.29955529],\n",
       "       [ 0.84111051, -0.77630539]])"
      ]
     },
     "execution_count": 6,
     "metadata": {},
     "output_type": "execute_result"
    }
   ],
   "source": [
    "generate(N=2, K=10)"
   ]
  },
  {
   "cell_type": "markdown",
   "metadata": {
    "editable": true,
    "slideshow": {
     "slide_type": ""
    },
    "tags": []
   },
   "source": [
    "`generate`関数を使ってランダムに生成された2次元の10個のデータにについて，全データ間のユークリッド距離を計算し，その結果を変数`dist`に格納しなさい．\n",
    "\n",
    "※ ヒント: scipyライブラリの`spatial.distance.pdist`関数を用いるとよい（[参考](https://docs.scipy.org/doc/scipy/reference/generated/scipy.spatial.distance.pdist.html#scipy.spatial.distance.pdist)）．"
   ]
  },
  {
   "cell_type": "code",
   "execution_count": 7,
   "metadata": {
    "editable": true,
    "slideshow": {
     "slide_type": ""
    },
    "tags": []
   },
   "outputs": [],
   "source": [
    "# Write your code\n",
    "\n"
   ]
  },
  {
   "cell_type": "markdown",
   "metadata": {
    "editable": true,
    "slideshow": {
     "slide_type": ""
    },
    "tags": []
   },
   "source": [
    "### Q5: データ間の距離の最小値と最大値\n",
    "\n",
    "Q4で求めた距離の最小値と最大値を求め，その差の絶対値`max_dist_delta`を計算しなさい．\n",
    "各次元の定義域がであるN次元空間においては，`max_dist_delta`の最大値は$2\\sqrt{N}$となる．\n",
    "このことを踏まえて，最大値が1となるよう`max_dist_delta`を正規化した`normalized_max_dist_delta`も計算しなさい．\n",
    "\n",
    "※ ヒント: リストやnumpy.darrayの要素の最小値，最大値を計算するには`min`，`max`関数が使える．"
   ]
  },
  {
   "cell_type": "markdown",
   "metadata": {
    "editable": true,
    "slideshow": {
     "slide_type": ""
    },
    "tags": []
   },
   "source": [
    "#### 補足: 距離の差を$2\\sqrt{N}$で正規化するのか？\n",
    "\n",
    "各次元の定義域が[-1, 1]であるN次元空間における点同士のユークリッド距離がとりうる最大値は，\n",
    "* 1次元空間では距離の最大値は$2=2\\sqrt{1}$\n",
    "* 2次元空間では距離の最大値は$2 \\sqrt{1^2 + 1^2}=2\\sqrt{2}$\n",
    "* 3次元空間では距離の最大値は$2 \\sqrt{1^2 + 1^2 + 1^2}=2\\sqrt{3}$\n",
    "\n",
    "となる．\n",
    "この観察から分かるように，N次元空間における点同士の距離がとり得る最大値は$2\\sqrt{N}$となり，次元数が増えるにつれてとりうる距離の最大値が大きくなる．\n",
    "そのため，単純に最大距離と最小距離の差の「絶対値」を調べても，相対的に差が小さくなっているのか分からない．\n",
    "そこで，距離を$2\\sqrt{N}$で割ることで，最大距離と最小距離の差を正規化（最大値が1になるように変換）する．"
   ]
  },
  {
   "cell_type": "code",
   "execution_count": 8,
   "metadata": {
    "editable": true,
    "slideshow": {
     "slide_type": ""
    },
    "tags": []
   },
   "outputs": [],
   "source": [
    "# Write your code\n",
    "\n"
   ]
  },
  {
   "cell_type": "markdown",
   "metadata": {
    "editable": true,
    "slideshow": {
     "slide_type": ""
    },
    "tags": []
   },
   "source": [
    "### Q6: 関数化\n",
    "\n",
    "Q4とQ5で行ったことを抽象化すると，以下のように書ける：\n",
    "1. 各次元の定義域が$[-1, 1]$である$N$次元空間上で$K$個のデータをランダムに生成\n",
    "2. 各データ間のユークリッド距離の最小値と最大値の差を計算\n",
    "3. ステップ2で求めた差を$2\\sqrt{N}$で正規化した値（`normalized_max_dist_delta`）を計算\n",
    "\n",
    "ステップ1からステップ3を任意の回数だけ繰り返し，得られた`normalized_max_dist_delta`の平均値を$\\bar{\\delta_{dist}}$と定義する．\n",
    "$\\bar{\\delta_{dist}}$を求める関数`calc_mean_normalized_max_dist_delta`を定義しなさい．\n",
    "なお，この関数の引数は`N`，`K`，`iter`（ステップ1からステップ3まで繰り返す回数）の3つとする．"
   ]
  },
  {
   "cell_type": "code",
   "execution_count": 9,
   "metadata": {
    "editable": true,
    "slideshow": {
     "slide_type": ""
    },
    "tags": []
   },
   "outputs": [],
   "source": [
    "# Write your code\n",
    "\n"
   ]
  },
  {
   "cell_type": "markdown",
   "metadata": {
    "editable": true,
    "slideshow": {
     "slide_type": ""
    },
    "tags": []
   },
   "source": [
    "### Q7: 次元の呪い\n",
    "\n",
    "Q6で定義した$\\bar{\\delta_{dist}}$について，$K=50$，$iter=100$と固定して$N$を1から1000まで1ずつ変化させたときにどのように変化するか観察しなさい．"
   ]
  },
  {
   "cell_type": "code",
   "execution_count": 10,
   "metadata": {
    "editable": true,
    "slideshow": {
     "slide_type": ""
    },
    "tags": []
   },
   "outputs": [],
   "source": [
    "# Write your code\n",
    "\n"
   ]
  }
 ],
 "metadata": {
  "kernelspec": {
   "display_name": "Python 3 (ipykernel)",
   "language": "python",
   "name": "python3"
  },
  "language_info": {
   "codemirror_mode": {
    "name": "ipython",
    "version": 3
   },
   "file_extension": ".py",
   "mimetype": "text/x-python",
   "name": "python",
   "nbconvert_exporter": "python",
   "pygments_lexer": "ipython3",
   "version": "3.10.13"
  }
 },
 "nbformat": 4,
 "nbformat_minor": 4
}
