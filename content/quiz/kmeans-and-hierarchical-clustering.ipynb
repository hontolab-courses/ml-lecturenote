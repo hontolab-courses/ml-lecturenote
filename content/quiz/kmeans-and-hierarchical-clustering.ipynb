{
 "cells": [
  {
   "cell_type": "markdown",
   "metadata": {
    "user_expressions": []
   },
   "source": [
    "# K-means & 階層的クラスタリング"
   ]
  },
  {
   "cell_type": "code",
   "execution_count": 1,
   "metadata": {},
   "outputs": [],
   "source": [
    "# 表形式のデータを操作するためのライブラリ\n",
    "import pandas as pd\n",
    "\n",
    "# 機械学習用ライブラリsklearnのKmeansクラス\n",
    "from sklearn.cluster import KMeans\n",
    "\n",
    "# 距離行列の計算のためのライブラリ\n",
    "import scipy.spatial.distance as distance\n",
    "\n",
    "# 階層的クラスタリング用のライブラリ\n",
    "from scipy.cluster.hierarchy import dendrogram, linkage, cut_tree\n",
    "\n",
    "# グラフ描画ライブラリ\n",
    "import matplotlib.pyplot as plt\n",
    "import seaborn as sns;\n",
    "sns.set(style='ticks')\n",
    "%matplotlib inline\n",
    "\n",
    "\n",
    "# 警告文を表示させないおまじない\n",
    "import warnings\n",
    "warnings.filterwarnings('ignore')"
   ]
  },
  {
   "cell_type": "markdown",
   "metadata": {
    "user_expressions": []
   },
   "source": [
    "\n",
    "---\n"
   ]
  },
  {
   "cell_type": "markdown",
   "metadata": {
    "tags": [],
    "user_expressions": []
   },
   "source": [
    "## クイズ\n"
   ]
  },
  {
   "cell_type": "markdown",
   "metadata": {
    "user_expressions": []
   },
   "source": [
    "(L3-Q1)=\n",
    "### Q1: ユークリッド距離とコサイン類似度\n",
    "\n",
    "以下の図のように，2次元のユークリッド空間上に，13個のデータ点が図のように分布している状況を考える（各点の座標については，下記コードのリスト``data``に収められている）．\n",
    "\n",
    "N次元空間上の任意の点$v_1$，$v_2$が与えられたとき，$v_1$と$v_2$のユークリッド距離を求める関数``calc_euclidean_dist(v1, v2)``，コサイン類似度を求める関数``calc_cosine_sim(v1, v2)``を実装しなさい．\n",
    "さらに，下図の13つの点のすべての組み合わせについて，そのユークリッド距離とコサイン類似度を求めなさい．\n",
    "\n",
    "なお，実装する関数の第1引数および第2引数は，実数のリストを想定しなさい．"
   ]
  },
  {
   "cell_type": "code",
   "execution_count": 2,
   "metadata": {},
   "outputs": [
    {
     "data": {
      "image/png": "[encoded data removed]",
      "text/plain": [
       "<Figure size 432x288 with 1 Axes>"
      ]
     },
     "metadata": {
      "needs_background": "light"
     },
     "output_type": "display_data"
    }
   ],
   "source": [
    "data = [(2, 2), (3, 4), (5, 2), (10, 5), (9, 3),\n",
    "        (11, 4), (12, 3), (12, 6), (4, 10), (4, 8),\n",
    "        (6, 8), (7, 10), (7, 6)]\n",
    "\n",
    "xs, ys = zip(*data) # zipの逆操作\n",
    "\n",
    "# 可視化\n",
    "ax = sns.scatterplot(x=xs, y=ys)\n",
    "ax.set_xlim(0, 13)\n",
    "ax.set_ylim(0, 13)\n",
    "plt.show()"
   ]
  },
  {
   "cell_type": "code",
   "execution_count": null,
   "metadata": {},
   "outputs": [],
   "source": [
    "# Write your code\n",
    "\n"
   ]
  },
  {
   "cell_type": "markdown",
   "metadata": {
    "user_expressions": []
   },
   "source": [
    "(L3-Q2)=\n",
    "### Q2: 距離/類似度の解釈\n",
    "\n",
    "Q1で扱ったデータ集合において，点$v=(11, 4)$との最も類似する点（最近傍点）を求めたい．\n",
    "ユークリッド空間の各次元の意味，最近傍点の定義が下記のような設定である場合，点の類似性を評価する関数としてユークリッド距離，コサイン類似度のどちらを用いるのが適切か考察しながら，最近傍点を求めなさい．\n",
    "\n",
    "1. 各点は都市の位置情報を表しており，第1次元は「緯度」，第2次元は「経度」を意味する．最近傍点として，**物理的距離が近い都市**を見つけたいケース．\n",
    "2. 各点はユーザの購買傾向を表しており，第1次元は「ジャンルAに属する商品を購入した回数」，第2次元は「ジャンルBに属する商品を購入した回数」を意味する．最近傍点として，**購買傾向が似ているユーザ**を見つけたいケース．"
   ]
  },
  {
   "cell_type": "code",
   "execution_count": null,
   "metadata": {},
   "outputs": [],
   "source": [
    "# Write your code\n",
    "\n"
   ]
  },
  {
   "cell_type": "markdown",
   "metadata": {},
   "source": [
    "(L3-Q3)=\n",
    "### Q3: ポケモンデータ再び\n",
    "[第1章pandas入門](content/introduction-to-pandas.ipynb)のクイズ課題で用いたデータセット[pokemonData](https://github.com/lgreski/pokemonData)を再度ダウンロードし，その内容をpandasデータフレームに変換して変数`pokemon_df`に代入しなさい．\n",
    "\n",
    "その上で，データフレーム`pokemon_df`から属性`HP`，`Attack`，`Defense`，`Sp. Atk`，`Sp. Def`，`Speed`の値だけを抽出し，データフレームの最初の5件だけを表示しなさい．\n"
   ]
  },
  {
   "cell_type": "code",
   "execution_count": null,
   "metadata": {},
   "outputs": [],
   "source": [
    "# Write your code\n",
    "\n"
   ]
  },
  {
   "cell_type": "markdown",
   "metadata": {},
   "source": [
    "(L3-Q4)=\n",
    "### Q4: K-means\n",
    "Q3で準備したデータフレーム`pokenmon_df`とK-meansクラスタリング手法を用いて，第1世代ポケモンを7グループに分けたい．\n",
    "属性`HP`，`Attack`，`Defense`，`Sp. Atk`，`Sp. Def`，`Speed`のみに注目して，第1世代ポケモンデータにK-meansクラスタリングを適用しなさい．"
   ]
  },
  {
   "cell_type": "code",
   "execution_count": null,
   "metadata": {},
   "outputs": [],
   "source": [
    "# Write your code\n",
    "\n"
   ]
  },
  {
   "cell_type": "markdown",
   "metadata": {},
   "source": [
    "(L3-Q5)=\n",
    "### Q5: クラスタの特徴\n",
    "Q4で求めた各クラスタに含まれるポケモンデータの`HP`，`Attack`，`Defense`，`Sp. Atk`，`Sp. Def`，`Speed`の平均値を求めなさい．"
   ]
  },
  {
   "cell_type": "code",
   "execution_count": null,
   "metadata": {},
   "outputs": [],
   "source": [
    "# Write your code\n",
    "\n"
   ]
  },
  {
   "cell_type": "markdown",
   "metadata": {
    "tags": []
   },
   "source": [
    "(L3-Q6)=\n",
    "### Q6: 階層的クラスタリング結果の比較\n",
    "\n",
    "Q1で扱った13個のデータ点について，階層的クラスタリング法を用いて段階的にクラスタに分割したい．\n",
    "\n",
    "``scipy.cluster.hierarchy``ライブラリの``linkage``関数および``dendrogram``関数を用いて，Q1で扱ったデータに階層的クラスタリングを適用しなさい．\n",
    "その際，階層的クラスタリングのクラスタ生成手法として下記3つの方法を用いて，クラスタの生成過程を結果を比較しなさい：\n",
    "\n",
    "* セントロイド法（centroid）\n",
    "* 最短距離法（single linkage）\n",
    "* 最長距離法（complete linkage）\n",
    "\n",
    "なお，クラスタ間の距離の尺度にはユークリッド距離を用いること．"
   ]
  },
  {
   "cell_type": "code",
   "execution_count": null,
   "metadata": {},
   "outputs": [],
   "source": [
    "# Write your code\n",
    "\n"
   ]
  }
 ],
 "metadata": {
  "kernelspec": {
   "display_name": "Python 3 (ipykernel)",
   "language": "python",
   "name": "python3"
  },
  "language_info": {
   "codemirror_mode": {
    "name": "ipython",
    "version": 3
   },
   "file_extension": ".py",
   "mimetype": "text/x-python",
   "name": "python",
   "nbconvert_exporter": "python",
   "pygments_lexer": "ipython3",
   "version": "3.9.13"
  }
 },
 "nbformat": 4,
 "nbformat_minor": 4
}
