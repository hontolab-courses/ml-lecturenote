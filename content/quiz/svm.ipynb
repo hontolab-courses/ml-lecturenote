{
 "cells": [
  {
   "cell_type": "markdown",
   "id": "ec84b77a-881c-4f4d-846f-51e33e1e5cea",
   "metadata": {
    "editable": true,
    "slideshow": {
     "slide_type": ""
    },
    "tags": []
   },
   "source": [
    "# サポートベクターマシン"
   ]
  },
  {
   "cell_type": "code",
   "execution_count": null,
   "id": "c7deeab7-4ace-40dd-bdaa-5d5d2b3a4b14",
   "metadata": {
    "editable": true,
    "slideshow": {
     "slide_type": ""
    },
    "tags": []
   },
   "outputs": [],
   "source": [
    "# 表形式のデータを操作するためのライブラリ\n",
    "import pandas as pd\n",
    "\n",
    "# 行列計算をおこなうためのライブラリ\n",
    "import numpy as np\n",
    "\n",
    "# データセット\n",
    "from sklearn import datasets\n",
    "\n",
    "# K近傍法を実行するためのクラス\n",
    "from sklearn.neighbors import KNeighborsClassifier\n",
    "\n",
    "# 決定木を実行するためのクラス\n",
    "from sklearn.tree import DecisionTreeClassifier\n",
    "\n",
    "# サポートベクターマシンを実行するためのモジュール\n",
    "from sklearn import svm\n",
    "\n",
    "# データ変換のためのクラス\n",
    "import sklearn.preprocessing as preprocessing\n",
    "\n",
    "# 交差検証を行うためのクラス\n",
    "from sklearn.model_selection import StratifiedKFold\n",
    "from sklearn.model_selection import cross_validate\n",
    "\n",
    "# 評価指標（マクロ精度）\n",
    "from sklearn.metrics import balanced_accuracy_score"
   ]
  },
  {
   "cell_type": "markdown",
   "id": "ca302560-22ee-4cf1-ba89-410798082ffb",
   "metadata": {
    "editable": true,
    "slideshow": {
     "slide_type": ""
    },
    "tags": []
   },
   "source": [
    "---\n",
    "\n",
    "## クイズ\n",
    "\n",
    "※ 以下のクイズの回答にGoogle Colaboratoryを使いたい方は[コチラ](https://colab.research.google.com/github/hontolab-courses/ml-lecturenote/blob/main/content/quiz/svm.ipynb)をクリック．\n"
   ]
  },
  {
   "cell_type": "markdown",
   "id": "b418b808-9f3b-4abc-ae94-be45a1c87ec7",
   "metadata": {
    "editable": true,
    "slideshow": {
     "slide_type": ""
    },
    "tags": []
   },
   "source": [
    "(L6-Q1)=\n",
    "### Q1: 実行時間の計測\n",
    "\n",
    "機械学習モデルの交差検証を簡単に行ってくれる`sklearn`ライブラリの`cross_validate`関数は，その返値（辞書）には\n",
    "- 学習の所要時間（`fit_time`）\n",
    "- 評価（推論）の所要時間（`score_time`）\n",
    "\n",
    "に関する情報が格納されている（[参考](https://scikit-learn.org/stable/modules/generated/sklearn.model_selection.cross_validate.html)）．\n",
    "\n",
    "この情報を用いて，[第6章](content/svm.ipynb)の[例題1](#L6-S1)におけるMNIST分類器を\n",
    "1. 多項式カーネル（`kernel='poly'`）を用いたサポートベクターマシン\n",
    "2. K近傍法（`K=5`）\n",
    "3. 決定木\n",
    "\n",
    "の3つの機械学習手法で構築した際の\n",
    "\n",
    "- 分類器の性能\n",
    "- 分類器の構築（学習）にかかる時間\n",
    "- 分類器の評価（推論）にかかる時間\n",
    "    \n",
    "について比較を行いなさい．"
   ]
  },
  {
   "cell_type": "code",
   "execution_count": null,
   "id": "ed9fc405-d898-42f8-909a-15b27265656e",
   "metadata": {
    "editable": true,
    "slideshow": {
     "slide_type": ""
    },
    "tags": []
   },
   "outputs": [],
   "source": [
    "# Write your code\n",
    "\n"
   ]
  },
  {
   "cell_type": "markdown",
   "id": "83b4efff-663d-4c7c-b313-b3955a836a07",
   "metadata": {
    "editable": true,
    "slideshow": {
     "slide_type": ""
    },
    "tags": []
   },
   "source": [
    "(L6-Q2)=\n",
    "### Q2: 年収カテゴリ分類の性能比較\n",
    "\n",
    "Q1で行った同様の比較を，[第5章](content/knn-and-ml-flow.ipynb)のクイズで取り組んだ[年収カテゴリ分類問題](#L5-S3)に対して行いなさい．"
   ]
  },
  {
   "cell_type": "code",
   "execution_count": null,
   "id": "73f472f8-4900-4b19-bff3-7eca2273cd44",
   "metadata": {
    "editable": true,
    "slideshow": {
     "slide_type": ""
    },
    "tags": []
   },
   "outputs": [],
   "source": [
    "# Write your code\n",
    "\n"
   ]
  }
 ],
 "metadata": {
  "kernelspec": {
   "display_name": "Python 3 (ipykernel)",
   "language": "python",
   "name": "python3"
  },
  "language_info": {
   "codemirror_mode": {
    "name": "ipython",
    "version": 3
   },
   "file_extension": ".py",
   "mimetype": "text/x-python",
   "name": "python",
   "nbconvert_exporter": "python",
   "pygments_lexer": "ipython3",
   "version": "3.10.9"
  }
 },
 "nbformat": 4,
 "nbformat_minor": 5
}
