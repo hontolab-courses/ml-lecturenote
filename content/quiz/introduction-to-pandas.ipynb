{
 "cells": [
  {
   "cell_type": "markdown",
   "id": "9db3f223-58db-4508-a231-d21fb33b9f40",
   "metadata": {
    "editable": true,
    "slideshow": {
     "slide_type": ""
    },
    "tags": []
   },
   "source": [
    "# pandasによるデータ処理"
   ]
  },
  {
   "cell_type": "markdown",
   "id": "7e3f49c4-efd9-48dc-a7f1-61aed2866db9",
   "metadata": {
    "editable": true,
    "slideshow": {
     "slide_type": ""
    },
    "tags": []
   },
   "source": [
    "## クイズ"
   ]
  },
  {
   "cell_type": "markdown",
   "id": "eaac6e52-2ffe-459d-8de1-fb795a6037c5",
   "metadata": {
    "editable": true,
    "slideshow": {
     "slide_type": ""
    },
    "tags": []
   },
   "source": [
    "### Q1: データの読み込み\n",
    "[pokemonData](https://github.com/lgreski/pokemonData)は，ポケットモンスターシリーズに登場するポケモンの能力値をまとめたデータセットである．\n",
    "[コチラ](https://raw.githubusercontent.com/lgreski/pokemonData/refs/heads/master/Pokemon.csv)のURLからCSVファイルをダウンロードし，その内容をpandasデータフレームに変換して変数`pokemon_df`に代入しなさい．"
   ]
  },
  {
   "cell_type": "code",
   "execution_count": 1,
   "id": "8247a17b-930b-4470-a540-2bf6314d9594",
   "metadata": {
    "editable": true,
    "slideshow": {
     "slide_type": ""
    },
    "tags": []
   },
   "outputs": [],
   "source": [
    "# Write your code\n",
    "\n"
   ]
  },
  {
   "cell_type": "markdown",
   "id": "a65f3d1f-8dab-468f-b400-e637ac4ef58c",
   "metadata": {
    "editable": true,
    "slideshow": {
     "slide_type": ""
    },
    "tags": []
   },
   "source": [
    "### Q2: データの確認\n",
    "データフレーム`pokemon_df`で取り扱われているポケモンの数（行数）および列数を調べなさい．"
   ]
  },
  {
   "cell_type": "code",
   "execution_count": 2,
   "id": "5171690c-e0a1-4dbd-b2e5-94669a77bd29",
   "metadata": {
    "editable": true,
    "slideshow": {
     "slide_type": ""
    },
    "tags": []
   },
   "outputs": [],
   "source": [
    "# Write your code\n",
    "\n"
   ]
  },
  {
   "cell_type": "markdown",
   "id": "a05a017f-cafe-4071-9df0-8a9e3ecec4dd",
   "metadata": {
    "editable": true,
    "slideshow": {
     "slide_type": ""
    },
    "tags": []
   },
   "source": [
    "### Q3: HP, 攻撃力, 防御力\n",
    "データフレーム`pokemon_df`で扱われているポケモンの`HP`，攻撃力（`Attack`），防御力（`Defense`）の平均値を調べなさい．"
   ]
  },
  {
   "cell_type": "code",
   "execution_count": 3,
   "id": "eead645c-5572-4bd8-8bec-d61ef163f33a",
   "metadata": {
    "editable": true,
    "slideshow": {
     "slide_type": ""
    },
    "tags": []
   },
   "outputs": [],
   "source": [
    "# Write your code\n",
    "\n"
   ]
  },
  {
   "cell_type": "markdown",
   "id": "c95cc96b-8952-43ac-9435-e7cbafe6a6c2",
   "metadata": {
    "editable": true,
    "slideshow": {
     "slide_type": ""
    },
    "tags": []
   },
   "source": [
    "### Q4: 第9世代\n",
    "データフレーム`pokemon_df`の中で，第9世代（スカーレット・ヴァイオレット）のポケモンの情報を表示しなさい．"
   ]
  },
  {
   "cell_type": "code",
   "execution_count": 4,
   "id": "adf1bb2e-1358-4d33-8362-53d111d6b793",
   "metadata": {
    "editable": true,
    "slideshow": {
     "slide_type": ""
    },
    "tags": []
   },
   "outputs": [],
   "source": [
    "# Write your code\n",
    "\n"
   ]
  },
  {
   "cell_type": "markdown",
   "id": "4a0889cc-cfd8-4822-b28e-1044b3787ac8",
   "metadata": {
    "editable": true,
    "slideshow": {
     "slide_type": ""
    },
    "tags": []
   },
   "source": [
    "### Q5: ゴーストタイプ\n",
    "データフレーム`pokemon_df`の中で「ゴースト（Ghost）」タイプのポケモンの情報を表示しなさい．"
   ]
  },
  {
   "cell_type": "code",
   "execution_count": 5,
   "id": "352f861b-9cbb-46db-a3eb-22db69f4e6b5",
   "metadata": {
    "editable": true,
    "slideshow": {
     "slide_type": ""
    },
    "tags": []
   },
   "outputs": [],
   "source": [
    "# Write your code\n",
    "\n"
   ]
  },
  {
   "cell_type": "markdown",
   "id": "91746216-ada5-4ca7-a658-6e4a5969ab6b",
   "metadata": {
    "editable": true,
    "slideshow": {
     "slide_type": ""
    },
    "tags": []
   },
   "source": [
    "### Q6: 偏差値\n",
    "データフレーム`pokemon_df`の情報によると，`Total`値の平均値は443.1，標準偏差は121.2である．\n",
    "この値を用いてデータフレーム`pokemon_df`中の各ポケモンの`Total`値に関する偏差値を算出しなさい．\n",
    "また，計算した偏差値を`pokemon_df`の列`Total_Z_score`に格納しなさい．\n",
    "\n",
    "なお，$x$の平均値を$\\mu$，標準偏差を$\\sigma$としたとき，$x$の偏差値$z$は以下の式で計算できる：\n",
    "$$\n",
    "z = \\frac{x - \\mu}{\\sigma} \\times 10 + 50\n",
    "$$"
   ]
  },
  {
   "cell_type": "code",
   "execution_count": 6,
   "id": "e3af5dfc-e0ee-4245-b636-90cb994c581a",
   "metadata": {
    "editable": true,
    "slideshow": {
     "slide_type": ""
    },
    "tags": []
   },
   "outputs": [],
   "source": [
    "# Write your code\n",
    "\n"
   ]
  },
  {
   "cell_type": "markdown",
   "id": "e820c379-f347-4a5e-8f94-7a8a3b3142e1",
   "metadata": {
    "editable": true,
    "slideshow": {
     "slide_type": ""
    },
    "tags": []
   },
   "source": [
    "### Q7: データフレームの保存\n",
    "`Total`の偏差値に関する列を追加したデータフレーム`pokemon_df`をTSVファイルとして保存しなさい．\n",
    "また，保存したTSVファイルをテキストエディタやExcelなどを用いて確認しなさい．\n",
    "なお，TSVファイル名は`pokemon.tsv`とし，見出し（列名）をファイル内に含めるようにすること．"
   ]
  },
  {
   "cell_type": "code",
   "execution_count": 7,
   "id": "6f501d33-eb07-41ef-bb27-1103fbdc180e",
   "metadata": {
    "editable": true,
    "slideshow": {
     "slide_type": ""
    },
    "tags": []
   },
   "outputs": [],
   "source": [
    "# Write your code\n",
    "\n"
   ]
  }
 ],
 "metadata": {
  "kernelspec": {
   "display_name": "Python 3 (ipykernel)",
   "language": "python",
   "name": "python3"
  },
  "language_info": {
   "codemirror_mode": {
    "name": "ipython",
    "version": 3
   },
   "file_extension": ".py",
   "mimetype": "text/x-python",
   "name": "python",
   "nbconvert_exporter": "python",
   "pygments_lexer": "ipython3",
   "version": "3.10.13"
  }
 },
 "nbformat": 4,
 "nbformat_minor": 5
}
