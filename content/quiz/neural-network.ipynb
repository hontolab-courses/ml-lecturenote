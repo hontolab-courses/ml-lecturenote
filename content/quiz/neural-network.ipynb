{
 "cells": [
  {
   "cell_type": "markdown",
   "id": "a91c2666-e4e1-469a-b960-b7e9350daa90",
   "metadata": {
    "editable": true,
    "slideshow": {
     "slide_type": ""
    },
    "tags": []
   },
   "source": [
    "# ニューラルネットワーク入門"
   ]
  },
  {
   "cell_type": "code",
   "execution_count": 1,
   "id": "26b5c58f-8fb8-4334-a73c-24c37c7a45ea",
   "metadata": {
    "editable": true,
    "slideshow": {
     "slide_type": ""
    },
    "tags": []
   },
   "outputs": [],
   "source": [
    "# 表データを扱うライブラリ\n",
    "import pandas as pd\n",
    "\n",
    "# 乱数を扱うライブラリ\n",
    "import random\n",
    "\n",
    "# グラフ描画ライブラリ\n",
    "import seaborn as sns\n",
    "import matplotlib.pyplot as plt\n",
    "\n",
    "# グラフ描画のためのおまじない\n",
    "sns.set()\n",
    "sns.set_style('ticks')\n",
    "%matplotlib inline"
   ]
  },
  {
   "cell_type": "code",
   "execution_count": 2,
   "id": "d511e14b-77f5-466e-b901-984003a99812",
   "metadata": {
    "editable": true,
    "slideshow": {
     "slide_type": ""
    },
    "tags": []
   },
   "outputs": [],
   "source": [
    "# データを読み込む\n",
    "data_url = \"https://raw.githubusercontent.com/hontolab-courses/ml-lecturenote/main/content/data/sgd-data.tsv\"\n",
    "df = pd.read_table(data_url, header=0, sep=\"\\t\")"
   ]
  },
  {
   "cell_type": "code",
   "execution_count": 3,
   "id": "d9ef64c0-eec7-4b85-b230-ec3e767cf71b",
   "metadata": {
    "editable": true,
    "slideshow": {
     "slide_type": ""
    },
    "tags": []
   },
   "outputs": [
    {
     "data": {
      "image/png": "[encoded data removed]",
      "text/plain": [
       "<Figure size 640x480 with 1 Axes>"
      ]
     },
     "metadata": {},
     "output_type": "display_data"
    }
   ],
   "source": [
    "# 可視化\n",
    "sns.scatterplot(x=df[\"x\"], y=df[\"y\"], linewidth=0, s=5)\n",
    "plt.show()"
   ]
  },
  {
   "cell_type": "markdown",
   "id": "b07bd3ff-74fa-4cec-8059-dd1a768f5635",
   "metadata": {
    "editable": true,
    "slideshow": {
     "slide_type": ""
    },
    "tags": []
   },
   "source": [
    "---\n",
    "\n",
    "## クイズ"
   ]
  },
  {
   "cell_type": "markdown",
   "id": "c01f62ae-917d-44de-bbe6-e662bbe4c379",
   "metadata": {
    "editable": true,
    "slideshow": {
     "slide_type": ""
    },
    "tags": []
   },
   "source": [
    "(L8-Q1)=\n",
    "### Q1: 最急勾配法 for 複数パラメータ\n",
    "\n",
    "[例題2](#L8-S2)では直線の切片は既知（-1.59）で傾きは未知として，傾き$w_1$を最急降下法によって求めた．\n",
    "以下のコードは，傾き$w_1$，切片$w_0$ともに未知とした場合，$w_1$と$w_0$を最急降下法で求めるコードである．\n",
    "コード中の関数`gradient_w0`および`gradient_descent_for_two_params`の未完部分を完成させなさい．"
   ]
  },
  {
   "cell_type": "code",
   "execution_count": null,
   "id": "25351d02-1aff-41e6-97b8-0396f24446e2",
   "metadata": {
    "editable": true,
    "slideshow": {
     "slide_type": ""
    },
    "tags": []
   },
   "outputs": [],
   "source": [
    "# 傾きw_1の勾配\n",
    "def gradient_w1(x_list, y_list, w1, w0):\n",
    "    grad_w1 = 0\n",
    "    \n",
    "    # データを1個ずつ処理\n",
    "    for x, y in zip(x_list, y_list):\n",
    "        grad_w1 += 2 * (-x) * (y - w1 * x  + w0)\n",
    "        \n",
    "    return grad_w1\n",
    "\n",
    "\n",
    "# 切片w_0の勾配\n",
    "def gradient_w0(x_list, y_list, w1, w0):\n",
    "    grad_w0 = 0\n",
    "    \n",
    "    # データを1個ずつ処理\n",
    "    for x, y in zip(x_list, y_list):\n",
    "        # ------------------\n",
    "        # 以下，コードを完成させる\n",
    "        \n",
    "        \n",
    "        # ここまで\n",
    "        # ------------------\n",
    "        \n",
    "    return grad_w0\n",
    "\n",
    "\n",
    "def gradient_descent_for_two_params(\n",
    "    x_list, y_list, alpha=0.0001, delta_threshold=1e-8, epoch_num=10000):\n",
    "    \"\"\" alpha: 学習率，\n",
    "        delta_treshold: パラメータの更新量の絶対値に対する閾値\n",
    "        epoch_num: 更新回数の上限\n",
    "    \"\"\"\n",
    "    \n",
    "    # パラメータをランダムに初期化\n",
    "    w1 = random.random()\n",
    "    w0 = random.random()\n",
    "    \n",
    "    for epoch in range(epoch_num):\n",
    "        # パラメータの更新式\n",
    "        # ---------------------\n",
    "        # 以下，コードを完成させる\n",
    "\n",
    "        \n",
    "        # ここまで\n",
    "        # ---------------------\n",
    "\n",
    "        # パラメータの更新量の絶対値\n",
    "        w1_delta = abs(w1_new - w1)\n",
    "        w0_delta = abs(w0_new - w0)\n",
    "        if w1_delta < delta_threshold and w0_delta < delta_threshold:\n",
    "            # パラメータがほぼ変化しなくなったら，更新を終了する\n",
    "            return (w1_new, w0_new)\n",
    "        else:\n",
    "            # まだ変化する余地があるなら，引き続きパラメータを更新する\n",
    "            if epoch % 10 == 0:\n",
    "                print(f\"更新回数 {epoch+1}回目\\t\", w1, w0)\n",
    "            w1 = w1_new\n",
    "            w0 = w0_new\n",
    "            \n",
    "    return (w1_new, w0_new)\n",
    "\n",
    "\n",
    "# データセット\n",
    "x_list = df[\"x\"]\n",
    "y_list = df[\"y\"]\n",
    "\n",
    "# 最急降下法の実行\n",
    "w1, w0 = gradient_descent_for_two_params(x_list, y_list, 0.0001, 1e-8, 10000)\n",
    "\n",
    "print()\n",
    "print(\"Optimized w1 =\", w1)\n",
    "print(\"Optimized w0 =\", w0)"
   ]
  },
  {
   "cell_type": "markdown",
   "id": "b56fa42b-0829-4c30-bdc5-928908182d71",
   "metadata": {
    "editable": true,
    "slideshow": {
     "slide_type": ""
    },
    "tags": []
   },
   "source": [
    "(L8-Q2)=\n",
    "### Q2: 確率的勾配法\n",
    "\n",
    "[例題2](#L8-S2)で用いたコードを修正し，確率的勾配法で直線の傾き$w$を求めるコードを書きなさい．\n",
    "なお，このクイズでは（Q1とは異なり）切片は既知（1.59）としてよい．\n"
   ]
  },
  {
   "cell_type": "code",
   "execution_count": null,
   "id": "0b2ac5d0-25a0-43b7-9557-a838a1acc622",
   "metadata": {
    "editable": true,
    "slideshow": {
     "slide_type": ""
    },
    "tags": []
   },
   "outputs": [],
   "source": [
    "# Write your code\n",
    "\n"
   ]
  }
 ],
 "metadata": {
  "kernelspec": {
   "display_name": "Python 3 (ipykernel)",
   "language": "python",
   "name": "python3"
  },
  "language_info": {
   "codemirror_mode": {
    "name": "ipython",
    "version": 3
   },
   "file_extension": ".py",
   "mimetype": "text/x-python",
   "name": "python",
   "nbconvert_exporter": "python",
   "pygments_lexer": "ipython3",
   "version": "3.10.13"
  }
 },
 "nbformat": 4,
 "nbformat_minor": 5
}
