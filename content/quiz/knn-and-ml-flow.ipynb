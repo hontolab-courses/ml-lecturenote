{
 "cells": [
  {
   "cell_type": "markdown",
   "id": "465cea19-d4ba-4309-981c-d138cccaad78",
   "metadata": {
    "editable": true,
    "slideshow": {
     "slide_type": ""
    },
    "tags": []
   },
   "source": [
    "# K近傍法 & 教師あり学習のお作法"
   ]
  },
  {
   "cell_type": "code",
   "execution_count": null,
   "id": "b9ae4547-2006-4d4c-b713-731d1ab08d42",
   "metadata": {
    "editable": true,
    "slideshow": {
     "slide_type": ""
    },
    "tags": []
   },
   "outputs": [],
   "source": [
    "# 表形式のデータを操作するためのライブラリ\n",
    "import pandas as pd\n",
    "\n",
    "# 行列計算をおこなうためのライブラリ\n",
    "import numpy as np\n",
    "\n",
    "# K近傍法を実行するためのクラス\n",
    "from sklearn.neighbors import KNeighborsClassifier\n",
    "\n",
    "# 交差検証を行うためのクラス\n",
    "from sklearn.model_selection import StratifiedKFold\n",
    "from sklearn.model_selection import cross_validate\n",
    "\n",
    "# 精度，マクロ精度，適合率，AUCを評価するための関数\n",
    "from sklearn.metrics import balanced_accuracy_score\n",
    "\n",
    "# データ分割のための関数\n",
    "from sklearn.model_selection import train_test_split\n",
    "\n",
    "# グラフ描画ライブラリ\n",
    "import matplotlib.pyplot as plt\n",
    "%matplotlib inline"
   ]
  },
  {
   "cell_type": "markdown",
   "id": "7ac84d3d-a368-4d55-9981-73e99970ac6c",
   "metadata": {
    "editable": true,
    "slideshow": {
     "slide_type": ""
    },
    "tags": []
   },
   "source": [
    "---\n",
    "\n",
    "# クイズ"
   ]
  },
  {
   "cell_type": "markdown",
   "id": "fdc80ee5-1e02-4978-b08f-2b53de5527ee",
   "metadata": {
    "editable": true,
    "slideshow": {
     "slide_type": ""
    },
    "tags": []
   },
   "source": [
    "### Q1: 崩し字データのダウンロード\n",
    "\n",
    "[Kuzushiji-MNIST](https://github.com/rois-codh/kmnist)は，[ROIS-DS人文学オープンデータ共同利用センター](https://codh.rois.ac.jp/index.html.ja)が公開している日本語[くずし字](https://ja.wikipedia.org/wiki/%E3%81%8F%E3%81%9A%E3%81%97%E5%AD%97)の画像データセットである（画像出典:[GitHubのkmnistレポジトリより参照](https://github.com/rois-codh/kmnist)）．\n",
    "\n",
    "![Kuzushiji MNIST](https://github.com/rois-codh/kmnist/raw/master/images/kmnist_examples.png)\n",
    "\n",
    "クイズに取り組むに先だって以下のコードを実行し，下記4つのデータファイルをダウンロードしなさい．\n",
    "- `k49-test-imgs.npz`: （評価用）画像データ\n",
    "- `k49-test-labels.npz`: （評価用）ラベルデータ\n",
    "- `k49_classmap.csv`: ラベル数字と文字の対応関係に関するCSVファイル"
   ]
  },
  {
   "cell_type": "code",
   "execution_count": null,
   "id": "8a78666d-eb3b-4dde-b2ec-0c00408bb87d",
   "metadata": {
    "editable": true,
    "slideshow": {
     "slide_type": ""
    },
    "tags": [
     "remove-output"
    ]
   },
   "outputs": [],
   "source": [
    "!curl -o data/k49/k49-test-imgs.npz --create-dirs https://codh.rois.ac.jp/kmnist/dataset/k49/k49-test-imgs.npz\n",
    "!curl -o data/k49/k49-test-labels.npz --create-dirs https://codh.rois.ac.jp/kmnist/dataset/k49/k49-test-labels.npz\n",
    "!curl -o data/k49/k49_classmap.csv --create-dirs http://codh.rois.ac.jp/kmnist/dataset/k49/k49_classmap.csv"
   ]
  },
  {
   "cell_type": "code",
   "execution_count": null,
   "id": "0cc0e91d-3ccd-432c-bbde-d541bb019df3",
   "metadata": {
    "editable": true,
    "slideshow": {
     "slide_type": ""
    },
    "tags": [
     "remove-output"
    ]
   },
   "outputs": [],
   "source": [
    "!curl -o data/kmnist/kmnist-test-imgs.npz --create-dirs https://codh.rois.ac.jp/kmnist/dataset/kmnist/kmnist-test-imgs.npz\n",
    "!curl -o data/kmnist/kmnist-test-labels.npz --create-dirs https://codh.rois.ac.jp/kmnist/dataset/kmnist/kmnist-test-labels.npz\n",
    "!curl -o data/kmnist/kmnist_classmap.csv --create-dirs https://codh.rois.ac.jp/kmnist/dataset/kmnist/kmnist_classmap.csv"
   ]
  },
  {
   "cell_type": "markdown",
   "id": "2c594b99-3c77-45cf-8327-bb3749ca71cd",
   "metadata": {
    "editable": true,
    "slideshow": {
     "slide_type": ""
    },
    "tags": []
   },
   "source": [
    "ファイルのダウンロード後，下記コードを実行し，変数`X`に画像データ，変数`y`にラベルデータを格納しなさい．"
   ]
  },
  {
   "cell_type": "code",
   "execution_count": null,
   "id": "e997b5a2-eb1a-491f-8cb5-0b50a903c69d",
   "metadata": {
    "editable": true,
    "slideshow": {
     "slide_type": ""
    },
    "tags": []
   },
   "outputs": [],
   "source": [
    "import numpy as np\n",
    "\n",
    "X = np.load('data/k49/k49-test-imgs.npz')['arr_0'].reshape(-1, 28 * 28)\n",
    "y = np.load('data/k49/k49-test-labels.npz')['arr_0']"
   ]
  },
  {
   "cell_type": "markdown",
   "id": "a27e31ae-a3e1-451c-8d7c-2b284479625c",
   "metadata": {
    "editable": true,
    "slideshow": {
     "slide_type": ""
    },
    "tags": []
   },
   "source": [
    "### Q2: データの確認\n",
    "\n",
    "変数`X`に格納された2025番目のくずし字を28行28列の行列形式，画像形式のそれぞれで表示せよ．"
   ]
  },
  {
   "cell_type": "code",
   "execution_count": null,
   "id": "808f4fe5-d1e6-4c1c-9b84-886cd9931590",
   "metadata": {
    "editable": true,
    "slideshow": {
     "slide_type": ""
    },
    "tags": []
   },
   "outputs": [],
   "source": [
    "# Write your code\n",
    "\n"
   ]
  },
  {
   "cell_type": "markdown",
   "id": "23485c75-1124-467c-ba07-859bb3557a60",
   "metadata": {
    "editable": true,
    "slideshow": {
     "slide_type": ""
    },
    "tags": []
   },
   "source": [
    "### Q3: ラベルデータの分布\n",
    "\n",
    "変数`y`に格納された各ラベルについて，その出現頻度を求めなさい．\n",
    "なお，`y`のラベルはラベル番号であるため，可能なら`k49_classmap.csv`を用いてラベル番号を文字に置き換えること．"
   ]
  },
  {
   "cell_type": "code",
   "execution_count": null,
   "id": "6f4a1a93-2c4c-4654-9039-9ddeaedad498",
   "metadata": {
    "editable": true,
    "slideshow": {
     "slide_type": ""
    },
    "tags": []
   },
   "outputs": [],
   "source": [
    "# Write your code\n",
    "\n"
   ]
  },
  {
   "cell_type": "markdown",
   "id": "aa0a21a1-f607-4f46-9b49-b7f2904c5f9b",
   "metadata": {
    "editable": true,
    "slideshow": {
     "slide_type": ""
    },
    "tags": []
   },
   "source": [
    "### Q4: くずし字画像分類に対するK近傍法の瀬能\n",
    "変数`X`，`y`とK近傍法を用いて，くずし字画像の分類器を構築し，交差検証によって分類性能を評価しなさい．\n",
    "なお，K近傍法のパラメータ`K`は5，交差検証時のデータ分割数は`5`としなさい．"
   ]
  },
  {
   "cell_type": "code",
   "execution_count": null,
   "id": "f4f1ee64-49e6-4ea8-a106-5968783d5fba",
   "metadata": {
    "editable": true,
    "slideshow": {
     "slide_type": ""
    },
    "tags": []
   },
   "outputs": [],
   "source": [
    "# Write your code\n",
    "\n"
   ]
  },
  {
   "cell_type": "markdown",
   "id": "3e3901c5-e434-4614-bbff-133e823ed404",
   "metadata": {
    "editable": true,
    "slideshow": {
     "slide_type": ""
    },
    "tags": []
   },
   "source": [
    "### Q5: 最適パラメータの探索\n",
    "Q4で構築したくずし字画像分類器について，K近傍法のパラメータ`K`を2から9までひとつずつ変化させながら分類性能を評価し，最適なパラメータ`K`を求めなさい．"
   ]
  },
  {
   "cell_type": "code",
   "execution_count": null,
   "id": "2c818a68-2ff5-4db3-8bb0-10c0afe44a7b",
   "metadata": {
    "editable": true,
    "slideshow": {
     "slide_type": ""
    },
    "tags": []
   },
   "outputs": [],
   "source": [
    "# Write your code\n",
    "\n"
   ]
  }
 ],
 "metadata": {
  "kernelspec": {
   "display_name": "Python 3 (ipykernel)",
   "language": "python",
   "name": "python3"
  },
  "language_info": {
   "codemirror_mode": {
    "name": "ipython",
    "version": 3
   },
   "file_extension": ".py",
   "mimetype": "text/x-python",
   "name": "python",
   "nbconvert_exporter": "python",
   "pygments_lexer": "ipython3",
   "version": "3.10.13"
  }
 },
 "nbformat": 4,
 "nbformat_minor": 5
}
