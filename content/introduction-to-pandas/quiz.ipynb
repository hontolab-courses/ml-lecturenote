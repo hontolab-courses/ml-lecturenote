{
 "cells": [
  {
   "cell_type": "markdown",
   "id": "9db3f223-58db-4508-a231-d21fb33b9f40",
   "metadata": {
    "editable": true,
    "slideshow": {
     "slide_type": ""
    },
    "tags": []
   },
   "source": [
    "# pandasによるデータ処理"
   ]
  },
  {
   "cell_type": "markdown",
   "id": "7e3f49c4-efd9-48dc-a7f1-61aed2866db9",
   "metadata": {
    "editable": true,
    "slideshow": {
     "slide_type": ""
    },
    "tags": []
   },
   "source": [
    "## クイズ"
   ]
  },
  {
   "cell_type": "markdown",
   "id": "eaac6e52-2ffe-459d-8de1-fb795a6037c5",
   "metadata": {
    "editable": true,
    "slideshow": {
     "slide_type": ""
    },
    "tags": []
   },
   "source": [
    "### Q: データの読み込み\n",
    "[pokemonData](https://github.com/lgreski/pokemonData)は，ポケットモンスターシリーズに登場するポケモンの能力値をまとめたデータセットである．\n",
    "[コチラ](https://raw.githubusercontent.com/lgreski/pokemonData/refs/heads/master/Pokemon.csv)のURLからCSVファイルをダウンロードし，その内容をpandasデータフレームに変換して変数`pokemon_df`に代入しなさい．\n",
    "`pokemon_df`の内容を表示しなさい．"
   ]
  },
  {
   "cell_type": "code",
   "execution_count": 37,
   "id": "858f501a-5b3a-4b9f-875c-5a495b66211c",
   "metadata": {
    "editable": true,
    "slideshow": {
     "slide_type": ""
    },
    "tags": []
   },
   "outputs": [],
   "source": [
    "pokemon_df = pd.read_table(\n",
    "    'https://raw.githubusercontent.com/lgreski/pokemonData/refs/heads/master/Pokemon.csv', sep=',', na_values=[' '])"
   ]
  },
  {
   "cell_type": "markdown",
   "id": "a65f3d1f-8dab-468f-b400-e637ac4ef58c",
   "metadata": {
    "editable": true,
    "slideshow": {
     "slide_type": ""
    },
    "tags": []
   },
   "source": [
    "### Q: データの確認\n",
    "データフレーム`pokemon_df`で取り扱われているポケモンの数（行数）および列数を調べなさい．"
   ]
  },
  {
   "cell_type": "code",
   "execution_count": 38,
   "id": "c1096adf-0c07-4957-9c42-bd4b765ec952",
   "metadata": {
    "editable": true,
    "slideshow": {
     "slide_type": ""
    },
    "tags": []
   },
   "outputs": [
    {
     "data": {
      "text/plain": [
       "(1215, 13)"
      ]
     },
     "execution_count": 38,
     "metadata": {},
     "output_type": "execute_result"
    }
   ],
   "source": [
    "pokemon_df.shape"
   ]
  },
  {
   "cell_type": "markdown",
   "id": "a05a017f-cafe-4071-9df0-8a9e3ecec4dd",
   "metadata": {
    "editable": true,
    "slideshow": {
     "slide_type": ""
    },
    "tags": []
   },
   "source": [
    "### Q: HP, 攻撃力, 防御力\n",
    "データフレーム`pokemon_df`で扱われているポケモンの`HP`，攻撃力（`Attack`），防御力（`Defense`）の平均値を調べなさい．"
   ]
  },
  {
   "cell_type": "code",
   "execution_count": 41,
   "id": "6a1b6935-653c-4a3a-b114-4bc187130635",
   "metadata": {
    "editable": true,
    "slideshow": {
     "slide_type": ""
    },
    "tags": []
   },
   "outputs": [
    {
     "data": {
      "text/html": [
       "<div>\n",
       "<style scoped>\n",
       "    .dataframe tbody tr th:only-of-type {\n",
       "        vertical-align: middle;\n",
       "    }\n",
       "\n",
       "    .dataframe tbody tr th {\n",
       "        vertical-align: top;\n",
       "    }\n",
       "\n",
       "    .dataframe thead th {\n",
       "        text-align: right;\n",
       "    }\n",
       "</style>\n",
       "<table border=\"1\" class=\"dataframe\">\n",
       "  <thead>\n",
       "    <tr style=\"text-align: right;\">\n",
       "      <th></th>\n",
       "      <th>HP</th>\n",
       "      <th>Attack</th>\n",
       "      <th>Defense</th>\n",
       "    </tr>\n",
       "  </thead>\n",
       "  <tbody>\n",
       "    <tr>\n",
       "      <th>count</th>\n",
       "      <td>1215.000000</td>\n",
       "      <td>1215.000000</td>\n",
       "      <td>1215.000000</td>\n",
       "    </tr>\n",
       "    <tr>\n",
       "      <th>mean</th>\n",
       "      <td>71.244444</td>\n",
       "      <td>81.152263</td>\n",
       "      <td>75.007407</td>\n",
       "    </tr>\n",
       "    <tr>\n",
       "      <th>std</th>\n",
       "      <td>26.927819</td>\n",
       "      <td>32.037134</td>\n",
       "      <td>30.740999</td>\n",
       "    </tr>\n",
       "    <tr>\n",
       "      <th>min</th>\n",
       "      <td>1.000000</td>\n",
       "      <td>5.000000</td>\n",
       "      <td>5.000000</td>\n",
       "    </tr>\n",
       "    <tr>\n",
       "      <th>25%</th>\n",
       "      <td>52.000000</td>\n",
       "      <td>57.000000</td>\n",
       "      <td>52.000000</td>\n",
       "    </tr>\n",
       "    <tr>\n",
       "      <th>50%</th>\n",
       "      <td>70.000000</td>\n",
       "      <td>80.000000</td>\n",
       "      <td>70.000000</td>\n",
       "    </tr>\n",
       "    <tr>\n",
       "      <th>75%</th>\n",
       "      <td>85.000000</td>\n",
       "      <td>100.000000</td>\n",
       "      <td>91.000000</td>\n",
       "    </tr>\n",
       "    <tr>\n",
       "      <th>max</th>\n",
       "      <td>255.000000</td>\n",
       "      <td>190.000000</td>\n",
       "      <td>250.000000</td>\n",
       "    </tr>\n",
       "  </tbody>\n",
       "</table>\n",
       "</div>"
      ],
      "text/plain": [
       "                HP       Attack      Defense\n",
       "count  1215.000000  1215.000000  1215.000000\n",
       "mean     71.244444    81.152263    75.007407\n",
       "std      26.927819    32.037134    30.740999\n",
       "min       1.000000     5.000000     5.000000\n",
       "25%      52.000000    57.000000    52.000000\n",
       "50%      70.000000    80.000000    70.000000\n",
       "75%      85.000000   100.000000    91.000000\n",
       "max     255.000000   190.000000   250.000000"
      ]
     },
     "execution_count": 41,
     "metadata": {},
     "output_type": "execute_result"
    }
   ],
   "source": [
    "pokemon_df[['HP', 'Attack', 'Defense']].describe()\n",
    "\n",
    "# 以下のほうが分かりやすい\n",
    "# target_columns = ['HP', 'Attack', 'Defense']\n",
    "# pokemon_df[target_columns].describe()"
   ]
  },
  {
   "cell_type": "markdown",
   "id": "c95cc96b-8952-43ac-9435-e7cbafe6a6c2",
   "metadata": {
    "editable": true,
    "slideshow": {
     "slide_type": ""
    },
    "tags": []
   },
   "source": [
    "### Q: 第9世代\n",
    "データフレーム`pokemon_df`の中で，第9世代（スカーレット・ヴァイオレット）のポケモンの情報を表示しなさい．"
   ]
  },
  {
   "cell_type": "code",
   "execution_count": null,
   "id": "b64846e5-7a1d-48e3-8bc7-943dd0170ef0",
   "metadata": {
    "editable": true,
    "slideshow": {
     "slide_type": ""
    },
    "tags": []
   },
   "outputs": [],
   "source": [
    "pokemon_df[pokemon_df.Generation == 9]"
   ]
  },
  {
   "cell_type": "markdown",
   "id": "4a0889cc-cfd8-4822-b28e-1044b3787ac8",
   "metadata": {
    "editable": true,
    "slideshow": {
     "slide_type": ""
    },
    "tags": []
   },
   "source": [
    "### Q: ゴーストタイプ\n",
    "データフレーム`pokemon_df`の中で「ゴースト（Ghost）」タイプのポケモンの情報を表示しなさい．"
   ]
  },
  {
   "cell_type": "code",
   "execution_count": null,
   "id": "59df6c2d-8bec-4715-9345-d5cc01d33b30",
   "metadata": {
    "editable": true,
    "slideshow": {
     "slide_type": ""
    },
    "tags": []
   },
   "outputs": [],
   "source": [
    "pokemon_df[(pokemon_df.Type1 == 'Ghost') | (pokemon_df.Type2 == 'Ghost')]\n",
    "\n",
    "# 以下でもOK\n",
    "# pokemon_df.query('Type1 == \"Ghost\" or Type2 == \"Ghost\"')"
   ]
  },
  {
   "cell_type": "markdown",
   "id": "91746216-ada5-4ca7-a658-6e4a5969ab6b",
   "metadata": {
    "editable": true,
    "slideshow": {
     "slide_type": ""
    },
    "tags": []
   },
   "source": [
    "### Q: 偏差値\n",
    "データフレーム`pokemon_df`の情報によると，`Total`値の平均値は443.1，標準偏差は121.2である．\n",
    "この値を用いてデータフレーム`pokemon_df`中の各ポケモンの`Total`値に関する偏差値を算出しなさい．\n",
    "また，計算した偏差値を`pokemon_df`の列`Total_Z_score`に格納しなさい．\n",
    "\n",
    "なお，$x$の平均値を$\\mu$，標準偏差を$\\sigma$としたとき，$x$の偏差値$z$は以下の式で計算できる：\n",
    "$$\n",
    "z = \\frac{x - \\mu}{\\sigma} \\times 10 + 50\n",
    "$$"
   ]
  },
  {
   "cell_type": "code",
   "execution_count": null,
   "id": "3670c23a-3cfa-43f0-b5ae-a0e72598dd0c",
   "metadata": {
    "editable": true,
    "slideshow": {
     "slide_type": ""
    },
    "tags": []
   },
   "outputs": [],
   "source": [
    "pokemon_df['Total_Z_score'] = ((pokemon_df.Total - 443.1) / 121.2) * 10 + 50"
   ]
  },
  {
   "cell_type": "markdown",
   "id": "e820c379-f347-4a5e-8f94-7a8a3b3142e1",
   "metadata": {
    "editable": true,
    "slideshow": {
     "slide_type": ""
    },
    "tags": []
   },
   "source": [
    "### Q: データフレームの保存\n",
    "`Total`の偏差値に関する列を追加したデータフレーム`pokemon_df`をTSVファイルとして保存しなさい．\n",
    "また，保存したTSVファイルをテキストエディタやExcelなどを用いて確認しなさい．\n",
    "なお，TSVファイル名は`pokemon.tsv`とし，見出し（列名）をファイル内に含めるようにすること．"
   ]
  },
  {
   "cell_type": "code",
   "execution_count": null,
   "id": "9e9eacfe-2c60-4977-926c-0db2bda7e77a",
   "metadata": {
    "editable": true,
    "slideshow": {
     "slide_type": ""
    },
    "tags": []
   },
   "outputs": [],
   "source": [
    "pokemon_df.to_csv('data/pokemon.tsv', sep='\\t', header=True)"
   ]
  }
 ],
 "metadata": {
  "kernelspec": {
   "display_name": "Python 3 (ipykernel)",
   "language": "python",
   "name": "python3"
  },
  "language_info": {
   "codemirror_mode": {
    "name": "ipython",
    "version": 3
   },
   "file_extension": ".py",
   "mimetype": "text/x-python",
   "name": "python",
   "nbconvert_exporter": "python",
   "pygments_lexer": "ipython3",
   "version": "3.10.13"
  }
 },
 "nbformat": 4,
 "nbformat_minor": 5
}
