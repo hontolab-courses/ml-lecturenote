{
 "cells": [
  {
   "cell_type": "markdown",
   "id": "9db3f223-58db-4508-a231-d21fb33b9f40",
   "metadata": {
    "editable": true,
    "slideshow": {
     "slide_type": ""
    },
    "tags": []
   },
   "source": [
    "# pandas入門\n",
    "\n",
    "[pandas](https://pandas.pydata.org)は表形式のデータを扱うために便利なPythonライブラリである．\n",
    "pandasは行列データを効率的に扱う[NumPy](https://numpy.org/ja/)をベースに実装されていることもあり，機械学習ライブラリとの相性も良い．\n",
    "そのため，Pythonを用いたデータ分析を行う際に非常に良く用いられる．\n",
    "\n",
    "この文書では，データ分析の際に実用的に用いるpandasの機能のうち，最低限覚えておくべき内容をピックアップする．\n"
   ]
  },
  {
   "cell_type": "markdown",
   "id": "db2831fb-d868-4839-b6bb-441474b0c636",
   "metadata": {
    "editable": true,
    "slideshow": {
     "slide_type": ""
    },
    "tags": []
   },
   "source": [
    "## はじめに - 表データとデータフレーム\n",
    "\n",
    "pandasで扱うデータは，以下のように行と列からなる表データである．\n",
    "\n",
    "| 都道府県ID | 都道府県名 | 2020年法定人口 | 県庁所在地 |\n",
    "| - | - | - | - |\n",
    "| 1 | 北海道 | 5224614 | 札幌市 |\n",
    "| 2 | 青森県 | 1237984 | 青森市 |\n",
    "| 3 | 岩手県 | 1210534 | 盛岡市 |\n",
    "| ... |  |  |  |\n"
   ]
  },
  {
   "cell_type": "markdown",
   "id": "464bcd1d-f31c-475b-9f30-c7dd76752298",
   "metadata": {
    "editable": true,
    "slideshow": {
     "slide_type": ""
    },
    "tags": []
   },
   "source": [
    "一般に表データはMicrosoftのExcelファイルで取り扱われることが多い．\n",
    "しかし，データ分析の世界では，比較的小さな表データは，特定のソフトウェアに依存しない（互換性の高い）**CSV（comma-sepprated values）ファイル**，もしくは**TSV（tab-separated values）ファイル**で保存/配布されることが多い．\n",
    "\n",
    "CSVファイルは表の各項目の値をカンマ（,）で区切ったテキストデータである．\n",
    "CSVファイルの行が表の行に相当する．\n",
    "CSVファイルの1行目には，表の構造を示す項目名を並べることがある．\n",
    "CSVファイルの拡張子には`.csv`が用いられる．\n",
    "\n",
    "以下は，上記都道府県に関する表データをCSVファイルとして保存したその中身の例である．\n",
    "\n",
    "```\n",
    " 都道府県ID,都道府県名,2020年法定人口,県庁所在地\n",
    " 1,北海道,5224614,札幌市\n",
    " 2,青森県,1237984,青森市\n",
    " 3,岩手県,1210534,盛岡市\n",
    "...\n",
    "```\n",
    "\n",
    "\n",
    "1行には表の項目（見出し）が，2行目以降には各都道府県に関するデータがカンマで区切られ定義されている．\n",
    "この表データをTSVファイルで保存する場合は，カンマではなくタブ記号（\\t）でデータを区切る．\n",
    "TSVファイルの拡張子は`.tsv`である．"
   ]
  },
  {
   "cell_type": "markdown",
   "id": "1c767f89-7db2-4a8e-aac7-8db6d423a29f",
   "metadata": {
    "editable": true,
    "slideshow": {
     "slide_type": ""
    },
    "tags": []
   },
   "source": [
    "pandasライブラリでは，表形式のデータを**データフレーム（DataFrame）** という形式に変換し，データの前処理や分析を行う．\n",
    "データフレームとは，Pythonで**計算処理を効率的に行うための表データ**のようなものと思えば良い．\n",
    "以下，pandasの扱い方について説明する．"
   ]
  },
  {
   "cell_type": "markdown",
   "id": "f6742be8-a1a3-49a9-840d-26367d6c36a8",
   "metadata": {
    "editable": true,
    "slideshow": {
     "slide_type": ""
    },
    "tags": []
   },
   "source": [
    "## ライブラリの準備"
   ]
  },
  {
   "cell_type": "markdown",
   "id": "9a8046d1-fcb8-43a9-9ee3-b023eeac3ce2",
   "metadata": {
    "editable": true,
    "slideshow": {
     "slide_type": ""
    },
    "tags": []
   },
   "source": [
    "pandasはPythonの標準ライブラリではない．\n",
    "お手元の計算環境にpandasライブラリがない場合は，以下のコマンドでpandasをインストールしよう．\n",
    "\n",
    "```shell\n",
    "pip install pandas\n",
    "```\n",
    "\n",
    "pandasをインストール後，以下のコードを実行してpandasライブラリを読み込む．"
   ]
  },
  {
   "cell_type": "code",
   "execution_count": 1,
   "id": "4782b27c-d539-4ead-bf69-a788ff83aaff",
   "metadata": {
    "editable": true,
    "slideshow": {
     "slide_type": ""
    },
    "tags": []
   },
   "outputs": [],
   "source": [
    "import pandas as pd"
   ]
  },
  {
   "cell_type": "markdown",
   "id": "1ff9715e-ab6b-4304-b2b8-781ad1f3f308",
   "metadata": {
    "editable": true,
    "slideshow": {
     "slide_type": ""
    },
    "tags": []
   },
   "source": [
    "Jupyterを用いている場合は，セルに以下を書いて実行しよう．"
   ]
  },
  {
   "cell_type": "code",
   "execution_count": 2,
   "id": "5f8beb08-cc3d-41b4-991f-a31b36877e5b",
   "metadata": {
    "editable": true,
    "slideshow": {
     "slide_type": ""
    },
    "tags": []
   },
   "outputs": [],
   "source": [
    "try:\n",
    "    import pandas as pd\n",
    "except:\n",
    "    !pip install pandas\n",
    "    import pandas as pd"
   ]
  },
  {
   "cell_type": "markdown",
   "id": "f7b5c7e0-e2ee-4402-848f-ddc04bd806d8",
   "metadata": {
    "editable": true,
    "slideshow": {
     "slide_type": ""
    },
    "tags": []
   },
   "source": [
    "以下は，表示を見やすくするためのおまじないである．"
   ]
  },
  {
   "cell_type": "code",
   "execution_count": 3,
   "id": "0011ddfb-2b9d-4596-846f-d227aac8bbb2",
   "metadata": {
    "editable": true,
    "slideshow": {
     "slide_type": ""
    },
    "tags": [
     "remove-input",
     "remove-output"
    ]
   },
   "outputs": [],
   "source": [
    "# データフレームの表示数を指定（以下のコードは書かなくてOK）\n",
    "pd.options.display.max_rows = 10"
   ]
  },
  {
   "cell_type": "code",
   "execution_count": 4,
   "id": "49710725-994b-4be5-be90-6d7724ac2a44",
   "metadata": {
    "editable": true,
    "slideshow": {
     "slide_type": ""
    },
    "tags": []
   },
   "outputs": [],
   "source": [
    "# 警告文を非表示に\n",
    "import warnings\n",
    "warnings.filterwarnings('ignore')"
   ]
  },
  {
   "cell_type": "markdown",
   "id": "72c6da60-c8ed-43e5-bc99-d6e51411f906",
   "metadata": {
    "editable": true,
    "slideshow": {
     "slide_type": ""
    },
    "tags": []
   },
   "source": [
    "## データの読み込み"
   ]
  },
  {
   "cell_type": "markdown",
   "id": "aca48236-b53f-4b81-aef2-f36bddb8446d",
   "metadata": {
    "editable": true,
    "slideshow": {
     "slide_type": ""
    },
    "tags": []
   },
   "source": [
    "### CSV/TSVファイルを読み込む\n",
    "\n",
    "Pythonで表データを分析する場合，誰かが作成したCSV/TSVファイルをpandasライブラリで読み込むのが典型的なシナリオである．\n",
    "[このURL](https://raw.githubusercontent.com/hontolab-courses/dmml-2022/main/dataset/titanic_train.csv)に[タイタニック号](https://ja.wikipedia.org/wiki/タイタニック_(客船))の乗船客に関するCSVファイルがある．\n",
    "こちらをダウンロードしてpandasで読み込んでみよう．\n",
    "ダウンロードしたファイルは`data`ディレクトリに`titanic_train.csv`という名前で保存したとする．\n",
    "\n",
    "pandasで表データを読み込むには`read_table`関数を用いる．\n",
    "以下は`dataset`ディレクトリにある`titanic_train.csv`を読み込み，ファイルの中身をデータフレームに変換したものを変数`df`に格納するコードである．\n",
    "関数の1つ目の引数にはファイルの保存先を指定する．\n",
    "`sep`という引数では，読み込んだファイルに用いられている区切り文字を指定している．\n",
    "今回読み込むファイルはCSVファイルなのでカンマ（,）を指定している．\n",
    "TSVファイルを読み込む場合はタブ文字（\\t）を指定する．"
   ]
  },
  {
   "cell_type": "code",
   "execution_count": 5,
   "id": "8ead3610-4155-4582-8f7b-e1bd035e4ead",
   "metadata": {
    "editable": true,
    "slideshow": {
     "slide_type": ""
    },
    "tags": []
   },
   "outputs": [],
   "source": [
    "df = pd.read_table('data/titanic_train.csv', sep=',')"
   ]
  },
  {
   "cell_type": "markdown",
   "id": "c55fc4dc-f828-46b9-acbf-333bda206b3b",
   "metadata": {
    "editable": true,
    "slideshow": {
     "slide_type": ""
    },
    "tags": []
   },
   "source": [
    "変数`df`を表示してみよう．\n",
    "Jupyterを用いている場合，下記コードを実行すると`df`の中身（の一部）が表示される．\n",
    "データフレーム形式のデータが得られていることが分かる．"
   ]
  },
  {
   "cell_type": "code",
   "execution_count": 6,
   "id": "296ac4c5-838b-47d6-82df-daf61399feb5",
   "metadata": {
    "editable": true,
    "slideshow": {
     "slide_type": ""
    },
    "tags": []
   },
   "outputs": [
    {
     "data": {
      "text/html": [
       "<div>\n",
       "<style scoped>\n",
       "    .dataframe tbody tr th:only-of-type {\n",
       "        vertical-align: middle;\n",
       "    }\n",
       "\n",
       "    .dataframe tbody tr th {\n",
       "        vertical-align: top;\n",
       "    }\n",
       "\n",
       "    .dataframe thead th {\n",
       "        text-align: right;\n",
       "    }\n",
       "</style>\n",
       "<table border=\"1\" class=\"dataframe\">\n",
       "  <thead>\n",
       "    <tr style=\"text-align: right;\">\n",
       "      <th></th>\n",
       "      <th>PassengerId</th>\n",
       "      <th>Survived</th>\n",
       "      <th>Pclass</th>\n",
       "      <th>Name</th>\n",
       "      <th>Sex</th>\n",
       "      <th>Age</th>\n",
       "      <th>SibSp</th>\n",
       "      <th>Parch</th>\n",
       "      <th>Ticket</th>\n",
       "      <th>Fare</th>\n",
       "      <th>Cabin</th>\n",
       "      <th>Embarked</th>\n",
       "    </tr>\n",
       "  </thead>\n",
       "  <tbody>\n",
       "    <tr>\n",
       "      <th>0</th>\n",
       "      <td>1</td>\n",
       "      <td>0</td>\n",
       "      <td>3</td>\n",
       "      <td>Braund, Mr. Owen Harris</td>\n",
       "      <td>male</td>\n",
       "      <td>22.0</td>\n",
       "      <td>1</td>\n",
       "      <td>0</td>\n",
       "      <td>A/5 21171</td>\n",
       "      <td>7.2500</td>\n",
       "      <td>NaN</td>\n",
       "      <td>S</td>\n",
       "    </tr>\n",
       "    <tr>\n",
       "      <th>1</th>\n",
       "      <td>2</td>\n",
       "      <td>1</td>\n",
       "      <td>1</td>\n",
       "      <td>Cumings, Mrs. John Bradley (Florence Briggs Th...</td>\n",
       "      <td>female</td>\n",
       "      <td>38.0</td>\n",
       "      <td>1</td>\n",
       "      <td>0</td>\n",
       "      <td>PC 17599</td>\n",
       "      <td>71.2833</td>\n",
       "      <td>C85</td>\n",
       "      <td>C</td>\n",
       "    </tr>\n",
       "    <tr>\n",
       "      <th>2</th>\n",
       "      <td>3</td>\n",
       "      <td>1</td>\n",
       "      <td>3</td>\n",
       "      <td>Heikkinen, Miss. Laina</td>\n",
       "      <td>female</td>\n",
       "      <td>26.0</td>\n",
       "      <td>0</td>\n",
       "      <td>0</td>\n",
       "      <td>STON/O2. 3101282</td>\n",
       "      <td>7.9250</td>\n",
       "      <td>NaN</td>\n",
       "      <td>S</td>\n",
       "    </tr>\n",
       "    <tr>\n",
       "      <th>3</th>\n",
       "      <td>4</td>\n",
       "      <td>1</td>\n",
       "      <td>1</td>\n",
       "      <td>Futrelle, Mrs. Jacques Heath (Lily May Peel)</td>\n",
       "      <td>female</td>\n",
       "      <td>35.0</td>\n",
       "      <td>1</td>\n",
       "      <td>0</td>\n",
       "      <td>113803</td>\n",
       "      <td>53.1000</td>\n",
       "      <td>C123</td>\n",
       "      <td>S</td>\n",
       "    </tr>\n",
       "    <tr>\n",
       "      <th>4</th>\n",
       "      <td>5</td>\n",
       "      <td>0</td>\n",
       "      <td>3</td>\n",
       "      <td>Allen, Mr. William Henry</td>\n",
       "      <td>male</td>\n",
       "      <td>35.0</td>\n",
       "      <td>0</td>\n",
       "      <td>0</td>\n",
       "      <td>373450</td>\n",
       "      <td>8.0500</td>\n",
       "      <td>NaN</td>\n",
       "      <td>S</td>\n",
       "    </tr>\n",
       "    <tr>\n",
       "      <th>...</th>\n",
       "      <td>...</td>\n",
       "      <td>...</td>\n",
       "      <td>...</td>\n",
       "      <td>...</td>\n",
       "      <td>...</td>\n",
       "      <td>...</td>\n",
       "      <td>...</td>\n",
       "      <td>...</td>\n",
       "      <td>...</td>\n",
       "      <td>...</td>\n",
       "      <td>...</td>\n",
       "      <td>...</td>\n",
       "    </tr>\n",
       "    <tr>\n",
       "      <th>886</th>\n",
       "      <td>887</td>\n",
       "      <td>0</td>\n",
       "      <td>2</td>\n",
       "      <td>Montvila, Rev. Juozas</td>\n",
       "      <td>male</td>\n",
       "      <td>27.0</td>\n",
       "      <td>0</td>\n",
       "      <td>0</td>\n",
       "      <td>211536</td>\n",
       "      <td>13.0000</td>\n",
       "      <td>NaN</td>\n",
       "      <td>S</td>\n",
       "    </tr>\n",
       "    <tr>\n",
       "      <th>887</th>\n",
       "      <td>888</td>\n",
       "      <td>1</td>\n",
       "      <td>1</td>\n",
       "      <td>Graham, Miss. Margaret Edith</td>\n",
       "      <td>female</td>\n",
       "      <td>19.0</td>\n",
       "      <td>0</td>\n",
       "      <td>0</td>\n",
       "      <td>112053</td>\n",
       "      <td>30.0000</td>\n",
       "      <td>B42</td>\n",
       "      <td>S</td>\n",
       "    </tr>\n",
       "    <tr>\n",
       "      <th>888</th>\n",
       "      <td>889</td>\n",
       "      <td>0</td>\n",
       "      <td>3</td>\n",
       "      <td>Johnston, Miss. Catherine Helen \"Carrie\"</td>\n",
       "      <td>female</td>\n",
       "      <td>NaN</td>\n",
       "      <td>1</td>\n",
       "      <td>2</td>\n",
       "      <td>W./C. 6607</td>\n",
       "      <td>23.4500</td>\n",
       "      <td>NaN</td>\n",
       "      <td>S</td>\n",
       "    </tr>\n",
       "    <tr>\n",
       "      <th>889</th>\n",
       "      <td>890</td>\n",
       "      <td>1</td>\n",
       "      <td>1</td>\n",
       "      <td>Behr, Mr. Karl Howell</td>\n",
       "      <td>male</td>\n",
       "      <td>26.0</td>\n",
       "      <td>0</td>\n",
       "      <td>0</td>\n",
       "      <td>111369</td>\n",
       "      <td>30.0000</td>\n",
       "      <td>C148</td>\n",
       "      <td>C</td>\n",
       "    </tr>\n",
       "    <tr>\n",
       "      <th>890</th>\n",
       "      <td>891</td>\n",
       "      <td>0</td>\n",
       "      <td>3</td>\n",
       "      <td>Dooley, Mr. Patrick</td>\n",
       "      <td>male</td>\n",
       "      <td>32.0</td>\n",
       "      <td>0</td>\n",
       "      <td>0</td>\n",
       "      <td>370376</td>\n",
       "      <td>7.7500</td>\n",
       "      <td>NaN</td>\n",
       "      <td>Q</td>\n",
       "    </tr>\n",
       "  </tbody>\n",
       "</table>\n",
       "<p>891 rows × 12 columns</p>\n",
       "</div>"
      ],
      "text/plain": [
       "     PassengerId  Survived  Pclass  \\\n",
       "0              1         0       3   \n",
       "1              2         1       1   \n",
       "2              3         1       3   \n",
       "3              4         1       1   \n",
       "4              5         0       3   \n",
       "..           ...       ...     ...   \n",
       "886          887         0       2   \n",
       "887          888         1       1   \n",
       "888          889         0       3   \n",
       "889          890         1       1   \n",
       "890          891         0       3   \n",
       "\n",
       "                                                  Name     Sex   Age  SibSp  \\\n",
       "0                              Braund, Mr. Owen Harris    male  22.0      1   \n",
       "1    Cumings, Mrs. John Bradley (Florence Briggs Th...  female  38.0      1   \n",
       "2                               Heikkinen, Miss. Laina  female  26.0      0   \n",
       "3         Futrelle, Mrs. Jacques Heath (Lily May Peel)  female  35.0      1   \n",
       "4                             Allen, Mr. William Henry    male  35.0      0   \n",
       "..                                                 ...     ...   ...    ...   \n",
       "886                              Montvila, Rev. Juozas    male  27.0      0   \n",
       "887                       Graham, Miss. Margaret Edith  female  19.0      0   \n",
       "888           Johnston, Miss. Catherine Helen \"Carrie\"  female   NaN      1   \n",
       "889                              Behr, Mr. Karl Howell    male  26.0      0   \n",
       "890                                Dooley, Mr. Patrick    male  32.0      0   \n",
       "\n",
       "     Parch            Ticket     Fare Cabin Embarked  \n",
       "0        0         A/5 21171   7.2500   NaN        S  \n",
       "1        0          PC 17599  71.2833   C85        C  \n",
       "2        0  STON/O2. 3101282   7.9250   NaN        S  \n",
       "3        0            113803  53.1000  C123        S  \n",
       "4        0            373450   8.0500   NaN        S  \n",
       "..     ...               ...      ...   ...      ...  \n",
       "886      0            211536  13.0000   NaN        S  \n",
       "887      0            112053  30.0000   B42        S  \n",
       "888      2        W./C. 6607  23.4500   NaN        S  \n",
       "889      0            111369  30.0000  C148        C  \n",
       "890      0            370376   7.7500   NaN        Q  \n",
       "\n",
       "[891 rows x 12 columns]"
      ]
     },
     "execution_count": 6,
     "metadata": {},
     "output_type": "execute_result"
    }
   ],
   "source": [
    "df"
   ]
  },
  {
   "cell_type": "markdown",
   "id": "c1da95df-13cf-4e42-9f4d-f690bca4be52",
   "metadata": {
    "editable": true,
    "slideshow": {
     "slide_type": ""
    },
    "tags": []
   },
   "source": [
    "先ほどはダウンロードしたファイルを読み込んだが，`read_table`関数はURLを指定することでファイルのダウンロードと読み込みを一括して行ってくれる．\n",
    "先ほどのコードを以下に書き換えると，指定したURL上のファイルを読み込み，データフレームを作成する．"
   ]
  },
  {
   "cell_type": "code",
   "execution_count": 7,
   "id": "059633d3-ebc5-4e08-af49-602726de61aa",
   "metadata": {
    "editable": true,
    "slideshow": {
     "slide_type": ""
    },
    "tags": []
   },
   "outputs": [],
   "source": [
    "df = pd.read_table('https://raw.githubusercontent.com/hontolab-courses/dmml-2022/main/dataset/titanic_train.csv', sep=',')"
   ]
  },
  {
   "cell_type": "markdown",
   "id": "b39a6313-4916-430c-a21e-0c056aa40468",
   "metadata": {
    "editable": true,
    "slideshow": {
     "slide_type": ""
    },
    "tags": []
   },
   "source": [
    "`read_table`関数は引数に様々なオプションを指定できる（詳しくは[ドキュメント](https://pandas.pydata.org/pandas-docs/stable/reference/api/pandas.read_table.html)を参考）．\n",
    "代表的な引数は以下の通り：\n",
    "- `sep`: 区切り文字\n",
    "- `header`: 指定ファイルの中で見出し項目が格納された行番号（デフォルトは0）\n",
    "- `encoding`: ファイルの文字コード\n",
    "\n",
    "例えば，[こちらのURL](https://www.nstac.go.jp/sys/files/SSDSE-E-2024.csv)で公開されている独立行政法人統計センター作成の[教育用標準データセットSSDSE-基本素材（SSDSE-E）](https://www.nstac.go.jp/use/literacy/ssdse/#SSDSE-E)の表データを読み込んでみよう．"
   ]
  },
  {
   "cell_type": "markdown",
   "id": "36622e3b-c6c2-41b2-8c56-3b34e55f7833",
   "metadata": {
    "editable": true,
    "slideshow": {
     "slide_type": ""
    },
    "tags": []
   },
   "source": [
    "このデータはCSVファイルに格納されているが，文字コードとしてSHIFT-JISが用いられている．\n",
    "また，表の見出しは3行目で定義されており，4行目以降に実データが記述されている．\n",
    "このことを踏まえて，SSDSE-Eのデータをデータフレームとして読み込むコードは以下となる．"
   ]
  },
  {
   "cell_type": "code",
   "execution_count": 8,
   "id": "2d5fc37e-061e-44a5-b82c-bb9f0abaf202",
   "metadata": {
    "editable": true,
    "slideshow": {
     "slide_type": ""
    },
    "tags": []
   },
   "outputs": [],
   "source": [
    "# CSVファイルの1行目をpandasではゼロ行目と読むので，3行目のデータを見出しとして指定する場合はheader=2となる\n",
    "df = pd.read_table('https://www.nstac.go.jp/sys/files/SSDSE-E-2024.csv', sep=',', header=2, encoding='shift-jis')"
   ]
  },
  {
   "cell_type": "markdown",
   "id": "7850364f-e78a-46bc-9fa8-ea22c9341f06",
   "metadata": {
    "editable": true,
    "slideshow": {
     "slide_type": ""
    },
    "tags": []
   },
   "source": [
    "## データの確認\n",
    "\n",
    "以下，上で読み込んだ独立行政法人統計センター作成の[教育用標準データセットSSDSE-基本素材（SSDSE-E）](https://www.nstac.go.jp/use/literacy/ssdse/#SSDSE-E)の表データがデータフレームに変換の上，変数`df`に格納されているとの前提で説明する．"
   ]
  },
  {
   "cell_type": "markdown",
   "id": "09856142-dbda-4872-ad0b-d65557c6210a",
   "metadata": {
    "editable": true,
    "slideshow": {
     "slide_type": ""
    },
    "tags": []
   },
   "source": [
    "### 表の行数，列数の確認\n",
    "\n",
    "DataFrameオブジェクトのプロパティ`shape`にアクセスすると行数と列数のタプルが得られる．"
   ]
  },
  {
   "cell_type": "code",
   "execution_count": 9,
   "id": "33cdf13d-7ac9-4265-a9de-92357317fc12",
   "metadata": {
    "editable": true,
    "slideshow": {
     "slide_type": ""
    },
    "tags": []
   },
   "outputs": [
    {
     "data": {
      "text/plain": [
       "(48, 92)"
      ]
     },
     "execution_count": 9,
     "metadata": {},
     "output_type": "execute_result"
    }
   ],
   "source": [
    "df.shape"
   ]
  },
  {
   "cell_type": "markdown",
   "id": "f0a29012-602c-4359-bb4a-50812e25d9c0",
   "metadata": {
    "editable": true,
    "slideshow": {
     "slide_type": ""
    },
    "tags": []
   },
   "source": [
    "### 表の行数"
   ]
  },
  {
   "cell_type": "markdown",
   "id": "7ad611ad-78ba-4d09-8a52-f66494308585",
   "metadata": {
    "editable": true,
    "slideshow": {
     "slide_type": ""
    },
    "tags": []
   },
   "source": [
    "表データの行数だけを得たいときは，`len`関数を用いる（[★Quiz Q2](#L1-Q2)）．"
   ]
  },
  {
   "cell_type": "code",
   "execution_count": 10,
   "id": "fc273999-fa66-4700-9163-11a5a2814d77",
   "metadata": {
    "editable": true,
    "slideshow": {
     "slide_type": ""
    },
    "tags": []
   },
   "outputs": [
    {
     "data": {
      "text/plain": [
       "48"
      ]
     },
     "execution_count": 10,
     "metadata": {},
     "output_type": "execute_result"
    }
   ],
   "source": [
    "len(df)"
   ]
  },
  {
   "cell_type": "markdown",
   "id": "c274235e-76ea-4517-9ded-d18307be4747",
   "metadata": {
    "editable": true,
    "slideshow": {
     "slide_type": ""
    },
    "tags": []
   },
   "source": [
    "### 表の項目情報"
   ]
  },
  {
   "cell_type": "markdown",
   "id": "a86b0264-1da6-4387-964a-fe2125c6b53a",
   "metadata": {
    "editable": true,
    "slideshow": {
     "slide_type": ""
    },
    "tags": []
   },
   "source": [
    "表データの項目名を取得したい場合は，DataFrameオブジェクトのプロパティ`columns`にアクセスする．\n",
    "`columns`にアクセスすると，項目名のリストを得られる．"
   ]
  },
  {
   "cell_type": "code",
   "execution_count": 11,
   "id": "ad74d515-6925-4073-bf1c-a3a111074391",
   "metadata": {
    "editable": true,
    "slideshow": {
     "slide_type": ""
    },
    "tags": []
   },
   "outputs": [
    {
     "data": {
      "text/plain": [
       "Index(['地域コード', '都道府県', '総人口', '日本人人口', '15歳未満人口', '15〜64歳人口', '65歳以上人口',\n",
       "       '外国人人口', '出生数', '合計特殊出生率', '死亡数', '転入者数（日本人移動者）', '転出者数（日本人移動者）',\n",
       "       '一般世帯数', '一般世帯人員数', '単独世帯数', '婚姻件数', '離婚件数', '総面積（北方地域及び竹島を除く）',\n",
       "       '可住地面積', '自然公園面積', '県内総生産額（平成27年基準）', '県民所得（平成27年基準）',\n",
       "       '1人当たり県民所得（平成27年基準）', '事業所数（民営）', '事業所数（民営）（建設業）', '事業所数（民営）（製造業）',\n",
       "       '事業所数（民営）（情報通信業）', '事業所数（民営）（卸売業、小売業）', '事業所数（民営）（宿泊業、飲食サービス業）',\n",
       "       '事業所数（民営）（生活関連サービス業、娯楽業）', '事業所数（民営）（医療、福祉）', '従業者数（民営）',\n",
       "       '従業者数（民営）（建設業）', '従業者数（民営）（製造業）', '従業者数（民営）（情報通信業）',\n",
       "       '従業者数（民営）（卸売業、小売業）', '従業者数（民営）（宿泊業、飲食サービス業）', '従業者数（民営）（生活関連サービス業、娯楽業）',\n",
       "       '従業者数（民営）（医療、福祉）', '農家数（販売農家）', '農家数（自給的農家）', '耕地面積', '旅館営業施設数（ホテルを含む）',\n",
       "       '旅館営業施設客室数（ホテルを含む）', '幼稚園数', '幼稚園在園者数', '小学校数', '小学校児童数', '中学校数',\n",
       "       '中学校生徒数', '高等学校数', '高等学校生徒数', '短期大学数', '大学数', '短期大学学生数', '大学学生数',\n",
       "       '公民館数', '図書館数', '博物館数', '劇場、音楽堂等数', '社会体育施設数', '民間体育施設数', '映画館数',\n",
       "       '一般旅券発行件数', '延べ宿泊者数', '外国人延べ宿泊者数', '総住宅数', '空き家数', '持ち家数', '一戸建住宅数',\n",
       "       '1住宅当たり延べ面積', '総人口（非水洗化人口＋水洗化人口）', '非水洗化人口', 'ごみ総排出量（総量）',\n",
       "       '1人1日当たりの排出量', 'ごみのリサイクル率', '小売店数', '飲食店数', '大型小売店数', '一般病院数', '一般診療所数',\n",
       "       '歯科診療所数', '医師数', '歯科医師数', '薬剤師数', '保育所等数', '保育所等在所児数', '消費支出（二人以上の世帯）',\n",
       "       '食料費（二人以上の世帯）', '住居費（二人以上の世帯）', '教養娯楽費（二人以上の世帯）'],\n",
       "      dtype='object')"
      ]
     },
     "execution_count": 11,
     "metadata": {},
     "output_type": "execute_result"
    }
   ],
   "source": [
    "df.columns"
   ]
  },
  {
   "cell_type": "markdown",
   "id": "45a43ea8-6224-492d-9c85-347c00608670",
   "metadata": {
    "editable": true,
    "slideshow": {
     "slide_type": ""
    },
    "tags": []
   },
   "source": [
    "### 基本統計量"
   ]
  },
  {
   "cell_type": "markdown",
   "id": "09686920-c22c-4e34-b5d7-f583786279e0",
   "metadata": {
    "editable": true,
    "slideshow": {
     "slide_type": ""
    },
    "tags": []
   },
   "source": [
    "DataFrameオブジェクトのメソッド`describe`を用いると，表の各項目の基本統計量が得られる．\n",
    "得られる基本統計量は以下の通り：\n",
    "- データ数\n",
    "- 平均\n",
    "- 標準偏差\n",
    "- 最小値，最大値\n",
    "- 中央値\n",
    "- 第1四分位数，第3四分位数\n"
   ]
  },
  {
   "cell_type": "code",
   "execution_count": 12,
   "id": "f9a77797-dda2-4dde-93ce-120eca9fa98c",
   "metadata": {
    "editable": true,
    "slideshow": {
     "slide_type": ""
    },
    "tags": []
   },
   "outputs": [
    {
     "data": {
      "text/html": [
       "<div>\n",
       "<style scoped>\n",
       "    .dataframe tbody tr th:only-of-type {\n",
       "        vertical-align: middle;\n",
       "    }\n",
       "\n",
       "    .dataframe tbody tr th {\n",
       "        vertical-align: top;\n",
       "    }\n",
       "\n",
       "    .dataframe thead th {\n",
       "        text-align: right;\n",
       "    }\n",
       "</style>\n",
       "<table border=\"1\" class=\"dataframe\">\n",
       "  <thead>\n",
       "    <tr style=\"text-align: right;\">\n",
       "      <th></th>\n",
       "      <th>総人口</th>\n",
       "      <th>日本人人口</th>\n",
       "      <th>15歳未満人口</th>\n",
       "      <th>15〜64歳人口</th>\n",
       "      <th>65歳以上人口</th>\n",
       "      <th>外国人人口</th>\n",
       "      <th>出生数</th>\n",
       "      <th>合計特殊出生率</th>\n",
       "      <th>死亡数</th>\n",
       "      <th>転入者数（日本人移動者）</th>\n",
       "      <th>...</th>\n",
       "      <th>歯科診療所数</th>\n",
       "      <th>医師数</th>\n",
       "      <th>歯科医師数</th>\n",
       "      <th>薬剤師数</th>\n",
       "      <th>保育所等数</th>\n",
       "      <th>保育所等在所児数</th>\n",
       "      <th>消費支出（二人以上の世帯）</th>\n",
       "      <th>食料費（二人以上の世帯）</th>\n",
       "      <th>住居費（二人以上の世帯）</th>\n",
       "      <th>教養娯楽費（二人以上の世帯）</th>\n",
       "    </tr>\n",
       "  </thead>\n",
       "  <tbody>\n",
       "    <tr>\n",
       "      <th>count</th>\n",
       "      <td>4.800000e+01</td>\n",
       "      <td>4.800000e+01</td>\n",
       "      <td>4.800000e+01</td>\n",
       "      <td>4.800000e+01</td>\n",
       "      <td>4.800000e+01</td>\n",
       "      <td>4.800000e+01</td>\n",
       "      <td>48.000000</td>\n",
       "      <td>48.000000</td>\n",
       "      <td>4.800000e+01</td>\n",
       "      <td>4.800000e+01</td>\n",
       "      <td>...</td>\n",
       "      <td>48.000000</td>\n",
       "      <td>48.000000</td>\n",
       "      <td>48.000000</td>\n",
       "      <td>48.000000</td>\n",
       "      <td>48.000000</td>\n",
       "      <td>4.800000e+01</td>\n",
       "      <td>48.000000</td>\n",
       "      <td>48.000000</td>\n",
       "      <td>48.00000</td>\n",
       "      <td>48.000000</td>\n",
       "    </tr>\n",
       "    <tr>\n",
       "      <th>mean</th>\n",
       "      <td>5.206104e+06</td>\n",
       "      <td>5.084646e+06</td>\n",
       "      <td>6.043125e+05</td>\n",
       "      <td>3.092000e+06</td>\n",
       "      <td>1.509812e+06</td>\n",
       "      <td>1.001025e+05</td>\n",
       "      <td>33817.354167</td>\n",
       "      <td>1.397708</td>\n",
       "      <td>5.997579e+04</td>\n",
       "      <td>9.397342e+04</td>\n",
       "      <td>...</td>\n",
       "      <td>2829.125000</td>\n",
       "      <td>14150.958333</td>\n",
       "      <td>4476.791667</td>\n",
       "      <td>13415.916667</td>\n",
       "      <td>1249.750000</td>\n",
       "      <td>1.101331e+05</td>\n",
       "      <td>289656.083333</td>\n",
       "      <td>76615.958333</td>\n",
       "      <td>19231.12500</td>\n",
       "      <td>25987.687500</td>\n",
       "    </tr>\n",
       "    <tr>\n",
       "      <th>std</th>\n",
       "      <td>1.786588e+07</td>\n",
       "      <td>1.744375e+07</td>\n",
       "      <td>2.072707e+06</td>\n",
       "      <td>1.063209e+07</td>\n",
       "      <td>5.164664e+06</td>\n",
       "      <td>3.497592e+05</td>\n",
       "      <td>116144.047847</td>\n",
       "      <td>0.145225</td>\n",
       "      <td>2.051223e+05</td>\n",
       "      <td>3.259851e+05</td>\n",
       "      <td>...</td>\n",
       "      <td>9765.277128</td>\n",
       "      <td>48665.779507</td>\n",
       "      <td>15458.270437</td>\n",
       "      <td>46353.143907</td>\n",
       "      <td>4278.561169</td>\n",
       "      <td>3.769878e+05</td>\n",
       "      <td>18982.531256</td>\n",
       "      <td>5518.803196</td>\n",
       "      <td>4783.81712</td>\n",
       "      <td>3771.185339</td>\n",
       "    </tr>\n",
       "    <tr>\n",
       "      <th>min</th>\n",
       "      <td>5.440000e+05</td>\n",
       "      <td>5.390000e+05</td>\n",
       "      <td>6.600000e+04</td>\n",
       "      <td>2.980000e+05</td>\n",
       "      <td>1.800000e+05</td>\n",
       "      <td>3.651000e+03</td>\n",
       "      <td>3708.000000</td>\n",
       "      <td>1.080000</td>\n",
       "      <td>7.605000e+03</td>\n",
       "      <td>7.967000e+03</td>\n",
       "      <td>...</td>\n",
       "      <td>254.000000</td>\n",
       "      <td>1871.000000</td>\n",
       "      <td>369.000000</td>\n",
       "      <td>1229.000000</td>\n",
       "      <td>185.000000</td>\n",
       "      <td>1.640300e+04</td>\n",
       "      <td>245054.000000</td>\n",
       "      <td>67889.000000</td>\n",
       "      <td>6220.00000</td>\n",
       "      <td>17601.000000</td>\n",
       "    </tr>\n",
       "    <tr>\n",
       "      <th>25%</th>\n",
       "      <td>1.049250e+06</td>\n",
       "      <td>1.041250e+06</td>\n",
       "      <td>1.205000e+05</td>\n",
       "      <td>5.690000e+05</td>\n",
       "      <td>3.500000e+05</td>\n",
       "      <td>9.606750e+03</td>\n",
       "      <td>6409.750000</td>\n",
       "      <td>1.300000</td>\n",
       "      <td>1.366800e+04</td>\n",
       "      <td>1.544575e+04</td>\n",
       "      <td>...</td>\n",
       "      <td>489.500000</td>\n",
       "      <td>2867.250000</td>\n",
       "      <td>738.000000</td>\n",
       "      <td>2424.000000</td>\n",
       "      <td>298.750000</td>\n",
       "      <td>2.488425e+04</td>\n",
       "      <td>276968.250000</td>\n",
       "      <td>72335.500000</td>\n",
       "      <td>16401.00000</td>\n",
       "      <td>22929.250000</td>\n",
       "    </tr>\n",
       "    <tr>\n",
       "      <th>50%</th>\n",
       "      <td>1.640500e+06</td>\n",
       "      <td>1.619500e+06</td>\n",
       "      <td>2.025000e+05</td>\n",
       "      <td>9.135000e+05</td>\n",
       "      <td>5.270000e+05</td>\n",
       "      <td>1.567700e+04</td>\n",
       "      <td>11108.000000</td>\n",
       "      <td>1.400000</td>\n",
       "      <td>2.180900e+04</td>\n",
       "      <td>2.477100e+04</td>\n",
       "      <td>...</td>\n",
       "      <td>804.000000</td>\n",
       "      <td>4348.500000</td>\n",
       "      <td>1277.500000</td>\n",
       "      <td>3524.000000</td>\n",
       "      <td>447.500000</td>\n",
       "      <td>3.953300e+04</td>\n",
       "      <td>289323.000000</td>\n",
       "      <td>75822.500000</td>\n",
       "      <td>19698.50000</td>\n",
       "      <td>25953.500000</td>\n",
       "    </tr>\n",
       "    <tr>\n",
       "      <th>75%</th>\n",
       "      <td>2.780000e+06</td>\n",
       "      <td>2.722750e+06</td>\n",
       "      <td>3.257500e+05</td>\n",
       "      <td>1.609250e+06</td>\n",
       "      <td>8.355000e+05</td>\n",
       "      <td>5.268950e+04</td>\n",
       "      <td>17035.500000</td>\n",
       "      <td>1.467500</td>\n",
       "      <td>3.228400e+04</td>\n",
       "      <td>4.818850e+04</td>\n",
       "      <td>...</td>\n",
       "      <td>1413.000000</td>\n",
       "      <td>7921.500000</td>\n",
       "      <td>2151.000000</td>\n",
       "      <td>6954.000000</td>\n",
       "      <td>684.500000</td>\n",
       "      <td>5.955550e+04</td>\n",
       "      <td>301817.000000</td>\n",
       "      <td>80910.250000</td>\n",
       "      <td>22282.00000</td>\n",
       "      <td>28304.500000</td>\n",
       "    </tr>\n",
       "    <tr>\n",
       "      <th>max</th>\n",
       "      <td>1.249470e+08</td>\n",
       "      <td>1.220310e+08</td>\n",
       "      <td>1.450300e+07</td>\n",
       "      <td>7.420800e+07</td>\n",
       "      <td>3.623600e+07</td>\n",
       "      <td>2.402460e+06</td>\n",
       "      <td>811622.000000</td>\n",
       "      <td>1.800000</td>\n",
       "      <td>1.439856e+06</td>\n",
       "      <td>2.255362e+06</td>\n",
       "      <td>...</td>\n",
       "      <td>67899.000000</td>\n",
       "      <td>339623.000000</td>\n",
       "      <td>107443.000000</td>\n",
       "      <td>321982.000000</td>\n",
       "      <td>29994.000000</td>\n",
       "      <td>2.643196e+06</td>\n",
       "      <td>324793.000000</td>\n",
       "      <td>87973.000000</td>\n",
       "      <td>30323.00000</td>\n",
       "      <td>35050.000000</td>\n",
       "    </tr>\n",
       "  </tbody>\n",
       "</table>\n",
       "<p>8 rows × 90 columns</p>\n",
       "</div>"
      ],
      "text/plain": [
       "                総人口         日本人人口       15歳未満人口      15〜64歳人口       65歳以上人口  \\\n",
       "count  4.800000e+01  4.800000e+01  4.800000e+01  4.800000e+01  4.800000e+01   \n",
       "mean   5.206104e+06  5.084646e+06  6.043125e+05  3.092000e+06  1.509812e+06   \n",
       "std    1.786588e+07  1.744375e+07  2.072707e+06  1.063209e+07  5.164664e+06   \n",
       "min    5.440000e+05  5.390000e+05  6.600000e+04  2.980000e+05  1.800000e+05   \n",
       "25%    1.049250e+06  1.041250e+06  1.205000e+05  5.690000e+05  3.500000e+05   \n",
       "50%    1.640500e+06  1.619500e+06  2.025000e+05  9.135000e+05  5.270000e+05   \n",
       "75%    2.780000e+06  2.722750e+06  3.257500e+05  1.609250e+06  8.355000e+05   \n",
       "max    1.249470e+08  1.220310e+08  1.450300e+07  7.420800e+07  3.623600e+07   \n",
       "\n",
       "              外国人人口            出生数    合計特殊出生率           死亡数  転入者数（日本人移動者）  \\\n",
       "count  4.800000e+01      48.000000  48.000000  4.800000e+01  4.800000e+01   \n",
       "mean   1.001025e+05   33817.354167   1.397708  5.997579e+04  9.397342e+04   \n",
       "std    3.497592e+05  116144.047847   0.145225  2.051223e+05  3.259851e+05   \n",
       "min    3.651000e+03    3708.000000   1.080000  7.605000e+03  7.967000e+03   \n",
       "25%    9.606750e+03    6409.750000   1.300000  1.366800e+04  1.544575e+04   \n",
       "50%    1.567700e+04   11108.000000   1.400000  2.180900e+04  2.477100e+04   \n",
       "75%    5.268950e+04   17035.500000   1.467500  3.228400e+04  4.818850e+04   \n",
       "max    2.402460e+06  811622.000000   1.800000  1.439856e+06  2.255362e+06   \n",
       "\n",
       "       ...        歯科診療所数            医師数          歯科医師数           薬剤師数  \\\n",
       "count  ...     48.000000      48.000000      48.000000      48.000000   \n",
       "mean   ...   2829.125000   14150.958333    4476.791667   13415.916667   \n",
       "std    ...   9765.277128   48665.779507   15458.270437   46353.143907   \n",
       "min    ...    254.000000    1871.000000     369.000000    1229.000000   \n",
       "25%    ...    489.500000    2867.250000     738.000000    2424.000000   \n",
       "50%    ...    804.000000    4348.500000    1277.500000    3524.000000   \n",
       "75%    ...   1413.000000    7921.500000    2151.000000    6954.000000   \n",
       "max    ...  67899.000000  339623.000000  107443.000000  321982.000000   \n",
       "\n",
       "              保育所等数      保育所等在所児数  消費支出（二人以上の世帯）  食料費（二人以上の世帯）  住居費（二人以上の世帯）  \\\n",
       "count     48.000000  4.800000e+01      48.000000     48.000000      48.00000   \n",
       "mean    1249.750000  1.101331e+05  289656.083333  76615.958333   19231.12500   \n",
       "std     4278.561169  3.769878e+05   18982.531256   5518.803196    4783.81712   \n",
       "min      185.000000  1.640300e+04  245054.000000  67889.000000    6220.00000   \n",
       "25%      298.750000  2.488425e+04  276968.250000  72335.500000   16401.00000   \n",
       "50%      447.500000  3.953300e+04  289323.000000  75822.500000   19698.50000   \n",
       "75%      684.500000  5.955550e+04  301817.000000  80910.250000   22282.00000   \n",
       "max    29994.000000  2.643196e+06  324793.000000  87973.000000   30323.00000   \n",
       "\n",
       "       教養娯楽費（二人以上の世帯）  \n",
       "count       48.000000  \n",
       "mean     25987.687500  \n",
       "std       3771.185339  \n",
       "min      17601.000000  \n",
       "25%      22929.250000  \n",
       "50%      25953.500000  \n",
       "75%      28304.500000  \n",
       "max      35050.000000  \n",
       "\n",
       "[8 rows x 90 columns]"
      ]
     },
     "execution_count": 12,
     "metadata": {},
     "output_type": "execute_result"
    }
   ],
   "source": [
    "df.describe()"
   ]
  },
  {
   "cell_type": "markdown",
   "id": "c51c2a2b-6c11-472a-8ea3-85a049970cd6",
   "metadata": {
    "editable": true,
    "slideshow": {
     "slide_type": ""
    },
    "tags": []
   },
   "source": [
    "## データフレームへのアクセス"
   ]
  },
  {
   "cell_type": "markdown",
   "id": "c3670697-ef8d-4647-829e-54f50d4c1f43",
   "metadata": {
    "editable": true,
    "slideshow": {
     "slide_type": ""
    },
    "tags": []
   },
   "source": [
    "### 先頭・末尾のレコード（行）の取得"
   ]
  },
  {
   "cell_type": "markdown",
   "id": "669875e7-8551-4f04-8569-98638d46cc15",
   "metadata": {
    "editable": true,
    "slideshow": {
     "slide_type": ""
    },
    "tags": []
   },
   "source": [
    "DataFrameオブジェクトのメソッド`head`は，データフレームの先頭$N$件のレコードを返す．\n",
    "引数に何も指定しないと5件返す．"
   ]
  },
  {
   "cell_type": "code",
   "execution_count": 13,
   "id": "b50afd30-d1e8-407a-84bc-1c1dac951b20",
   "metadata": {
    "editable": true,
    "slideshow": {
     "slide_type": ""
    },
    "tags": []
   },
   "outputs": [
    {
     "data": {
      "text/html": [
       "<div>\n",
       "<style scoped>\n",
       "    .dataframe tbody tr th:only-of-type {\n",
       "        vertical-align: middle;\n",
       "    }\n",
       "\n",
       "    .dataframe tbody tr th {\n",
       "        vertical-align: top;\n",
       "    }\n",
       "\n",
       "    .dataframe thead th {\n",
       "        text-align: right;\n",
       "    }\n",
       "</style>\n",
       "<table border=\"1\" class=\"dataframe\">\n",
       "  <thead>\n",
       "    <tr style=\"text-align: right;\">\n",
       "      <th></th>\n",
       "      <th>地域コード</th>\n",
       "      <th>都道府県</th>\n",
       "      <th>総人口</th>\n",
       "      <th>日本人人口</th>\n",
       "      <th>15歳未満人口</th>\n",
       "      <th>15〜64歳人口</th>\n",
       "      <th>65歳以上人口</th>\n",
       "      <th>外国人人口</th>\n",
       "      <th>出生数</th>\n",
       "      <th>合計特殊出生率</th>\n",
       "      <th>...</th>\n",
       "      <th>歯科診療所数</th>\n",
       "      <th>医師数</th>\n",
       "      <th>歯科医師数</th>\n",
       "      <th>薬剤師数</th>\n",
       "      <th>保育所等数</th>\n",
       "      <th>保育所等在所児数</th>\n",
       "      <th>消費支出（二人以上の世帯）</th>\n",
       "      <th>食料費（二人以上の世帯）</th>\n",
       "      <th>住居費（二人以上の世帯）</th>\n",
       "      <th>教養娯楽費（二人以上の世帯）</th>\n",
       "    </tr>\n",
       "  </thead>\n",
       "  <tbody>\n",
       "    <tr>\n",
       "      <th>0</th>\n",
       "      <td>R00000</td>\n",
       "      <td>全国</td>\n",
       "      <td>124947000</td>\n",
       "      <td>122031000</td>\n",
       "      <td>14503000</td>\n",
       "      <td>74208000</td>\n",
       "      <td>36236000</td>\n",
       "      <td>2402460</td>\n",
       "      <td>811622</td>\n",
       "      <td>1.30</td>\n",
       "      <td>...</td>\n",
       "      <td>67899</td>\n",
       "      <td>339623</td>\n",
       "      <td>107443</td>\n",
       "      <td>321982</td>\n",
       "      <td>29994</td>\n",
       "      <td>2643196</td>\n",
       "      <td>290865</td>\n",
       "      <td>77474</td>\n",
       "      <td>18645</td>\n",
       "      <td>26642</td>\n",
       "    </tr>\n",
       "    <tr>\n",
       "      <th>1</th>\n",
       "      <td>R01000</td>\n",
       "      <td>北海道</td>\n",
       "      <td>5140000</td>\n",
       "      <td>5098000</td>\n",
       "      <td>530000</td>\n",
       "      <td>2924000</td>\n",
       "      <td>1686000</td>\n",
       "      <td>34321</td>\n",
       "      <td>28762</td>\n",
       "      <td>1.20</td>\n",
       "      <td>...</td>\n",
       "      <td>2818</td>\n",
       "      <td>13731</td>\n",
       "      <td>4418</td>\n",
       "      <td>11802</td>\n",
       "      <td>1075</td>\n",
       "      <td>76885</td>\n",
       "      <td>277737</td>\n",
       "      <td>73037</td>\n",
       "      <td>24873</td>\n",
       "      <td>27234</td>\n",
       "    </tr>\n",
       "    <tr>\n",
       "      <th>2</th>\n",
       "      <td>R02000</td>\n",
       "      <td>青森県</td>\n",
       "      <td>1204000</td>\n",
       "      <td>1198000</td>\n",
       "      <td>123000</td>\n",
       "      <td>663000</td>\n",
       "      <td>419000</td>\n",
       "      <td>5409</td>\n",
       "      <td>6513</td>\n",
       "      <td>1.31</td>\n",
       "      <td>...</td>\n",
       "      <td>505</td>\n",
       "      <td>2773</td>\n",
       "      <td>735</td>\n",
       "      <td>2345</td>\n",
       "      <td>472</td>\n",
       "      <td>30738</td>\n",
       "      <td>249660</td>\n",
       "      <td>73725</td>\n",
       "      <td>10541</td>\n",
       "      <td>20068</td>\n",
       "    </tr>\n",
       "    <tr>\n",
       "      <th>3</th>\n",
       "      <td>R03000</td>\n",
       "      <td>岩手県</td>\n",
       "      <td>1181000</td>\n",
       "      <td>1173000</td>\n",
       "      <td>125000</td>\n",
       "      <td>648000</td>\n",
       "      <td>408000</td>\n",
       "      <td>6937</td>\n",
       "      <td>6472</td>\n",
       "      <td>1.30</td>\n",
       "      <td>...</td>\n",
       "      <td>557</td>\n",
       "      <td>2700</td>\n",
       "      <td>1016</td>\n",
       "      <td>2536</td>\n",
       "      <td>393</td>\n",
       "      <td>28580</td>\n",
       "      <td>285815</td>\n",
       "      <td>77251</td>\n",
       "      <td>18814</td>\n",
       "      <td>25733</td>\n",
       "    </tr>\n",
       "    <tr>\n",
       "      <th>4</th>\n",
       "      <td>R04000</td>\n",
       "      <td>宮城県</td>\n",
       "      <td>2280000</td>\n",
       "      <td>2256000</td>\n",
       "      <td>258000</td>\n",
       "      <td>1363000</td>\n",
       "      <td>659000</td>\n",
       "      <td>19453</td>\n",
       "      <td>13761</td>\n",
       "      <td>1.15</td>\n",
       "      <td>...</td>\n",
       "      <td>1051</td>\n",
       "      <td>5950</td>\n",
       "      <td>1896</td>\n",
       "      <td>5502</td>\n",
       "      <td>506</td>\n",
       "      <td>40519</td>\n",
       "      <td>287781</td>\n",
       "      <td>78589</td>\n",
       "      <td>22951</td>\n",
       "      <td>26516</td>\n",
       "    </tr>\n",
       "  </tbody>\n",
       "</table>\n",
       "<p>5 rows × 92 columns</p>\n",
       "</div>"
      ],
      "text/plain": [
       "    地域コード 都道府県        総人口      日本人人口   15歳未満人口  15〜64歳人口   65歳以上人口    外国人人口  \\\n",
       "0  R00000   全国  124947000  122031000  14503000  74208000  36236000  2402460   \n",
       "1  R01000  北海道    5140000    5098000    530000   2924000   1686000    34321   \n",
       "2  R02000  青森県    1204000    1198000    123000    663000    419000     5409   \n",
       "3  R03000  岩手県    1181000    1173000    125000    648000    408000     6937   \n",
       "4  R04000  宮城県    2280000    2256000    258000   1363000    659000    19453   \n",
       "\n",
       "      出生数  合計特殊出生率  ...  歯科診療所数     医師数   歯科医師数    薬剤師数  保育所等数  保育所等在所児数  \\\n",
       "0  811622     1.30  ...   67899  339623  107443  321982  29994   2643196   \n",
       "1   28762     1.20  ...    2818   13731    4418   11802   1075     76885   \n",
       "2    6513     1.31  ...     505    2773     735    2345    472     30738   \n",
       "3    6472     1.30  ...     557    2700    1016    2536    393     28580   \n",
       "4   13761     1.15  ...    1051    5950    1896    5502    506     40519   \n",
       "\n",
       "   消費支出（二人以上の世帯）  食料費（二人以上の世帯）  住居費（二人以上の世帯）  教養娯楽費（二人以上の世帯）  \n",
       "0         290865         77474         18645           26642  \n",
       "1         277737         73037         24873           27234  \n",
       "2         249660         73725         10541           20068  \n",
       "3         285815         77251         18814           25733  \n",
       "4         287781         78589         22951           26516  \n",
       "\n",
       "[5 rows x 92 columns]"
      ]
     },
     "execution_count": 13,
     "metadata": {},
     "output_type": "execute_result"
    }
   ],
   "source": [
    "df.head()"
   ]
  },
  {
   "cell_type": "markdown",
   "id": "ea9f86bd-7f97-488d-bc33-598e0a2fe47b",
   "metadata": {
    "editable": true,
    "slideshow": {
     "slide_type": ""
    },
    "tags": []
   },
   "source": [
    "DataFrameオブジェクトのメソッド`tail`は，データフレームの末尾$N$件のレコードを返す．\n",
    "引数に何も指定しないと5件返す（[★Quiz Q1](#L1-Q1)）．"
   ]
  },
  {
   "cell_type": "code",
   "execution_count": 14,
   "id": "54f8cb6a-3d7e-4dbe-b94b-d48f361625d6",
   "metadata": {
    "editable": true,
    "slideshow": {
     "slide_type": ""
    },
    "tags": []
   },
   "outputs": [
    {
     "data": {
      "text/html": [
       "<div>\n",
       "<style scoped>\n",
       "    .dataframe tbody tr th:only-of-type {\n",
       "        vertical-align: middle;\n",
       "    }\n",
       "\n",
       "    .dataframe tbody tr th {\n",
       "        vertical-align: top;\n",
       "    }\n",
       "\n",
       "    .dataframe thead th {\n",
       "        text-align: right;\n",
       "    }\n",
       "</style>\n",
       "<table border=\"1\" class=\"dataframe\">\n",
       "  <thead>\n",
       "    <tr style=\"text-align: right;\">\n",
       "      <th></th>\n",
       "      <th>地域コード</th>\n",
       "      <th>都道府県</th>\n",
       "      <th>総人口</th>\n",
       "      <th>日本人人口</th>\n",
       "      <th>15歳未満人口</th>\n",
       "      <th>15〜64歳人口</th>\n",
       "      <th>65歳以上人口</th>\n",
       "      <th>外国人人口</th>\n",
       "      <th>出生数</th>\n",
       "      <th>合計特殊出生率</th>\n",
       "      <th>...</th>\n",
       "      <th>歯科診療所数</th>\n",
       "      <th>医師数</th>\n",
       "      <th>歯科医師数</th>\n",
       "      <th>薬剤師数</th>\n",
       "      <th>保育所等数</th>\n",
       "      <th>保育所等在所児数</th>\n",
       "      <th>消費支出（二人以上の世帯）</th>\n",
       "      <th>食料費（二人以上の世帯）</th>\n",
       "      <th>住居費（二人以上の世帯）</th>\n",
       "      <th>教養娯楽費（二人以上の世帯）</th>\n",
       "    </tr>\n",
       "  </thead>\n",
       "  <tbody>\n",
       "    <tr>\n",
       "      <th>43</th>\n",
       "      <td>R43000</td>\n",
       "      <td>熊本県</td>\n",
       "      <td>1718000</td>\n",
       "      <td>1699000</td>\n",
       "      <td>223000</td>\n",
       "      <td>943000</td>\n",
       "      <td>552000</td>\n",
       "      <td>14591</td>\n",
       "      <td>12670</td>\n",
       "      <td>1.59</td>\n",
       "      <td>...</td>\n",
       "      <td>835</td>\n",
       "      <td>5415</td>\n",
       "      <td>1377</td>\n",
       "      <td>4036</td>\n",
       "      <td>623</td>\n",
       "      <td>52158</td>\n",
       "      <td>281836</td>\n",
       "      <td>70132</td>\n",
       "      <td>30323</td>\n",
       "      <td>24428</td>\n",
       "    </tr>\n",
       "    <tr>\n",
       "      <th>44</th>\n",
       "      <td>R44000</td>\n",
       "      <td>大分県</td>\n",
       "      <td>1107000</td>\n",
       "      <td>1092000</td>\n",
       "      <td>131000</td>\n",
       "      <td>600000</td>\n",
       "      <td>376000</td>\n",
       "      <td>10168</td>\n",
       "      <td>7327</td>\n",
       "      <td>1.54</td>\n",
       "      <td>...</td>\n",
       "      <td>530</td>\n",
       "      <td>3370</td>\n",
       "      <td>740</td>\n",
       "      <td>2317</td>\n",
       "      <td>335</td>\n",
       "      <td>26578</td>\n",
       "      <td>298060</td>\n",
       "      <td>75218</td>\n",
       "      <td>18820</td>\n",
       "      <td>28260</td>\n",
       "    </tr>\n",
       "    <tr>\n",
       "      <th>45</th>\n",
       "      <td>R45000</td>\n",
       "      <td>宮崎県</td>\n",
       "      <td>1052000</td>\n",
       "      <td>1044000</td>\n",
       "      <td>136000</td>\n",
       "      <td>565000</td>\n",
       "      <td>352000</td>\n",
       "      <td>6474</td>\n",
       "      <td>7590</td>\n",
       "      <td>1.64</td>\n",
       "      <td>...</td>\n",
       "      <td>493</td>\n",
       "      <td>2879</td>\n",
       "      <td>731</td>\n",
       "      <td>2272</td>\n",
       "      <td>420</td>\n",
       "      <td>30732</td>\n",
       "      <td>271613</td>\n",
       "      <td>70162</td>\n",
       "      <td>15433</td>\n",
       "      <td>21950</td>\n",
       "    </tr>\n",
       "    <tr>\n",
       "      <th>46</th>\n",
       "      <td>R46000</td>\n",
       "      <td>鹿児島県</td>\n",
       "      <td>1563000</td>\n",
       "      <td>1550000</td>\n",
       "      <td>201000</td>\n",
       "      <td>838000</td>\n",
       "      <td>523000</td>\n",
       "      <td>10037</td>\n",
       "      <td>11618</td>\n",
       "      <td>1.65</td>\n",
       "      <td>...</td>\n",
       "      <td>795</td>\n",
       "      <td>4653</td>\n",
       "      <td>1352</td>\n",
       "      <td>3266</td>\n",
       "      <td>582</td>\n",
       "      <td>40357</td>\n",
       "      <td>279101</td>\n",
       "      <td>70070</td>\n",
       "      <td>20822</td>\n",
       "      <td>22440</td>\n",
       "    </tr>\n",
       "    <tr>\n",
       "      <th>47</th>\n",
       "      <td>R47000</td>\n",
       "      <td>沖縄県</td>\n",
       "      <td>1468000</td>\n",
       "      <td>1446000</td>\n",
       "      <td>240000</td>\n",
       "      <td>884000</td>\n",
       "      <td>344000</td>\n",
       "      <td>18157</td>\n",
       "      <td>14535</td>\n",
       "      <td>1.80</td>\n",
       "      <td>...</td>\n",
       "      <td>607</td>\n",
       "      <td>3887</td>\n",
       "      <td>885</td>\n",
       "      <td>2432</td>\n",
       "      <td>614</td>\n",
       "      <td>57108</td>\n",
       "      <td>251735</td>\n",
       "      <td>68318</td>\n",
       "      <td>25189</td>\n",
       "      <td>18429</td>\n",
       "    </tr>\n",
       "  </tbody>\n",
       "</table>\n",
       "<p>5 rows × 92 columns</p>\n",
       "</div>"
      ],
      "text/plain": [
       "     地域コード  都道府県      総人口    日本人人口  15歳未満人口  15〜64歳人口  65歳以上人口  外国人人口    出生数  \\\n",
       "43  R43000   熊本県  1718000  1699000   223000    943000   552000  14591  12670   \n",
       "44  R44000   大分県  1107000  1092000   131000    600000   376000  10168   7327   \n",
       "45  R45000   宮崎県  1052000  1044000   136000    565000   352000   6474   7590   \n",
       "46  R46000  鹿児島県  1563000  1550000   201000    838000   523000  10037  11618   \n",
       "47  R47000   沖縄県  1468000  1446000   240000    884000   344000  18157  14535   \n",
       "\n",
       "    合計特殊出生率  ...  歯科診療所数   医師数  歯科医師数  薬剤師数  保育所等数  保育所等在所児数  消費支出（二人以上の世帯）  \\\n",
       "43     1.59  ...     835  5415   1377  4036    623     52158         281836   \n",
       "44     1.54  ...     530  3370    740  2317    335     26578         298060   \n",
       "45     1.64  ...     493  2879    731  2272    420     30732         271613   \n",
       "46     1.65  ...     795  4653   1352  3266    582     40357         279101   \n",
       "47     1.80  ...     607  3887    885  2432    614     57108         251735   \n",
       "\n",
       "    食料費（二人以上の世帯）  住居費（二人以上の世帯）  教養娯楽費（二人以上の世帯）  \n",
       "43         70132         30323           24428  \n",
       "44         75218         18820           28260  \n",
       "45         70162         15433           21950  \n",
       "46         70070         20822           22440  \n",
       "47         68318         25189           18429  \n",
       "\n",
       "[5 rows x 92 columns]"
      ]
     },
     "execution_count": 14,
     "metadata": {},
     "output_type": "execute_result"
    }
   ],
   "source": [
    "df.tail()"
   ]
  },
  {
   "cell_type": "markdown",
   "id": "db198bc4-9a2e-4574-a06e-4a26447f97e6",
   "metadata": {
    "editable": true,
    "slideshow": {
     "slide_type": ""
    },
    "tags": []
   },
   "source": [
    "### 射影"
   ]
  },
  {
   "cell_type": "markdown",
   "id": "da0c8309-7fb7-4be1-92f7-de4b5e658991",
   "metadata": {
    "editable": true,
    "slideshow": {
     "slide_type": ""
    },
    "tags": []
   },
   "source": [
    "表データから指定した列のみに注目してデータを抽出する操作，関係データベースの分野では**射影**と呼ぶ．\n",
    "\n",
    "pandasのDataFrameで射影を行う方法は2種類ある．\n",
    "1つ目は注目したい列項目名をドット（.）で指定する方法である．\n",
    "以下は，データフレーム`df`から列「総人口」にあるデータを抽出するコードである．"
   ]
  },
  {
   "cell_type": "code",
   "execution_count": 15,
   "id": "7e484512-98de-4411-b878-42dd5e7c2fca",
   "metadata": {
    "editable": true,
    "slideshow": {
     "slide_type": ""
    },
    "tags": []
   },
   "outputs": [
    {
     "data": {
      "text/plain": [
       "0     124947000\n",
       "1       5140000\n",
       "2       1204000\n",
       "3       1181000\n",
       "4       2280000\n",
       "        ...    \n",
       "43      1718000\n",
       "44      1107000\n",
       "45      1052000\n",
       "46      1563000\n",
       "47      1468000\n",
       "Name: 総人口, Length: 48, dtype: int64"
      ]
     },
     "execution_count": 15,
     "metadata": {},
     "output_type": "execute_result"
    }
   ],
   "source": [
    "df.総人口"
   ]
  },
  {
   "cell_type": "markdown",
   "id": "40f1bdb9-5a6c-4ba2-9159-7497e5ddd2b5",
   "metadata": {
    "editable": true,
    "slideshow": {
     "slide_type": ""
    },
    "tags": []
   },
   "source": [
    "もう1つの射影方法は，中括弧の中で列項目名を指定する方法である．\n",
    "この方法では，注目したい列名を**文字列もしくは文字列のリスト**で指定する．\n",
    "以下は，データフレーム`df`から列「総人口」にあるデータを抽出するコードである．"
   ]
  },
  {
   "cell_type": "code",
   "execution_count": 16,
   "id": "06c7a1bf-d1bf-4430-b5bd-59b10c174b59",
   "metadata": {
    "editable": true,
    "slideshow": {
     "slide_type": ""
    },
    "tags": []
   },
   "outputs": [
    {
     "data": {
      "text/plain": [
       "0     124947000\n",
       "1       5140000\n",
       "2       1204000\n",
       "3       1181000\n",
       "4       2280000\n",
       "        ...    \n",
       "43      1718000\n",
       "44      1107000\n",
       "45      1052000\n",
       "46      1563000\n",
       "47      1468000\n",
       "Name: 総人口, Length: 48, dtype: int64"
      ]
     },
     "execution_count": 16,
     "metadata": {},
     "output_type": "execute_result"
    }
   ],
   "source": [
    "df['総人口']"
   ]
  },
  {
   "cell_type": "markdown",
   "id": "ff69961e-f731-41ec-8f80-7322c81843af",
   "metadata": {
    "editable": true,
    "slideshow": {
     "slide_type": ""
    },
    "tags": []
   },
   "source": [
    "ドットを用いる方法は簡便であるが，列項目を複数指定して射影できない．\n",
    "中括弧を用いる射影方法では，中括弧の中に文字列のリストを与えることで，複数の列項目に注目してデータを抽出できる．\n",
    "以下は，データフレーム`df`から「地域コード」「都道府県」「総人口」の列のデータを抽出するコードである（[★Quiz Q3](#L1-Q3)）．"
   ]
  },
  {
   "cell_type": "code",
   "execution_count": 17,
   "id": "27356159-d91f-4b80-9817-bca3ab1b3bf8",
   "metadata": {
    "editable": true,
    "slideshow": {
     "slide_type": ""
    },
    "tags": []
   },
   "outputs": [
    {
     "data": {
      "text/html": [
       "<div>\n",
       "<style scoped>\n",
       "    .dataframe tbody tr th:only-of-type {\n",
       "        vertical-align: middle;\n",
       "    }\n",
       "\n",
       "    .dataframe tbody tr th {\n",
       "        vertical-align: top;\n",
       "    }\n",
       "\n",
       "    .dataframe thead th {\n",
       "        text-align: right;\n",
       "    }\n",
       "</style>\n",
       "<table border=\"1\" class=\"dataframe\">\n",
       "  <thead>\n",
       "    <tr style=\"text-align: right;\">\n",
       "      <th></th>\n",
       "      <th>地域コード</th>\n",
       "      <th>都道府県</th>\n",
       "      <th>総人口</th>\n",
       "    </tr>\n",
       "  </thead>\n",
       "  <tbody>\n",
       "    <tr>\n",
       "      <th>0</th>\n",
       "      <td>R00000</td>\n",
       "      <td>全国</td>\n",
       "      <td>124947000</td>\n",
       "    </tr>\n",
       "    <tr>\n",
       "      <th>1</th>\n",
       "      <td>R01000</td>\n",
       "      <td>北海道</td>\n",
       "      <td>5140000</td>\n",
       "    </tr>\n",
       "    <tr>\n",
       "      <th>2</th>\n",
       "      <td>R02000</td>\n",
       "      <td>青森県</td>\n",
       "      <td>1204000</td>\n",
       "    </tr>\n",
       "    <tr>\n",
       "      <th>3</th>\n",
       "      <td>R03000</td>\n",
       "      <td>岩手県</td>\n",
       "      <td>1181000</td>\n",
       "    </tr>\n",
       "    <tr>\n",
       "      <th>4</th>\n",
       "      <td>R04000</td>\n",
       "      <td>宮城県</td>\n",
       "      <td>2280000</td>\n",
       "    </tr>\n",
       "    <tr>\n",
       "      <th>...</th>\n",
       "      <td>...</td>\n",
       "      <td>...</td>\n",
       "      <td>...</td>\n",
       "    </tr>\n",
       "    <tr>\n",
       "      <th>43</th>\n",
       "      <td>R43000</td>\n",
       "      <td>熊本県</td>\n",
       "      <td>1718000</td>\n",
       "    </tr>\n",
       "    <tr>\n",
       "      <th>44</th>\n",
       "      <td>R44000</td>\n",
       "      <td>大分県</td>\n",
       "      <td>1107000</td>\n",
       "    </tr>\n",
       "    <tr>\n",
       "      <th>45</th>\n",
       "      <td>R45000</td>\n",
       "      <td>宮崎県</td>\n",
       "      <td>1052000</td>\n",
       "    </tr>\n",
       "    <tr>\n",
       "      <th>46</th>\n",
       "      <td>R46000</td>\n",
       "      <td>鹿児島県</td>\n",
       "      <td>1563000</td>\n",
       "    </tr>\n",
       "    <tr>\n",
       "      <th>47</th>\n",
       "      <td>R47000</td>\n",
       "      <td>沖縄県</td>\n",
       "      <td>1468000</td>\n",
       "    </tr>\n",
       "  </tbody>\n",
       "</table>\n",
       "<p>48 rows × 3 columns</p>\n",
       "</div>"
      ],
      "text/plain": [
       "     地域コード  都道府県        総人口\n",
       "0   R00000    全国  124947000\n",
       "1   R01000   北海道    5140000\n",
       "2   R02000   青森県    1204000\n",
       "3   R03000   岩手県    1181000\n",
       "4   R04000   宮城県    2280000\n",
       "..     ...   ...        ...\n",
       "43  R43000   熊本県    1718000\n",
       "44  R44000   大分県    1107000\n",
       "45  R45000   宮崎県    1052000\n",
       "46  R46000  鹿児島県    1563000\n",
       "47  R47000   沖縄県    1468000\n",
       "\n",
       "[48 rows x 3 columns]"
      ]
     },
     "execution_count": 17,
     "metadata": {},
     "output_type": "execute_result"
    }
   ],
   "source": [
    "target_columns = ['地域コード', '都道府県', '総人口']\n",
    "df[target_columns]\n",
    "\n",
    "# 以下のように書いても問題ない\n",
    "# df['地域コード', '都道府県', '総人口']"
   ]
  },
  {
   "cell_type": "markdown",
   "id": "be9691f6-1f66-480c-b3c7-e24643f0498e",
   "metadata": {
    "editable": true,
    "slideshow": {
     "slide_type": ""
    },
    "tags": []
   },
   "source": [
    "### データフレームに対する四則演算\n",
    "\n",
    "pandasのDataFrameオブジェクトから任意の列を射影した後，スカラーの四則演算を適用すると，射影した列データ全体に演算が適用される．\n",
    "例えば，以下はデータフレーム`df`の`総人口`列の各値に100を加算するコード例である．"
   ]
  },
  {
   "cell_type": "code",
   "execution_count": 18,
   "id": "4a97c614-578e-4cfe-9e1b-344a3e142a8a",
   "metadata": {
    "editable": true,
    "slideshow": {
     "slide_type": ""
    },
    "tags": []
   },
   "outputs": [
    {
     "data": {
      "text/plain": [
       "0     124947100\n",
       "1       5140100\n",
       "2       1204100\n",
       "3       1181100\n",
       "4       2280100\n",
       "        ...    \n",
       "43      1718100\n",
       "44      1107100\n",
       "45      1052100\n",
       "46      1563100\n",
       "47      1468100\n",
       "Name: 総人口, Length: 48, dtype: int64"
      ]
     },
     "execution_count": 18,
     "metadata": {},
     "output_type": "execute_result"
    }
   ],
   "source": [
    "# 総人口列の各値に100が加算された列が返る\n",
    "df.総人口 + 100"
   ]
  },
  {
   "cell_type": "markdown",
   "id": "4ddfabba-c1e3-4e91-aea7-08eba124d21a",
   "metadata": {
    "editable": true,
    "slideshow": {
     "slide_type": ""
    },
    "tags": []
   },
   "source": [
    "列と列の長さ（要素数）が同じなら，列同士の四則演算を行うことができる．\n",
    "2つの列同士の四則演算を行うと，双方の列の各行の値を四則演算した結果の列が返る．\n",
    "\n",
    "以下は，データフレーム`df`の`日本人人口`列の値を`総人口`列の値で割る（つまり，日本人の割合を求める）コード例である．"
   ]
  },
  {
   "cell_type": "code",
   "execution_count": 19,
   "id": "3a399e60-16d2-48b7-a9f0-9f36b50781f1",
   "metadata": {
    "editable": true,
    "slideshow": {
     "slide_type": ""
    },
    "tags": []
   },
   "outputs": [
    {
     "data": {
      "text/plain": [
       "0     0.976662\n",
       "1     0.991829\n",
       "2     0.995017\n",
       "3     0.993226\n",
       "4     0.989474\n",
       "        ...   \n",
       "43    0.988941\n",
       "44    0.986450\n",
       "45    0.992395\n",
       "46    0.991683\n",
       "47    0.985014\n",
       "Length: 48, dtype: float64"
      ]
     },
     "execution_count": 19,
     "metadata": {},
     "output_type": "execute_result"
    }
   ],
   "source": [
    "df['日本人人口'] / df['総人口']"
   ]
  },
  {
   "cell_type": "markdown",
   "id": "c2d65421-a36f-4b45-ad5f-5112d2bde430",
   "metadata": {
    "editable": true,
    "slideshow": {
     "slide_type": ""
    },
    "tags": []
   },
   "source": [
    "### 任意の行にあるレコードの取得"
   ]
  },
  {
   "cell_type": "markdown",
   "id": "98c175e9-ecd2-48cf-8d57-580fe28efcc7",
   "metadata": {
    "editable": true,
    "slideshow": {
     "slide_type": ""
    },
    "tags": []
   },
   "source": [
    "`df[i:j]`と書くと，データフレーム`df`の`i`件目（ゼロを起点）から`j-1`件目のレコードを取得できる．\n",
    "以下はデータフレーム`df`の2件目から3件目まで（4件目は含まれない）のレコードを取得するコードである．"
   ]
  },
  {
   "cell_type": "code",
   "execution_count": 20,
   "id": "69f69f9d-2501-4ad3-bd03-3ebc47e98978",
   "metadata": {
    "editable": true,
    "slideshow": {
     "slide_type": ""
    },
    "tags": []
   },
   "outputs": [
    {
     "data": {
      "text/html": [
       "<div>\n",
       "<style scoped>\n",
       "    .dataframe tbody tr th:only-of-type {\n",
       "        vertical-align: middle;\n",
       "    }\n",
       "\n",
       "    .dataframe tbody tr th {\n",
       "        vertical-align: top;\n",
       "    }\n",
       "\n",
       "    .dataframe thead th {\n",
       "        text-align: right;\n",
       "    }\n",
       "</style>\n",
       "<table border=\"1\" class=\"dataframe\">\n",
       "  <thead>\n",
       "    <tr style=\"text-align: right;\">\n",
       "      <th></th>\n",
       "      <th>地域コード</th>\n",
       "      <th>都道府県</th>\n",
       "      <th>総人口</th>\n",
       "      <th>日本人人口</th>\n",
       "      <th>15歳未満人口</th>\n",
       "      <th>15〜64歳人口</th>\n",
       "      <th>65歳以上人口</th>\n",
       "      <th>外国人人口</th>\n",
       "      <th>出生数</th>\n",
       "      <th>合計特殊出生率</th>\n",
       "      <th>...</th>\n",
       "      <th>歯科診療所数</th>\n",
       "      <th>医師数</th>\n",
       "      <th>歯科医師数</th>\n",
       "      <th>薬剤師数</th>\n",
       "      <th>保育所等数</th>\n",
       "      <th>保育所等在所児数</th>\n",
       "      <th>消費支出（二人以上の世帯）</th>\n",
       "      <th>食料費（二人以上の世帯）</th>\n",
       "      <th>住居費（二人以上の世帯）</th>\n",
       "      <th>教養娯楽費（二人以上の世帯）</th>\n",
       "    </tr>\n",
       "  </thead>\n",
       "  <tbody>\n",
       "    <tr>\n",
       "      <th>2</th>\n",
       "      <td>R02000</td>\n",
       "      <td>青森県</td>\n",
       "      <td>1204000</td>\n",
       "      <td>1198000</td>\n",
       "      <td>123000</td>\n",
       "      <td>663000</td>\n",
       "      <td>419000</td>\n",
       "      <td>5409</td>\n",
       "      <td>6513</td>\n",
       "      <td>1.31</td>\n",
       "      <td>...</td>\n",
       "      <td>505</td>\n",
       "      <td>2773</td>\n",
       "      <td>735</td>\n",
       "      <td>2345</td>\n",
       "      <td>472</td>\n",
       "      <td>30738</td>\n",
       "      <td>249660</td>\n",
       "      <td>73725</td>\n",
       "      <td>10541</td>\n",
       "      <td>20068</td>\n",
       "    </tr>\n",
       "    <tr>\n",
       "      <th>3</th>\n",
       "      <td>R03000</td>\n",
       "      <td>岩手県</td>\n",
       "      <td>1181000</td>\n",
       "      <td>1173000</td>\n",
       "      <td>125000</td>\n",
       "      <td>648000</td>\n",
       "      <td>408000</td>\n",
       "      <td>6937</td>\n",
       "      <td>6472</td>\n",
       "      <td>1.30</td>\n",
       "      <td>...</td>\n",
       "      <td>557</td>\n",
       "      <td>2700</td>\n",
       "      <td>1016</td>\n",
       "      <td>2536</td>\n",
       "      <td>393</td>\n",
       "      <td>28580</td>\n",
       "      <td>285815</td>\n",
       "      <td>77251</td>\n",
       "      <td>18814</td>\n",
       "      <td>25733</td>\n",
       "    </tr>\n",
       "  </tbody>\n",
       "</table>\n",
       "<p>2 rows × 92 columns</p>\n",
       "</div>"
      ],
      "text/plain": [
       "    地域コード 都道府県      総人口    日本人人口  15歳未満人口  15〜64歳人口  65歳以上人口  外国人人口   出生数  \\\n",
       "2  R02000  青森県  1204000  1198000   123000    663000   419000   5409  6513   \n",
       "3  R03000  岩手県  1181000  1173000   125000    648000   408000   6937  6472   \n",
       "\n",
       "   合計特殊出生率  ...  歯科診療所数   医師数  歯科医師数  薬剤師数  保育所等数  保育所等在所児数  消費支出（二人以上の世帯）  \\\n",
       "2     1.31  ...     505  2773    735  2345    472     30738         249660   \n",
       "3     1.30  ...     557  2700   1016  2536    393     28580         285815   \n",
       "\n",
       "   食料費（二人以上の世帯）  住居費（二人以上の世帯）  教養娯楽費（二人以上の世帯）  \n",
       "2         73725         10541           20068  \n",
       "3         77251         18814           25733  \n",
       "\n",
       "[2 rows x 92 columns]"
      ]
     },
     "execution_count": 20,
     "metadata": {},
     "output_type": "execute_result"
    }
   ],
   "source": [
    "df[2:4]"
   ]
  },
  {
   "cell_type": "markdown",
   "id": "740fe219-fb2b-436e-955c-5af62b4cf00e",
   "metadata": {
    "editable": true,
    "slideshow": {
     "slide_type": ""
    },
    "tags": []
   },
   "source": [
    "DataFrameオブジェクトの`loc`メソッドを用いると，任意の行にある任意の列の値を取得することができる．\n",
    "以下はデータフレーム`df`の2件目から3件目のレコードについて，「地域コード」「都道府県」「総人口」の列の値だけ抽出（射影）するコードである．"
   ]
  },
  {
   "cell_type": "code",
   "execution_count": 21,
   "id": "6b63d93d-cdc2-4da0-b8ad-2fb87c6a757a",
   "metadata": {
    "editable": true,
    "slideshow": {
     "slide_type": ""
    },
    "tags": []
   },
   "outputs": [
    {
     "data": {
      "text/html": [
       "<div>\n",
       "<style scoped>\n",
       "    .dataframe tbody tr th:only-of-type {\n",
       "        vertical-align: middle;\n",
       "    }\n",
       "\n",
       "    .dataframe tbody tr th {\n",
       "        vertical-align: top;\n",
       "    }\n",
       "\n",
       "    .dataframe thead th {\n",
       "        text-align: right;\n",
       "    }\n",
       "</style>\n",
       "<table border=\"1\" class=\"dataframe\">\n",
       "  <thead>\n",
       "    <tr style=\"text-align: right;\">\n",
       "      <th></th>\n",
       "      <th>地域コード</th>\n",
       "      <th>都道府県</th>\n",
       "      <th>総人口</th>\n",
       "    </tr>\n",
       "  </thead>\n",
       "  <tbody>\n",
       "    <tr>\n",
       "      <th>2</th>\n",
       "      <td>R02000</td>\n",
       "      <td>青森県</td>\n",
       "      <td>1204000</td>\n",
       "    </tr>\n",
       "    <tr>\n",
       "      <th>3</th>\n",
       "      <td>R03000</td>\n",
       "      <td>岩手県</td>\n",
       "      <td>1181000</td>\n",
       "    </tr>\n",
       "    <tr>\n",
       "      <th>4</th>\n",
       "      <td>R04000</td>\n",
       "      <td>宮城県</td>\n",
       "      <td>2280000</td>\n",
       "    </tr>\n",
       "  </tbody>\n",
       "</table>\n",
       "</div>"
      ],
      "text/plain": [
       "    地域コード 都道府県      総人口\n",
       "2  R02000  青森県  1204000\n",
       "3  R03000  岩手県  1181000\n",
       "4  R04000  宮城県  2280000"
      ]
     },
     "execution_count": 21,
     "metadata": {},
     "output_type": "execute_result"
    }
   ],
   "source": [
    "target_columns = ['地域コード', '都道府県', '総人口']\n",
    "df.loc[2:4, target_columns]"
   ]
  },
  {
   "cell_type": "markdown",
   "id": "f8a1957c-72c3-4b07-8b0b-568de854a06c",
   "metadata": {
    "editable": true,
    "slideshow": {
     "slide_type": ""
    },
    "tags": []
   },
   "source": [
    "上記コードは，以下と同じ（射影後に取得行を絞る）．"
   ]
  },
  {
   "cell_type": "code",
   "execution_count": 22,
   "id": "d4187342-34d3-4462-8a25-fdfec92f0128",
   "metadata": {
    "editable": true,
    "slideshow": {
     "slide_type": ""
    },
    "tags": []
   },
   "outputs": [
    {
     "data": {
      "text/html": [
       "<div>\n",
       "<style scoped>\n",
       "    .dataframe tbody tr th:only-of-type {\n",
       "        vertical-align: middle;\n",
       "    }\n",
       "\n",
       "    .dataframe tbody tr th {\n",
       "        vertical-align: top;\n",
       "    }\n",
       "\n",
       "    .dataframe thead th {\n",
       "        text-align: right;\n",
       "    }\n",
       "</style>\n",
       "<table border=\"1\" class=\"dataframe\">\n",
       "  <thead>\n",
       "    <tr style=\"text-align: right;\">\n",
       "      <th></th>\n",
       "      <th>地域コード</th>\n",
       "      <th>都道府県</th>\n",
       "      <th>総人口</th>\n",
       "    </tr>\n",
       "  </thead>\n",
       "  <tbody>\n",
       "    <tr>\n",
       "      <th>2</th>\n",
       "      <td>R02000</td>\n",
       "      <td>青森県</td>\n",
       "      <td>1204000</td>\n",
       "    </tr>\n",
       "    <tr>\n",
       "      <th>3</th>\n",
       "      <td>R03000</td>\n",
       "      <td>岩手県</td>\n",
       "      <td>1181000</td>\n",
       "    </tr>\n",
       "    <tr>\n",
       "      <th>4</th>\n",
       "      <td>R04000</td>\n",
       "      <td>宮城県</td>\n",
       "      <td>2280000</td>\n",
       "    </tr>\n",
       "  </tbody>\n",
       "</table>\n",
       "</div>"
      ],
      "text/plain": [
       "    地域コード 都道府県      総人口\n",
       "2  R02000  青森県  1204000\n",
       "3  R03000  岩手県  1181000\n",
       "4  R04000  宮城県  2280000"
      ]
     },
     "execution_count": 22,
     "metadata": {},
     "output_type": "execute_result"
    }
   ],
   "source": [
    "target_columns = ['地域コード', '都道府県', '総人口']\n",
    "df[target_columns].loc[2:4]"
   ]
  },
  {
   "cell_type": "markdown",
   "id": "58e24c8d-8f00-409d-9db6-248229704a3c",
   "metadata": {
    "editable": true,
    "slideshow": {
     "slide_type": ""
    },
    "tags": []
   },
   "source": [
    "以下のように`loc`を書くと，すべての列の値を取得することができる．"
   ]
  },
  {
   "cell_type": "code",
   "execution_count": 23,
   "id": "56469f2c-f453-4168-b0f9-4b471994fa30",
   "metadata": {
    "editable": true,
    "slideshow": {
     "slide_type": ""
    },
    "tags": []
   },
   "outputs": [
    {
     "data": {
      "text/html": [
       "<div>\n",
       "<style scoped>\n",
       "    .dataframe tbody tr th:only-of-type {\n",
       "        vertical-align: middle;\n",
       "    }\n",
       "\n",
       "    .dataframe tbody tr th {\n",
       "        vertical-align: top;\n",
       "    }\n",
       "\n",
       "    .dataframe thead th {\n",
       "        text-align: right;\n",
       "    }\n",
       "</style>\n",
       "<table border=\"1\" class=\"dataframe\">\n",
       "  <thead>\n",
       "    <tr style=\"text-align: right;\">\n",
       "      <th></th>\n",
       "      <th>地域コード</th>\n",
       "      <th>都道府県</th>\n",
       "      <th>総人口</th>\n",
       "      <th>日本人人口</th>\n",
       "      <th>15歳未満人口</th>\n",
       "      <th>15〜64歳人口</th>\n",
       "      <th>65歳以上人口</th>\n",
       "      <th>外国人人口</th>\n",
       "      <th>出生数</th>\n",
       "      <th>合計特殊出生率</th>\n",
       "      <th>...</th>\n",
       "      <th>歯科診療所数</th>\n",
       "      <th>医師数</th>\n",
       "      <th>歯科医師数</th>\n",
       "      <th>薬剤師数</th>\n",
       "      <th>保育所等数</th>\n",
       "      <th>保育所等在所児数</th>\n",
       "      <th>消費支出（二人以上の世帯）</th>\n",
       "      <th>食料費（二人以上の世帯）</th>\n",
       "      <th>住居費（二人以上の世帯）</th>\n",
       "      <th>教養娯楽費（二人以上の世帯）</th>\n",
       "    </tr>\n",
       "  </thead>\n",
       "  <tbody>\n",
       "    <tr>\n",
       "      <th>2</th>\n",
       "      <td>R02000</td>\n",
       "      <td>青森県</td>\n",
       "      <td>1204000</td>\n",
       "      <td>1198000</td>\n",
       "      <td>123000</td>\n",
       "      <td>663000</td>\n",
       "      <td>419000</td>\n",
       "      <td>5409</td>\n",
       "      <td>6513</td>\n",
       "      <td>1.31</td>\n",
       "      <td>...</td>\n",
       "      <td>505</td>\n",
       "      <td>2773</td>\n",
       "      <td>735</td>\n",
       "      <td>2345</td>\n",
       "      <td>472</td>\n",
       "      <td>30738</td>\n",
       "      <td>249660</td>\n",
       "      <td>73725</td>\n",
       "      <td>10541</td>\n",
       "      <td>20068</td>\n",
       "    </tr>\n",
       "    <tr>\n",
       "      <th>3</th>\n",
       "      <td>R03000</td>\n",
       "      <td>岩手県</td>\n",
       "      <td>1181000</td>\n",
       "      <td>1173000</td>\n",
       "      <td>125000</td>\n",
       "      <td>648000</td>\n",
       "      <td>408000</td>\n",
       "      <td>6937</td>\n",
       "      <td>6472</td>\n",
       "      <td>1.30</td>\n",
       "      <td>...</td>\n",
       "      <td>557</td>\n",
       "      <td>2700</td>\n",
       "      <td>1016</td>\n",
       "      <td>2536</td>\n",
       "      <td>393</td>\n",
       "      <td>28580</td>\n",
       "      <td>285815</td>\n",
       "      <td>77251</td>\n",
       "      <td>18814</td>\n",
       "      <td>25733</td>\n",
       "    </tr>\n",
       "    <tr>\n",
       "      <th>4</th>\n",
       "      <td>R04000</td>\n",
       "      <td>宮城県</td>\n",
       "      <td>2280000</td>\n",
       "      <td>2256000</td>\n",
       "      <td>258000</td>\n",
       "      <td>1363000</td>\n",
       "      <td>659000</td>\n",
       "      <td>19453</td>\n",
       "      <td>13761</td>\n",
       "      <td>1.15</td>\n",
       "      <td>...</td>\n",
       "      <td>1051</td>\n",
       "      <td>5950</td>\n",
       "      <td>1896</td>\n",
       "      <td>5502</td>\n",
       "      <td>506</td>\n",
       "      <td>40519</td>\n",
       "      <td>287781</td>\n",
       "      <td>78589</td>\n",
       "      <td>22951</td>\n",
       "      <td>26516</td>\n",
       "    </tr>\n",
       "  </tbody>\n",
       "</table>\n",
       "<p>3 rows × 92 columns</p>\n",
       "</div>"
      ],
      "text/plain": [
       "    地域コード 都道府県      総人口    日本人人口  15歳未満人口  15〜64歳人口  65歳以上人口  外国人人口    出生数  \\\n",
       "2  R02000  青森県  1204000  1198000   123000    663000   419000   5409   6513   \n",
       "3  R03000  岩手県  1181000  1173000   125000    648000   408000   6937   6472   \n",
       "4  R04000  宮城県  2280000  2256000   258000   1363000   659000  19453  13761   \n",
       "\n",
       "   合計特殊出生率  ...  歯科診療所数   医師数  歯科医師数  薬剤師数  保育所等数  保育所等在所児数  消費支出（二人以上の世帯）  \\\n",
       "2     1.31  ...     505  2773    735  2345    472     30738         249660   \n",
       "3     1.30  ...     557  2700   1016  2536    393     28580         285815   \n",
       "4     1.15  ...    1051  5950   1896  5502    506     40519         287781   \n",
       "\n",
       "   食料費（二人以上の世帯）  住居費（二人以上の世帯）  教養娯楽費（二人以上の世帯）  \n",
       "2         73725         10541           20068  \n",
       "3         77251         18814           25733  \n",
       "4         78589         22951           26516  \n",
       "\n",
       "[3 rows x 92 columns]"
      ]
     },
     "execution_count": 23,
     "metadata": {},
     "output_type": "execute_result"
    }
   ],
   "source": [
    "# データフレーム`df`の2件目から3件目のレコードについて，すべての列の値を抽出（射影）する\n",
    "df.loc[2:4, :]"
   ]
  },
  {
   "cell_type": "markdown",
   "id": "74eca789-e1e3-436b-944c-7b8a60263a0f",
   "metadata": {
    "editable": true,
    "slideshow": {
     "slide_type": ""
    },
    "tags": []
   },
   "source": [
    "上の例では`i`件目から`j`件目までのように連続するレコードを取得していたが，`loc`メソッドでは具体的なレコードの行番号を指定してレコードを取得することもできる．\n",
    "以下は，データフレーム`df`の1件目と11件目と21件目のレコードを抽出（射影）するコードである．"
   ]
  },
  {
   "cell_type": "code",
   "execution_count": 24,
   "id": "c1907194-fa52-4682-afb9-7a091a73b883",
   "metadata": {
    "editable": true,
    "slideshow": {
     "slide_type": ""
    },
    "tags": []
   },
   "outputs": [
    {
     "data": {
      "text/html": [
       "<div>\n",
       "<style scoped>\n",
       "    .dataframe tbody tr th:only-of-type {\n",
       "        vertical-align: middle;\n",
       "    }\n",
       "\n",
       "    .dataframe tbody tr th {\n",
       "        vertical-align: top;\n",
       "    }\n",
       "\n",
       "    .dataframe thead th {\n",
       "        text-align: right;\n",
       "    }\n",
       "</style>\n",
       "<table border=\"1\" class=\"dataframe\">\n",
       "  <thead>\n",
       "    <tr style=\"text-align: right;\">\n",
       "      <th></th>\n",
       "      <th>地域コード</th>\n",
       "      <th>都道府県</th>\n",
       "      <th>総人口</th>\n",
       "      <th>日本人人口</th>\n",
       "      <th>15歳未満人口</th>\n",
       "      <th>15〜64歳人口</th>\n",
       "      <th>65歳以上人口</th>\n",
       "      <th>外国人人口</th>\n",
       "      <th>出生数</th>\n",
       "      <th>合計特殊出生率</th>\n",
       "      <th>...</th>\n",
       "      <th>歯科診療所数</th>\n",
       "      <th>医師数</th>\n",
       "      <th>歯科医師数</th>\n",
       "      <th>薬剤師数</th>\n",
       "      <th>保育所等数</th>\n",
       "      <th>保育所等在所児数</th>\n",
       "      <th>消費支出（二人以上の世帯）</th>\n",
       "      <th>食料費（二人以上の世帯）</th>\n",
       "      <th>住居費（二人以上の世帯）</th>\n",
       "      <th>教養娯楽費（二人以上の世帯）</th>\n",
       "    </tr>\n",
       "  </thead>\n",
       "  <tbody>\n",
       "    <tr>\n",
       "      <th>1</th>\n",
       "      <td>R01000</td>\n",
       "      <td>北海道</td>\n",
       "      <td>5140000</td>\n",
       "      <td>5098000</td>\n",
       "      <td>530000</td>\n",
       "      <td>2924000</td>\n",
       "      <td>1686000</td>\n",
       "      <td>34321</td>\n",
       "      <td>28762</td>\n",
       "      <td>1.20</td>\n",
       "      <td>...</td>\n",
       "      <td>2818</td>\n",
       "      <td>13731</td>\n",
       "      <td>4418</td>\n",
       "      <td>11802</td>\n",
       "      <td>1075</td>\n",
       "      <td>76885</td>\n",
       "      <td>277737</td>\n",
       "      <td>73037</td>\n",
       "      <td>24873</td>\n",
       "      <td>27234</td>\n",
       "    </tr>\n",
       "    <tr>\n",
       "      <th>11</th>\n",
       "      <td>R11000</td>\n",
       "      <td>埼玉県</td>\n",
       "      <td>7337000</td>\n",
       "      <td>7136000</td>\n",
       "      <td>847000</td>\n",
       "      <td>4483000</td>\n",
       "      <td>2007000</td>\n",
       "      <td>161439</td>\n",
       "      <td>45424</td>\n",
       "      <td>1.22</td>\n",
       "      <td>...</td>\n",
       "      <td>3550</td>\n",
       "      <td>13604</td>\n",
       "      <td>5575</td>\n",
       "      <td>16370</td>\n",
       "      <td>1474</td>\n",
       "      <td>123008</td>\n",
       "      <td>324793</td>\n",
       "      <td>87922</td>\n",
       "      <td>21820</td>\n",
       "      <td>35050</td>\n",
       "    </tr>\n",
       "    <tr>\n",
       "      <th>21</th>\n",
       "      <td>R21000</td>\n",
       "      <td>岐阜県</td>\n",
       "      <td>1946000</td>\n",
       "      <td>1888000</td>\n",
       "      <td>231000</td>\n",
       "      <td>1111000</td>\n",
       "      <td>604000</td>\n",
       "      <td>48979</td>\n",
       "      <td>11730</td>\n",
       "      <td>1.40</td>\n",
       "      <td>...</td>\n",
       "      <td>959</td>\n",
       "      <td>4580</td>\n",
       "      <td>1735</td>\n",
       "      <td>4060</td>\n",
       "      <td>415</td>\n",
       "      <td>38709</td>\n",
       "      <td>313314</td>\n",
       "      <td>77357</td>\n",
       "      <td>13720</td>\n",
       "      <td>27226</td>\n",
       "    </tr>\n",
       "  </tbody>\n",
       "</table>\n",
       "<p>3 rows × 92 columns</p>\n",
       "</div>"
      ],
      "text/plain": [
       "     地域コード 都道府県      総人口    日本人人口  15歳未満人口  15〜64歳人口  65歳以上人口   外国人人口    出生数  \\\n",
       "1   R01000  北海道  5140000  5098000   530000   2924000  1686000   34321  28762   \n",
       "11  R11000  埼玉県  7337000  7136000   847000   4483000  2007000  161439  45424   \n",
       "21  R21000  岐阜県  1946000  1888000   231000   1111000   604000   48979  11730   \n",
       "\n",
       "    合計特殊出生率  ...  歯科診療所数    医師数  歯科医師数   薬剤師数  保育所等数  保育所等在所児数  消費支出（二人以上の世帯）  \\\n",
       "1      1.20  ...    2818  13731   4418  11802   1075     76885         277737   \n",
       "11     1.22  ...    3550  13604   5575  16370   1474    123008         324793   \n",
       "21     1.40  ...     959   4580   1735   4060    415     38709         313314   \n",
       "\n",
       "    食料費（二人以上の世帯）  住居費（二人以上の世帯）  教養娯楽費（二人以上の世帯）  \n",
       "1          73037         24873           27234  \n",
       "11         87922         21820           35050  \n",
       "21         77357         13720           27226  \n",
       "\n",
       "[3 rows x 92 columns]"
      ]
     },
     "execution_count": 24,
     "metadata": {},
     "output_type": "execute_result"
    }
   ],
   "source": [
    "target_rows = [1, 11, 21]\n",
    "df.loc[target_rows, :]\n",
    "\n",
    "# 以下のように書いても問題ない\n",
    "# df.loc[[1, 11, 21], :]"
   ]
  },
  {
   "cell_type": "markdown",
   "id": "c29b6424-40d0-4053-9039-c95c6f2c5a0f",
   "metadata": {
    "editable": true,
    "slideshow": {
     "slide_type": ""
    },
    "tags": []
   },
   "source": [
    "### 絞り込み"
   ]
  },
  {
   "cell_type": "markdown",
   "id": "3522bd69-41aa-41e7-9a5f-bbccbb014e75",
   "metadata": {
    "editable": true,
    "slideshow": {
     "slide_type": ""
    },
    "tags": []
   },
   "source": [
    "DataFrameオブジェクトから特定の条件を満たすレコードのみを取得するには2種類の方法がある：\n",
    "- 中括弧の中で条件を指定する方法\n",
    "- `query`メソッドを使用する方法\n",
    "\n",
    "データフレーム`df`にあるレコードの中で，「総人口」の値が700万以上になるものだけを抽出する例を考えてみよう．\n",
    "中括弧の中で条件を指定してデータフレームにアクセスすると，条件にマッチするレコードだけが絞り込まれる．\n",
    "条件指定には射影を用いる．"
   ]
  },
  {
   "cell_type": "code",
   "execution_count": 25,
   "id": "0eae8e0f-35f6-4e83-bd1f-b1a365039ca3",
   "metadata": {
    "editable": true,
    "slideshow": {
     "slide_type": ""
    },
    "tags": []
   },
   "outputs": [
    {
     "data": {
      "text/html": [
       "<div>\n",
       "<style scoped>\n",
       "    .dataframe tbody tr th:only-of-type {\n",
       "        vertical-align: middle;\n",
       "    }\n",
       "\n",
       "    .dataframe tbody tr th {\n",
       "        vertical-align: top;\n",
       "    }\n",
       "\n",
       "    .dataframe thead th {\n",
       "        text-align: right;\n",
       "    }\n",
       "</style>\n",
       "<table border=\"1\" class=\"dataframe\">\n",
       "  <thead>\n",
       "    <tr style=\"text-align: right;\">\n",
       "      <th></th>\n",
       "      <th>地域コード</th>\n",
       "      <th>都道府県</th>\n",
       "      <th>総人口</th>\n",
       "      <th>日本人人口</th>\n",
       "      <th>15歳未満人口</th>\n",
       "      <th>15〜64歳人口</th>\n",
       "      <th>65歳以上人口</th>\n",
       "      <th>外国人人口</th>\n",
       "      <th>出生数</th>\n",
       "      <th>合計特殊出生率</th>\n",
       "      <th>...</th>\n",
       "      <th>歯科診療所数</th>\n",
       "      <th>医師数</th>\n",
       "      <th>歯科医師数</th>\n",
       "      <th>薬剤師数</th>\n",
       "      <th>保育所等数</th>\n",
       "      <th>保育所等在所児数</th>\n",
       "      <th>消費支出（二人以上の世帯）</th>\n",
       "      <th>食料費（二人以上の世帯）</th>\n",
       "      <th>住居費（二人以上の世帯）</th>\n",
       "      <th>教養娯楽費（二人以上の世帯）</th>\n",
       "    </tr>\n",
       "  </thead>\n",
       "  <tbody>\n",
       "    <tr>\n",
       "      <th>0</th>\n",
       "      <td>R00000</td>\n",
       "      <td>全国</td>\n",
       "      <td>124947000</td>\n",
       "      <td>122031000</td>\n",
       "      <td>14503000</td>\n",
       "      <td>74208000</td>\n",
       "      <td>36236000</td>\n",
       "      <td>2402460</td>\n",
       "      <td>811622</td>\n",
       "      <td>1.30</td>\n",
       "      <td>...</td>\n",
       "      <td>67899</td>\n",
       "      <td>339623</td>\n",
       "      <td>107443</td>\n",
       "      <td>321982</td>\n",
       "      <td>29994</td>\n",
       "      <td>2643196</td>\n",
       "      <td>290865</td>\n",
       "      <td>77474</td>\n",
       "      <td>18645</td>\n",
       "      <td>26642</td>\n",
       "    </tr>\n",
       "    <tr>\n",
       "      <th>11</th>\n",
       "      <td>R11000</td>\n",
       "      <td>埼玉県</td>\n",
       "      <td>7337000</td>\n",
       "      <td>7136000</td>\n",
       "      <td>847000</td>\n",
       "      <td>4483000</td>\n",
       "      <td>2007000</td>\n",
       "      <td>161439</td>\n",
       "      <td>45424</td>\n",
       "      <td>1.22</td>\n",
       "      <td>...</td>\n",
       "      <td>3550</td>\n",
       "      <td>13604</td>\n",
       "      <td>5575</td>\n",
       "      <td>16370</td>\n",
       "      <td>1474</td>\n",
       "      <td>123008</td>\n",
       "      <td>324793</td>\n",
       "      <td>87922</td>\n",
       "      <td>21820</td>\n",
       "      <td>35050</td>\n",
       "    </tr>\n",
       "    <tr>\n",
       "      <th>13</th>\n",
       "      <td>R13000</td>\n",
       "      <td>東京都</td>\n",
       "      <td>14038000</td>\n",
       "      <td>13443000</td>\n",
       "      <td>1535000</td>\n",
       "      <td>9301000</td>\n",
       "      <td>3202000</td>\n",
       "      <td>483372</td>\n",
       "      <td>95404</td>\n",
       "      <td>1.08</td>\n",
       "      <td>...</td>\n",
       "      <td>10678</td>\n",
       "      <td>48072</td>\n",
       "      <td>17245</td>\n",
       "      <td>52842</td>\n",
       "      <td>3523</td>\n",
       "      <td>290125</td>\n",
       "      <td>321633</td>\n",
       "      <td>87973</td>\n",
       "      <td>29988</td>\n",
       "      <td>33099</td>\n",
       "    </tr>\n",
       "    <tr>\n",
       "      <th>14</th>\n",
       "      <td>R14000</td>\n",
       "      <td>神奈川県</td>\n",
       "      <td>9232000</td>\n",
       "      <td>8991000</td>\n",
       "      <td>1053000</td>\n",
       "      <td>5797000</td>\n",
       "      <td>2383000</td>\n",
       "      <td>195535</td>\n",
       "      <td>58836</td>\n",
       "      <td>1.22</td>\n",
       "      <td>...</td>\n",
       "      <td>4984</td>\n",
       "      <td>21377</td>\n",
       "      <td>7605</td>\n",
       "      <td>23872</td>\n",
       "      <td>2012</td>\n",
       "      <td>165014</td>\n",
       "      <td>301379</td>\n",
       "      <td>85076</td>\n",
       "      <td>23065</td>\n",
       "      <td>29394</td>\n",
       "    </tr>\n",
       "    <tr>\n",
       "      <th>23</th>\n",
       "      <td>R23000</td>\n",
       "      <td>愛知県</td>\n",
       "      <td>7495000</td>\n",
       "      <td>7228000</td>\n",
       "      <td>948000</td>\n",
       "      <td>4628000</td>\n",
       "      <td>1920000</td>\n",
       "      <td>231369</td>\n",
       "      <td>53918</td>\n",
       "      <td>1.41</td>\n",
       "      <td>...</td>\n",
       "      <td>3718</td>\n",
       "      <td>17842</td>\n",
       "      <td>6159</td>\n",
       "      <td>16003</td>\n",
       "      <td>1558</td>\n",
       "      <td>148009</td>\n",
       "      <td>319344</td>\n",
       "      <td>79757</td>\n",
       "      <td>22575</td>\n",
       "      <td>30894</td>\n",
       "    </tr>\n",
       "    <tr>\n",
       "      <th>27</th>\n",
       "      <td>R27000</td>\n",
       "      <td>大阪府</td>\n",
       "      <td>8782000</td>\n",
       "      <td>8524000</td>\n",
       "      <td>1002000</td>\n",
       "      <td>5349000</td>\n",
       "      <td>2432000</td>\n",
       "      <td>208681</td>\n",
       "      <td>59780</td>\n",
       "      <td>1.27</td>\n",
       "      <td>...</td>\n",
       "      <td>5442</td>\n",
       "      <td>26431</td>\n",
       "      <td>8184</td>\n",
       "      <td>27297</td>\n",
       "      <td>1573</td>\n",
       "      <td>172365</td>\n",
       "      <td>265161</td>\n",
       "      <td>80890</td>\n",
       "      <td>18350</td>\n",
       "      <td>25978</td>\n",
       "    </tr>\n",
       "  </tbody>\n",
       "</table>\n",
       "<p>6 rows × 92 columns</p>\n",
       "</div>"
      ],
      "text/plain": [
       "     地域コード  都道府県        総人口      日本人人口   15歳未満人口  15〜64歳人口   65歳以上人口    外国人人口  \\\n",
       "0   R00000    全国  124947000  122031000  14503000  74208000  36236000  2402460   \n",
       "11  R11000   埼玉県    7337000    7136000    847000   4483000   2007000   161439   \n",
       "13  R13000   東京都   14038000   13443000   1535000   9301000   3202000   483372   \n",
       "14  R14000  神奈川県    9232000    8991000   1053000   5797000   2383000   195535   \n",
       "23  R23000   愛知県    7495000    7228000    948000   4628000   1920000   231369   \n",
       "27  R27000   大阪府    8782000    8524000   1002000   5349000   2432000   208681   \n",
       "\n",
       "       出生数  合計特殊出生率  ...  歯科診療所数     医師数   歯科医師数    薬剤師数  保育所等数  保育所等在所児数  \\\n",
       "0   811622     1.30  ...   67899  339623  107443  321982  29994   2643196   \n",
       "11   45424     1.22  ...    3550   13604    5575   16370   1474    123008   \n",
       "13   95404     1.08  ...   10678   48072   17245   52842   3523    290125   \n",
       "14   58836     1.22  ...    4984   21377    7605   23872   2012    165014   \n",
       "23   53918     1.41  ...    3718   17842    6159   16003   1558    148009   \n",
       "27   59780     1.27  ...    5442   26431    8184   27297   1573    172365   \n",
       "\n",
       "    消費支出（二人以上の世帯）  食料費（二人以上の世帯）  住居費（二人以上の世帯）  教養娯楽費（二人以上の世帯）  \n",
       "0          290865         77474         18645           26642  \n",
       "11         324793         87922         21820           35050  \n",
       "13         321633         87973         29988           33099  \n",
       "14         301379         85076         23065           29394  \n",
       "23         319344         79757         22575           30894  \n",
       "27         265161         80890         18350           25978  \n",
       "\n",
       "[6 rows x 92 columns]"
      ]
     },
     "execution_count": 25,
     "metadata": {},
     "output_type": "execute_result"
    }
   ],
   "source": [
    "df[df['総人口'] >= 7000000]\n",
    "\n",
    "# ドット表現を用いて条件を指定することも可能\n",
    "# df[df.総人口 >=  >= 7000000]"
   ]
  },
  {
   "cell_type": "code",
   "execution_count": 26,
   "id": "e85d14c2-f1d3-4fc5-8766-4fb010497550",
   "metadata": {
    "editable": true,
    "slideshow": {
     "slide_type": ""
    },
    "tags": []
   },
   "outputs": [
    {
     "data": {
      "text/html": [
       "<div>\n",
       "<style scoped>\n",
       "    .dataframe tbody tr th:only-of-type {\n",
       "        vertical-align: middle;\n",
       "    }\n",
       "\n",
       "    .dataframe tbody tr th {\n",
       "        vertical-align: top;\n",
       "    }\n",
       "\n",
       "    .dataframe thead th {\n",
       "        text-align: right;\n",
       "    }\n",
       "</style>\n",
       "<table border=\"1\" class=\"dataframe\">\n",
       "  <thead>\n",
       "    <tr style=\"text-align: right;\">\n",
       "      <th></th>\n",
       "      <th>地域コード</th>\n",
       "      <th>都道府県</th>\n",
       "      <th>総人口</th>\n",
       "      <th>日本人人口</th>\n",
       "      <th>15歳未満人口</th>\n",
       "      <th>15〜64歳人口</th>\n",
       "      <th>65歳以上人口</th>\n",
       "      <th>外国人人口</th>\n",
       "      <th>出生数</th>\n",
       "      <th>合計特殊出生率</th>\n",
       "      <th>...</th>\n",
       "      <th>歯科診療所数</th>\n",
       "      <th>医師数</th>\n",
       "      <th>歯科医師数</th>\n",
       "      <th>薬剤師数</th>\n",
       "      <th>保育所等数</th>\n",
       "      <th>保育所等在所児数</th>\n",
       "      <th>消費支出（二人以上の世帯）</th>\n",
       "      <th>食料費（二人以上の世帯）</th>\n",
       "      <th>住居費（二人以上の世帯）</th>\n",
       "      <th>教養娯楽費（二人以上の世帯）</th>\n",
       "    </tr>\n",
       "  </thead>\n",
       "  <tbody>\n",
       "    <tr>\n",
       "      <th>0</th>\n",
       "      <td>R00000</td>\n",
       "      <td>全国</td>\n",
       "      <td>124947000</td>\n",
       "      <td>122031000</td>\n",
       "      <td>14503000</td>\n",
       "      <td>74208000</td>\n",
       "      <td>36236000</td>\n",
       "      <td>2402460</td>\n",
       "      <td>811622</td>\n",
       "      <td>1.30</td>\n",
       "      <td>...</td>\n",
       "      <td>67899</td>\n",
       "      <td>339623</td>\n",
       "      <td>107443</td>\n",
       "      <td>321982</td>\n",
       "      <td>29994</td>\n",
       "      <td>2643196</td>\n",
       "      <td>290865</td>\n",
       "      <td>77474</td>\n",
       "      <td>18645</td>\n",
       "      <td>26642</td>\n",
       "    </tr>\n",
       "    <tr>\n",
       "      <th>2</th>\n",
       "      <td>R02000</td>\n",
       "      <td>青森県</td>\n",
       "      <td>1204000</td>\n",
       "      <td>1198000</td>\n",
       "      <td>123000</td>\n",
       "      <td>663000</td>\n",
       "      <td>419000</td>\n",
       "      <td>5409</td>\n",
       "      <td>6513</td>\n",
       "      <td>1.31</td>\n",
       "      <td>...</td>\n",
       "      <td>505</td>\n",
       "      <td>2773</td>\n",
       "      <td>735</td>\n",
       "      <td>2345</td>\n",
       "      <td>472</td>\n",
       "      <td>30738</td>\n",
       "      <td>249660</td>\n",
       "      <td>73725</td>\n",
       "      <td>10541</td>\n",
       "      <td>20068</td>\n",
       "    </tr>\n",
       "    <tr>\n",
       "      <th>4</th>\n",
       "      <td>R04000</td>\n",
       "      <td>宮城県</td>\n",
       "      <td>2280000</td>\n",
       "      <td>2256000</td>\n",
       "      <td>258000</td>\n",
       "      <td>1363000</td>\n",
       "      <td>659000</td>\n",
       "      <td>19453</td>\n",
       "      <td>13761</td>\n",
       "      <td>1.15</td>\n",
       "      <td>...</td>\n",
       "      <td>1051</td>\n",
       "      <td>5950</td>\n",
       "      <td>1896</td>\n",
       "      <td>5502</td>\n",
       "      <td>506</td>\n",
       "      <td>40519</td>\n",
       "      <td>287781</td>\n",
       "      <td>78589</td>\n",
       "      <td>22951</td>\n",
       "      <td>26516</td>\n",
       "    </tr>\n",
       "    <tr>\n",
       "      <th>6</th>\n",
       "      <td>R06000</td>\n",
       "      <td>山形県</td>\n",
       "      <td>1041000</td>\n",
       "      <td>1033000</td>\n",
       "      <td>113000</td>\n",
       "      <td>566000</td>\n",
       "      <td>362000</td>\n",
       "      <td>7149</td>\n",
       "      <td>5898</td>\n",
       "      <td>1.32</td>\n",
       "      <td>...</td>\n",
       "      <td>473</td>\n",
       "      <td>2608</td>\n",
       "      <td>678</td>\n",
       "      <td>2129</td>\n",
       "      <td>299</td>\n",
       "      <td>23969</td>\n",
       "      <td>276567</td>\n",
       "      <td>77493</td>\n",
       "      <td>16140</td>\n",
       "      <td>22348</td>\n",
       "    </tr>\n",
       "    <tr>\n",
       "      <th>8</th>\n",
       "      <td>R08000</td>\n",
       "      <td>茨城県</td>\n",
       "      <td>2840000</td>\n",
       "      <td>2767000</td>\n",
       "      <td>321000</td>\n",
       "      <td>1655000</td>\n",
       "      <td>864000</td>\n",
       "      <td>57819</td>\n",
       "      <td>16502</td>\n",
       "      <td>1.30</td>\n",
       "      <td>...</td>\n",
       "      <td>1378</td>\n",
       "      <td>5838</td>\n",
       "      <td>1979</td>\n",
       "      <td>6704</td>\n",
       "      <td>627</td>\n",
       "      <td>56249</td>\n",
       "      <td>298053</td>\n",
       "      <td>71578</td>\n",
       "      <td>18805</td>\n",
       "      <td>25789</td>\n",
       "    </tr>\n",
       "    <tr>\n",
       "      <th>...</th>\n",
       "      <td>...</td>\n",
       "      <td>...</td>\n",
       "      <td>...</td>\n",
       "      <td>...</td>\n",
       "      <td>...</td>\n",
       "      <td>...</td>\n",
       "      <td>...</td>\n",
       "      <td>...</td>\n",
       "      <td>...</td>\n",
       "      <td>...</td>\n",
       "      <td>...</td>\n",
       "      <td>...</td>\n",
       "      <td>...</td>\n",
       "      <td>...</td>\n",
       "      <td>...</td>\n",
       "      <td>...</td>\n",
       "      <td>...</td>\n",
       "      <td>...</td>\n",
       "      <td>...</td>\n",
       "      <td>...</td>\n",
       "      <td>...</td>\n",
       "    </tr>\n",
       "    <tr>\n",
       "      <th>38</th>\n",
       "      <td>R38000</td>\n",
       "      <td>愛媛県</td>\n",
       "      <td>1306000</td>\n",
       "      <td>1294000</td>\n",
       "      <td>147000</td>\n",
       "      <td>716000</td>\n",
       "      <td>443000</td>\n",
       "      <td>11159</td>\n",
       "      <td>8011</td>\n",
       "      <td>1.40</td>\n",
       "      <td>...</td>\n",
       "      <td>658</td>\n",
       "      <td>3847</td>\n",
       "      <td>943</td>\n",
       "      <td>3024</td>\n",
       "      <td>313</td>\n",
       "      <td>24543</td>\n",
       "      <td>245054</td>\n",
       "      <td>67889</td>\n",
       "      <td>17559</td>\n",
       "      <td>22447</td>\n",
       "    </tr>\n",
       "    <tr>\n",
       "      <th>40</th>\n",
       "      <td>R40000</td>\n",
       "      <td>福岡県</td>\n",
       "      <td>5116000</td>\n",
       "      <td>5030000</td>\n",
       "      <td>654000</td>\n",
       "      <td>3013000</td>\n",
       "      <td>1449000</td>\n",
       "      <td>66699</td>\n",
       "      <td>37540</td>\n",
       "      <td>1.37</td>\n",
       "      <td>...</td>\n",
       "      <td>3068</td>\n",
       "      <td>16784</td>\n",
       "      <td>5672</td>\n",
       "      <td>12714</td>\n",
       "      <td>1054</td>\n",
       "      <td>117582</td>\n",
       "      <td>286265</td>\n",
       "      <td>75957</td>\n",
       "      <td>20020</td>\n",
       "      <td>28318</td>\n",
       "    </tr>\n",
       "    <tr>\n",
       "      <th>42</th>\n",
       "      <td>R42000</td>\n",
       "      <td>長崎県</td>\n",
       "      <td>1283000</td>\n",
       "      <td>1272000</td>\n",
       "      <td>158000</td>\n",
       "      <td>690000</td>\n",
       "      <td>435000</td>\n",
       "      <td>8316</td>\n",
       "      <td>8862</td>\n",
       "      <td>1.60</td>\n",
       "      <td>...</td>\n",
       "      <td>709</td>\n",
       "      <td>4399</td>\n",
       "      <td>1203</td>\n",
       "      <td>2954</td>\n",
       "      <td>492</td>\n",
       "      <td>35679</td>\n",
       "      <td>271129</td>\n",
       "      <td>73489</td>\n",
       "      <td>23124</td>\n",
       "      <td>17601</td>\n",
       "    </tr>\n",
       "    <tr>\n",
       "      <th>44</th>\n",
       "      <td>R44000</td>\n",
       "      <td>大分県</td>\n",
       "      <td>1107000</td>\n",
       "      <td>1092000</td>\n",
       "      <td>131000</td>\n",
       "      <td>600000</td>\n",
       "      <td>376000</td>\n",
       "      <td>10168</td>\n",
       "      <td>7327</td>\n",
       "      <td>1.54</td>\n",
       "      <td>...</td>\n",
       "      <td>530</td>\n",
       "      <td>3370</td>\n",
       "      <td>740</td>\n",
       "      <td>2317</td>\n",
       "      <td>335</td>\n",
       "      <td>26578</td>\n",
       "      <td>298060</td>\n",
       "      <td>75218</td>\n",
       "      <td>18820</td>\n",
       "      <td>28260</td>\n",
       "    </tr>\n",
       "    <tr>\n",
       "      <th>46</th>\n",
       "      <td>R46000</td>\n",
       "      <td>鹿児島県</td>\n",
       "      <td>1563000</td>\n",
       "      <td>1550000</td>\n",
       "      <td>201000</td>\n",
       "      <td>838000</td>\n",
       "      <td>523000</td>\n",
       "      <td>10037</td>\n",
       "      <td>11618</td>\n",
       "      <td>1.65</td>\n",
       "      <td>...</td>\n",
       "      <td>795</td>\n",
       "      <td>4653</td>\n",
       "      <td>1352</td>\n",
       "      <td>3266</td>\n",
       "      <td>582</td>\n",
       "      <td>40357</td>\n",
       "      <td>279101</td>\n",
       "      <td>70070</td>\n",
       "      <td>20822</td>\n",
       "      <td>22440</td>\n",
       "    </tr>\n",
       "  </tbody>\n",
       "</table>\n",
       "<p>24 rows × 92 columns</p>\n",
       "</div>"
      ],
      "text/plain": [
       "     地域コード  都道府県        総人口      日本人人口   15歳未満人口  15〜64歳人口   65歳以上人口    外国人人口  \\\n",
       "0   R00000    全国  124947000  122031000  14503000  74208000  36236000  2402460   \n",
       "2   R02000   青森県    1204000    1198000    123000    663000    419000     5409   \n",
       "4   R04000   宮城県    2280000    2256000    258000   1363000    659000    19453   \n",
       "6   R06000   山形県    1041000    1033000    113000    566000    362000     7149   \n",
       "8   R08000   茨城県    2840000    2767000    321000   1655000    864000    57819   \n",
       "..     ...   ...        ...        ...       ...       ...       ...      ...   \n",
       "38  R38000   愛媛県    1306000    1294000    147000    716000    443000    11159   \n",
       "40  R40000   福岡県    5116000    5030000    654000   3013000   1449000    66699   \n",
       "42  R42000   長崎県    1283000    1272000    158000    690000    435000     8316   \n",
       "44  R44000   大分県    1107000    1092000    131000    600000    376000    10168   \n",
       "46  R46000  鹿児島県    1563000    1550000    201000    838000    523000    10037   \n",
       "\n",
       "       出生数  合計特殊出生率  ...  歯科診療所数     医師数   歯科医師数    薬剤師数  保育所等数  保育所等在所児数  \\\n",
       "0   811622     1.30  ...   67899  339623  107443  321982  29994   2643196   \n",
       "2     6513     1.31  ...     505    2773     735    2345    472     30738   \n",
       "4    13761     1.15  ...    1051    5950    1896    5502    506     40519   \n",
       "6     5898     1.32  ...     473    2608     678    2129    299     23969   \n",
       "8    16502     1.30  ...    1378    5838    1979    6704    627     56249   \n",
       "..     ...      ...  ...     ...     ...     ...     ...    ...       ...   \n",
       "38    8011     1.40  ...     658    3847     943    3024    313     24543   \n",
       "40   37540     1.37  ...    3068   16784    5672   12714   1054    117582   \n",
       "42    8862     1.60  ...     709    4399    1203    2954    492     35679   \n",
       "44    7327     1.54  ...     530    3370     740    2317    335     26578   \n",
       "46   11618     1.65  ...     795    4653    1352    3266    582     40357   \n",
       "\n",
       "    消費支出（二人以上の世帯）  食料費（二人以上の世帯）  住居費（二人以上の世帯）  教養娯楽費（二人以上の世帯）  \n",
       "0          290865         77474         18645           26642  \n",
       "2          249660         73725         10541           20068  \n",
       "4          287781         78589         22951           26516  \n",
       "6          276567         77493         16140           22348  \n",
       "8          298053         71578         18805           25789  \n",
       "..            ...           ...           ...             ...  \n",
       "38         245054         67889         17559           22447  \n",
       "40         286265         75957         20020           28318  \n",
       "42         271129         73489         23124           17601  \n",
       "44         298060         75218         18820           28260  \n",
       "46         279101         70070         20822           22440  \n",
       "\n",
       "[24 rows x 92 columns]"
      ]
     },
     "execution_count": 26,
     "metadata": {},
     "output_type": "execute_result"
    }
   ],
   "source": [
    "df[[True, False, True, False] * 12]"
   ]
  },
  {
   "cell_type": "markdown",
   "id": "a0a1074c-47d5-4710-b6b7-97e4158b290e",
   "metadata": {
    "editable": true,
    "slideshow": {
     "slide_type": ""
    },
    "tags": []
   },
   "source": [
    "```{note}\n",
    "#### df.総人口 >= 7000000 を実行すると何が返ってくるのか？\n",
    "実行してみると分かるが，`df`の各レコードの`総人口`が700万以上かそうでないかを`True`か`False`で表したpandas.Series（リストのようなもの）が返ってくる．\n",
    "返ってくるpandas.Seriesでは，nつ目の要素が`df`のn番目のレコードが`True`か`False`を表している．\n",
    "pandasのDataFrameオブジェクトは中括弧の中に`True/False`のリスト（もしくはpandas.Series）を入れると，値がTrueのレコードだけをDataFrameオブジェクトから抽出して返す．\n",
    "この振る舞いを利用して，pandasではレコードの絞り込みを行うのである．\n",
    "```"
   ]
  },
  {
   "cell_type": "markdown",
   "id": "066c1658-30d1-48f8-aa83-2f81ecd28155",
   "metadata": {
    "editable": true,
    "slideshow": {
     "slide_type": ""
    },
    "tags": []
   },
   "source": [
    "同じことをDataFrameオブジェクトの`query`メソッドを使って書くと，以下のようになる（[★Quiz Q4](#L1-Q4)）．"
   ]
  },
  {
   "cell_type": "code",
   "execution_count": 27,
   "id": "522060aa-112f-495a-b28d-f8b71f9dd14d",
   "metadata": {
    "editable": true,
    "slideshow": {
     "slide_type": ""
    },
    "tags": []
   },
   "outputs": [
    {
     "data": {
      "text/html": [
       "<div>\n",
       "<style scoped>\n",
       "    .dataframe tbody tr th:only-of-type {\n",
       "        vertical-align: middle;\n",
       "    }\n",
       "\n",
       "    .dataframe tbody tr th {\n",
       "        vertical-align: top;\n",
       "    }\n",
       "\n",
       "    .dataframe thead th {\n",
       "        text-align: right;\n",
       "    }\n",
       "</style>\n",
       "<table border=\"1\" class=\"dataframe\">\n",
       "  <thead>\n",
       "    <tr style=\"text-align: right;\">\n",
       "      <th></th>\n",
       "      <th>地域コード</th>\n",
       "      <th>都道府県</th>\n",
       "      <th>総人口</th>\n",
       "      <th>日本人人口</th>\n",
       "      <th>15歳未満人口</th>\n",
       "      <th>15〜64歳人口</th>\n",
       "      <th>65歳以上人口</th>\n",
       "      <th>外国人人口</th>\n",
       "      <th>出生数</th>\n",
       "      <th>合計特殊出生率</th>\n",
       "      <th>...</th>\n",
       "      <th>歯科診療所数</th>\n",
       "      <th>医師数</th>\n",
       "      <th>歯科医師数</th>\n",
       "      <th>薬剤師数</th>\n",
       "      <th>保育所等数</th>\n",
       "      <th>保育所等在所児数</th>\n",
       "      <th>消費支出（二人以上の世帯）</th>\n",
       "      <th>食料費（二人以上の世帯）</th>\n",
       "      <th>住居費（二人以上の世帯）</th>\n",
       "      <th>教養娯楽費（二人以上の世帯）</th>\n",
       "    </tr>\n",
       "  </thead>\n",
       "  <tbody>\n",
       "    <tr>\n",
       "      <th>0</th>\n",
       "      <td>R00000</td>\n",
       "      <td>全国</td>\n",
       "      <td>124947000</td>\n",
       "      <td>122031000</td>\n",
       "      <td>14503000</td>\n",
       "      <td>74208000</td>\n",
       "      <td>36236000</td>\n",
       "      <td>2402460</td>\n",
       "      <td>811622</td>\n",
       "      <td>1.30</td>\n",
       "      <td>...</td>\n",
       "      <td>67899</td>\n",
       "      <td>339623</td>\n",
       "      <td>107443</td>\n",
       "      <td>321982</td>\n",
       "      <td>29994</td>\n",
       "      <td>2643196</td>\n",
       "      <td>290865</td>\n",
       "      <td>77474</td>\n",
       "      <td>18645</td>\n",
       "      <td>26642</td>\n",
       "    </tr>\n",
       "    <tr>\n",
       "      <th>11</th>\n",
       "      <td>R11000</td>\n",
       "      <td>埼玉県</td>\n",
       "      <td>7337000</td>\n",
       "      <td>7136000</td>\n",
       "      <td>847000</td>\n",
       "      <td>4483000</td>\n",
       "      <td>2007000</td>\n",
       "      <td>161439</td>\n",
       "      <td>45424</td>\n",
       "      <td>1.22</td>\n",
       "      <td>...</td>\n",
       "      <td>3550</td>\n",
       "      <td>13604</td>\n",
       "      <td>5575</td>\n",
       "      <td>16370</td>\n",
       "      <td>1474</td>\n",
       "      <td>123008</td>\n",
       "      <td>324793</td>\n",
       "      <td>87922</td>\n",
       "      <td>21820</td>\n",
       "      <td>35050</td>\n",
       "    </tr>\n",
       "    <tr>\n",
       "      <th>13</th>\n",
       "      <td>R13000</td>\n",
       "      <td>東京都</td>\n",
       "      <td>14038000</td>\n",
       "      <td>13443000</td>\n",
       "      <td>1535000</td>\n",
       "      <td>9301000</td>\n",
       "      <td>3202000</td>\n",
       "      <td>483372</td>\n",
       "      <td>95404</td>\n",
       "      <td>1.08</td>\n",
       "      <td>...</td>\n",
       "      <td>10678</td>\n",
       "      <td>48072</td>\n",
       "      <td>17245</td>\n",
       "      <td>52842</td>\n",
       "      <td>3523</td>\n",
       "      <td>290125</td>\n",
       "      <td>321633</td>\n",
       "      <td>87973</td>\n",
       "      <td>29988</td>\n",
       "      <td>33099</td>\n",
       "    </tr>\n",
       "    <tr>\n",
       "      <th>14</th>\n",
       "      <td>R14000</td>\n",
       "      <td>神奈川県</td>\n",
       "      <td>9232000</td>\n",
       "      <td>8991000</td>\n",
       "      <td>1053000</td>\n",
       "      <td>5797000</td>\n",
       "      <td>2383000</td>\n",
       "      <td>195535</td>\n",
       "      <td>58836</td>\n",
       "      <td>1.22</td>\n",
       "      <td>...</td>\n",
       "      <td>4984</td>\n",
       "      <td>21377</td>\n",
       "      <td>7605</td>\n",
       "      <td>23872</td>\n",
       "      <td>2012</td>\n",
       "      <td>165014</td>\n",
       "      <td>301379</td>\n",
       "      <td>85076</td>\n",
       "      <td>23065</td>\n",
       "      <td>29394</td>\n",
       "    </tr>\n",
       "    <tr>\n",
       "      <th>23</th>\n",
       "      <td>R23000</td>\n",
       "      <td>愛知県</td>\n",
       "      <td>7495000</td>\n",
       "      <td>7228000</td>\n",
       "      <td>948000</td>\n",
       "      <td>4628000</td>\n",
       "      <td>1920000</td>\n",
       "      <td>231369</td>\n",
       "      <td>53918</td>\n",
       "      <td>1.41</td>\n",
       "      <td>...</td>\n",
       "      <td>3718</td>\n",
       "      <td>17842</td>\n",
       "      <td>6159</td>\n",
       "      <td>16003</td>\n",
       "      <td>1558</td>\n",
       "      <td>148009</td>\n",
       "      <td>319344</td>\n",
       "      <td>79757</td>\n",
       "      <td>22575</td>\n",
       "      <td>30894</td>\n",
       "    </tr>\n",
       "    <tr>\n",
       "      <th>27</th>\n",
       "      <td>R27000</td>\n",
       "      <td>大阪府</td>\n",
       "      <td>8782000</td>\n",
       "      <td>8524000</td>\n",
       "      <td>1002000</td>\n",
       "      <td>5349000</td>\n",
       "      <td>2432000</td>\n",
       "      <td>208681</td>\n",
       "      <td>59780</td>\n",
       "      <td>1.27</td>\n",
       "      <td>...</td>\n",
       "      <td>5442</td>\n",
       "      <td>26431</td>\n",
       "      <td>8184</td>\n",
       "      <td>27297</td>\n",
       "      <td>1573</td>\n",
       "      <td>172365</td>\n",
       "      <td>265161</td>\n",
       "      <td>80890</td>\n",
       "      <td>18350</td>\n",
       "      <td>25978</td>\n",
       "    </tr>\n",
       "  </tbody>\n",
       "</table>\n",
       "<p>6 rows × 92 columns</p>\n",
       "</div>"
      ],
      "text/plain": [
       "     地域コード  都道府県        総人口      日本人人口   15歳未満人口  15〜64歳人口   65歳以上人口    外国人人口  \\\n",
       "0   R00000    全国  124947000  122031000  14503000  74208000  36236000  2402460   \n",
       "11  R11000   埼玉県    7337000    7136000    847000   4483000   2007000   161439   \n",
       "13  R13000   東京都   14038000   13443000   1535000   9301000   3202000   483372   \n",
       "14  R14000  神奈川県    9232000    8991000   1053000   5797000   2383000   195535   \n",
       "23  R23000   愛知県    7495000    7228000    948000   4628000   1920000   231369   \n",
       "27  R27000   大阪府    8782000    8524000   1002000   5349000   2432000   208681   \n",
       "\n",
       "       出生数  合計特殊出生率  ...  歯科診療所数     医師数   歯科医師数    薬剤師数  保育所等数  保育所等在所児数  \\\n",
       "0   811622     1.30  ...   67899  339623  107443  321982  29994   2643196   \n",
       "11   45424     1.22  ...    3550   13604    5575   16370   1474    123008   \n",
       "13   95404     1.08  ...   10678   48072   17245   52842   3523    290125   \n",
       "14   58836     1.22  ...    4984   21377    7605   23872   2012    165014   \n",
       "23   53918     1.41  ...    3718   17842    6159   16003   1558    148009   \n",
       "27   59780     1.27  ...    5442   26431    8184   27297   1573    172365   \n",
       "\n",
       "    消費支出（二人以上の世帯）  食料費（二人以上の世帯）  住居費（二人以上の世帯）  教養娯楽費（二人以上の世帯）  \n",
       "0          290865         77474         18645           26642  \n",
       "11         324793         87922         21820           35050  \n",
       "13         321633         87973         29988           33099  \n",
       "14         301379         85076         23065           29394  \n",
       "23         319344         79757         22575           30894  \n",
       "27         265161         80890         18350           25978  \n",
       "\n",
       "[6 rows x 92 columns]"
      ]
     },
     "execution_count": 27,
     "metadata": {},
     "output_type": "execute_result"
    }
   ],
   "source": [
    "df.query('総人口 >= 7000000')"
   ]
  },
  {
   "cell_type": "markdown",
   "id": "5730ffda-222b-4444-ba57-f89a42135483",
   "metadata": {
    "editable": true,
    "slideshow": {
     "slide_type": ""
    },
    "tags": []
   },
   "source": [
    "絞り込み条件は複数書くこともできる．\n",
    "以下はAND条件の例．AND条件は`&`で繋ぐ．なお，1つ1つの条件は丸括弧で囲む．"
   ]
  },
  {
   "cell_type": "code",
   "execution_count": 28,
   "id": "97d248cd-e1e4-40c9-bd94-0e62f5f7ea5d",
   "metadata": {
    "editable": true,
    "slideshow": {
     "slide_type": ""
    },
    "tags": []
   },
   "outputs": [
    {
     "data": {
      "text/html": [
       "<div>\n",
       "<style scoped>\n",
       "    .dataframe tbody tr th:only-of-type {\n",
       "        vertical-align: middle;\n",
       "    }\n",
       "\n",
       "    .dataframe tbody tr th {\n",
       "        vertical-align: top;\n",
       "    }\n",
       "\n",
       "    .dataframe thead th {\n",
       "        text-align: right;\n",
       "    }\n",
       "</style>\n",
       "<table border=\"1\" class=\"dataframe\">\n",
       "  <thead>\n",
       "    <tr style=\"text-align: right;\">\n",
       "      <th></th>\n",
       "      <th>地域コード</th>\n",
       "      <th>都道府県</th>\n",
       "      <th>総人口</th>\n",
       "      <th>日本人人口</th>\n",
       "      <th>15歳未満人口</th>\n",
       "      <th>15〜64歳人口</th>\n",
       "      <th>65歳以上人口</th>\n",
       "      <th>外国人人口</th>\n",
       "      <th>出生数</th>\n",
       "      <th>合計特殊出生率</th>\n",
       "      <th>...</th>\n",
       "      <th>歯科診療所数</th>\n",
       "      <th>医師数</th>\n",
       "      <th>歯科医師数</th>\n",
       "      <th>薬剤師数</th>\n",
       "      <th>保育所等数</th>\n",
       "      <th>保育所等在所児数</th>\n",
       "      <th>消費支出（二人以上の世帯）</th>\n",
       "      <th>食料費（二人以上の世帯）</th>\n",
       "      <th>住居費（二人以上の世帯）</th>\n",
       "      <th>教養娯楽費（二人以上の世帯）</th>\n",
       "    </tr>\n",
       "  </thead>\n",
       "  <tbody>\n",
       "    <tr>\n",
       "      <th>11</th>\n",
       "      <td>R11000</td>\n",
       "      <td>埼玉県</td>\n",
       "      <td>7337000</td>\n",
       "      <td>7136000</td>\n",
       "      <td>847000</td>\n",
       "      <td>4483000</td>\n",
       "      <td>2007000</td>\n",
       "      <td>161439</td>\n",
       "      <td>45424</td>\n",
       "      <td>1.22</td>\n",
       "      <td>...</td>\n",
       "      <td>3550</td>\n",
       "      <td>13604</td>\n",
       "      <td>5575</td>\n",
       "      <td>16370</td>\n",
       "      <td>1474</td>\n",
       "      <td>123008</td>\n",
       "      <td>324793</td>\n",
       "      <td>87922</td>\n",
       "      <td>21820</td>\n",
       "      <td>35050</td>\n",
       "    </tr>\n",
       "    <tr>\n",
       "      <th>13</th>\n",
       "      <td>R13000</td>\n",
       "      <td>東京都</td>\n",
       "      <td>14038000</td>\n",
       "      <td>13443000</td>\n",
       "      <td>1535000</td>\n",
       "      <td>9301000</td>\n",
       "      <td>3202000</td>\n",
       "      <td>483372</td>\n",
       "      <td>95404</td>\n",
       "      <td>1.08</td>\n",
       "      <td>...</td>\n",
       "      <td>10678</td>\n",
       "      <td>48072</td>\n",
       "      <td>17245</td>\n",
       "      <td>52842</td>\n",
       "      <td>3523</td>\n",
       "      <td>290125</td>\n",
       "      <td>321633</td>\n",
       "      <td>87973</td>\n",
       "      <td>29988</td>\n",
       "      <td>33099</td>\n",
       "    </tr>\n",
       "    <tr>\n",
       "      <th>14</th>\n",
       "      <td>R14000</td>\n",
       "      <td>神奈川県</td>\n",
       "      <td>9232000</td>\n",
       "      <td>8991000</td>\n",
       "      <td>1053000</td>\n",
       "      <td>5797000</td>\n",
       "      <td>2383000</td>\n",
       "      <td>195535</td>\n",
       "      <td>58836</td>\n",
       "      <td>1.22</td>\n",
       "      <td>...</td>\n",
       "      <td>4984</td>\n",
       "      <td>21377</td>\n",
       "      <td>7605</td>\n",
       "      <td>23872</td>\n",
       "      <td>2012</td>\n",
       "      <td>165014</td>\n",
       "      <td>301379</td>\n",
       "      <td>85076</td>\n",
       "      <td>23065</td>\n",
       "      <td>29394</td>\n",
       "    </tr>\n",
       "    <tr>\n",
       "      <th>23</th>\n",
       "      <td>R23000</td>\n",
       "      <td>愛知県</td>\n",
       "      <td>7495000</td>\n",
       "      <td>7228000</td>\n",
       "      <td>948000</td>\n",
       "      <td>4628000</td>\n",
       "      <td>1920000</td>\n",
       "      <td>231369</td>\n",
       "      <td>53918</td>\n",
       "      <td>1.41</td>\n",
       "      <td>...</td>\n",
       "      <td>3718</td>\n",
       "      <td>17842</td>\n",
       "      <td>6159</td>\n",
       "      <td>16003</td>\n",
       "      <td>1558</td>\n",
       "      <td>148009</td>\n",
       "      <td>319344</td>\n",
       "      <td>79757</td>\n",
       "      <td>22575</td>\n",
       "      <td>30894</td>\n",
       "    </tr>\n",
       "    <tr>\n",
       "      <th>27</th>\n",
       "      <td>R27000</td>\n",
       "      <td>大阪府</td>\n",
       "      <td>8782000</td>\n",
       "      <td>8524000</td>\n",
       "      <td>1002000</td>\n",
       "      <td>5349000</td>\n",
       "      <td>2432000</td>\n",
       "      <td>208681</td>\n",
       "      <td>59780</td>\n",
       "      <td>1.27</td>\n",
       "      <td>...</td>\n",
       "      <td>5442</td>\n",
       "      <td>26431</td>\n",
       "      <td>8184</td>\n",
       "      <td>27297</td>\n",
       "      <td>1573</td>\n",
       "      <td>172365</td>\n",
       "      <td>265161</td>\n",
       "      <td>80890</td>\n",
       "      <td>18350</td>\n",
       "      <td>25978</td>\n",
       "    </tr>\n",
       "  </tbody>\n",
       "</table>\n",
       "<p>5 rows × 92 columns</p>\n",
       "</div>"
      ],
      "text/plain": [
       "     地域コード  都道府県       総人口     日本人人口  15歳未満人口  15〜64歳人口  65歳以上人口   外国人人口  \\\n",
       "11  R11000   埼玉県   7337000   7136000   847000   4483000  2007000  161439   \n",
       "13  R13000   東京都  14038000  13443000  1535000   9301000  3202000  483372   \n",
       "14  R14000  神奈川県   9232000   8991000  1053000   5797000  2383000  195535   \n",
       "23  R23000   愛知県   7495000   7228000   948000   4628000  1920000  231369   \n",
       "27  R27000   大阪府   8782000   8524000  1002000   5349000  2432000  208681   \n",
       "\n",
       "      出生数  合計特殊出生率  ...  歯科診療所数    医師数  歯科医師数   薬剤師数  保育所等数  保育所等在所児数  \\\n",
       "11  45424     1.22  ...    3550  13604   5575  16370   1474    123008   \n",
       "13  95404     1.08  ...   10678  48072  17245  52842   3523    290125   \n",
       "14  58836     1.22  ...    4984  21377   7605  23872   2012    165014   \n",
       "23  53918     1.41  ...    3718  17842   6159  16003   1558    148009   \n",
       "27  59780     1.27  ...    5442  26431   8184  27297   1573    172365   \n",
       "\n",
       "    消費支出（二人以上の世帯）  食料費（二人以上の世帯）  住居費（二人以上の世帯）  教養娯楽費（二人以上の世帯）  \n",
       "11         324793         87922         21820           35050  \n",
       "13         321633         87973         29988           33099  \n",
       "14         301379         85076         23065           29394  \n",
       "23         319344         79757         22575           30894  \n",
       "27         265161         80890         18350           25978  \n",
       "\n",
       "[5 rows x 92 columns]"
      ]
     },
     "execution_count": 28,
     "metadata": {},
     "output_type": "execute_result"
    }
   ],
   "source": [
    "# 総人口が700万人以上かつ都道府県名が「全国」でないレコードをすべて抽出\n",
    "df[(df.総人口 >= 7000000) & (df.都道府県 != '全国')]\n",
    "\n",
    "# queryメソッドを使うと，以下のように書ける\n",
    "df.query('総人口 >= 7000000 & 都道府県 != \"全国\"')"
   ]
  },
  {
   "cell_type": "markdown",
   "id": "37c85f1c-0d85-425c-b50e-7b14fbd60faa",
   "metadata": {
    "editable": true,
    "slideshow": {
     "slide_type": ""
    },
    "tags": []
   },
   "source": [
    "以下はOR条件の例．OR条件は`|`（パイプ）で繋ぐ．\n",
    "条件が増えると，中括弧で条件を指定する方法は見にくくなる．\n",
    "条件が多い場合は，`query`メソッドを使った方がコードの可読性を高められる（[★Quiz Q5](#L1-Q5)）．"
   ]
  },
  {
   "cell_type": "code",
   "execution_count": 29,
   "id": "8d955419-7d26-41e8-bbab-79b2b0cdd579",
   "metadata": {
    "editable": true,
    "slideshow": {
     "slide_type": ""
    },
    "tags": []
   },
   "outputs": [
    {
     "data": {
      "text/html": [
       "<div>\n",
       "<style scoped>\n",
       "    .dataframe tbody tr th:only-of-type {\n",
       "        vertical-align: middle;\n",
       "    }\n",
       "\n",
       "    .dataframe tbody tr th {\n",
       "        vertical-align: top;\n",
       "    }\n",
       "\n",
       "    .dataframe thead th {\n",
       "        text-align: right;\n",
       "    }\n",
       "</style>\n",
       "<table border=\"1\" class=\"dataframe\">\n",
       "  <thead>\n",
       "    <tr style=\"text-align: right;\">\n",
       "      <th></th>\n",
       "      <th>地域コード</th>\n",
       "      <th>都道府県</th>\n",
       "      <th>総人口</th>\n",
       "      <th>日本人人口</th>\n",
       "      <th>15歳未満人口</th>\n",
       "      <th>15〜64歳人口</th>\n",
       "      <th>65歳以上人口</th>\n",
       "      <th>外国人人口</th>\n",
       "      <th>出生数</th>\n",
       "      <th>合計特殊出生率</th>\n",
       "      <th>...</th>\n",
       "      <th>歯科診療所数</th>\n",
       "      <th>医師数</th>\n",
       "      <th>歯科医師数</th>\n",
       "      <th>薬剤師数</th>\n",
       "      <th>保育所等数</th>\n",
       "      <th>保育所等在所児数</th>\n",
       "      <th>消費支出（二人以上の世帯）</th>\n",
       "      <th>食料費（二人以上の世帯）</th>\n",
       "      <th>住居費（二人以上の世帯）</th>\n",
       "      <th>教養娯楽費（二人以上の世帯）</th>\n",
       "    </tr>\n",
       "  </thead>\n",
       "  <tbody>\n",
       "    <tr>\n",
       "      <th>13</th>\n",
       "      <td>R13000</td>\n",
       "      <td>東京都</td>\n",
       "      <td>14038000</td>\n",
       "      <td>13443000</td>\n",
       "      <td>1535000</td>\n",
       "      <td>9301000</td>\n",
       "      <td>3202000</td>\n",
       "      <td>483372</td>\n",
       "      <td>95404</td>\n",
       "      <td>1.08</td>\n",
       "      <td>...</td>\n",
       "      <td>10678</td>\n",
       "      <td>48072</td>\n",
       "      <td>17245</td>\n",
       "      <td>52842</td>\n",
       "      <td>3523</td>\n",
       "      <td>290125</td>\n",
       "      <td>321633</td>\n",
       "      <td>87973</td>\n",
       "      <td>29988</td>\n",
       "      <td>33099</td>\n",
       "    </tr>\n",
       "    <tr>\n",
       "      <th>47</th>\n",
       "      <td>R47000</td>\n",
       "      <td>沖縄県</td>\n",
       "      <td>1468000</td>\n",
       "      <td>1446000</td>\n",
       "      <td>240000</td>\n",
       "      <td>884000</td>\n",
       "      <td>344000</td>\n",
       "      <td>18157</td>\n",
       "      <td>14535</td>\n",
       "      <td>1.80</td>\n",
       "      <td>...</td>\n",
       "      <td>607</td>\n",
       "      <td>3887</td>\n",
       "      <td>885</td>\n",
       "      <td>2432</td>\n",
       "      <td>614</td>\n",
       "      <td>57108</td>\n",
       "      <td>251735</td>\n",
       "      <td>68318</td>\n",
       "      <td>25189</td>\n",
       "      <td>18429</td>\n",
       "    </tr>\n",
       "  </tbody>\n",
       "</table>\n",
       "<p>2 rows × 92 columns</p>\n",
       "</div>"
      ],
      "text/plain": [
       "     地域コード 都道府県       総人口     日本人人口  15歳未満人口  15〜64歳人口  65歳以上人口   外国人人口  \\\n",
       "13  R13000  東京都  14038000  13443000  1535000   9301000  3202000  483372   \n",
       "47  R47000  沖縄県   1468000   1446000   240000    884000   344000   18157   \n",
       "\n",
       "      出生数  合計特殊出生率  ...  歯科診療所数    医師数  歯科医師数   薬剤師数  保育所等数  保育所等在所児数  \\\n",
       "13  95404     1.08  ...   10678  48072  17245  52842   3523    290125   \n",
       "47  14535     1.80  ...     607   3887    885   2432    614     57108   \n",
       "\n",
       "    消費支出（二人以上の世帯）  食料費（二人以上の世帯）  住居費（二人以上の世帯）  教養娯楽費（二人以上の世帯）  \n",
       "13         321633         87973         29988           33099  \n",
       "47         251735         68318         25189           18429  \n",
       "\n",
       "[2 rows x 92 columns]"
      ]
     },
     "execution_count": 29,
     "metadata": {},
     "output_type": "execute_result"
    }
   ],
   "source": [
    "# 合計特殊出生率が1.8以上もしくは1.1未満のレコードをすべて抽出\n",
    "df[(df.合計特殊出生率 >= 1.8) | (df.合計特殊出生率 < 1.1)]\n",
    "\n",
    "# queryメソッドを使うと，以下のように書ける\n",
    "# df.query('合計特殊出生率 >= 1.8 | 合計特殊出生率 < 1.1')"
   ]
  },
  {
   "cell_type": "markdown",
   "id": "5e460155-e45d-4068-a1b1-6745d52d0d83",
   "metadata": {
    "editable": true,
    "slideshow": {
     "slide_type": ""
    },
    "tags": []
   },
   "source": [
    "## データフレームの保存\n",
    "\n",
    "データフレームの中身をCSV/TSVファイルに保存するにはDataFrameオブジェクトの`to_csv`メソッドを用いる．\n",
    "以下，データフレーム`df`を`data`ディレクトリにCSVファイルとして保存するコード例．"
   ]
  },
  {
   "cell_type": "code",
   "execution_count": 30,
   "id": "2c3ba1a6-61a7-42b9-bf89-d9926d5836dd",
   "metadata": {
    "editable": true,
    "slideshow": {
     "slide_type": ""
    },
    "tags": []
   },
   "outputs": [],
   "source": [
    "df.to_csv('data/SSDSE-E-2024.csv')"
   ]
  },
  {
   "cell_type": "markdown",
   "id": "acb7cbc9-6a36-4820-8fda-ea35db10d7ff",
   "metadata": {
    "editable": true,
    "slideshow": {
     "slide_type": ""
    },
    "tags": []
   },
   "source": [
    "`to_csv`メソッドは指定がなければ，データフレームをCSVファイルとして保存する．\n",
    "TSVファイルとして保存したい場合は，以下のように引数`sep`に`\\t`を指定する．\n",
    "ファイル名の拡張子も`.tsv`としておこう．"
   ]
  },
  {
   "cell_type": "code",
   "execution_count": 31,
   "id": "3a45d598-bc7c-4a88-b4a7-c4a4fbfa94f0",
   "metadata": {
    "editable": true,
    "slideshow": {
     "slide_type": ""
    },
    "tags": []
   },
   "outputs": [],
   "source": [
    "df.to_csv('data/SSDSE-E-2024.tsv', sep='\\t')"
   ]
  },
  {
   "cell_type": "markdown",
   "id": "1c09a14b-4de3-45a1-9ccb-1aa39cc7a779",
   "metadata": {
    "editable": true,
    "slideshow": {
     "slide_type": ""
    },
    "tags": []
   },
   "source": [
    "見出しやインデックス（データフレームが割り振った索引名）を保存するかは`header`引数および`index`引数で指定する．\n",
    "双方の引数ともにデフォルトは`True`（保存する）．"
   ]
  },
  {
   "cell_type": "code",
   "execution_count": 32,
   "id": "674f6142-d746-4256-ac93-dbc2dd5f5b3e",
   "metadata": {
    "editable": true,
    "slideshow": {
     "slide_type": ""
    },
    "tags": []
   },
   "outputs": [],
   "source": [
    "# 以下の場合，見出しはCSVファイルに保存し，インデックスは保存しない\n",
    "df.to_csv('data/SSDSE-E-2024.csv', header=True, index=False)"
   ]
  },
  {
   "cell_type": "markdown",
   "id": "bcb16baf-fcf9-4c23-b12c-d0fff752fc65",
   "metadata": {
    "editable": true,
    "slideshow": {
     "slide_type": ""
    },
    "tags": []
   },
   "source": [
    "## 前処理"
   ]
  },
  {
   "cell_type": "markdown",
   "id": "cb17a5e9-bf34-4db0-a6a5-cdcda30ecce9",
   "metadata": {
    "editable": true,
    "slideshow": {
     "slide_type": ""
    },
    "tags": []
   },
   "source": [
    "### 列名の変更\n",
    "\n",
    "列名の変更はDataFrameオブジェクトの`rename`メソッドで行う．\n",
    "`rename`メソッドのの`columns`引数に`{'変更前の列名': '変更後の列名'}`形式の辞書を与えると，列名を変更できる．\n",
    "`rename`メソッドは列名変更後のDataFrameオブジェクトを返す．"
   ]
  },
  {
   "cell_type": "code",
   "execution_count": 33,
   "id": "f3e6419d-b020-4a49-9c37-3c1e9a6dafcf",
   "metadata": {
    "editable": true,
    "slideshow": {
     "slide_type": ""
    },
    "tags": []
   },
   "outputs": [
    {
     "data": {
      "text/html": [
       "<div>\n",
       "<style scoped>\n",
       "    .dataframe tbody tr th:only-of-type {\n",
       "        vertical-align: middle;\n",
       "    }\n",
       "\n",
       "    .dataframe tbody tr th {\n",
       "        vertical-align: top;\n",
       "    }\n",
       "\n",
       "    .dataframe thead th {\n",
       "        text-align: right;\n",
       "    }\n",
       "</style>\n",
       "<table border=\"1\" class=\"dataframe\">\n",
       "  <thead>\n",
       "    <tr style=\"text-align: right;\">\n",
       "      <th></th>\n",
       "      <th>pid</th>\n",
       "      <th>prefecture</th>\n",
       "      <th>総人口</th>\n",
       "      <th>日本人人口</th>\n",
       "      <th>15歳未満人口</th>\n",
       "      <th>15〜64歳人口</th>\n",
       "      <th>65歳以上人口</th>\n",
       "      <th>外国人人口</th>\n",
       "      <th>出生数</th>\n",
       "      <th>合計特殊出生率</th>\n",
       "      <th>...</th>\n",
       "      <th>歯科診療所数</th>\n",
       "      <th>医師数</th>\n",
       "      <th>歯科医師数</th>\n",
       "      <th>薬剤師数</th>\n",
       "      <th>保育所等数</th>\n",
       "      <th>保育所等在所児数</th>\n",
       "      <th>消費支出（二人以上の世帯）</th>\n",
       "      <th>食料費（二人以上の世帯）</th>\n",
       "      <th>住居費（二人以上の世帯）</th>\n",
       "      <th>教養娯楽費（二人以上の世帯）</th>\n",
       "    </tr>\n",
       "  </thead>\n",
       "  <tbody>\n",
       "    <tr>\n",
       "      <th>0</th>\n",
       "      <td>R00000</td>\n",
       "      <td>全国</td>\n",
       "      <td>124947000</td>\n",
       "      <td>122031000</td>\n",
       "      <td>14503000</td>\n",
       "      <td>74208000</td>\n",
       "      <td>36236000</td>\n",
       "      <td>2402460</td>\n",
       "      <td>811622</td>\n",
       "      <td>1.30</td>\n",
       "      <td>...</td>\n",
       "      <td>67899</td>\n",
       "      <td>339623</td>\n",
       "      <td>107443</td>\n",
       "      <td>321982</td>\n",
       "      <td>29994</td>\n",
       "      <td>2643196</td>\n",
       "      <td>290865</td>\n",
       "      <td>77474</td>\n",
       "      <td>18645</td>\n",
       "      <td>26642</td>\n",
       "    </tr>\n",
       "    <tr>\n",
       "      <th>1</th>\n",
       "      <td>R01000</td>\n",
       "      <td>北海道</td>\n",
       "      <td>5140000</td>\n",
       "      <td>5098000</td>\n",
       "      <td>530000</td>\n",
       "      <td>2924000</td>\n",
       "      <td>1686000</td>\n",
       "      <td>34321</td>\n",
       "      <td>28762</td>\n",
       "      <td>1.20</td>\n",
       "      <td>...</td>\n",
       "      <td>2818</td>\n",
       "      <td>13731</td>\n",
       "      <td>4418</td>\n",
       "      <td>11802</td>\n",
       "      <td>1075</td>\n",
       "      <td>76885</td>\n",
       "      <td>277737</td>\n",
       "      <td>73037</td>\n",
       "      <td>24873</td>\n",
       "      <td>27234</td>\n",
       "    </tr>\n",
       "    <tr>\n",
       "      <th>2</th>\n",
       "      <td>R02000</td>\n",
       "      <td>青森県</td>\n",
       "      <td>1204000</td>\n",
       "      <td>1198000</td>\n",
       "      <td>123000</td>\n",
       "      <td>663000</td>\n",
       "      <td>419000</td>\n",
       "      <td>5409</td>\n",
       "      <td>6513</td>\n",
       "      <td>1.31</td>\n",
       "      <td>...</td>\n",
       "      <td>505</td>\n",
       "      <td>2773</td>\n",
       "      <td>735</td>\n",
       "      <td>2345</td>\n",
       "      <td>472</td>\n",
       "      <td>30738</td>\n",
       "      <td>249660</td>\n",
       "      <td>73725</td>\n",
       "      <td>10541</td>\n",
       "      <td>20068</td>\n",
       "    </tr>\n",
       "    <tr>\n",
       "      <th>3</th>\n",
       "      <td>R03000</td>\n",
       "      <td>岩手県</td>\n",
       "      <td>1181000</td>\n",
       "      <td>1173000</td>\n",
       "      <td>125000</td>\n",
       "      <td>648000</td>\n",
       "      <td>408000</td>\n",
       "      <td>6937</td>\n",
       "      <td>6472</td>\n",
       "      <td>1.30</td>\n",
       "      <td>...</td>\n",
       "      <td>557</td>\n",
       "      <td>2700</td>\n",
       "      <td>1016</td>\n",
       "      <td>2536</td>\n",
       "      <td>393</td>\n",
       "      <td>28580</td>\n",
       "      <td>285815</td>\n",
       "      <td>77251</td>\n",
       "      <td>18814</td>\n",
       "      <td>25733</td>\n",
       "    </tr>\n",
       "    <tr>\n",
       "      <th>4</th>\n",
       "      <td>R04000</td>\n",
       "      <td>宮城県</td>\n",
       "      <td>2280000</td>\n",
       "      <td>2256000</td>\n",
       "      <td>258000</td>\n",
       "      <td>1363000</td>\n",
       "      <td>659000</td>\n",
       "      <td>19453</td>\n",
       "      <td>13761</td>\n",
       "      <td>1.15</td>\n",
       "      <td>...</td>\n",
       "      <td>1051</td>\n",
       "      <td>5950</td>\n",
       "      <td>1896</td>\n",
       "      <td>5502</td>\n",
       "      <td>506</td>\n",
       "      <td>40519</td>\n",
       "      <td>287781</td>\n",
       "      <td>78589</td>\n",
       "      <td>22951</td>\n",
       "      <td>26516</td>\n",
       "    </tr>\n",
       "    <tr>\n",
       "      <th>...</th>\n",
       "      <td>...</td>\n",
       "      <td>...</td>\n",
       "      <td>...</td>\n",
       "      <td>...</td>\n",
       "      <td>...</td>\n",
       "      <td>...</td>\n",
       "      <td>...</td>\n",
       "      <td>...</td>\n",
       "      <td>...</td>\n",
       "      <td>...</td>\n",
       "      <td>...</td>\n",
       "      <td>...</td>\n",
       "      <td>...</td>\n",
       "      <td>...</td>\n",
       "      <td>...</td>\n",
       "      <td>...</td>\n",
       "      <td>...</td>\n",
       "      <td>...</td>\n",
       "      <td>...</td>\n",
       "      <td>...</td>\n",
       "      <td>...</td>\n",
       "    </tr>\n",
       "    <tr>\n",
       "      <th>43</th>\n",
       "      <td>R43000</td>\n",
       "      <td>熊本県</td>\n",
       "      <td>1718000</td>\n",
       "      <td>1699000</td>\n",
       "      <td>223000</td>\n",
       "      <td>943000</td>\n",
       "      <td>552000</td>\n",
       "      <td>14591</td>\n",
       "      <td>12670</td>\n",
       "      <td>1.59</td>\n",
       "      <td>...</td>\n",
       "      <td>835</td>\n",
       "      <td>5415</td>\n",
       "      <td>1377</td>\n",
       "      <td>4036</td>\n",
       "      <td>623</td>\n",
       "      <td>52158</td>\n",
       "      <td>281836</td>\n",
       "      <td>70132</td>\n",
       "      <td>30323</td>\n",
       "      <td>24428</td>\n",
       "    </tr>\n",
       "    <tr>\n",
       "      <th>44</th>\n",
       "      <td>R44000</td>\n",
       "      <td>大分県</td>\n",
       "      <td>1107000</td>\n",
       "      <td>1092000</td>\n",
       "      <td>131000</td>\n",
       "      <td>600000</td>\n",
       "      <td>376000</td>\n",
       "      <td>10168</td>\n",
       "      <td>7327</td>\n",
       "      <td>1.54</td>\n",
       "      <td>...</td>\n",
       "      <td>530</td>\n",
       "      <td>3370</td>\n",
       "      <td>740</td>\n",
       "      <td>2317</td>\n",
       "      <td>335</td>\n",
       "      <td>26578</td>\n",
       "      <td>298060</td>\n",
       "      <td>75218</td>\n",
       "      <td>18820</td>\n",
       "      <td>28260</td>\n",
       "    </tr>\n",
       "    <tr>\n",
       "      <th>45</th>\n",
       "      <td>R45000</td>\n",
       "      <td>宮崎県</td>\n",
       "      <td>1052000</td>\n",
       "      <td>1044000</td>\n",
       "      <td>136000</td>\n",
       "      <td>565000</td>\n",
       "      <td>352000</td>\n",
       "      <td>6474</td>\n",
       "      <td>7590</td>\n",
       "      <td>1.64</td>\n",
       "      <td>...</td>\n",
       "      <td>493</td>\n",
       "      <td>2879</td>\n",
       "      <td>731</td>\n",
       "      <td>2272</td>\n",
       "      <td>420</td>\n",
       "      <td>30732</td>\n",
       "      <td>271613</td>\n",
       "      <td>70162</td>\n",
       "      <td>15433</td>\n",
       "      <td>21950</td>\n",
       "    </tr>\n",
       "    <tr>\n",
       "      <th>46</th>\n",
       "      <td>R46000</td>\n",
       "      <td>鹿児島県</td>\n",
       "      <td>1563000</td>\n",
       "      <td>1550000</td>\n",
       "      <td>201000</td>\n",
       "      <td>838000</td>\n",
       "      <td>523000</td>\n",
       "      <td>10037</td>\n",
       "      <td>11618</td>\n",
       "      <td>1.65</td>\n",
       "      <td>...</td>\n",
       "      <td>795</td>\n",
       "      <td>4653</td>\n",
       "      <td>1352</td>\n",
       "      <td>3266</td>\n",
       "      <td>582</td>\n",
       "      <td>40357</td>\n",
       "      <td>279101</td>\n",
       "      <td>70070</td>\n",
       "      <td>20822</td>\n",
       "      <td>22440</td>\n",
       "    </tr>\n",
       "    <tr>\n",
       "      <th>47</th>\n",
       "      <td>R47000</td>\n",
       "      <td>沖縄県</td>\n",
       "      <td>1468000</td>\n",
       "      <td>1446000</td>\n",
       "      <td>240000</td>\n",
       "      <td>884000</td>\n",
       "      <td>344000</td>\n",
       "      <td>18157</td>\n",
       "      <td>14535</td>\n",
       "      <td>1.80</td>\n",
       "      <td>...</td>\n",
       "      <td>607</td>\n",
       "      <td>3887</td>\n",
       "      <td>885</td>\n",
       "      <td>2432</td>\n",
       "      <td>614</td>\n",
       "      <td>57108</td>\n",
       "      <td>251735</td>\n",
       "      <td>68318</td>\n",
       "      <td>25189</td>\n",
       "      <td>18429</td>\n",
       "    </tr>\n",
       "  </tbody>\n",
       "</table>\n",
       "<p>48 rows × 92 columns</p>\n",
       "</div>"
      ],
      "text/plain": [
       "       pid prefecture        総人口      日本人人口   15歳未満人口  15〜64歳人口   65歳以上人口  \\\n",
       "0   R00000         全国  124947000  122031000  14503000  74208000  36236000   \n",
       "1   R01000        北海道    5140000    5098000    530000   2924000   1686000   \n",
       "2   R02000        青森県    1204000    1198000    123000    663000    419000   \n",
       "3   R03000        岩手県    1181000    1173000    125000    648000    408000   \n",
       "4   R04000        宮城県    2280000    2256000    258000   1363000    659000   \n",
       "..     ...        ...        ...        ...       ...       ...       ...   \n",
       "43  R43000        熊本県    1718000    1699000    223000    943000    552000   \n",
       "44  R44000        大分県    1107000    1092000    131000    600000    376000   \n",
       "45  R45000        宮崎県    1052000    1044000    136000    565000    352000   \n",
       "46  R46000       鹿児島県    1563000    1550000    201000    838000    523000   \n",
       "47  R47000        沖縄県    1468000    1446000    240000    884000    344000   \n",
       "\n",
       "      外国人人口     出生数  合計特殊出生率  ...  歯科診療所数     医師数   歯科医師数    薬剤師数  保育所等数  \\\n",
       "0   2402460  811622     1.30  ...   67899  339623  107443  321982  29994   \n",
       "1     34321   28762     1.20  ...    2818   13731    4418   11802   1075   \n",
       "2      5409    6513     1.31  ...     505    2773     735    2345    472   \n",
       "3      6937    6472     1.30  ...     557    2700    1016    2536    393   \n",
       "4     19453   13761     1.15  ...    1051    5950    1896    5502    506   \n",
       "..      ...     ...      ...  ...     ...     ...     ...     ...    ...   \n",
       "43    14591   12670     1.59  ...     835    5415    1377    4036    623   \n",
       "44    10168    7327     1.54  ...     530    3370     740    2317    335   \n",
       "45     6474    7590     1.64  ...     493    2879     731    2272    420   \n",
       "46    10037   11618     1.65  ...     795    4653    1352    3266    582   \n",
       "47    18157   14535     1.80  ...     607    3887     885    2432    614   \n",
       "\n",
       "    保育所等在所児数  消費支出（二人以上の世帯）  食料費（二人以上の世帯）  住居費（二人以上の世帯）  教養娯楽費（二人以上の世帯）  \n",
       "0    2643196         290865         77474         18645           26642  \n",
       "1      76885         277737         73037         24873           27234  \n",
       "2      30738         249660         73725         10541           20068  \n",
       "3      28580         285815         77251         18814           25733  \n",
       "4      40519         287781         78589         22951           26516  \n",
       "..       ...            ...           ...           ...             ...  \n",
       "43     52158         281836         70132         30323           24428  \n",
       "44     26578         298060         75218         18820           28260  \n",
       "45     30732         271613         70162         15433           21950  \n",
       "46     40357         279101         70070         20822           22440  \n",
       "47     57108         251735         68318         25189           18429  \n",
       "\n",
       "[48 rows x 92 columns]"
      ]
     },
     "execution_count": 33,
     "metadata": {},
     "output_type": "execute_result"
    }
   ],
   "source": [
    "df.rename(columns={'地域コード': 'pid', '都道府県': 'prefecture'})"
   ]
  },
  {
   "cell_type": "markdown",
   "id": "7de3414e-7ac3-4725-874c-c672cc5566bb",
   "metadata": {
    "editable": true,
    "slideshow": {
     "slide_type": ""
    },
    "tags": []
   },
   "source": [
    "### 新しい列の追加\n",
    "\n",
    "DataFrameオブジェクトに新しい列を追加する最も単純な方法は，中括弧で新規で追加する列に「アクセス」して値を代入する方法である．\n",
    "以下は，データフレーム`df`に`生産年齢人口率`という列名を追加して，`15〜64歳人口`列の値を`総人口`列の値で割った値を代入するコード例である．"
   ]
  },
  {
   "cell_type": "code",
   "execution_count": 34,
   "id": "073d9892-5b7c-4073-9450-cd1670f946f0",
   "metadata": {
    "editable": true,
    "slideshow": {
     "slide_type": ""
    },
    "tags": []
   },
   "outputs": [],
   "source": [
    "df['生産年齢人口率'] = df['15〜64歳人口'] / df['総人口']"
   ]
  },
  {
   "cell_type": "markdown",
   "id": "da9cb633-eb7e-42fe-b074-82889df7f754",
   "metadata": {
    "editable": true,
    "slideshow": {
     "slide_type": ""
    },
    "tags": []
   },
   "source": [
    "DataFrameオブジェクトに新しい列を追加するもう1つの方法は`assign`メソッドを用いる方法である．\n",
    "`assign`メソッドを用いると，複数の列を同時に追加できる．\n",
    "\n",
    "以下は，データフレーム`df`に`生産年齢人口率`に加えて，`医師数`列，`歯科医師数`列，`薬剤師数`列の値の合計値を格納した`医療従事者数`という列を追加するコード例である．\n",
    "なお，`assign`メソッドは返り値として列を追加後のDataFrameオブジェクトを返すことに注意（元のDataFrameオブジェクトを変更しない）．\n",
    "また，`assign`メソッドを使用するときは，代入先の列名はクオーツ（'）で包まない（文字列リテラルにする）ことに注意（[★Quiz Q6](#L1-Q6)，[★Quiz Q7](#L1-Q7)）．"
   ]
  },
  {
   "cell_type": "code",
   "execution_count": 35,
   "id": "07f61942-e56f-42fe-b8de-15b33ded5e8d",
   "metadata": {
    "editable": true,
    "slideshow": {
     "slide_type": ""
    },
    "tags": []
   },
   "outputs": [],
   "source": [
    "df = df.assign(\n",
    "    生産年齢人口率 = df['15〜64歳人口'] / df['総人口'],\n",
    "    医療従事者数 = df['医師数'] + df['歯科医師数'] + df['薬剤師数']\n",
    ")"
   ]
  },
  {
   "cell_type": "markdown",
   "id": "09daff42-b882-4001-8415-145d88f0ba83",
   "metadata": {
    "editable": true,
    "slideshow": {
     "slide_type": ""
    },
    "tags": []
   },
   "source": [
    "### NumPy行列の取得\n",
    "\n",
    "DataFrameオブジェクトからNumPy形式の（数値）行列を取り出すには，DataFrameオブジェクトの`values`メソッドを用いる．\n",
    "以下は，データフレーム`df`から`総人口`，`日本人人口`，`外国人人口`を抜き出して，NumPy行列（ndarray）に変換するコード例である．"
   ]
  },
  {
   "cell_type": "code",
   "execution_count": 36,
   "id": "50cc586f-d4d1-4065-a198-1f40163dceff",
   "metadata": {
    "editable": true,
    "slideshow": {
     "slide_type": ""
    },
    "tags": []
   },
   "outputs": [
    {
     "data": {
      "text/plain": [
       "array([[124947000, 122031000,   2402460],\n",
       "       [  5140000,   5098000,     34321],\n",
       "       [  1204000,   1198000,      5409],\n",
       "       [  1181000,   1173000,      6937],\n",
       "       [  2280000,   2256000,     19453],\n",
       "       [   930000,    926000,      3651],\n",
       "       [  1041000,   1033000,      7149],\n",
       "       [  1790000,   1776000,     12868],\n",
       "       [  2840000,   2767000,     57819],\n",
       "       [  1909000,   1865000,     37408],\n",
       "       [  1913000,   1850000,     53432],\n",
       "       [  7337000,   7136000,    161439],\n",
       "       [  6266000,   6100000,    142177],\n",
       "       [ 14038000,  13443000,    483372],\n",
       "       [  9232000,   8991000,    195535],\n",
       "       [  2153000,   2136000,     15028],\n",
       "       [  1017000,    998000,     16326],\n",
       "       [  1118000,   1102000,     13685],\n",
       "       [   753000,    738000,     13796],\n",
       "       [   802000,    784000,     13993],\n",
       "       [  2020000,   1984000,     31491],\n",
       "       [  1946000,   1888000,     48979],\n",
       "       [  3582000,   3484000,     86046],\n",
       "       [  7495000,   7228000,    231369],\n",
       "       [  1742000,   1689000,     44721],\n",
       "       [  1409000,   1373000,     28704],\n",
       "       [  2550000,   2485000,     52442],\n",
       "       [  8782000,   8524000,    208681],\n",
       "       [  5402000,   5287000,     87280],\n",
       "       [  1306000,   1291000,     11505],\n",
       "       [   903000,    896000,      6029],\n",
       "       [   544000,    539000,      4310],\n",
       "       [   658000,    648000,      8230],\n",
       "       [  1862000,   1832000,     25116],\n",
       "       [  2760000,   2708000,     47733],\n",
       "       [  1313000,   1297000,     14378],\n",
       "       [   704000,    698000,      5033],\n",
       "       [   934000,    920000,     10854],\n",
       "       [  1306000,   1294000,     11159],\n",
       "       [   676000,    671000,      4220],\n",
       "       [  5116000,   5030000,     66699],\n",
       "       [   801000,    793000,      5940],\n",
       "       [  1283000,   1272000,      8316],\n",
       "       [  1718000,   1699000,     14591],\n",
       "       [  1107000,   1092000,     10168],\n",
       "       [  1052000,   1044000,      6474],\n",
       "       [  1563000,   1550000,     10037],\n",
       "       [  1468000,   1446000,     18157]])"
      ]
     },
     "execution_count": 36,
     "metadata": {},
     "output_type": "execute_result"
    }
   ],
   "source": [
    "target_columns = ['総人口', '日本人人口', '外国人人口']\n",
    "df[target_columns].values"
   ]
  },
  {
   "cell_type": "markdown",
   "id": "a5c1eddf-49cc-4b54-b69f-b877537b8673",
   "metadata": {
    "editable": true,
    "slideshow": {
     "slide_type": ""
    },
    "tags": []
   },
   "source": [
    "---"
   ]
  },
  {
   "cell_type": "markdown",
   "id": "7e3f49c4-efd9-48dc-a7f1-61aed2866db9",
   "metadata": {
    "editable": true,
    "slideshow": {
     "slide_type": ""
    },
    "tags": []
   },
   "source": [
    "## クイズ\n",
    "以下のクイズの回答にGoogle Colaboratoryを使いたい方は[コチラ](https://colab.research.google.com/github/hontolab-courses/ml-lecturenote/blob/main/content/quiz/introduction-to-pandas.ipynb)をクリック．"
   ]
  },
  {
   "cell_type": "markdown",
   "id": "eaac6e52-2ffe-459d-8de1-fb795a6037c5",
   "metadata": {
    "editable": true,
    "slideshow": {
     "slide_type": ""
    },
    "tags": []
   },
   "source": [
    "(L1-Q1)=\n",
    "### Q1: データの読み込み\n",
    "[pokemonData](https://github.com/lgreski/pokemonData)は，ポケットモンスターシリーズに登場するポケモンの能力値をまとめたデータセットである．\n",
    "[コチラ](https://raw.githubusercontent.com/lgreski/pokemonData/refs/heads/master/Pokemon.csv)のURLからCSVファイルをダウンロードし，その内容をpandasデータフレームに変換して変数`pokemon_df`に代入しなさい．\n",
    "さらに，`pokemon_df`の中身を確認しなさい．"
   ]
  },
  {
   "cell_type": "markdown",
   "id": "a65f3d1f-8dab-468f-b400-e637ac4ef58c",
   "metadata": {
    "editable": true,
    "slideshow": {
     "slide_type": ""
    },
    "tags": []
   },
   "source": [
    "(L1-Q2)=\n",
    "### Q2: データの確認\n",
    "データフレーム`pokemon_df`で取り扱われているポケモンの数（行数）および列数を調べなさい．"
   ]
  },
  {
   "cell_type": "markdown",
   "id": "a05a017f-cafe-4071-9df0-8a9e3ecec4dd",
   "metadata": {
    "editable": true,
    "slideshow": {
     "slide_type": ""
    },
    "tags": []
   },
   "source": [
    "(L1-Q3)=\n",
    "### Q3: HP, 攻撃力, 防御力\n",
    "データフレーム`pokemon_df`で扱われているポケモンの`HP`，攻撃力（`Attack`），防御力（`Defense`）の平均値を調べなさい．"
   ]
  },
  {
   "cell_type": "markdown",
   "id": "c95cc96b-8952-43ac-9435-e7cbafe6a6c2",
   "metadata": {
    "editable": true,
    "slideshow": {
     "slide_type": ""
    },
    "tags": []
   },
   "source": [
    "(L1-Q4)=\n",
    "### Q4: 第9世代\n",
    "データフレーム`pokemon_df`の中で，第9世代（スカーレット・ヴァイオレット）のポケモンの情報を表示しなさい．"
   ]
  },
  {
   "cell_type": "markdown",
   "id": "4a0889cc-cfd8-4822-b28e-1044b3787ac8",
   "metadata": {
    "editable": true,
    "slideshow": {
     "slide_type": ""
    },
    "tags": []
   },
   "source": [
    "(L1-Q5)=\n",
    "### Q5: ゴーストタイプ\n",
    "データフレーム`pokemon_df`の中で「ゴースト（Ghost）」タイプのポケモンの情報を表示しなさい．"
   ]
  },
  {
   "cell_type": "markdown",
   "id": "91746216-ada5-4ca7-a658-6e4a5969ab6b",
   "metadata": {
    "editable": true,
    "slideshow": {
     "slide_type": ""
    },
    "tags": []
   },
   "source": [
    "(L1-Q6)=\n",
    "### Q6: 偏差値\n",
    "データフレーム`pokemon_df`の情報によると，`Total`値の平均値は443.1，標準偏差は121.2である．\n",
    "この値を用いてデータフレーム`pokemon_df`中の各ポケモンの`Total`値に関する偏差値を算出しなさい．\n",
    "また，計算した偏差値を`pokemon_df`の列`Total_Z_score`に格納しなさい．\n",
    "\n",
    "なお，$x$の平均値を$\\mu$，標準偏差を$\\sigma$としたとき，$x$の偏差値$z$は以下の式で計算できる：\n",
    "    \n",
    "$$\n",
    "z = \\frac{x - \\mu}{\\sigma} \\times 10 + 50\n",
    "$$"
   ]
  },
  {
   "cell_type": "markdown",
   "id": "e820c379-f347-4a5e-8f94-7a8a3b3142e1",
   "metadata": {
    "editable": true,
    "slideshow": {
     "slide_type": ""
    },
    "tags": []
   },
   "source": [
    "(L1-Q7)=\n",
    "### Q7: データフレームの保存\n",
    "`Total`の偏差値に関する列を追加したデータフレーム`pokemon_df`をTSVファイルとして保存しなさい．\n",
    "また，保存したTSVファイルをテキストエディタやExcelなどを用いて確認しなさい．\n",
    "なお，TSVファイル名は`pokemon.tsv`とし，見出し（列名）をファイル内に含めるようにすること．"
   ]
  }
 ],
 "metadata": {
  "kernelspec": {
   "display_name": "Python 3 (ipykernel)",
   "language": "python",
   "name": "python3"
  },
  "language_info": {
   "codemirror_mode": {
    "name": "ipython",
    "version": 3
   },
   "file_extension": ".py",
   "mimetype": "text/x-python",
   "name": "python",
   "nbconvert_exporter": "python",
   "pygments_lexer": "ipython3",
   "version": "3.9.13"
  }
 },
 "nbformat": 4,
 "nbformat_minor": 5
}
