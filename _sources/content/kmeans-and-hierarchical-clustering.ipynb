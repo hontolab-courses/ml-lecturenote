{
 "cells": [
  {
   "cell_type": "markdown",
   "metadata": {
    "editable": true,
    "slideshow": {
     "slide_type": ""
    },
    "tags": [],
    "user_expressions": []
   },
   "source": [
    "# K-means & 階層的クラスタリング"
   ]
  },
  {
   "cell_type": "markdown",
   "metadata": {
    "user_expressions": []
   },
   "source": [
    "このHands-onでは下記の2種類のデータを用いて，K-meansと階層的クラスタリングを体験する．\n",
    "* 人工的な2次元データ\n",
    "* とある購買データ"
   ]
  },
  {
   "cell_type": "markdown",
   "metadata": {
    "user_expressions": []
   },
   "source": [
    "Hands-onに先立って，必要なライブラリを読み込んでおこう．"
   ]
  },
  {
   "cell_type": "code",
   "execution_count": 1,
   "metadata": {
    "tags": [
     "remove-output"
    ]
   },
   "outputs": [],
   "source": [
    "# 表形式のデータを操作するためのライブラリ\n",
    "import pandas as pd\n",
    "\n",
    "# 機械学習用ライブラリsklearnのKmeansクラス\n",
    "from sklearn.cluster import KMeans\n",
    "\n",
    "# 距離行列の計算のためのライブラリ\n",
    "import scipy.spatial.distance as distance\n",
    "\n",
    "# 階層的クラスタリング用のライブラリ\n",
    "from scipy.cluster.hierarchy import dendrogram, linkage, cut_tree\n",
    "\n",
    "# グラフ描画ライブラリ\n",
    "import matplotlib.pyplot as plt\n",
    "import seaborn as sns;\n",
    "sns.set(style='ticks')\n",
    "%matplotlib inline\n",
    "\n",
    "\n",
    "# 警告文を表示させないおまじない\n",
    "import warnings\n",
    "warnings.filterwarnings('ignore')"
   ]
  },
  {
   "cell_type": "markdown",
   "metadata": {
    "user_expressions": []
   },
   "source": [
    "\n",
    "---\n"
   ]
  },
  {
   "cell_type": "markdown",
   "metadata": {
    "tags": [],
    "user_expressions": []
   },
   "source": [
    "## 例題1: 人工データに対するK-meansクラスタリング"
   ]
  },
  {
   "cell_type": "markdown",
   "metadata": {
    "user_expressions": []
   },
   "source": [
    "K-meansクラスタリングの効果や特徴を知るために，実際にK-meansを使ってみよう．\n",
    "\n",
    "例題1で用いるデータは[University of Eastern Finlandの計算学部が公開しているデータセット](http://cs.joensuu.fi/sipu/datasets/)である．\n",
    "このデータは人工的に作られた5000個の2次元データで，各次元に特に意味はない．\n",
    "\n",
    "まずは以下のコードを実行して，``s1_df``変数にデータを読み込もう．"
   ]
  },
  {
   "cell_type": "code",
   "execution_count": 2,
   "metadata": {},
   "outputs": [
    {
     "data": {
      "text/html": [
       "<div>\n",
       "<style scoped>\n",
       "    .dataframe tbody tr th:only-of-type {\n",
       "        vertical-align: middle;\n",
       "    }\n",
       "\n",
       "    .dataframe tbody tr th {\n",
       "        vertical-align: top;\n",
       "    }\n",
       "\n",
       "    .dataframe thead th {\n",
       "        text-align: right;\n",
       "    }\n",
       "</style>\n",
       "<table border=\"1\" class=\"dataframe\">\n",
       "  <thead>\n",
       "    <tr style=\"text-align: right;\">\n",
       "      <th></th>\n",
       "      <th>x</th>\n",
       "      <th>y</th>\n",
       "    </tr>\n",
       "  </thead>\n",
       "  <tbody>\n",
       "    <tr>\n",
       "      <th>0</th>\n",
       "      <td>664159</td>\n",
       "      <td>550946</td>\n",
       "    </tr>\n",
       "    <tr>\n",
       "      <th>1</th>\n",
       "      <td>665845</td>\n",
       "      <td>557965</td>\n",
       "    </tr>\n",
       "    <tr>\n",
       "      <th>2</th>\n",
       "      <td>597173</td>\n",
       "      <td>575538</td>\n",
       "    </tr>\n",
       "    <tr>\n",
       "      <th>3</th>\n",
       "      <td>618600</td>\n",
       "      <td>551446</td>\n",
       "    </tr>\n",
       "    <tr>\n",
       "      <th>4</th>\n",
       "      <td>635690</td>\n",
       "      <td>608046</td>\n",
       "    </tr>\n",
       "    <tr>\n",
       "      <th>5</th>\n",
       "      <td>588100</td>\n",
       "      <td>557588</td>\n",
       "    </tr>\n",
       "    <tr>\n",
       "      <th>6</th>\n",
       "      <td>582015</td>\n",
       "      <td>546191</td>\n",
       "    </tr>\n",
       "    <tr>\n",
       "      <th>7</th>\n",
       "      <td>604678</td>\n",
       "      <td>574577</td>\n",
       "    </tr>\n",
       "    <tr>\n",
       "      <th>8</th>\n",
       "      <td>572029</td>\n",
       "      <td>518313</td>\n",
       "    </tr>\n",
       "    <tr>\n",
       "      <th>9</th>\n",
       "      <td>604737</td>\n",
       "      <td>574591</td>\n",
       "    </tr>\n",
       "  </tbody>\n",
       "</table>\n",
       "</div>"
      ],
      "text/plain": [
       "        x       y\n",
       "0  664159  550946\n",
       "1  665845  557965\n",
       "2  597173  575538\n",
       "3  618600  551446\n",
       "4  635690  608046\n",
       "5  588100  557588\n",
       "6  582015  546191\n",
       "7  604678  574577\n",
       "8  572029  518313\n",
       "9  604737  574591"
      ]
     },
     "execution_count": 2,
     "metadata": {},
     "output_type": "execute_result"
    }
   ],
   "source": [
    "url = \"http://cs.joensuu.fi/sipu/datasets/s1.txt\"\n",
    "s1_df = pd.read_table(url, sep=\"\\s+\", header=None, names=['x', 'y'])\n",
    "\n",
    "# 最初の10件のデータを表示\n",
    "s1_df.head(10)"
   ]
  },
  {
   "cell_type": "markdown",
   "metadata": {
    "user_expressions": []
   },
   "source": [
    "データの傾向を見るために，XY平面にデータをプロットしてみよう\n",
    "下記のコードを実行すると，データの散布図を表示できる．"
   ]
  },
  {
   "cell_type": "code",
   "execution_count": 3,
   "metadata": {},
   "outputs": [
    {
     "data": {
      "image/png": "[encoded data removed]",
      "text/plain": [
       "<Figure size 432x288 with 1 Axes>"
      ]
     },
     "metadata": {
      "needs_background": "light"
     },
     "output_type": "display_data"
    }
   ],
   "source": [
    "plt.scatter(s1_df.x, s1_df.y, alpha=0.3)\n",
    "plt.show()"
   ]
  },
  {
   "cell_type": "markdown",
   "metadata": {
    "user_expressions": []
   },
   "source": [
    "散布図を見ると，このデータセットの特徴が分かる．\n",
    "目視レベルでは，データは**15個**のクラスタに分かれているように見える．\n",
    "\n",
    "では，K-meansクラスタリングによって，目論見どおりにデータを15個のクラスタに分けられるか試してみよう．\n",
    "以下のコードを実行する．"
   ]
  },
  {
   "cell_type": "code",
   "execution_count": 4,
   "metadata": {},
   "outputs": [
    {
     "data": {
      "text/plain": [
       "KMeans(init='random', n_clusters=15)"
      ]
     },
     "execution_count": 4,
     "metadata": {},
     "output_type": "execute_result"
    }
   ],
   "source": [
    "# クラスタリングを実行\n",
    "model = KMeans(n_clusters=15, init='random')\n",
    "model.fit(s1_df)"
   ]
  },
  {
   "cell_type": "markdown",
   "metadata": {},
   "source": [
    "たった2行でクラスタリングが完了した．\n",
    "クラスタリング結果は`model`が保持している．\n",
    "各データがどのクラスタに分類されたかを抽出するには，以下のコードを実行する．"
   ]
  },
  {
   "cell_type": "code",
   "execution_count": 5,
   "metadata": {},
   "outputs": [
    {
     "data": {
      "text/plain": [
       "array([ 8,  8,  8, ..., 10, 10, 10], dtype=int32)"
      ]
     },
     "execution_count": 5,
     "metadata": {},
     "output_type": "execute_result"
    }
   ],
   "source": [
    "# 結果を格納\n",
    "labels = model.labels_\n",
    "\n",
    "# 表示\n",
    "labels"
   ]
  },
  {
   "cell_type": "markdown",
   "metadata": {
    "user_expressions": []
   },
   "source": [
    "K-meansクラスタリングの結果を踏まえて，散布図を色分けしてみよう．\n",
    "今回の分析ではクラスタの数が15と多いので，下記のコードを実行して色分けのための準備を行う．"
   ]
  },
  {
   "cell_type": "markdown",
   "metadata": {
    "user_expressions": []
   },
   "source": [
    "下記コードを実行して，散布図を15のグループごとに色分けを行ってみよう．\n",
    "K-meansクラスタリングは，目論見どおりにデータを分割できていただろうか？（[★Quiz 3](#C3-Q3)，[★Quiz 4](#C3-Q4)）"
   ]
  },
  {
   "cell_type": "code",
   "execution_count": 6,
   "metadata": {},
   "outputs": [
    {
     "data": {
      "text/plain": [
       "<matplotlib.collections.PathCollection at 0x13fdd92e0>"
      ]
     },
     "execution_count": 6,
     "metadata": {},
     "output_type": "execute_result"
    },
    {
     "data": {
      "image/png": "[encoded data removed]",
      "text/plain": [
       "<Figure size 432x288 with 1 Axes>"
      ]
     },
     "metadata": {
      "needs_background": "light"
     },
     "output_type": "display_data"
    }
   ],
   "source": [
    "plt.scatter(\n",
    "    s1_df.x, s1_df.y,\n",
    "    c=labels, # クラスタに応じて色分け\n",
    "    alpha=0.4, # 透明度\n",
    "    s=40, # マーカーのサイズ\n",
    "    cmap=\"tab20_r\" # カラーパレット（20色対応）\n",
    ")"
   ]
  },
  {
   "cell_type": "markdown",
   "metadata": {
    "tags": [],
    "user_expressions": []
   },
   "source": [
    "\n",
    "---"
   ]
  },
  {
   "cell_type": "markdown",
   "metadata": {
    "tags": [],
    "user_expressions": []
   },
   "source": [
    "\n",
    "## 例題2: とある購買データに対する階層的クラスタリング"
   ]
  },
  {
   "cell_type": "markdown",
   "metadata": {
    "user_expressions": []
   },
   "source": [
    "次はあるeコマースサイトにおける購買データを用いて，階層的クラスタリングを用いる例題に取り組んでみよう．\n",
    "まずは何も考えずに，以下のコードを実行してHands-onで用いるデータをダウンロードしよう．"
   ]
  },
  {
   "cell_type": "code",
   "execution_count": 7,
   "metadata": {
    "tags": [
     "remove-output"
    ]
   },
   "outputs": [
    {
     "name": "stdout",
     "output_type": "stream",
     "text": [
      "--2025-03-18 15:22:06--  https://gihyo.jp/assets/files/book/2014/978-4-7741-6674-2/download/DM_sampledata.zip\n",
      "gihyo.jp (gihyo.jp) をDNSに問いあわせています... 172.67.22.15, 104.22.59.251, 104.22.58.251\n",
      "gihyo.jp (gihyo.jp)|172.67.22.15|:443 に接続しています... 接続しました。\n",
      "HTTP による接続要求を送信しました、応答を待っています... 200 OK\n",
      "長さ: 41124 (40K) [application/zip]\n",
      "`DM_sampledata.zip' に保存中\n",
      "\n",
      "DM_sampledata.zip   100%[===================>]  40.16K  --.-KB/s 時間 0s         \n",
      "\n",
      "2025-03-18 15:22:06 (111 MB/s) - `DM_sampledata.zip' へ保存完了 [41124/41124]\n",
      "\n",
      "Archive:  DM_sampledata.zip\n",
      "  inflating: DM_sampledata/ch10_hbayes.stan  \n",
      "  inflating: DM_sampledata/ch3_2_2.txt  \n",
      "  inflating: DM_sampledata/ch3_4_1.txt  \n",
      "  inflating: DM_sampledata/ch4_3_2.txt  \n",
      "  inflating: DM_sampledata/ch5_3.txt  \n",
      "  inflating: DM_sampledata/ch6_4_1.txt  \n",
      "  inflating: DM_sampledata/ch6_4_2.txt  \n",
      "  inflating: DM_sampledata/ch7_3_2.txt  \n",
      "  inflating: DM_sampledata/ch8_test.txt  \n",
      "  inflating: DM_sampledata/ch8_test_label.txt  \n",
      "  inflating: DM_sampledata/ch8_train.txt  \n",
      "  inflating: DM_sampledata/ch9_2.txt  \n",
      "  inflating: DM_sampledata/ch9_basket.txt  \n"
     ]
    }
   ],
   "source": [
    "# zipファイルをダウンロードし解凍\n",
    "!wget https://gihyo.jp/assets/files/book/2014/978-4-7741-6674-2/download/DM_sampledata.zip\n",
    "!unzip DM_sampledata.zip"
   ]
  },
  {
   "cell_type": "markdown",
   "metadata": {},
   "source": [
    "次にダウンロードしたデータをデータフレーム化して，`e_commerce_df`変数に代入する．"
   ]
  },
  {
   "cell_type": "code",
   "execution_count": 8,
   "metadata": {},
   "outputs": [],
   "source": [
    "# データをpandasのデータフレームとして読み込む\n",
    "e_commerce_df = pd.read_table(\"DM_sampledata/ch5_3.txt\", header=0, sep=\" \")\n",
    "\n",
    "# ファイルを読み込んだので，元ファイル/ディレクトリを削除しておく\n",
    "!rm -rf DM_sampledata.zip DM_sampledata"
   ]
  },
  {
   "cell_type": "markdown",
   "metadata": {
    "user_expressions": []
   },
   "source": [
    "変数``e_commerce_df``に読み込まれたデータフレームには，\n",
    "* 書籍\n",
    "* 衣服\n",
    "* 化粧品\n",
    "* 食料品\n",
    "* 飲料\n",
    "\n",
    "を1年間で何回購入したかについて，100名の顧客のデータが記録されている（このデータは[書籍「手を動かしながら学ぶビジネスに活かすデータマイニング」のサポートページにて公開されているデータ](https://gihyo.jp/book/2014/978-4-7741-6674-2/support)である）．\n",
    "\n",
    "以下のコードを実行し，中身を確認してみよう．"
   ]
  },
  {
   "cell_type": "code",
   "execution_count": 9,
   "metadata": {},
   "outputs": [
    {
     "data": {
      "text/html": [
       "<div>\n",
       "<style scoped>\n",
       "    .dataframe tbody tr th:only-of-type {\n",
       "        vertical-align: middle;\n",
       "    }\n",
       "\n",
       "    .dataframe tbody tr th {\n",
       "        vertical-align: top;\n",
       "    }\n",
       "\n",
       "    .dataframe thead th {\n",
       "        text-align: right;\n",
       "    }\n",
       "</style>\n",
       "<table border=\"1\" class=\"dataframe\">\n",
       "  <thead>\n",
       "    <tr style=\"text-align: right;\">\n",
       "      <th></th>\n",
       "      <th>books</th>\n",
       "      <th>cloths</th>\n",
       "      <th>cosmetics</th>\n",
       "      <th>foods</th>\n",
       "      <th>liquors</th>\n",
       "    </tr>\n",
       "  </thead>\n",
       "  <tbody>\n",
       "    <tr>\n",
       "      <th>0</th>\n",
       "      <td>43</td>\n",
       "      <td>0</td>\n",
       "      <td>3</td>\n",
       "      <td>4</td>\n",
       "      <td>10</td>\n",
       "    </tr>\n",
       "    <tr>\n",
       "      <th>1</th>\n",
       "      <td>25</td>\n",
       "      <td>5</td>\n",
       "      <td>5</td>\n",
       "      <td>3</td>\n",
       "      <td>11</td>\n",
       "    </tr>\n",
       "    <tr>\n",
       "      <th>2</th>\n",
       "      <td>19</td>\n",
       "      <td>0</td>\n",
       "      <td>2</td>\n",
       "      <td>3</td>\n",
       "      <td>8</td>\n",
       "    </tr>\n",
       "    <tr>\n",
       "      <th>3</th>\n",
       "      <td>31</td>\n",
       "      <td>3</td>\n",
       "      <td>3</td>\n",
       "      <td>4</td>\n",
       "      <td>5</td>\n",
       "    </tr>\n",
       "    <tr>\n",
       "      <th>4</th>\n",
       "      <td>46</td>\n",
       "      <td>9</td>\n",
       "      <td>2</td>\n",
       "      <td>5</td>\n",
       "      <td>7</td>\n",
       "    </tr>\n",
       "  </tbody>\n",
       "</table>\n",
       "</div>"
      ],
      "text/plain": [
       "   books  cloths  cosmetics  foods  liquors\n",
       "0     43       0          3      4       10\n",
       "1     25       5          5      3       11\n",
       "2     19       0          2      3        8\n",
       "3     31       3          3      4        5\n",
       "4     46       9          2      5        7"
      ]
     },
     "execution_count": 9,
     "metadata": {},
     "output_type": "execute_result"
    }
   ],
   "source": [
    "# 最初の10件を表示\n",
    "e_commerce_df.head()"
   ]
  },
  {
   "cell_type": "markdown",
   "metadata": {
    "user_expressions": []
   },
   "source": [
    "### データ間の距離の計算"
   ]
  },
  {
   "cell_type": "markdown",
   "metadata": {
    "user_expressions": []
   },
   "source": [
    "Pythonで階層的クラスタリングを実行するには，`scipy`ライブラリの``linkage``関数を用いるのが簡単だ．\n",
    "``linkage``関数は入力（第1引数）として **ベクトル間の距離（を格納した行列データ）** が必要となる．\n",
    "ここでベクトルとは，n個の特徴量からなるデータを意味する．\n",
    "今回の``e_commerce_df``のデータフレームでは，1行1行が1名の顧客情報を表すベクトルデータとなる．\n",
    "では，距離の情報を用意しよう．\n",
    "\n",
    "正攻法でやるならば，100行ある``e_commerce_df``の顧客データのすべての組み合わせを比較して，各顧客ベクトルの距離を計算する必要がある．\n",
    "`scipy`ライブラリはそれを簡単に実行してくれる便利な関数``distance.pdist``を提供している．\n",
    "\n",
    "以下のコードを実行してベクトル間の距離を計算してみよう（[★Quiz 1](#C3-Q1)，[★Quiz 2](#C3-Q2)）．"
   ]
  },
  {
   "cell_type": "code",
   "execution_count": 10,
   "metadata": {},
   "outputs": [
    {
     "data": {
      "text/html": [
       "<div>\n",
       "<style scoped>\n",
       "    .dataframe tbody tr th:only-of-type {\n",
       "        vertical-align: middle;\n",
       "    }\n",
       "\n",
       "    .dataframe tbody tr th {\n",
       "        vertical-align: top;\n",
       "    }\n",
       "\n",
       "    .dataframe thead th {\n",
       "        text-align: right;\n",
       "    }\n",
       "</style>\n",
       "<table border=\"1\" class=\"dataframe\">\n",
       "  <thead>\n",
       "    <tr style=\"text-align: right;\">\n",
       "      <th></th>\n",
       "      <th>0</th>\n",
       "      <th>1</th>\n",
       "      <th>2</th>\n",
       "      <th>3</th>\n",
       "      <th>4</th>\n",
       "      <th>5</th>\n",
       "      <th>6</th>\n",
       "      <th>7</th>\n",
       "      <th>8</th>\n",
       "      <th>9</th>\n",
       "      <th>...</th>\n",
       "      <th>90</th>\n",
       "      <th>91</th>\n",
       "      <th>92</th>\n",
       "      <th>93</th>\n",
       "      <th>94</th>\n",
       "      <th>95</th>\n",
       "      <th>96</th>\n",
       "      <th>97</th>\n",
       "      <th>98</th>\n",
       "      <th>99</th>\n",
       "    </tr>\n",
       "  </thead>\n",
       "  <tbody>\n",
       "    <tr>\n",
       "      <th>0</th>\n",
       "      <td>0.000000</td>\n",
       "      <td>18.841444</td>\n",
       "      <td>24.124676</td>\n",
       "      <td>13.341664</td>\n",
       "      <td>10.049876</td>\n",
       "      <td>18.708287</td>\n",
       "      <td>14.628739</td>\n",
       "      <td>41.388404</td>\n",
       "      <td>13.228757</td>\n",
       "      <td>9.486833</td>\n",
       "      <td>...</td>\n",
       "      <td>8.426150</td>\n",
       "      <td>19.442222</td>\n",
       "      <td>14.933185</td>\n",
       "      <td>35.270384</td>\n",
       "      <td>5.744563</td>\n",
       "      <td>12.124356</td>\n",
       "      <td>23.452079</td>\n",
       "      <td>18.920888</td>\n",
       "      <td>44.068129</td>\n",
       "      <td>17.378147</td>\n",
       "    </tr>\n",
       "    <tr>\n",
       "      <th>1</th>\n",
       "      <td>18.841444</td>\n",
       "      <td>0.000000</td>\n",
       "      <td>8.888194</td>\n",
       "      <td>9.000000</td>\n",
       "      <td>22.045408</td>\n",
       "      <td>11.789826</td>\n",
       "      <td>22.248595</td>\n",
       "      <td>25.416530</td>\n",
       "      <td>25.179357</td>\n",
       "      <td>23.302360</td>\n",
       "      <td>...</td>\n",
       "      <td>15.427249</td>\n",
       "      <td>15.968719</td>\n",
       "      <td>17.663522</td>\n",
       "      <td>49.386233</td>\n",
       "      <td>18.920888</td>\n",
       "      <td>16.431677</td>\n",
       "      <td>17.748239</td>\n",
       "      <td>9.110434</td>\n",
       "      <td>26.589472</td>\n",
       "      <td>23.216374</td>\n",
       "    </tr>\n",
       "    <tr>\n",
       "      <th>2</th>\n",
       "      <td>24.124676</td>\n",
       "      <td>8.888194</td>\n",
       "      <td>0.000000</td>\n",
       "      <td>12.806248</td>\n",
       "      <td>28.548205</td>\n",
       "      <td>13.416408</td>\n",
       "      <td>29.866369</td>\n",
       "      <td>25.238859</td>\n",
       "      <td>30.347982</td>\n",
       "      <td>27.856777</td>\n",
       "      <td>...</td>\n",
       "      <td>21.283797</td>\n",
       "      <td>22.583180</td>\n",
       "      <td>23.388031</td>\n",
       "      <td>56.797887</td>\n",
       "      <td>24.515301</td>\n",
       "      <td>20.024984</td>\n",
       "      <td>24.083189</td>\n",
       "      <td>12.247449</td>\n",
       "      <td>26.191602</td>\n",
       "      <td>30.033315</td>\n",
       "    </tr>\n",
       "    <tr>\n",
       "      <th>3</th>\n",
       "      <td>13.341664</td>\n",
       "      <td>9.000000</td>\n",
       "      <td>12.806248</td>\n",
       "      <td>0.000000</td>\n",
       "      <td>16.340135</td>\n",
       "      <td>7.071068</td>\n",
       "      <td>19.390719</td>\n",
       "      <td>29.376862</td>\n",
       "      <td>18.193405</td>\n",
       "      <td>15.556349</td>\n",
       "      <td>...</td>\n",
       "      <td>9.327379</td>\n",
       "      <td>13.564660</td>\n",
       "      <td>11.958261</td>\n",
       "      <td>44.810713</td>\n",
       "      <td>12.124356</td>\n",
       "      <td>7.937254</td>\n",
       "      <td>17.146428</td>\n",
       "      <td>7.348469</td>\n",
       "      <td>32.341923</td>\n",
       "      <td>18.654758</td>\n",
       "    </tr>\n",
       "    <tr>\n",
       "      <th>4</th>\n",
       "      <td>10.049876</td>\n",
       "      <td>22.045408</td>\n",
       "      <td>28.548205</td>\n",
       "      <td>16.340135</td>\n",
       "      <td>0.000000</td>\n",
       "      <td>20.856654</td>\n",
       "      <td>8.185353</td>\n",
       "      <td>39.597980</td>\n",
       "      <td>12.409674</td>\n",
       "      <td>8.426150</td>\n",
       "      <td>...</td>\n",
       "      <td>7.874008</td>\n",
       "      <td>14.525839</td>\n",
       "      <td>12.884099</td>\n",
       "      <td>28.583212</td>\n",
       "      <td>6.000000</td>\n",
       "      <td>13.190906</td>\n",
       "      <td>18.193405</td>\n",
       "      <td>19.261360</td>\n",
       "      <td>43.162484</td>\n",
       "      <td>8.888194</td>\n",
       "    </tr>\n",
       "    <tr>\n",
       "      <th>...</th>\n",
       "      <td>...</td>\n",
       "      <td>...</td>\n",
       "      <td>...</td>\n",
       "      <td>...</td>\n",
       "      <td>...</td>\n",
       "      <td>...</td>\n",
       "      <td>...</td>\n",
       "      <td>...</td>\n",
       "      <td>...</td>\n",
       "      <td>...</td>\n",
       "      <td>...</td>\n",
       "      <td>...</td>\n",
       "      <td>...</td>\n",
       "      <td>...</td>\n",
       "      <td>...</td>\n",
       "      <td>...</td>\n",
       "      <td>...</td>\n",
       "      <td>...</td>\n",
       "      <td>...</td>\n",
       "      <td>...</td>\n",
       "      <td>...</td>\n",
       "    </tr>\n",
       "    <tr>\n",
       "      <th>95</th>\n",
       "      <td>12.124356</td>\n",
       "      <td>16.431677</td>\n",
       "      <td>20.024984</td>\n",
       "      <td>7.937254</td>\n",
       "      <td>13.190906</td>\n",
       "      <td>9.539392</td>\n",
       "      <td>18.357560</td>\n",
       "      <td>34.146742</td>\n",
       "      <td>11.661904</td>\n",
       "      <td>9.746794</td>\n",
       "      <td>...</td>\n",
       "      <td>9.055385</td>\n",
       "      <td>14.106736</td>\n",
       "      <td>8.485281</td>\n",
       "      <td>40.484565</td>\n",
       "      <td>8.831761</td>\n",
       "      <td>0.000000</td>\n",
       "      <td>18.466185</td>\n",
       "      <td>13.228757</td>\n",
       "      <td>37.881394</td>\n",
       "      <td>15.459625</td>\n",
       "    </tr>\n",
       "    <tr>\n",
       "      <th>96</th>\n",
       "      <td>23.452079</td>\n",
       "      <td>17.748239</td>\n",
       "      <td>24.083189</td>\n",
       "      <td>17.146428</td>\n",
       "      <td>18.193405</td>\n",
       "      <td>18.708287</td>\n",
       "      <td>16.000000</td>\n",
       "      <td>23.811762</td>\n",
       "      <td>24.269322</td>\n",
       "      <td>22.315914</td>\n",
       "      <td>...</td>\n",
       "      <td>16.583124</td>\n",
       "      <td>5.830952</td>\n",
       "      <td>16.155494</td>\n",
       "      <td>40.570926</td>\n",
       "      <td>19.672316</td>\n",
       "      <td>18.466185</td>\n",
       "      <td>0.000000</td>\n",
       "      <td>13.928388</td>\n",
       "      <td>27.166155</td>\n",
       "      <td>12.727922</td>\n",
       "    </tr>\n",
       "    <tr>\n",
       "      <th>97</th>\n",
       "      <td>18.920888</td>\n",
       "      <td>9.110434</td>\n",
       "      <td>12.247449</td>\n",
       "      <td>7.348469</td>\n",
       "      <td>19.261360</td>\n",
       "      <td>10.198039</td>\n",
       "      <td>20.928450</td>\n",
       "      <td>23.216374</td>\n",
       "      <td>23.643181</td>\n",
       "      <td>20.297783</td>\n",
       "      <td>...</td>\n",
       "      <td>12.529964</td>\n",
       "      <td>11.832160</td>\n",
       "      <td>15.394804</td>\n",
       "      <td>47.138095</td>\n",
       "      <td>16.822604</td>\n",
       "      <td>13.228757</td>\n",
       "      <td>13.928388</td>\n",
       "      <td>0.000000</td>\n",
       "      <td>26.758176</td>\n",
       "      <td>19.697716</td>\n",
       "    </tr>\n",
       "    <tr>\n",
       "      <th>98</th>\n",
       "      <td>44.068129</td>\n",
       "      <td>26.589472</td>\n",
       "      <td>26.191602</td>\n",
       "      <td>32.341923</td>\n",
       "      <td>43.162484</td>\n",
       "      <td>30.854497</td>\n",
       "      <td>41.158231</td>\n",
       "      <td>8.185353</td>\n",
       "      <td>47.021272</td>\n",
       "      <td>45.563143</td>\n",
       "      <td>...</td>\n",
       "      <td>37.960506</td>\n",
       "      <td>29.933259</td>\n",
       "      <td>37.054015</td>\n",
       "      <td>67.216070</td>\n",
       "      <td>42.178193</td>\n",
       "      <td>37.881394</td>\n",
       "      <td>27.166155</td>\n",
       "      <td>26.758176</td>\n",
       "      <td>0.000000</td>\n",
       "      <td>39.597980</td>\n",
       "    </tr>\n",
       "    <tr>\n",
       "      <th>99</th>\n",
       "      <td>17.378147</td>\n",
       "      <td>23.216374</td>\n",
       "      <td>30.033315</td>\n",
       "      <td>18.654758</td>\n",
       "      <td>8.888194</td>\n",
       "      <td>21.587033</td>\n",
       "      <td>8.366600</td>\n",
       "      <td>36.069378</td>\n",
       "      <td>15.716234</td>\n",
       "      <td>13.490738</td>\n",
       "      <td>...</td>\n",
       "      <td>13.076697</td>\n",
       "      <td>10.954451</td>\n",
       "      <td>13.527749</td>\n",
       "      <td>29.427878</td>\n",
       "      <td>12.845233</td>\n",
       "      <td>15.459625</td>\n",
       "      <td>12.727922</td>\n",
       "      <td>19.697716</td>\n",
       "      <td>39.597980</td>\n",
       "      <td>0.000000</td>\n",
       "    </tr>\n",
       "  </tbody>\n",
       "</table>\n",
       "<p>100 rows × 100 columns</p>\n",
       "</div>"
      ],
      "text/plain": [
       "           0          1          2          3          4          5   \\\n",
       "0    0.000000  18.841444  24.124676  13.341664  10.049876  18.708287   \n",
       "1   18.841444   0.000000   8.888194   9.000000  22.045408  11.789826   \n",
       "2   24.124676   8.888194   0.000000  12.806248  28.548205  13.416408   \n",
       "3   13.341664   9.000000  12.806248   0.000000  16.340135   7.071068   \n",
       "4   10.049876  22.045408  28.548205  16.340135   0.000000  20.856654   \n",
       "..        ...        ...        ...        ...        ...        ...   \n",
       "95  12.124356  16.431677  20.024984   7.937254  13.190906   9.539392   \n",
       "96  23.452079  17.748239  24.083189  17.146428  18.193405  18.708287   \n",
       "97  18.920888   9.110434  12.247449   7.348469  19.261360  10.198039   \n",
       "98  44.068129  26.589472  26.191602  32.341923  43.162484  30.854497   \n",
       "99  17.378147  23.216374  30.033315  18.654758   8.888194  21.587033   \n",
       "\n",
       "           6          7          8          9   ...         90         91  \\\n",
       "0   14.628739  41.388404  13.228757   9.486833  ...   8.426150  19.442222   \n",
       "1   22.248595  25.416530  25.179357  23.302360  ...  15.427249  15.968719   \n",
       "2   29.866369  25.238859  30.347982  27.856777  ...  21.283797  22.583180   \n",
       "3   19.390719  29.376862  18.193405  15.556349  ...   9.327379  13.564660   \n",
       "4    8.185353  39.597980  12.409674   8.426150  ...   7.874008  14.525839   \n",
       "..        ...        ...        ...        ...  ...        ...        ...   \n",
       "95  18.357560  34.146742  11.661904   9.746794  ...   9.055385  14.106736   \n",
       "96  16.000000  23.811762  24.269322  22.315914  ...  16.583124   5.830952   \n",
       "97  20.928450  23.216374  23.643181  20.297783  ...  12.529964  11.832160   \n",
       "98  41.158231   8.185353  47.021272  45.563143  ...  37.960506  29.933259   \n",
       "99   8.366600  36.069378  15.716234  13.490738  ...  13.076697  10.954451   \n",
       "\n",
       "           92         93         94         95         96         97  \\\n",
       "0   14.933185  35.270384   5.744563  12.124356  23.452079  18.920888   \n",
       "1   17.663522  49.386233  18.920888  16.431677  17.748239   9.110434   \n",
       "2   23.388031  56.797887  24.515301  20.024984  24.083189  12.247449   \n",
       "3   11.958261  44.810713  12.124356   7.937254  17.146428   7.348469   \n",
       "4   12.884099  28.583212   6.000000  13.190906  18.193405  19.261360   \n",
       "..        ...        ...        ...        ...        ...        ...   \n",
       "95   8.485281  40.484565   8.831761   0.000000  18.466185  13.228757   \n",
       "96  16.155494  40.570926  19.672316  18.466185   0.000000  13.928388   \n",
       "97  15.394804  47.138095  16.822604  13.228757  13.928388   0.000000   \n",
       "98  37.054015  67.216070  42.178193  37.881394  27.166155  26.758176   \n",
       "99  13.527749  29.427878  12.845233  15.459625  12.727922  19.697716   \n",
       "\n",
       "           98         99  \n",
       "0   44.068129  17.378147  \n",
       "1   26.589472  23.216374  \n",
       "2   26.191602  30.033315  \n",
       "3   32.341923  18.654758  \n",
       "4   43.162484   8.888194  \n",
       "..        ...        ...  \n",
       "95  37.881394  15.459625  \n",
       "96  27.166155  12.727922  \n",
       "97  26.758176  19.697716  \n",
       "98   0.000000  39.597980  \n",
       "99  39.597980   0.000000  \n",
       "\n",
       "[100 rows x 100 columns]"
      ]
     },
     "execution_count": 10,
     "metadata": {},
     "output_type": "execute_result"
    }
   ],
   "source": [
    "# pdist関数を使い，全ベクトル間の距離を計算．距離の定義にはユークリッド距離を用いる\n",
    "dist_matrix = distance.pdist(e_commerce_df, metric='euclidean')\n",
    "\n",
    "# 距離行列を表示\n",
    "pd.DataFrame(distance.squareform(dist_matrix))"
   ]
  },
  {
   "cell_type": "markdown",
   "metadata": {
    "user_expressions": []
   },
   "source": [
    "100行あるベクトルデータのすべての組み合わせについて距離を計算した結果（距離行列）が``dist_matrix``として得られた．\n",
    "この距離行列を使って階層的クラスタリングを実行してみよう．"
   ]
  },
  {
   "cell_type": "markdown",
   "metadata": {
    "user_expressions": []
   },
   "source": [
    "### 階層的クラスタリングの実行\n",
    "\n",
    "講義でも述べたように，階層的クラスタリングではクラスタの作り方の基準として\n",
    "* 最長距離法（complete linkage method）\n",
    "* 最短距離法（single linkage method）\n",
    "* 重心法（centroid method）\n",
    "* 群平均法（group average method）\n",
    "* ウォード法（Ward's method）\n",
    "\n",
    "などがある．\n",
    "今回はウォード法を使ってみよう．\n",
    "以下のコードを実行して，ウォード法を用いた階層的クラスタリングを適用する．"
   ]
  },
  {
   "cell_type": "code",
   "execution_count": 11,
   "metadata": {},
   "outputs": [],
   "source": [
    "e_commerce_result = linkage(dist_matrix, method=\"ward\")"
   ]
  },
  {
   "cell_type": "markdown",
   "metadata": {
    "user_expressions": []
   },
   "source": [
    "階層的クラスタリングの結果が変数``e_commerce_result``に格納された．\n",
    "\n",
    "階層的クラスタリングにおいて，各要素（ベクトル）が徐々に併合されていく結果を示したものを**デンドログラム**と呼ぶ．\n",
    "以下のコードを実行し，デンドログラムを表示させてみよう．"
   ]
  },
  {
   "cell_type": "code",
   "execution_count": 12,
   "metadata": {},
   "outputs": [
    {
     "data": {
      "image/png": "[encoded data removed]",
      "text/plain": [
       "<Figure size 720x1008 with 1 Axes>"
      ]
     },
     "metadata": {
      "needs_background": "light"
     },
     "output_type": "display_data"
    }
   ],
   "source": [
    "# 図の大きさの設定\n",
    "plt.figure(figsize=(10, 14))\n",
    "\n",
    "# 図の表示\n",
    "fig = dendrogram(e_commerce_result,\n",
    "                 leaf_font_size=8, orientation='left')\n",
    "plt.show()"
   ]
  },
  {
   "cell_type": "markdown",
   "metadata": {
    "user_expressions": []
   },
   "source": [
    "デンドログラムが表示されると，階層的クラスタリングを実行したという気分になる（[★Quiz 6](#C3-Q6)）．\n",
    "\n",
    "今回は顧客の一人一人について私たちは特に知識がないため，この図を眺めてもよく分からない．\n",
    "そこで，適当な深さでデンドログラムの枝を切って，各要素をクラスタに分けてみよう．\n",
    "その上で，各クラスタに入っている要素がどのような性質を持っているかを分析してみよう．\n",
    "\n",
    "デンドログラムの枝を切り，指定したクラスタ数に分割するには``cutree``関数を用いる．\n",
    "``k``に数値を指定すると，デンドログラムをその数のクラスタに分割することができる．"
   ]
  },
  {
   "cell_type": "code",
   "execution_count": 13,
   "metadata": {},
   "outputs": [
    {
     "data": {
      "text/plain": [
       "array([0, 1, 1, 1, 0, 1, 2, 3, 0, 0])"
      ]
     },
     "execution_count": 13,
     "metadata": {},
     "output_type": "execute_result"
    }
   ],
   "source": [
    "# 4つのクラスタに分割\n",
    "e_commerce_cluster = cut_tree(e_commerce_result, n_clusters=4)\n",
    "\n",
    "# 最初の10件のみ表示\n",
    "e_commerce_cluster[:10, 0]"
   ]
  },
  {
   "cell_type": "markdown",
   "metadata": {
    "user_expressions": []
   },
   "source": [
    "変数``e_commerce_cluster``に100名の顧客のクラスタ割り当て番号が格納された．\n",
    "\n",
    "さて，クラスタリングの結果は変数``e_commerce_cluster``に得られたが，各クラスタがどのような購買傾向を持っているかを分析するには，``e_commerce_df``データと照らし合わせる必要がある．\n",
    "そこで，以下のコードを実行して，``e_commerce_cluster``と``e_commerce_df``を結合してみよう．"
   ]
  },
  {
   "cell_type": "code",
   "execution_count": 14,
   "metadata": {},
   "outputs": [
    {
     "data": {
      "text/html": [
       "<div>\n",
       "<style scoped>\n",
       "    .dataframe tbody tr th:only-of-type {\n",
       "        vertical-align: middle;\n",
       "    }\n",
       "\n",
       "    .dataframe tbody tr th {\n",
       "        vertical-align: top;\n",
       "    }\n",
       "\n",
       "    .dataframe thead th {\n",
       "        text-align: right;\n",
       "    }\n",
       "</style>\n",
       "<table border=\"1\" class=\"dataframe\">\n",
       "  <thead>\n",
       "    <tr style=\"text-align: right;\">\n",
       "      <th></th>\n",
       "      <th>books</th>\n",
       "      <th>cloths</th>\n",
       "      <th>cosmetics</th>\n",
       "      <th>foods</th>\n",
       "      <th>liquors</th>\n",
       "      <th>cluster_id</th>\n",
       "    </tr>\n",
       "  </thead>\n",
       "  <tbody>\n",
       "    <tr>\n",
       "      <th>0</th>\n",
       "      <td>43</td>\n",
       "      <td>0</td>\n",
       "      <td>3</td>\n",
       "      <td>4</td>\n",
       "      <td>10</td>\n",
       "      <td>0</td>\n",
       "    </tr>\n",
       "    <tr>\n",
       "      <th>1</th>\n",
       "      <td>25</td>\n",
       "      <td>5</td>\n",
       "      <td>5</td>\n",
       "      <td>3</td>\n",
       "      <td>11</td>\n",
       "      <td>1</td>\n",
       "    </tr>\n",
       "    <tr>\n",
       "      <th>2</th>\n",
       "      <td>19</td>\n",
       "      <td>0</td>\n",
       "      <td>2</td>\n",
       "      <td>3</td>\n",
       "      <td>8</td>\n",
       "      <td>1</td>\n",
       "    </tr>\n",
       "    <tr>\n",
       "      <th>3</th>\n",
       "      <td>31</td>\n",
       "      <td>3</td>\n",
       "      <td>3</td>\n",
       "      <td>4</td>\n",
       "      <td>5</td>\n",
       "      <td>1</td>\n",
       "    </tr>\n",
       "    <tr>\n",
       "      <th>4</th>\n",
       "      <td>46</td>\n",
       "      <td>9</td>\n",
       "      <td>2</td>\n",
       "      <td>5</td>\n",
       "      <td>7</td>\n",
       "      <td>0</td>\n",
       "    </tr>\n",
       "  </tbody>\n",
       "</table>\n",
       "</div>"
      ],
      "text/plain": [
       "   books  cloths  cosmetics  foods  liquors  cluster_id\n",
       "0     43       0          3      4       10           0\n",
       "1     25       5          5      3       11           1\n",
       "2     19       0          2      3        8           1\n",
       "3     31       3          3      4        5           1\n",
       "4     46       9          2      5        7           0"
      ]
     },
     "execution_count": 14,
     "metadata": {},
     "output_type": "execute_result"
    }
   ],
   "source": [
    "# 結合\n",
    "new_e_commerce_df = e_commerce_df.assign(\n",
    "    cluster_id = e_commerce_cluster[:, 0]\n",
    ")\n",
    "\n",
    "# 先頭の数件のみ表示\n",
    "new_e_commerce_df.head()"
   ]
  },
  {
   "cell_type": "markdown",
   "metadata": {
    "user_expressions": []
   },
   "source": [
    "各顧客データがどのクラスタに分類するかのデータが得られた．\n",
    "このデータを用いて，クラスタ毎に書籍の平均購買数，衣類の平均購買数などを調べてみよう．\n",
    "\n",
    "今回の分析のように，クラスタ毎に何らかの情報をまとめて計算することを**集約演算**と呼ぶ．\n",
    "やや複雑に見えるが，以下のコードを実行してみてよう．"
   ]
  },
  {
   "cell_type": "code",
   "execution_count": 15,
   "metadata": {},
   "outputs": [
    {
     "data": {
      "text/html": [
       "<div>\n",
       "<style scoped>\n",
       "    .dataframe tbody tr th:only-of-type {\n",
       "        vertical-align: middle;\n",
       "    }\n",
       "\n",
       "    .dataframe tbody tr th {\n",
       "        vertical-align: top;\n",
       "    }\n",
       "\n",
       "    .dataframe thead th {\n",
       "        text-align: right;\n",
       "    }\n",
       "</style>\n",
       "<table border=\"1\" class=\"dataframe\">\n",
       "  <thead>\n",
       "    <tr style=\"text-align: right;\">\n",
       "      <th></th>\n",
       "      <th>books</th>\n",
       "      <th>cloths</th>\n",
       "      <th>cosmetics</th>\n",
       "      <th>foods</th>\n",
       "      <th>liquors</th>\n",
       "    </tr>\n",
       "    <tr>\n",
       "      <th>cluster_id</th>\n",
       "      <th></th>\n",
       "      <th></th>\n",
       "      <th></th>\n",
       "      <th></th>\n",
       "      <th></th>\n",
       "    </tr>\n",
       "  </thead>\n",
       "  <tbody>\n",
       "    <tr>\n",
       "      <th>0</th>\n",
       "      <td>48.363636</td>\n",
       "      <td>8.454545</td>\n",
       "      <td>4.636364</td>\n",
       "      <td>5.636364</td>\n",
       "      <td>3.863636</td>\n",
       "    </tr>\n",
       "    <tr>\n",
       "      <th>1</th>\n",
       "      <td>26.562500</td>\n",
       "      <td>6.187500</td>\n",
       "      <td>4.500000</td>\n",
       "      <td>4.750000</td>\n",
       "      <td>5.531250</td>\n",
       "    </tr>\n",
       "    <tr>\n",
       "      <th>2</th>\n",
       "      <td>35.923077</td>\n",
       "      <td>17.730769</td>\n",
       "      <td>4.423077</td>\n",
       "      <td>5.000000</td>\n",
       "      <td>6.923077</td>\n",
       "    </tr>\n",
       "    <tr>\n",
       "      <th>3</th>\n",
       "      <td>9.200000</td>\n",
       "      <td>14.400000</td>\n",
       "      <td>5.350000</td>\n",
       "      <td>4.250000</td>\n",
       "      <td>8.400000</td>\n",
       "    </tr>\n",
       "  </tbody>\n",
       "</table>\n",
       "</div>"
      ],
      "text/plain": [
       "                books     cloths  cosmetics     foods   liquors\n",
       "cluster_id                                                     \n",
       "0           48.363636   8.454545   4.636364  5.636364  3.863636\n",
       "1           26.562500   6.187500   4.500000  4.750000  5.531250\n",
       "2           35.923077  17.730769   4.423077  5.000000  6.923077\n",
       "3            9.200000  14.400000   5.350000  4.250000  8.400000"
      ]
     },
     "execution_count": 15,
     "metadata": {},
     "output_type": "execute_result"
    }
   ],
   "source": [
    "new_e_commerce_df.groupby(\n",
    "    'cluster_id' # cluster_idでデータをまとめる\n",
    ").agg(\n",
    "    'mean' # まとまり毎に平均値を算出\n",
    ")"
   ]
  },
  {
   "cell_type": "markdown",
   "metadata": {
    "user_expressions": []
   },
   "source": [
    "クラスタ毎に書籍，衣類，化粧品，食料品，飲料の平均購買数が求まった．\n",
    "ユーザの購買傾向がクラスタ毎に少しずつ異なることが確認できる（[★Quiz 5](#C3-Q5)）．"
   ]
  },
  {
   "cell_type": "markdown",
   "metadata": {
    "tags": [],
    "user_expressions": []
   },
   "source": [
    "\n",
    "---\n"
   ]
  },
  {
   "cell_type": "markdown",
   "metadata": {
    "editable": true,
    "slideshow": {
     "slide_type": ""
    },
    "tags": [],
    "user_expressions": []
   },
   "source": [
    "## クイズ\n",
    "※ 以下のクイズの回答にGoogle Colaboratoryを使いたい方は[コチラ](https://colab.research.google.com/github/hontolab-courses/ml-lecturenote/blob/main/content/quiz/kmeans-and-hierarchical-clustering.ipynb)をクリック．"
   ]
  },
  {
   "cell_type": "markdown",
   "metadata": {
    "editable": true,
    "slideshow": {
     "slide_type": ""
    },
    "tags": [],
    "user_expressions": []
   },
   "source": [
    "(C3-Q1)=\n",
    "### Q1: ユークリッド距離とコサイン類似度\n",
    "\n",
    "以下の図のように，2次元のユークリッド空間上に，13個のデータ点が図のように分布している状況を考える（各点の座標については，下記コードのリスト``data``に収められている）．\n",
    "\n",
    "N次元空間上の任意の点$v_1$，$v_2$が与えられたとき，$v_1$と$v_2$のユークリッド距離を求める関数``calc_euclidean_dist(v1, v2)``，コサイン類似度を求める関数``calc_cosine_sim(v1, v2)``を実装しなさい．\n",
    "さらに，下図の13つの点のすべての組み合わせについて，そのユークリッド距離とコサイン類似度を求めなさい．\n",
    "\n",
    "なお，実装する関数の第1引数および第2引数は，実数のリストを想定しなさい．"
   ]
  },
  {
   "cell_type": "code",
   "execution_count": 16,
   "metadata": {},
   "outputs": [],
   "source": [
    "import seaborn as sns\n",
    "import matplotlib.pyplot as plt\n",
    "\n",
    "sns.set()\n",
    "sns.set_style('ticks')\n",
    "%matplotlib inline"
   ]
  },
  {
   "cell_type": "code",
   "execution_count": 17,
   "metadata": {},
   "outputs": [
    {
     "data": {
      "image/png": "[encoded data removed]",
      "text/plain": [
       "<Figure size 432x288 with 1 Axes>"
      ]
     },
     "metadata": {
      "needs_background": "light"
     },
     "output_type": "display_data"
    }
   ],
   "source": [
    "data = [(2, 2), (3, 4), (5, 2), (10, 5), (9, 3),\n",
    "        (11, 4), (12, 3), (12, 6), (4, 10), (4, 8),\n",
    "        (6, 8), (7, 10), (7, 6)]\n",
    "\n",
    "xs, ys = zip(*data) # zipの逆操作\n",
    "\n",
    "# 可視化\n",
    "ax = sns.scatterplot(x=xs, y=ys)\n",
    "ax.set_xlim(0, 13)\n",
    "ax.set_ylim(0, 13)\n",
    "plt.show()"
   ]
  },
  {
   "cell_type": "markdown",
   "metadata": {
    "user_expressions": []
   },
   "source": [
    "(C3-Q2)=\n",
    "### Q2: 距離/類似度の解釈\n",
    "\n",
    "Q1で扱ったデータ集合において，点$v=(11, 4)$との最も類似する点（最近傍点）を求めたい．\n",
    "ユークリッド空間の各次元の意味，最近傍点の定義が下記のような設定である場合，点の類似性を評価する関数としてユークリッド距離，コサイン類似度のどちらを用いるのが適切か考察しながら，最近傍点を求めなさい．\n",
    "\n",
    "1. 各点は都市の位置情報を表しており，第1次元は「緯度」，第2次元は「経度」を意味する．最近傍点として，**物理的距離が近い都市**を見つけたいケース．\n",
    "2. 各点はユーザの購買傾向を表しており，第1次元は「ジャンルAに属する商品を購入した回数」，第2次元は「ジャンルBに属する商品を購入した回数」を意味する．最近傍点として，**購買傾向が似ているユーザ**を見つけたいケース．"
   ]
  },
  {
   "cell_type": "markdown",
   "metadata": {},
   "source": [
    "(C3-Q3)=\n",
    "### Q3: ポケモンデータ再び\n",
    "[第1章pandas入門](content/introduction-to-pandas.ipynb)のクイズ課題で用いたデータセット[pokemonData](https://github.com/lgreski/pokemonData)を再度ダウンロードし，その内容をpandasデータフレームに変換して変数`pokemon_df`に代入しなさい．\n",
    "\n",
    "その上で，データフレーム`pokemon_df`から属性`HP`，`Attack`，`Defense`，`Sp. Atk`，`Sp. Def`，`Speed`の値だけを抽出し，データフレームの最初の5件だけを表示しなさい．\n"
   ]
  },
  {
   "cell_type": "markdown",
   "metadata": {},
   "source": [
    "(C3-Q4)=\n",
    "### Q4: K-means\n",
    "Q3で準備したデータフレーム`pokenmon_df`とK-meansクラスタリング手法を用いて，第1世代ポケモンを7グループに分けたい．\n",
    "属性`HP`，`Attack`，`Defense`，`Sp. Atk`，`Sp. Def`，`Speed`のみに注目して，第1世代ポケモンデータにK-meansクラスタリングを適用しなさい．"
   ]
  },
  {
   "cell_type": "markdown",
   "metadata": {
    "tags": []
   },
   "source": [
    "(C3-Q5)=\n",
    "### Q5: クラスタの特徴\n",
    "Q4で求めた各クラスタに含まれるポケモンデータの`HP`，`Attack`，`Defense`，`Sp. Atk`，`Sp. Def`，`Speed`の平均値を求めなさい．"
   ]
  },
  {
   "cell_type": "markdown",
   "metadata": {},
   "source": [
    "(C3-Q6)=\n",
    "### Q6: 階層的クラスタリング結果の比較\n",
    "\n",
    "Q1で扱った13個のデータ点について，階層的クラスタリング法を用いて段階的にクラスタに分割したい．\n",
    "\n",
    "``scipy.cluster.hierarchy``ライブラリの``linkage``関数および``dendrogram``関数を用いて，Q1で扱ったデータに階層的クラスタリングを適用しなさい．\n",
    "その際，階層的クラスタリングのクラスタ生成手法として下記3つの方法を用いて，クラスタの生成過程を結果を比較しなさい：\n",
    "\n",
    "* セントロイド法（centroid）\n",
    "* 最短距離法（single linkage）\n",
    "* 最長距離法（complete linkage）\n",
    "\n",
    "なお，クラスタ間の距離の尺度にはユークリッド距離を用いること．"
   ]
  }
 ],
 "metadata": {
  "kernelspec": {
   "display_name": "Python 3 (ipykernel)",
   "language": "python",
   "name": "python3"
  },
  "language_info": {
   "codemirror_mode": {
    "name": "ipython",
    "version": 3
   },
   "file_extension": ".py",
   "mimetype": "text/x-python",
   "name": "python",
   "nbconvert_exporter": "python",
   "pygments_lexer": "ipython3",
   "version": "3.10.13"
  }
 },
 "nbformat": 4,
 "nbformat_minor": 4
}
